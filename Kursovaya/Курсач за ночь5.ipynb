{
 "cells": [
  {
   "cell_type": "code",
   "execution_count": 1,
   "id": "vZ_Wf6jzdEHj",
   "metadata": {
    "id": "vZ_Wf6jzdEHj"
   },
   "outputs": [],
   "source": [
    "import pandas as pd\n",
    "import ast\n",
    "import csv\n",
    "import re\n",
    "import numpy as np\n",
    "from pathlib import Path\n",
    "from functools import reduce\n",
    "from datetime import timedelta, date\n",
    "import datetime\n",
    "import calendar\n",
    "\n",
    "import math as m\n",
    "import datetime as dt\n",
    "import json\n",
    "import matplotlib.pyplot as plt\n",
    "import seaborn as sns; sns.set()\n",
    "sns.set_palette('ocean')\n",
    "import nltk\n",
    "\n",
    "%matplotlib inline"
   ]
  },
  {
   "cell_type": "markdown",
   "id": "l9heY_ncfehy",
   "metadata": {
    "id": "l9heY_ncfehy"
   },
   "source": [
    "\n",
    "### Загружаем, очищаем, исследуем данные\n",
    "\n"
   ]
  },
  {
   "cell_type": "code",
   "execution_count": 2,
   "id": "SR5YB4p2dvyl",
   "metadata": {
    "id": "SR5YB4p2dvyl"
   },
   "outputs": [],
   "source": [
    "movies_df = pd.read_csv(\"./movies_metadata.csv\", low_memory=False)"
   ]
  },
  {
   "cell_type": "code",
   "execution_count": 3,
   "id": "4isjmqD_fY9B",
   "metadata": {
    "colab": {
     "base_uri": "https://localhost:8080/"
    },
    "id": "4isjmqD_fY9B",
    "outputId": "def3c6a3-dd7b-48ed-91b7-1ae8a28e1365",
    "scrolled": true
   },
   "outputs": [
    {
     "data": {
      "text/plain": [
       "(45466, 24)"
      ]
     },
     "execution_count": 3,
     "metadata": {},
     "output_type": "execute_result"
    }
   ],
   "source": [
    "movies_df.shape"
   ]
  },
  {
   "cell_type": "code",
   "execution_count": 4,
   "id": "32ef51f1",
   "metadata": {
    "scrolled": true
   },
   "outputs": [
    {
     "data": {
      "text/html": [
       "<div>\n",
       "<style scoped>\n",
       "    .dataframe tbody tr th:only-of-type {\n",
       "        vertical-align: middle;\n",
       "    }\n",
       "\n",
       "    .dataframe tbody tr th {\n",
       "        vertical-align: top;\n",
       "    }\n",
       "\n",
       "    .dataframe thead th {\n",
       "        text-align: right;\n",
       "    }\n",
       "</style>\n",
       "<table border=\"1\" class=\"dataframe\">\n",
       "  <thead>\n",
       "    <tr style=\"text-align: right;\">\n",
       "      <th></th>\n",
       "      <th>adult</th>\n",
       "      <th>belongs_to_collection</th>\n",
       "      <th>budget</th>\n",
       "      <th>genres</th>\n",
       "      <th>homepage</th>\n",
       "      <th>id</th>\n",
       "      <th>imdb_id</th>\n",
       "      <th>original_language</th>\n",
       "      <th>original_title</th>\n",
       "      <th>overview</th>\n",
       "      <th>...</th>\n",
       "      <th>release_date</th>\n",
       "      <th>revenue</th>\n",
       "      <th>runtime</th>\n",
       "      <th>spoken_languages</th>\n",
       "      <th>status</th>\n",
       "      <th>tagline</th>\n",
       "      <th>title</th>\n",
       "      <th>video</th>\n",
       "      <th>vote_average</th>\n",
       "      <th>vote_count</th>\n",
       "    </tr>\n",
       "  </thead>\n",
       "  <tbody>\n",
       "    <tr>\n",
       "      <th>0</th>\n",
       "      <td>False</td>\n",
       "      <td>{'id': 10194, 'name': 'Toy Story Collection', ...</td>\n",
       "      <td>30000000</td>\n",
       "      <td>[{'id': 16, 'name': 'Animation'}, {'id': 35, '...</td>\n",
       "      <td>http://toystory.disney.com/toy-story</td>\n",
       "      <td>862</td>\n",
       "      <td>tt0114709</td>\n",
       "      <td>en</td>\n",
       "      <td>Toy Story</td>\n",
       "      <td>Led by Woody, Andy's toys live happily in his ...</td>\n",
       "      <td>...</td>\n",
       "      <td>1995-10-30</td>\n",
       "      <td>373554033.0</td>\n",
       "      <td>81.0</td>\n",
       "      <td>[{'iso_639_1': 'en', 'name': 'English'}]</td>\n",
       "      <td>Released</td>\n",
       "      <td>NaN</td>\n",
       "      <td>Toy Story</td>\n",
       "      <td>False</td>\n",
       "      <td>7.7</td>\n",
       "      <td>5415.0</td>\n",
       "    </tr>\n",
       "    <tr>\n",
       "      <th>1</th>\n",
       "      <td>False</td>\n",
       "      <td>NaN</td>\n",
       "      <td>65000000</td>\n",
       "      <td>[{'id': 12, 'name': 'Adventure'}, {'id': 14, '...</td>\n",
       "      <td>NaN</td>\n",
       "      <td>8844</td>\n",
       "      <td>tt0113497</td>\n",
       "      <td>en</td>\n",
       "      <td>Jumanji</td>\n",
       "      <td>When siblings Judy and Peter discover an encha...</td>\n",
       "      <td>...</td>\n",
       "      <td>1995-12-15</td>\n",
       "      <td>262797249.0</td>\n",
       "      <td>104.0</td>\n",
       "      <td>[{'iso_639_1': 'en', 'name': 'English'}, {'iso...</td>\n",
       "      <td>Released</td>\n",
       "      <td>Roll the dice and unleash the excitement!</td>\n",
       "      <td>Jumanji</td>\n",
       "      <td>False</td>\n",
       "      <td>6.9</td>\n",
       "      <td>2413.0</td>\n",
       "    </tr>\n",
       "    <tr>\n",
       "      <th>2</th>\n",
       "      <td>False</td>\n",
       "      <td>{'id': 119050, 'name': 'Grumpy Old Men Collect...</td>\n",
       "      <td>0</td>\n",
       "      <td>[{'id': 10749, 'name': 'Romance'}, {'id': 35, ...</td>\n",
       "      <td>NaN</td>\n",
       "      <td>15602</td>\n",
       "      <td>tt0113228</td>\n",
       "      <td>en</td>\n",
       "      <td>Grumpier Old Men</td>\n",
       "      <td>A family wedding reignites the ancient feud be...</td>\n",
       "      <td>...</td>\n",
       "      <td>1995-12-22</td>\n",
       "      <td>0.0</td>\n",
       "      <td>101.0</td>\n",
       "      <td>[{'iso_639_1': 'en', 'name': 'English'}]</td>\n",
       "      <td>Released</td>\n",
       "      <td>Still Yelling. Still Fighting. Still Ready for...</td>\n",
       "      <td>Grumpier Old Men</td>\n",
       "      <td>False</td>\n",
       "      <td>6.5</td>\n",
       "      <td>92.0</td>\n",
       "    </tr>\n",
       "    <tr>\n",
       "      <th>3</th>\n",
       "      <td>False</td>\n",
       "      <td>NaN</td>\n",
       "      <td>16000000</td>\n",
       "      <td>[{'id': 35, 'name': 'Comedy'}, {'id': 18, 'nam...</td>\n",
       "      <td>NaN</td>\n",
       "      <td>31357</td>\n",
       "      <td>tt0114885</td>\n",
       "      <td>en</td>\n",
       "      <td>Waiting to Exhale</td>\n",
       "      <td>Cheated on, mistreated and stepped on, the wom...</td>\n",
       "      <td>...</td>\n",
       "      <td>1995-12-22</td>\n",
       "      <td>81452156.0</td>\n",
       "      <td>127.0</td>\n",
       "      <td>[{'iso_639_1': 'en', 'name': 'English'}]</td>\n",
       "      <td>Released</td>\n",
       "      <td>Friends are the people who let you be yourself...</td>\n",
       "      <td>Waiting to Exhale</td>\n",
       "      <td>False</td>\n",
       "      <td>6.1</td>\n",
       "      <td>34.0</td>\n",
       "    </tr>\n",
       "    <tr>\n",
       "      <th>4</th>\n",
       "      <td>False</td>\n",
       "      <td>{'id': 96871, 'name': 'Father of the Bride Col...</td>\n",
       "      <td>0</td>\n",
       "      <td>[{'id': 35, 'name': 'Comedy'}]</td>\n",
       "      <td>NaN</td>\n",
       "      <td>11862</td>\n",
       "      <td>tt0113041</td>\n",
       "      <td>en</td>\n",
       "      <td>Father of the Bride Part II</td>\n",
       "      <td>Just when George Banks has recovered from his ...</td>\n",
       "      <td>...</td>\n",
       "      <td>1995-02-10</td>\n",
       "      <td>76578911.0</td>\n",
       "      <td>106.0</td>\n",
       "      <td>[{'iso_639_1': 'en', 'name': 'English'}]</td>\n",
       "      <td>Released</td>\n",
       "      <td>Just When His World Is Back To Normal... He's ...</td>\n",
       "      <td>Father of the Bride Part II</td>\n",
       "      <td>False</td>\n",
       "      <td>5.7</td>\n",
       "      <td>173.0</td>\n",
       "    </tr>\n",
       "  </tbody>\n",
       "</table>\n",
       "<p>5 rows × 24 columns</p>\n",
       "</div>"
      ],
      "text/plain": [
       "   adult                              belongs_to_collection    budget  \\\n",
       "0  False  {'id': 10194, 'name': 'Toy Story Collection', ...  30000000   \n",
       "1  False                                                NaN  65000000   \n",
       "2  False  {'id': 119050, 'name': 'Grumpy Old Men Collect...         0   \n",
       "3  False                                                NaN  16000000   \n",
       "4  False  {'id': 96871, 'name': 'Father of the Bride Col...         0   \n",
       "\n",
       "                                              genres  \\\n",
       "0  [{'id': 16, 'name': 'Animation'}, {'id': 35, '...   \n",
       "1  [{'id': 12, 'name': 'Adventure'}, {'id': 14, '...   \n",
       "2  [{'id': 10749, 'name': 'Romance'}, {'id': 35, ...   \n",
       "3  [{'id': 35, 'name': 'Comedy'}, {'id': 18, 'nam...   \n",
       "4                     [{'id': 35, 'name': 'Comedy'}]   \n",
       "\n",
       "                               homepage     id    imdb_id original_language  \\\n",
       "0  http://toystory.disney.com/toy-story    862  tt0114709                en   \n",
       "1                                   NaN   8844  tt0113497                en   \n",
       "2                                   NaN  15602  tt0113228                en   \n",
       "3                                   NaN  31357  tt0114885                en   \n",
       "4                                   NaN  11862  tt0113041                en   \n",
       "\n",
       "                original_title  \\\n",
       "0                    Toy Story   \n",
       "1                      Jumanji   \n",
       "2             Grumpier Old Men   \n",
       "3            Waiting to Exhale   \n",
       "4  Father of the Bride Part II   \n",
       "\n",
       "                                            overview  ... release_date  \\\n",
       "0  Led by Woody, Andy's toys live happily in his ...  ...   1995-10-30   \n",
       "1  When siblings Judy and Peter discover an encha...  ...   1995-12-15   \n",
       "2  A family wedding reignites the ancient feud be...  ...   1995-12-22   \n",
       "3  Cheated on, mistreated and stepped on, the wom...  ...   1995-12-22   \n",
       "4  Just when George Banks has recovered from his ...  ...   1995-02-10   \n",
       "\n",
       "       revenue runtime                                   spoken_languages  \\\n",
       "0  373554033.0    81.0           [{'iso_639_1': 'en', 'name': 'English'}]   \n",
       "1  262797249.0   104.0  [{'iso_639_1': 'en', 'name': 'English'}, {'iso...   \n",
       "2          0.0   101.0           [{'iso_639_1': 'en', 'name': 'English'}]   \n",
       "3   81452156.0   127.0           [{'iso_639_1': 'en', 'name': 'English'}]   \n",
       "4   76578911.0   106.0           [{'iso_639_1': 'en', 'name': 'English'}]   \n",
       "\n",
       "     status                                            tagline  \\\n",
       "0  Released                                                NaN   \n",
       "1  Released          Roll the dice and unleash the excitement!   \n",
       "2  Released  Still Yelling. Still Fighting. Still Ready for...   \n",
       "3  Released  Friends are the people who let you be yourself...   \n",
       "4  Released  Just When His World Is Back To Normal... He's ...   \n",
       "\n",
       "                         title  video vote_average vote_count  \n",
       "0                    Toy Story  False          7.7     5415.0  \n",
       "1                      Jumanji  False          6.9     2413.0  \n",
       "2             Grumpier Old Men  False          6.5       92.0  \n",
       "3            Waiting to Exhale  False          6.1       34.0  \n",
       "4  Father of the Bride Part II  False          5.7      173.0  \n",
       "\n",
       "[5 rows x 24 columns]"
      ]
     },
     "execution_count": 4,
     "metadata": {},
     "output_type": "execute_result"
    }
   ],
   "source": [
    "movies_df.head()"
   ]
  },
  {
   "cell_type": "code",
   "execution_count": 5,
   "id": "e477cc37",
   "metadata": {
    "scrolled": true
   },
   "outputs": [
    {
     "data": {
      "text/plain": [
       "adult                        0\n",
       "belongs_to_collection    40972\n",
       "budget                       0\n",
       "genres                       0\n",
       "homepage                 37684\n",
       "id                           0\n",
       "imdb_id                     17\n",
       "original_language           11\n",
       "original_title               0\n",
       "overview                   954\n",
       "popularity                   5\n",
       "poster_path                386\n",
       "production_companies         3\n",
       "production_countries         3\n",
       "release_date                87\n",
       "revenue                      6\n",
       "runtime                    263\n",
       "spoken_languages             6\n",
       "status                      87\n",
       "tagline                  25054\n",
       "title                        6\n",
       "video                        6\n",
       "vote_average                 6\n",
       "vote_count                   6\n",
       "dtype: int64"
      ]
     },
     "execution_count": 5,
     "metadata": {},
     "output_type": "execute_result"
    }
   ],
   "source": [
    "movies_df.isnull().sum()"
   ]
  },
  {
   "cell_type": "code",
   "execution_count": 6,
   "id": "C0leoGHzfZ7U",
   "metadata": {
    "colab": {
     "base_uri": "https://localhost:8080/"
    },
    "id": "C0leoGHzfZ7U",
    "outputId": "6ff4e4f8-a3d5-4515-dd3a-75556d49565e",
    "scrolled": true
   },
   "outputs": [
    {
     "name": "stdout",
     "output_type": "stream",
     "text": [
      "<class 'pandas.core.frame.DataFrame'>\n",
      "RangeIndex: 45466 entries, 0 to 45465\n",
      "Data columns (total 24 columns):\n",
      " #   Column                 Non-Null Count  Dtype  \n",
      "---  ------                 --------------  -----  \n",
      " 0   adult                  45466 non-null  object \n",
      " 1   belongs_to_collection  4494 non-null   object \n",
      " 2   budget                 45466 non-null  object \n",
      " 3   genres                 45466 non-null  object \n",
      " 4   homepage               7782 non-null   object \n",
      " 5   id                     45466 non-null  object \n",
      " 6   imdb_id                45449 non-null  object \n",
      " 7   original_language      45455 non-null  object \n",
      " 8   original_title         45466 non-null  object \n",
      " 9   overview               44512 non-null  object \n",
      " 10  popularity             45461 non-null  object \n",
      " 11  poster_path            45080 non-null  object \n",
      " 12  production_companies   45463 non-null  object \n",
      " 13  production_countries   45463 non-null  object \n",
      " 14  release_date           45379 non-null  object \n",
      " 15  revenue                45460 non-null  float64\n",
      " 16  runtime                45203 non-null  float64\n",
      " 17  spoken_languages       45460 non-null  object \n",
      " 18  status                 45379 non-null  object \n",
      " 19  tagline                20412 non-null  object \n",
      " 20  title                  45460 non-null  object \n",
      " 21  video                  45460 non-null  object \n",
      " 22  vote_average           45460 non-null  float64\n",
      " 23  vote_count             45460 non-null  float64\n",
      "dtypes: float64(4), object(20)\n",
      "memory usage: 8.3+ MB\n"
     ]
    }
   ],
   "source": [
    "movies_df.info()"
   ]
  },
  {
   "cell_type": "code",
   "execution_count": 7,
   "id": "DLTzH0oCfyY7",
   "metadata": {
    "colab": {
     "base_uri": "https://localhost:8080/",
     "height": 530
    },
    "id": "DLTzH0oCfyY7",
    "outputId": "c8e526a0-bb73-42d9-ddcb-5bddf968328a",
    "scrolled": false
   },
   "outputs": [
    {
     "data": {
      "text/html": [
       "<div>\n",
       "<style scoped>\n",
       "    .dataframe tbody tr th:only-of-type {\n",
       "        vertical-align: middle;\n",
       "    }\n",
       "\n",
       "    .dataframe tbody tr th {\n",
       "        vertical-align: top;\n",
       "    }\n",
       "\n",
       "    .dataframe thead th {\n",
       "        text-align: right;\n",
       "    }\n",
       "</style>\n",
       "<table border=\"1\" class=\"dataframe\">\n",
       "  <thead>\n",
       "    <tr style=\"text-align: right;\">\n",
       "      <th></th>\n",
       "      <th>belongs_to_collection</th>\n",
       "      <th>budget</th>\n",
       "      <th>genres</th>\n",
       "      <th>id</th>\n",
       "      <th>imdb_id</th>\n",
       "      <th>original_language</th>\n",
       "      <th>popularity</th>\n",
       "      <th>production_companies</th>\n",
       "      <th>production_countries</th>\n",
       "      <th>release_date</th>\n",
       "      <th>revenue</th>\n",
       "      <th>runtime</th>\n",
       "      <th>spoken_languages</th>\n",
       "      <th>status</th>\n",
       "      <th>title</th>\n",
       "      <th>vote_average</th>\n",
       "      <th>vote_count</th>\n",
       "    </tr>\n",
       "  </thead>\n",
       "  <tbody>\n",
       "    <tr>\n",
       "      <th>0</th>\n",
       "      <td>{'id': 10194, 'name': 'Toy Story Collection', ...</td>\n",
       "      <td>30000000</td>\n",
       "      <td>[{'id': 16, 'name': 'Animation'}, {'id': 35, '...</td>\n",
       "      <td>862</td>\n",
       "      <td>tt0114709</td>\n",
       "      <td>en</td>\n",
       "      <td>21.946943</td>\n",
       "      <td>[{'name': 'Pixar Animation Studios', 'id': 3}]</td>\n",
       "      <td>[{'iso_3166_1': 'US', 'name': 'United States o...</td>\n",
       "      <td>1995-10-30</td>\n",
       "      <td>373554033.0</td>\n",
       "      <td>81.0</td>\n",
       "      <td>[{'iso_639_1': 'en', 'name': 'English'}]</td>\n",
       "      <td>Released</td>\n",
       "      <td>Toy Story</td>\n",
       "      <td>7.7</td>\n",
       "      <td>5415.0</td>\n",
       "    </tr>\n",
       "    <tr>\n",
       "      <th>1</th>\n",
       "      <td>NaN</td>\n",
       "      <td>65000000</td>\n",
       "      <td>[{'id': 12, 'name': 'Adventure'}, {'id': 14, '...</td>\n",
       "      <td>8844</td>\n",
       "      <td>tt0113497</td>\n",
       "      <td>en</td>\n",
       "      <td>17.015539</td>\n",
       "      <td>[{'name': 'TriStar Pictures', 'id': 559}, {'na...</td>\n",
       "      <td>[{'iso_3166_1': 'US', 'name': 'United States o...</td>\n",
       "      <td>1995-12-15</td>\n",
       "      <td>262797249.0</td>\n",
       "      <td>104.0</td>\n",
       "      <td>[{'iso_639_1': 'en', 'name': 'English'}, {'iso...</td>\n",
       "      <td>Released</td>\n",
       "      <td>Jumanji</td>\n",
       "      <td>6.9</td>\n",
       "      <td>2413.0</td>\n",
       "    </tr>\n",
       "    <tr>\n",
       "      <th>2</th>\n",
       "      <td>{'id': 119050, 'name': 'Grumpy Old Men Collect...</td>\n",
       "      <td>0</td>\n",
       "      <td>[{'id': 10749, 'name': 'Romance'}, {'id': 35, ...</td>\n",
       "      <td>15602</td>\n",
       "      <td>tt0113228</td>\n",
       "      <td>en</td>\n",
       "      <td>11.7129</td>\n",
       "      <td>[{'name': 'Warner Bros.', 'id': 6194}, {'name'...</td>\n",
       "      <td>[{'iso_3166_1': 'US', 'name': 'United States o...</td>\n",
       "      <td>1995-12-22</td>\n",
       "      <td>0.0</td>\n",
       "      <td>101.0</td>\n",
       "      <td>[{'iso_639_1': 'en', 'name': 'English'}]</td>\n",
       "      <td>Released</td>\n",
       "      <td>Grumpier Old Men</td>\n",
       "      <td>6.5</td>\n",
       "      <td>92.0</td>\n",
       "    </tr>\n",
       "    <tr>\n",
       "      <th>3</th>\n",
       "      <td>NaN</td>\n",
       "      <td>16000000</td>\n",
       "      <td>[{'id': 35, 'name': 'Comedy'}, {'id': 18, 'nam...</td>\n",
       "      <td>31357</td>\n",
       "      <td>tt0114885</td>\n",
       "      <td>en</td>\n",
       "      <td>3.859495</td>\n",
       "      <td>[{'name': 'Twentieth Century Fox Film Corporat...</td>\n",
       "      <td>[{'iso_3166_1': 'US', 'name': 'United States o...</td>\n",
       "      <td>1995-12-22</td>\n",
       "      <td>81452156.0</td>\n",
       "      <td>127.0</td>\n",
       "      <td>[{'iso_639_1': 'en', 'name': 'English'}]</td>\n",
       "      <td>Released</td>\n",
       "      <td>Waiting to Exhale</td>\n",
       "      <td>6.1</td>\n",
       "      <td>34.0</td>\n",
       "    </tr>\n",
       "    <tr>\n",
       "      <th>4</th>\n",
       "      <td>{'id': 96871, 'name': 'Father of the Bride Col...</td>\n",
       "      <td>0</td>\n",
       "      <td>[{'id': 35, 'name': 'Comedy'}]</td>\n",
       "      <td>11862</td>\n",
       "      <td>tt0113041</td>\n",
       "      <td>en</td>\n",
       "      <td>8.387519</td>\n",
       "      <td>[{'name': 'Sandollar Productions', 'id': 5842}...</td>\n",
       "      <td>[{'iso_3166_1': 'US', 'name': 'United States o...</td>\n",
       "      <td>1995-02-10</td>\n",
       "      <td>76578911.0</td>\n",
       "      <td>106.0</td>\n",
       "      <td>[{'iso_639_1': 'en', 'name': 'English'}]</td>\n",
       "      <td>Released</td>\n",
       "      <td>Father of the Bride Part II</td>\n",
       "      <td>5.7</td>\n",
       "      <td>173.0</td>\n",
       "    </tr>\n",
       "  </tbody>\n",
       "</table>\n",
       "</div>"
      ],
      "text/plain": [
       "                               belongs_to_collection    budget  \\\n",
       "0  {'id': 10194, 'name': 'Toy Story Collection', ...  30000000   \n",
       "1                                                NaN  65000000   \n",
       "2  {'id': 119050, 'name': 'Grumpy Old Men Collect...         0   \n",
       "3                                                NaN  16000000   \n",
       "4  {'id': 96871, 'name': 'Father of the Bride Col...         0   \n",
       "\n",
       "                                              genres     id    imdb_id  \\\n",
       "0  [{'id': 16, 'name': 'Animation'}, {'id': 35, '...    862  tt0114709   \n",
       "1  [{'id': 12, 'name': 'Adventure'}, {'id': 14, '...   8844  tt0113497   \n",
       "2  [{'id': 10749, 'name': 'Romance'}, {'id': 35, ...  15602  tt0113228   \n",
       "3  [{'id': 35, 'name': 'Comedy'}, {'id': 18, 'nam...  31357  tt0114885   \n",
       "4                     [{'id': 35, 'name': 'Comedy'}]  11862  tt0113041   \n",
       "\n",
       "  original_language popularity  \\\n",
       "0                en  21.946943   \n",
       "1                en  17.015539   \n",
       "2                en    11.7129   \n",
       "3                en   3.859495   \n",
       "4                en   8.387519   \n",
       "\n",
       "                                production_companies  \\\n",
       "0     [{'name': 'Pixar Animation Studios', 'id': 3}]   \n",
       "1  [{'name': 'TriStar Pictures', 'id': 559}, {'na...   \n",
       "2  [{'name': 'Warner Bros.', 'id': 6194}, {'name'...   \n",
       "3  [{'name': 'Twentieth Century Fox Film Corporat...   \n",
       "4  [{'name': 'Sandollar Productions', 'id': 5842}...   \n",
       "\n",
       "                                production_countries release_date  \\\n",
       "0  [{'iso_3166_1': 'US', 'name': 'United States o...   1995-10-30   \n",
       "1  [{'iso_3166_1': 'US', 'name': 'United States o...   1995-12-15   \n",
       "2  [{'iso_3166_1': 'US', 'name': 'United States o...   1995-12-22   \n",
       "3  [{'iso_3166_1': 'US', 'name': 'United States o...   1995-12-22   \n",
       "4  [{'iso_3166_1': 'US', 'name': 'United States o...   1995-02-10   \n",
       "\n",
       "       revenue  runtime                                   spoken_languages  \\\n",
       "0  373554033.0     81.0           [{'iso_639_1': 'en', 'name': 'English'}]   \n",
       "1  262797249.0    104.0  [{'iso_639_1': 'en', 'name': 'English'}, {'iso...   \n",
       "2          0.0    101.0           [{'iso_639_1': 'en', 'name': 'English'}]   \n",
       "3   81452156.0    127.0           [{'iso_639_1': 'en', 'name': 'English'}]   \n",
       "4   76578911.0    106.0           [{'iso_639_1': 'en', 'name': 'English'}]   \n",
       "\n",
       "     status                        title  vote_average  vote_count  \n",
       "0  Released                    Toy Story           7.7      5415.0  \n",
       "1  Released                      Jumanji           6.9      2413.0  \n",
       "2  Released             Grumpier Old Men           6.5        92.0  \n",
       "3  Released            Waiting to Exhale           6.1        34.0  \n",
       "4  Released  Father of the Bride Part II           5.7       173.0  "
      ]
     },
     "execution_count": 7,
     "metadata": {},
     "output_type": "execute_result"
    }
   ],
   "source": [
    "# Примечание: original_title - это неанглоязычное название иностранных фильмов, сохраняющее название вместо\n",
    "movies_df.drop(columns=['adult', 'homepage', 'original_title', 'overview', 'poster_path', 'tagline', 'video'], inplace=True)\n",
    "movies_df.head()"
   ]
  },
  {
   "cell_type": "code",
   "execution_count": 8,
   "id": "qY8PX-TNf6Kn",
   "metadata": {
    "colab": {
     "base_uri": "https://localhost:8080/"
    },
    "id": "qY8PX-TNf6Kn",
    "outputId": "293530e3-93f1-4617-f7d6-08850acf7e5a"
   },
   "outputs": [
    {
     "name": "stdout",
     "output_type": "stream",
     "text": [
      "Количество дубликатов:  30\n"
     ]
    }
   ],
   "source": [
    "print('Количество дубликатов: ', movies_df.duplicated(subset='id').sum())"
   ]
  },
  {
   "cell_type": "code",
   "execution_count": 9,
   "id": "dLJOIHLDgARP",
   "metadata": {
    "id": "dLJOIHLDgARP"
   },
   "outputs": [],
   "source": [
    "movies_df.drop_duplicates(subset='id', inplace=True)"
   ]
  },
  {
   "cell_type": "markdown",
   "id": "1bb6e48c",
   "metadata": {},
   "source": [
    "небольшая очистка"
   ]
  },
  {
   "cell_type": "code",
   "execution_count": 10,
   "id": "-86h3J-BgERH",
   "metadata": {
    "colab": {
     "base_uri": "https://localhost:8080/",
     "height": 620
    },
    "id": "-86h3J-BgERH",
    "outputId": "7385213a-a8bb-4583-f761-45ba10ce48ff"
   },
   "outputs": [
    {
     "name": "stderr",
     "output_type": "stream",
     "text": [
      "C:\\Users\\arina\\AppData\\Local\\Temp\\ipykernel_9676\\3183069680.py:11: SettingWithCopyWarning: \n",
      "A value is trying to be set on a copy of a slice from a DataFrame\n",
      "\n",
      "See the caveats in the documentation: https://pandas.pydata.org/pandas-docs/stable/user_guide/indexing.html#returning-a-view-versus-a-copy\n",
      "  movies_df['series'].loc[(movies_df['series']) != 0] = 1\n"
     ]
    },
    {
     "data": {
      "text/html": [
       "<div>\n",
       "<style scoped>\n",
       "    .dataframe tbody tr th:only-of-type {\n",
       "        vertical-align: middle;\n",
       "    }\n",
       "\n",
       "    .dataframe tbody tr th {\n",
       "        vertical-align: top;\n",
       "    }\n",
       "\n",
       "    .dataframe thead th {\n",
       "        text-align: right;\n",
       "    }\n",
       "</style>\n",
       "<table border=\"1\" class=\"dataframe\">\n",
       "  <thead>\n",
       "    <tr style=\"text-align: right;\">\n",
       "      <th></th>\n",
       "      <th>series</th>\n",
       "      <th>budget</th>\n",
       "      <th>genres</th>\n",
       "      <th>id</th>\n",
       "      <th>imdb_id</th>\n",
       "      <th>original_language</th>\n",
       "      <th>popularity</th>\n",
       "      <th>production_companies</th>\n",
       "      <th>production_countries</th>\n",
       "      <th>release_date</th>\n",
       "      <th>revenue</th>\n",
       "      <th>runtime</th>\n",
       "      <th>spoken_languages</th>\n",
       "      <th>status</th>\n",
       "      <th>title</th>\n",
       "      <th>vote_average</th>\n",
       "      <th>vote_count</th>\n",
       "    </tr>\n",
       "  </thead>\n",
       "  <tbody>\n",
       "    <tr>\n",
       "      <th>0</th>\n",
       "      <td>1</td>\n",
       "      <td>30000000</td>\n",
       "      <td>[{'id': 16, 'name': 'Animation'}, {'id': 35, '...</td>\n",
       "      <td>862</td>\n",
       "      <td>0114709</td>\n",
       "      <td>en</td>\n",
       "      <td>21.946943</td>\n",
       "      <td>[{'name': 'Pixar Animation Studios', 'id': 3}]</td>\n",
       "      <td>[{'iso_3166_1': 'US', 'name': 'United States o...</td>\n",
       "      <td>1995-10-30</td>\n",
       "      <td>373554033.0</td>\n",
       "      <td>81.0</td>\n",
       "      <td>[{'iso_639_1': 'en', 'name': 'English'}]</td>\n",
       "      <td>Released</td>\n",
       "      <td>Toy Story</td>\n",
       "      <td>7.7</td>\n",
       "      <td>5415.0</td>\n",
       "    </tr>\n",
       "    <tr>\n",
       "      <th>1</th>\n",
       "      <td>0</td>\n",
       "      <td>65000000</td>\n",
       "      <td>[{'id': 12, 'name': 'Adventure'}, {'id': 14, '...</td>\n",
       "      <td>8844</td>\n",
       "      <td>0113497</td>\n",
       "      <td>en</td>\n",
       "      <td>17.015539</td>\n",
       "      <td>[{'name': 'TriStar Pictures', 'id': 559}, {'na...</td>\n",
       "      <td>[{'iso_3166_1': 'US', 'name': 'United States o...</td>\n",
       "      <td>1995-12-15</td>\n",
       "      <td>262797249.0</td>\n",
       "      <td>104.0</td>\n",
       "      <td>[{'iso_639_1': 'en', 'name': 'English'}, {'iso...</td>\n",
       "      <td>Released</td>\n",
       "      <td>Jumanji</td>\n",
       "      <td>6.9</td>\n",
       "      <td>2413.0</td>\n",
       "    </tr>\n",
       "    <tr>\n",
       "      <th>2</th>\n",
       "      <td>1</td>\n",
       "      <td>0</td>\n",
       "      <td>[{'id': 10749, 'name': 'Romance'}, {'id': 35, ...</td>\n",
       "      <td>15602</td>\n",
       "      <td>0113228</td>\n",
       "      <td>en</td>\n",
       "      <td>11.7129</td>\n",
       "      <td>[{'name': 'Warner Bros.', 'id': 6194}, {'name'...</td>\n",
       "      <td>[{'iso_3166_1': 'US', 'name': 'United States o...</td>\n",
       "      <td>1995-12-22</td>\n",
       "      <td>0.0</td>\n",
       "      <td>101.0</td>\n",
       "      <td>[{'iso_639_1': 'en', 'name': 'English'}]</td>\n",
       "      <td>Released</td>\n",
       "      <td>Grumpier Old Men</td>\n",
       "      <td>6.5</td>\n",
       "      <td>92.0</td>\n",
       "    </tr>\n",
       "    <tr>\n",
       "      <th>3</th>\n",
       "      <td>0</td>\n",
       "      <td>16000000</td>\n",
       "      <td>[{'id': 35, 'name': 'Comedy'}, {'id': 18, 'nam...</td>\n",
       "      <td>31357</td>\n",
       "      <td>0114885</td>\n",
       "      <td>en</td>\n",
       "      <td>3.859495</td>\n",
       "      <td>[{'name': 'Twentieth Century Fox Film Corporat...</td>\n",
       "      <td>[{'iso_3166_1': 'US', 'name': 'United States o...</td>\n",
       "      <td>1995-12-22</td>\n",
       "      <td>81452156.0</td>\n",
       "      <td>127.0</td>\n",
       "      <td>[{'iso_639_1': 'en', 'name': 'English'}]</td>\n",
       "      <td>Released</td>\n",
       "      <td>Waiting to Exhale</td>\n",
       "      <td>6.1</td>\n",
       "      <td>34.0</td>\n",
       "    </tr>\n",
       "    <tr>\n",
       "      <th>4</th>\n",
       "      <td>1</td>\n",
       "      <td>0</td>\n",
       "      <td>[{'id': 35, 'name': 'Comedy'}]</td>\n",
       "      <td>11862</td>\n",
       "      <td>0113041</td>\n",
       "      <td>en</td>\n",
       "      <td>8.387519</td>\n",
       "      <td>[{'name': 'Sandollar Productions', 'id': 5842}...</td>\n",
       "      <td>[{'iso_3166_1': 'US', 'name': 'United States o...</td>\n",
       "      <td>1995-02-10</td>\n",
       "      <td>76578911.0</td>\n",
       "      <td>106.0</td>\n",
       "      <td>[{'iso_639_1': 'en', 'name': 'English'}]</td>\n",
       "      <td>Released</td>\n",
       "      <td>Father of the Bride Part II</td>\n",
       "      <td>5.7</td>\n",
       "      <td>173.0</td>\n",
       "    </tr>\n",
       "  </tbody>\n",
       "</table>\n",
       "</div>"
      ],
      "text/plain": [
       "  series    budget                                             genres     id  \\\n",
       "0      1  30000000  [{'id': 16, 'name': 'Animation'}, {'id': 35, '...    862   \n",
       "1      0  65000000  [{'id': 12, 'name': 'Adventure'}, {'id': 14, '...   8844   \n",
       "2      1         0  [{'id': 10749, 'name': 'Romance'}, {'id': 35, ...  15602   \n",
       "3      0  16000000  [{'id': 35, 'name': 'Comedy'}, {'id': 18, 'nam...  31357   \n",
       "4      1         0                     [{'id': 35, 'name': 'Comedy'}]  11862   \n",
       "\n",
       "   imdb_id original_language popularity  \\\n",
       "0  0114709                en  21.946943   \n",
       "1  0113497                en  17.015539   \n",
       "2  0113228                en    11.7129   \n",
       "3  0114885                en   3.859495   \n",
       "4  0113041                en   8.387519   \n",
       "\n",
       "                                production_companies  \\\n",
       "0     [{'name': 'Pixar Animation Studios', 'id': 3}]   \n",
       "1  [{'name': 'TriStar Pictures', 'id': 559}, {'na...   \n",
       "2  [{'name': 'Warner Bros.', 'id': 6194}, {'name'...   \n",
       "3  [{'name': 'Twentieth Century Fox Film Corporat...   \n",
       "4  [{'name': 'Sandollar Productions', 'id': 5842}...   \n",
       "\n",
       "                                production_countries release_date  \\\n",
       "0  [{'iso_3166_1': 'US', 'name': 'United States o...   1995-10-30   \n",
       "1  [{'iso_3166_1': 'US', 'name': 'United States o...   1995-12-15   \n",
       "2  [{'iso_3166_1': 'US', 'name': 'United States o...   1995-12-22   \n",
       "3  [{'iso_3166_1': 'US', 'name': 'United States o...   1995-12-22   \n",
       "4  [{'iso_3166_1': 'US', 'name': 'United States o...   1995-02-10   \n",
       "\n",
       "       revenue  runtime                                   spoken_languages  \\\n",
       "0  373554033.0     81.0           [{'iso_639_1': 'en', 'name': 'English'}]   \n",
       "1  262797249.0    104.0  [{'iso_639_1': 'en', 'name': 'English'}, {'iso...   \n",
       "2          0.0    101.0           [{'iso_639_1': 'en', 'name': 'English'}]   \n",
       "3   81452156.0    127.0           [{'iso_639_1': 'en', 'name': 'English'}]   \n",
       "4   76578911.0    106.0           [{'iso_639_1': 'en', 'name': 'English'}]   \n",
       "\n",
       "     status                        title  vote_average  vote_count  \n",
       "0  Released                    Toy Story           7.7      5415.0  \n",
       "1  Released                      Jumanji           6.9      2413.0  \n",
       "2  Released             Grumpier Old Men           6.5        92.0  \n",
       "3  Released            Waiting to Exhale           6.1        34.0  \n",
       "4  Released  Father of the Bride Part II           5.7       173.0  "
      ]
     },
     "execution_count": 10,
     "metadata": {},
     "output_type": "execute_result"
    }
   ],
   "source": [
    "# Удалить tt из начала imdb_id\n",
    "movies_df['imdb_id'] = movies_df['imdb_id'].str[2:]\n",
    "\n",
    "# Убедитесь, что значения не перепутаны пробелами\n",
    "# movies_df['id'].str.strip() \n",
    "movies_df['imdb_id'].str.strip()\n",
    "\n",
    "# Переименуем 'belongs_to_collection column' и преобразовать в 0 (не часть ряда) или 1 (часть ряда)\n",
    "movies_df.rename(columns={'belongs_to_collection': 'series'}, inplace=True)\n",
    "movies_df['series'].fillna(0, inplace=True)\n",
    "movies_df['series'].loc[(movies_df['series']) != 0] = 1 \n",
    "movies_df.head()"
   ]
  },
  {
   "cell_type": "code",
   "execution_count": 11,
   "id": "W9slpX5B0Bt1",
   "metadata": {
    "colab": {
     "base_uri": "https://localhost:8080/"
    },
    "id": "W9slpX5B0Bt1",
    "outputId": "dce9b7da-b545-43f6-e2e3-396bbeed7b86"
   },
   "outputs": [
    {
     "data": {
      "text/plain": [
       "series                    0\n",
       "budget                    0\n",
       "genres                    0\n",
       "id                        0\n",
       "imdb_id                  17\n",
       "original_language        11\n",
       "popularity                5\n",
       "production_companies      3\n",
       "production_countries      3\n",
       "release_date             87\n",
       "revenue                   6\n",
       "runtime                 263\n",
       "spoken_languages          6\n",
       "status                   87\n",
       "title                     6\n",
       "vote_average              6\n",
       "vote_count                6\n",
       "dtype: int64"
      ]
     },
     "execution_count": 11,
     "metadata": {},
     "output_type": "execute_result"
    }
   ],
   "source": [
    "movies_df.isnull().sum(axis=0)"
   ]
  },
  {
   "cell_type": "code",
   "execution_count": 12,
   "id": "GE2TlXs80HCQ",
   "metadata": {
    "colab": {
     "base_uri": "https://localhost:8080/"
    },
    "id": "GE2TlXs80HCQ",
    "outputId": "7e1e3ace-0d15-4309-d221-4748dd394f33"
   },
   "outputs": [
    {
     "name": "stdout",
     "output_type": "stream",
     "text": [
      "Процент пустых значений :  0.9573906153710714\n"
     ]
    }
   ],
   "source": [
    "#Рассчиваем процент пустых значений \n",
    "print('Процент пустых значений : ',(movies_df[movies_df.isnull().any(axis=1)].shape[0]/movies_df.shape[0])*100)"
   ]
  },
  {
   "cell_type": "code",
   "execution_count": 13,
   "id": "EY5Jb3_b0lhM",
   "metadata": {
    "id": "EY5Jb3_b0lhM"
   },
   "outputs": [],
   "source": [
    "# Удаление записей с пропущенными значениями составляет менее 1% данных\n",
    "movies_df.dropna(how='any', inplace=True)"
   ]
  },
  {
   "cell_type": "code",
   "execution_count": 14,
   "id": "USlYEMGS02yg",
   "metadata": {
    "id": "USlYEMGS02yg"
   },
   "outputs": [],
   "source": [
    "movies_df['series'] = movies_df['series'].astype('int64')\n",
    "movies_df['budget'] = movies_df['budget'].astype('float64')\n",
    "movies_df['imdb_id'] = movies_df['imdb_id'].astype('int64')\n"
   ]
  },
  {
   "cell_type": "code",
   "execution_count": 15,
   "id": "QnU30Zp51R_0",
   "metadata": {
    "id": "QnU30Zp51R_0"
   },
   "outputs": [],
   "source": [
    "# Преобразовать поле даты в формат даты\n",
    "movies_df['release_date_2']= pd.to_datetime(movies_df['release_date'])"
   ]
  },
  {
   "cell_type": "code",
   "execution_count": 16,
   "id": "lTzAk66d2HiJ",
   "metadata": {
    "colab": {
     "base_uri": "https://localhost:8080/",
     "height": 530
    },
    "id": "lTzAk66d2HiJ",
    "outputId": "a86d40cf-8b6b-48f3-cde5-105f09c4b2cc"
   },
   "outputs": [],
   "source": [
    "movies_df.drop(columns=[\"release_date\"], axis=1, inplace=True)\n",
    "movies_df.rename(columns={\"release_date_2\": \"release_date\"}, inplace=True)"
   ]
  },
  {
   "cell_type": "code",
   "execution_count": 17,
   "id": "dS0HY43Z1s0f",
   "metadata": {
    "id": "dS0HY43Z1s0f"
   },
   "outputs": [],
   "source": [
    "movies_df['release_month'] = pd.DatetimeIndex(movies_df['release_date']).month\n",
    "movies_df['release_day'] = pd.DatetimeIndex(movies_df['release_date']).day\n",
    "movies_df['release_year'] = pd.DatetimeIndex(movies_df['release_date']).year"
   ]
  },
  {
   "cell_type": "code",
   "execution_count": 18,
   "id": "mDpG5Tfr3OfE",
   "metadata": {
    "colab": {
     "base_uri": "https://localhost:8080/",
     "height": 300
    },
    "id": "mDpG5Tfr3OfE",
    "outputId": "a8cc7e6e-5244-437d-d5f7-c3f79f8acdde"
   },
   "outputs": [
    {
     "data": {
      "text/html": [
       "<div>\n",
       "<style scoped>\n",
       "    .dataframe tbody tr th:only-of-type {\n",
       "        vertical-align: middle;\n",
       "    }\n",
       "\n",
       "    .dataframe tbody tr th {\n",
       "        vertical-align: top;\n",
       "    }\n",
       "\n",
       "    .dataframe thead th {\n",
       "        text-align: right;\n",
       "    }\n",
       "</style>\n",
       "<table border=\"1\" class=\"dataframe\">\n",
       "  <thead>\n",
       "    <tr style=\"text-align: right;\">\n",
       "      <th></th>\n",
       "      <th>series</th>\n",
       "      <th>budget</th>\n",
       "      <th>imdb_id</th>\n",
       "      <th>revenue</th>\n",
       "      <th>runtime</th>\n",
       "      <th>vote_average</th>\n",
       "      <th>vote_count</th>\n",
       "      <th>release_month</th>\n",
       "      <th>release_day</th>\n",
       "      <th>release_year</th>\n",
       "    </tr>\n",
       "  </thead>\n",
       "  <tbody>\n",
       "    <tr>\n",
       "      <th>count</th>\n",
       "      <td>45001.000000</td>\n",
       "      <td>4.500100e+04</td>\n",
       "      <td>4.500100e+04</td>\n",
       "      <td>4.500100e+04</td>\n",
       "      <td>45001.000000</td>\n",
       "      <td>45001.000000</td>\n",
       "      <td>45001.000000</td>\n",
       "      <td>45001.000000</td>\n",
       "      <td>45001.000000</td>\n",
       "      <td>45001.000000</td>\n",
       "    </tr>\n",
       "    <tr>\n",
       "      <th>mean</th>\n",
       "      <td>0.099420</td>\n",
       "      <td>4.264486e+06</td>\n",
       "      <td>9.886290e+05</td>\n",
       "      <td>1.131969e+07</td>\n",
       "      <td>94.233884</td>\n",
       "      <td>5.638121</td>\n",
       "      <td>110.954757</td>\n",
       "      <td>6.461323</td>\n",
       "      <td>14.211618</td>\n",
       "      <td>1991.843870</td>\n",
       "    </tr>\n",
       "    <tr>\n",
       "      <th>std</th>\n",
       "      <td>0.299228</td>\n",
       "      <td>1.750660e+07</td>\n",
       "      <td>1.358373e+06</td>\n",
       "      <td>6.464880e+07</td>\n",
       "      <td>38.310975</td>\n",
       "      <td>1.895885</td>\n",
       "      <td>493.691367</td>\n",
       "      <td>3.625462</td>\n",
       "      <td>9.278611</td>\n",
       "      <td>24.076063</td>\n",
       "    </tr>\n",
       "    <tr>\n",
       "      <th>min</th>\n",
       "      <td>0.000000</td>\n",
       "      <td>0.000000e+00</td>\n",
       "      <td>1.000000e+00</td>\n",
       "      <td>0.000000e+00</td>\n",
       "      <td>0.000000</td>\n",
       "      <td>0.000000</td>\n",
       "      <td>0.000000</td>\n",
       "      <td>1.000000</td>\n",
       "      <td>1.000000</td>\n",
       "      <td>1874.000000</td>\n",
       "    </tr>\n",
       "    <tr>\n",
       "      <th>25%</th>\n",
       "      <td>0.000000</td>\n",
       "      <td>0.000000e+00</td>\n",
       "      <td>8.272900e+04</td>\n",
       "      <td>0.000000e+00</td>\n",
       "      <td>85.000000</td>\n",
       "      <td>5.000000</td>\n",
       "      <td>3.000000</td>\n",
       "      <td>3.000000</td>\n",
       "      <td>6.000000</td>\n",
       "      <td>1978.000000</td>\n",
       "    </tr>\n",
       "    <tr>\n",
       "      <th>50%</th>\n",
       "      <td>0.000000</td>\n",
       "      <td>0.000000e+00</td>\n",
       "      <td>2.819190e+05</td>\n",
       "      <td>0.000000e+00</td>\n",
       "      <td>95.000000</td>\n",
       "      <td>6.000000</td>\n",
       "      <td>10.000000</td>\n",
       "      <td>7.000000</td>\n",
       "      <td>14.000000</td>\n",
       "      <td>2001.000000</td>\n",
       "    </tr>\n",
       "    <tr>\n",
       "      <th>75%</th>\n",
       "      <td>0.000000</td>\n",
       "      <td>0.000000e+00</td>\n",
       "      <td>1.533085e+06</td>\n",
       "      <td>0.000000e+00</td>\n",
       "      <td>107.000000</td>\n",
       "      <td>6.800000</td>\n",
       "      <td>35.000000</td>\n",
       "      <td>10.000000</td>\n",
       "      <td>22.000000</td>\n",
       "      <td>2010.000000</td>\n",
       "    </tr>\n",
       "    <tr>\n",
       "      <th>max</th>\n",
       "      <td>1.000000</td>\n",
       "      <td>3.800000e+08</td>\n",
       "      <td>7.158814e+06</td>\n",
       "      <td>2.787965e+09</td>\n",
       "      <td>1256.000000</td>\n",
       "      <td>10.000000</td>\n",
       "      <td>14075.000000</td>\n",
       "      <td>12.000000</td>\n",
       "      <td>31.000000</td>\n",
       "      <td>2020.000000</td>\n",
       "    </tr>\n",
       "  </tbody>\n",
       "</table>\n",
       "</div>"
      ],
      "text/plain": [
       "             series        budget       imdb_id       revenue       runtime  \\\n",
       "count  45001.000000  4.500100e+04  4.500100e+04  4.500100e+04  45001.000000   \n",
       "mean       0.099420  4.264486e+06  9.886290e+05  1.131969e+07     94.233884   \n",
       "std        0.299228  1.750660e+07  1.358373e+06  6.464880e+07     38.310975   \n",
       "min        0.000000  0.000000e+00  1.000000e+00  0.000000e+00      0.000000   \n",
       "25%        0.000000  0.000000e+00  8.272900e+04  0.000000e+00     85.000000   \n",
       "50%        0.000000  0.000000e+00  2.819190e+05  0.000000e+00     95.000000   \n",
       "75%        0.000000  0.000000e+00  1.533085e+06  0.000000e+00    107.000000   \n",
       "max        1.000000  3.800000e+08  7.158814e+06  2.787965e+09   1256.000000   \n",
       "\n",
       "       vote_average    vote_count  release_month   release_day  release_year  \n",
       "count  45001.000000  45001.000000   45001.000000  45001.000000  45001.000000  \n",
       "mean       5.638121    110.954757       6.461323     14.211618   1991.843870  \n",
       "std        1.895885    493.691367       3.625462      9.278611     24.076063  \n",
       "min        0.000000      0.000000       1.000000      1.000000   1874.000000  \n",
       "25%        5.000000      3.000000       3.000000      6.000000   1978.000000  \n",
       "50%        6.000000     10.000000       7.000000     14.000000   2001.000000  \n",
       "75%        6.800000     35.000000      10.000000     22.000000   2010.000000  \n",
       "max       10.000000  14075.000000      12.000000     31.000000   2020.000000  "
      ]
     },
     "execution_count": 18,
     "metadata": {},
     "output_type": "execute_result"
    }
   ],
   "source": [
    "movies_df.describe()"
   ]
  },
  {
   "cell_type": "code",
   "execution_count": 19,
   "id": "FYR-NH7w3SbH",
   "metadata": {
    "colab": {
     "base_uri": "https://localhost:8080/"
    },
    "id": "FYR-NH7w3SbH",
    "outputId": "59a2c85a-bc90-4d73-a18a-86427ecd4923"
   },
   "outputs": [
    {
     "name": "stdout",
     "output_type": "stream",
     "text": [
      "(44647, 20)\n",
      "(25623, 20)\n"
     ]
    }
   ],
   "source": [
    "# Сократите набор данных до релевантных наблюдений - нужны только фильмы, в которых:\n",
    "# статус = выпущен (исключаются фильмы, которые были отменены, все еще находятся в производстве, постпродакшн, планируются или ходят слухи)\n",
    "movies_df = movies_df.loc[(movies_df['status']) == 'Released']\n",
    "print(movies_df.shape)\n",
    "\n",
    "#дата релиза > 1/1/1997 (исключаются все фильмы, снятые до 20 лет назад)\n",
    "movies_df = movies_df.loc[(movies_df['release_year']) >= 1997]\n",
    "print(movies_df.shape)"
   ]
  },
  {
   "cell_type": "code",
   "execution_count": 20,
   "id": "V6WHeoaD3j2f",
   "metadata": {
    "colab": {
     "base_uri": "https://localhost:8080/"
    },
    "id": "V6WHeoaD3j2f",
    "outputId": "4efd99d4-47cc-42af-f464-555fa5285ca1"
   },
   "outputs": [
    {
     "name": "stdout",
     "output_type": "stream",
     "text": [
      "ненулевой бюджет: (6325, 20) 24.68485345197674 %\n",
      "ненулевая популярность: (25623, 20) 100.0 %\n",
      "ненулевой доход: (4985, 20) 19.455176989423563 %\n",
      "ненулевое среднее число голосов: (24307, 20) 94.86398938453733 %\n"
     ]
    }
   ],
   "source": [
    "# Осталось 25 626 наблюдений. Теперь интересно узнать, сколько из нашего бюджета, доходов, популярности и vote_average отличны от нуля.\n",
    "\n",
    "print('ненулевой бюджет:', (movies_df[movies_df['budget'] != 0].shape), (movies_df[movies_df['budget'] != 0].shape)[0]/movies_df.shape[0]*100,'%')\n",
    "print('ненулевая популярность:', (movies_df[movies_df['popularity'] != 0].shape), (movies_df[movies_df['popularity'] != 0].shape)[0]/movies_df.shape[0]*100,'%')\n",
    "print('ненулевой доход:', (movies_df[movies_df['revenue'] != 0].shape), (movies_df[movies_df['revenue'] != 0].shape)[0]/movies_df.shape[0]*100,'%')\n",
    "print('ненулевое среднее число голосов:', (movies_df[movies_df['vote_average'] != 0].shape), (movies_df[movies_df['vote_average'] != 0].shape)[0]/movies_df.shape[0]*100,'%')"
   ]
  },
  {
   "cell_type": "markdown",
   "id": "6-8W6CcM3wfL",
   "metadata": {
    "id": "6-8W6CcM3wfL"
   },
   "source": [
    "Только 25% наших наблюдений имеют ненулевой бюджет, и только 19% наших наблюдений имеют ненулевой доход. 100% наших наблюдений имеют оценку популярности, а 95% - среднее значение голосов, поэтому мы будем использовать популярность и / или среднее значение голосов в качестве нашей целевой переменной."
   ]
  },
  {
   "cell_type": "code",
   "execution_count": 21,
   "id": "k0UoUWjP368o",
   "metadata": {
    "id": "k0UoUWjP368o"
   },
   "outputs": [],
   "source": [
    "# Замените значения 0 для бюджета и доходов на NaN\n",
    "movies_df['budget'] = movies_df['budget'].replace(0, np.nan)\n",
    "movies_df['revenue'] = movies_df['revenue'].replace(0, np.nan)"
   ]
  },
  {
   "cell_type": "code",
   "execution_count": 22,
   "id": "YYI0i9bt3-fu",
   "metadata": {
    "colab": {
     "base_uri": "https://localhost:8080/"
    },
    "id": "YYI0i9bt3-fu",
    "outputId": "3155fd9b-665b-4efb-f163-f0fc04093a1e"
   },
   "outputs": [
    {
     "name": "stdout",
     "output_type": "stream",
     "text": [
      "(10809, 20)\n"
     ]
    }
   ],
   "source": [
    "# Фильтровать фильмы по странам производства (только в США)\n",
    "movies_df = movies_df.loc[(movies_df['production_countries'].str.contains('United States of America', case=False))]\n",
    "print(movies_df.shape)"
   ]
  },
  {
   "cell_type": "code",
   "execution_count": 23,
   "id": "ulUuu9nPPnmO",
   "metadata": {
    "id": "ulUuu9nPPnmO"
   },
   "outputs": [],
   "source": [
    "# Рассчитайте столбец \"Оценка\" на основе формулы IMDB\n",
    "\n",
    "m = movies_df['vote_count'].quantile(0.9)\n",
    "C = movies_df['vote_average'].mean()\n",
    "def weighted_rating(x, m=m, C=C):\n",
    "    v = x['vote_count']\n",
    "    R = x['vote_average']\n",
    "    return (v/(v+m) * R) + (m/(m+v) * C) "
   ]
  },
  {
   "cell_type": "code",
   "execution_count": 24,
   "id": "fq7twoxLPpz-",
   "metadata": {
    "id": "fq7twoxLPpz-"
   },
   "outputs": [],
   "source": [
    "movies_df['score'] = movies_df.apply(weighted_rating, axis=1)"
   ]
  },
  {
   "cell_type": "code",
   "execution_count": 25,
   "id": "pgtwrLa2PsmM",
   "metadata": {
    "id": "pgtwrLa2PsmM"
   },
   "outputs": [],
   "source": [
    "movies_df.drop([\"vote_count\", \"vote_average\"], axis=1, inplace=True)"
   ]
  },
  {
   "cell_type": "markdown",
   "id": "vfcXnq3c4MtK",
   "metadata": {
    "id": "vfcXnq3c4MtK"
   },
   "source": [
    "Добавляйте рейтинги к фильмам df.\n",
    "\n",
    "Примечание:\n",
    "\n",
    "movies_df['id'] = credits_df['id'] = keywords_df['id'] = links_df['tmdbId']\n",
    "\n",
    "рейтинг_df['MovieID'] = links_df['MovieID']\n",
    "\n",
    "movies_df['imdb_id'] = links_df['imdbId']"
   ]
  },
  {
   "cell_type": "code",
   "execution_count": 26,
   "id": "lpFyPIyb44cm",
   "metadata": {
    "colab": {
     "base_uri": "https://localhost:8080/",
     "height": 206
    },
    "id": "lpFyPIyb44cm",
    "outputId": "8906c27e-5be7-4e91-fc43-1d177c90180e"
   },
   "outputs": [
    {
     "data": {
      "text/html": [
       "<div>\n",
       "<style scoped>\n",
       "    .dataframe tbody tr th:only-of-type {\n",
       "        vertical-align: middle;\n",
       "    }\n",
       "\n",
       "    .dataframe tbody tr th {\n",
       "        vertical-align: top;\n",
       "    }\n",
       "\n",
       "    .dataframe thead th {\n",
       "        text-align: right;\n",
       "    }\n",
       "</style>\n",
       "<table border=\"1\" class=\"dataframe\">\n",
       "  <thead>\n",
       "    <tr style=\"text-align: right;\">\n",
       "      <th></th>\n",
       "      <th>movieId</th>\n",
       "      <th>imdbId</th>\n",
       "      <th>tmdbId</th>\n",
       "    </tr>\n",
       "  </thead>\n",
       "  <tbody>\n",
       "    <tr>\n",
       "      <th>0</th>\n",
       "      <td>1</td>\n",
       "      <td>114709</td>\n",
       "      <td>862.0</td>\n",
       "    </tr>\n",
       "    <tr>\n",
       "      <th>1</th>\n",
       "      <td>2</td>\n",
       "      <td>113497</td>\n",
       "      <td>8844.0</td>\n",
       "    </tr>\n",
       "    <tr>\n",
       "      <th>2</th>\n",
       "      <td>3</td>\n",
       "      <td>113228</td>\n",
       "      <td>15602.0</td>\n",
       "    </tr>\n",
       "    <tr>\n",
       "      <th>3</th>\n",
       "      <td>4</td>\n",
       "      <td>114885</td>\n",
       "      <td>31357.0</td>\n",
       "    </tr>\n",
       "    <tr>\n",
       "      <th>4</th>\n",
       "      <td>5</td>\n",
       "      <td>113041</td>\n",
       "      <td>11862.0</td>\n",
       "    </tr>\n",
       "  </tbody>\n",
       "</table>\n",
       "</div>"
      ],
      "text/plain": [
       "   movieId  imdbId   tmdbId\n",
       "0        1  114709    862.0\n",
       "1        2  113497   8844.0\n",
       "2        3  113228  15602.0\n",
       "3        4  114885  31357.0\n",
       "4        5  113041  11862.0"
      ]
     },
     "execution_count": 26,
     "metadata": {},
     "output_type": "execute_result"
    }
   ],
   "source": [
    "links = pd.read_csv('./links.csv')\n",
    "links.head()"
   ]
  },
  {
   "cell_type": "code",
   "execution_count": 27,
   "id": "1ttaVvsI5Bpc",
   "metadata": {
    "colab": {
     "base_uri": "https://localhost:8080/"
    },
    "id": "1ttaVvsI5Bpc",
    "outputId": "1466f8c9-c214-4586-990b-174ba03fea34"
   },
   "outputs": [
    {
     "data": {
      "text/plain": [
       "movieId      0\n",
       "imdbId       0\n",
       "tmdbId     219\n",
       "dtype: int64"
      ]
     },
     "execution_count": 27,
     "metadata": {},
     "output_type": "execute_result"
    }
   ],
   "source": [
    "links.isnull().sum(axis=0)"
   ]
  },
  {
   "cell_type": "code",
   "execution_count": 28,
   "id": "kF86S8845Mq7",
   "metadata": {
    "id": "kF86S8845Mq7"
   },
   "outputs": [],
   "source": [
    "links['tmdbId'] = links['tmdbId'].astype('int', errors='ignore')"
   ]
  },
  {
   "cell_type": "code",
   "execution_count": 29,
   "id": "alkBGwDL5JFs",
   "metadata": {
    "colab": {
     "base_uri": "https://localhost:8080/"
    },
    "id": "alkBGwDL5JFs",
    "outputId": "048db326-4fa6-452c-e966-7c6be0053d8c",
    "scrolled": false
   },
   "outputs": [
    {
     "name": "stdout",
     "output_type": "stream",
     "text": [
      "<class 'pandas.core.frame.DataFrame'>\n",
      "RangeIndex: 45843 entries, 0 to 45842\n",
      "Data columns (total 3 columns):\n",
      " #   Column   Non-Null Count  Dtype  \n",
      "---  ------   --------------  -----  \n",
      " 0   movieId  45843 non-null  int64  \n",
      " 1   imdbId   45843 non-null  int64  \n",
      " 2   tmdbId   45624 non-null  float64\n",
      "dtypes: float64(1), int64(2)\n",
      "memory usage: 1.0 MB\n"
     ]
    }
   ],
   "source": [
    "links.info()"
   ]
  },
  {
   "cell_type": "code",
   "execution_count": 30,
   "id": "424b7049",
   "metadata": {},
   "outputs": [],
   "source": [
    "movies_df['id'] = movies_df['id'].astype('Int64')\n"
   ]
  },
  {
   "cell_type": "code",
   "execution_count": 31,
   "id": "9728b3aa",
   "metadata": {},
   "outputs": [],
   "source": [
    "links['tmdbId'] = links['tmdbId'].fillna(-1).astype('Int64')\n"
   ]
  },
  {
   "cell_type": "code",
   "execution_count": 32,
   "id": "23a0d69f",
   "metadata": {
    "scrolled": false
   },
   "outputs": [
    {
     "data": {
      "text/html": [
       "<div>\n",
       "<style scoped>\n",
       "    .dataframe tbody tr th:only-of-type {\n",
       "        vertical-align: middle;\n",
       "    }\n",
       "\n",
       "    .dataframe tbody tr th {\n",
       "        vertical-align: top;\n",
       "    }\n",
       "\n",
       "    .dataframe thead th {\n",
       "        text-align: right;\n",
       "    }\n",
       "</style>\n",
       "<table border=\"1\" class=\"dataframe\">\n",
       "  <thead>\n",
       "    <tr style=\"text-align: right;\">\n",
       "      <th></th>\n",
       "      <th>series</th>\n",
       "      <th>budget</th>\n",
       "      <th>genres</th>\n",
       "      <th>id</th>\n",
       "      <th>imdb_id</th>\n",
       "      <th>original_language</th>\n",
       "      <th>popularity</th>\n",
       "      <th>production_companies</th>\n",
       "      <th>production_countries</th>\n",
       "      <th>revenue</th>\n",
       "      <th>...</th>\n",
       "      <th>status</th>\n",
       "      <th>title</th>\n",
       "      <th>release_date</th>\n",
       "      <th>release_month</th>\n",
       "      <th>release_day</th>\n",
       "      <th>release_year</th>\n",
       "      <th>score</th>\n",
       "      <th>movieId</th>\n",
       "      <th>imdbId</th>\n",
       "      <th>tmdbId</th>\n",
       "    </tr>\n",
       "  </thead>\n",
       "  <tbody>\n",
       "    <tr>\n",
       "      <th>0</th>\n",
       "      <td>0</td>\n",
       "      <td>1000000.0</td>\n",
       "      <td>[{'id': 35, 'name': 'Comedy'}, {'id': 10749, '...</td>\n",
       "      <td>32872</td>\n",
       "      <td>118523</td>\n",
       "      <td>en</td>\n",
       "      <td>2.700061</td>\n",
       "      <td>[{'name': 'Paramount Pictures', 'id': 4}, {'na...</td>\n",
       "      <td>[{'iso_3166_1': 'US', 'name': 'United States o...</td>\n",
       "      <td>NaN</td>\n",
       "      <td>...</td>\n",
       "      <td>Released</td>\n",
       "      <td>Til There Was You</td>\n",
       "      <td>1997-05-30</td>\n",
       "      <td>5</td>\n",
       "      <td>30</td>\n",
       "      <td>1997</td>\n",
       "      <td>5.656348</td>\n",
       "      <td>779</td>\n",
       "      <td>118523</td>\n",
       "      <td>32872</td>\n",
       "    </tr>\n",
       "    <tr>\n",
       "      <th>1</th>\n",
       "      <td>0</td>\n",
       "      <td>53000000.0</td>\n",
       "      <td>[{'id': 35, 'name': 'Comedy'}, {'id': 10751, '...</td>\n",
       "      <td>9054</td>\n",
       "      <td>119214</td>\n",
       "      <td>en</td>\n",
       "      <td>2.289647</td>\n",
       "      <td>[{'name': 'Caravan Pictures', 'id': 175}, {'na...</td>\n",
       "      <td>[{'iso_3166_1': 'US', 'name': 'United States o...</td>\n",
       "      <td>NaN</td>\n",
       "      <td>...</td>\n",
       "      <td>Released</td>\n",
       "      <td>Gone Fishin'</td>\n",
       "      <td>1997-05-30</td>\n",
       "      <td>5</td>\n",
       "      <td>30</td>\n",
       "      <td>1997</td>\n",
       "      <td>5.610629</td>\n",
       "      <td>870</td>\n",
       "      <td>119214</td>\n",
       "      <td>9054</td>\n",
       "    </tr>\n",
       "    <tr>\n",
       "      <th>2</th>\n",
       "      <td>0</td>\n",
       "      <td>60000000.0</td>\n",
       "      <td>[{'id': 27, 'name': 'Horror'}, {'id': 9648, 'n...</td>\n",
       "      <td>11015</td>\n",
       "      <td>120004</td>\n",
       "      <td>en</td>\n",
       "      <td>7.699967</td>\n",
       "      <td>[{'name': 'Paramount Pictures', 'id': 4}, {'na...</td>\n",
       "      <td>[{'iso_3166_1': 'DE', 'name': 'Germany'}, {'is...</td>\n",
       "      <td>33956608.0</td>\n",
       "      <td>...</td>\n",
       "      <td>Released</td>\n",
       "      <td>The Relic</td>\n",
       "      <td>1997-01-10</td>\n",
       "      <td>1</td>\n",
       "      <td>10</td>\n",
       "      <td>1997</td>\n",
       "      <td>5.683911</td>\n",
       "      <td>879</td>\n",
       "      <td>120004</td>\n",
       "      <td>11015</td>\n",
       "    </tr>\n",
       "    <tr>\n",
       "      <th>3</th>\n",
       "      <td>0</td>\n",
       "      <td>NaN</td>\n",
       "      <td>[{'id': 18, 'name': 'Drama'}, {'id': 10749, 'n...</td>\n",
       "      <td>56077</td>\n",
       "      <td>120271</td>\n",
       "      <td>en</td>\n",
       "      <td>0.978989</td>\n",
       "      <td>[{'name': 'Kanzaman', 'id': 4169}, {'name': 'K...</td>\n",
       "      <td>[{'iso_3166_1': 'US', 'name': 'United States o...</td>\n",
       "      <td>NaN</td>\n",
       "      <td>...</td>\n",
       "      <td>Released</td>\n",
       "      <td>Talk of Angels</td>\n",
       "      <td>1998-10-30</td>\n",
       "      <td>10</td>\n",
       "      <td>30</td>\n",
       "      <td>1998</td>\n",
       "      <td>5.670733</td>\n",
       "      <td>887</td>\n",
       "      <td>120271</td>\n",
       "      <td>56077</td>\n",
       "    </tr>\n",
       "    <tr>\n",
       "      <th>4</th>\n",
       "      <td>0</td>\n",
       "      <td>NaN</td>\n",
       "      <td>[{'id': 18, 'name': 'Drama'}]</td>\n",
       "      <td>52855</td>\n",
       "      <td>118927</td>\n",
       "      <td>en</td>\n",
       "      <td>1.463219</td>\n",
       "      <td>[{'name': 'New Line Cinema', 'id': 12}, {'name...</td>\n",
       "      <td>[{'iso_3166_1': 'US', 'name': 'United States o...</td>\n",
       "      <td>3028094.0</td>\n",
       "      <td>...</td>\n",
       "      <td>Released</td>\n",
       "      <td>Dangerous Ground</td>\n",
       "      <td>1997-02-12</td>\n",
       "      <td>2</td>\n",
       "      <td>12</td>\n",
       "      <td>1997</td>\n",
       "      <td>5.658537</td>\n",
       "      <td>981</td>\n",
       "      <td>118927</td>\n",
       "      <td>52855</td>\n",
       "    </tr>\n",
       "  </tbody>\n",
       "</table>\n",
       "<p>5 rows × 22 columns</p>\n",
       "</div>"
      ],
      "text/plain": [
       "   series      budget                                             genres  \\\n",
       "0       0   1000000.0  [{'id': 35, 'name': 'Comedy'}, {'id': 10749, '...   \n",
       "1       0  53000000.0  [{'id': 35, 'name': 'Comedy'}, {'id': 10751, '...   \n",
       "2       0  60000000.0  [{'id': 27, 'name': 'Horror'}, {'id': 9648, 'n...   \n",
       "3       0         NaN  [{'id': 18, 'name': 'Drama'}, {'id': 10749, 'n...   \n",
       "4       0         NaN                      [{'id': 18, 'name': 'Drama'}]   \n",
       "\n",
       "      id  imdb_id original_language popularity  \\\n",
       "0  32872   118523                en   2.700061   \n",
       "1   9054   119214                en   2.289647   \n",
       "2  11015   120004                en   7.699967   \n",
       "3  56077   120271                en   0.978989   \n",
       "4  52855   118927                en   1.463219   \n",
       "\n",
       "                                production_companies  \\\n",
       "0  [{'name': 'Paramount Pictures', 'id': 4}, {'na...   \n",
       "1  [{'name': 'Caravan Pictures', 'id': 175}, {'na...   \n",
       "2  [{'name': 'Paramount Pictures', 'id': 4}, {'na...   \n",
       "3  [{'name': 'Kanzaman', 'id': 4169}, {'name': 'K...   \n",
       "4  [{'name': 'New Line Cinema', 'id': 12}, {'name...   \n",
       "\n",
       "                                production_countries     revenue  ...  \\\n",
       "0  [{'iso_3166_1': 'US', 'name': 'United States o...         NaN  ...   \n",
       "1  [{'iso_3166_1': 'US', 'name': 'United States o...         NaN  ...   \n",
       "2  [{'iso_3166_1': 'DE', 'name': 'Germany'}, {'is...  33956608.0  ...   \n",
       "3  [{'iso_3166_1': 'US', 'name': 'United States o...         NaN  ...   \n",
       "4  [{'iso_3166_1': 'US', 'name': 'United States o...   3028094.0  ...   \n",
       "\n",
       "     status              title release_date release_month release_day  \\\n",
       "0  Released  Til There Was You   1997-05-30             5          30   \n",
       "1  Released       Gone Fishin'   1997-05-30             5          30   \n",
       "2  Released          The Relic   1997-01-10             1          10   \n",
       "3  Released     Talk of Angels   1998-10-30            10          30   \n",
       "4  Released   Dangerous Ground   1997-02-12             2          12   \n",
       "\n",
       "   release_year     score  movieId  imdbId  tmdbId  \n",
       "0          1997  5.656348      779  118523   32872  \n",
       "1          1997  5.610629      870  119214    9054  \n",
       "2          1997  5.683911      879  120004   11015  \n",
       "3          1998  5.670733      887  120271   56077  \n",
       "4          1997  5.658537      981  118927   52855  \n",
       "\n",
       "[5 rows x 22 columns]"
      ]
     },
     "execution_count": 32,
     "metadata": {},
     "output_type": "execute_result"
    }
   ],
   "source": [
    "movies2 = movies_df.merge(links, how='left', left_on='id', right_on='tmdbId')\n",
    "movies2.head()"
   ]
  },
  {
   "cell_type": "code",
   "execution_count": 33,
   "id": "pHs5O2FG5We6",
   "metadata": {
    "colab": {
     "base_uri": "https://localhost:8080/"
    },
    "id": "pHs5O2FG5We6",
    "outputId": "f67b86f0-4c66-44e5-e6f9-24ecf7c32110"
   },
   "outputs": [
    {
     "data": {
      "text/plain": [
       "8"
      ]
     },
     "execution_count": 33,
     "metadata": {},
     "output_type": "execute_result"
    }
   ],
   "source": [
    "movies2.duplicated(subset='id').sum()"
   ]
  },
  {
   "cell_type": "code",
   "execution_count": 34,
   "id": "d8a-B70R5ZHp",
   "metadata": {
    "colab": {
     "base_uri": "https://localhost:8080/"
    },
    "id": "d8a-B70R5ZHp",
    "outputId": "5d126648-45c8-4229-9819-618ba4915eae"
   },
   "outputs": [
    {
     "data": {
      "text/plain": [
       "(10809, 22)"
      ]
     },
     "execution_count": 34,
     "metadata": {},
     "output_type": "execute_result"
    }
   ],
   "source": [
    "movies2.drop_duplicates(subset='id', inplace=True)\n",
    "movies2.shape"
   ]
  },
  {
   "cell_type": "code",
   "execution_count": 35,
   "id": "jS8h3dEd5cIM",
   "metadata": {
    "colab": {
     "base_uri": "https://localhost:8080/",
     "height": 206
    },
    "id": "jS8h3dEd5cIM",
    "outputId": "bec5fd86-d878-499f-f60e-9e0e23924fb4"
   },
   "outputs": [
    {
     "data": {
      "text/html": [
       "<div>\n",
       "<style scoped>\n",
       "    .dataframe tbody tr th:only-of-type {\n",
       "        vertical-align: middle;\n",
       "    }\n",
       "\n",
       "    .dataframe tbody tr th {\n",
       "        vertical-align: top;\n",
       "    }\n",
       "\n",
       "    .dataframe thead th {\n",
       "        text-align: right;\n",
       "    }\n",
       "</style>\n",
       "<table border=\"1\" class=\"dataframe\">\n",
       "  <thead>\n",
       "    <tr style=\"text-align: right;\">\n",
       "      <th></th>\n",
       "      <th>userId</th>\n",
       "      <th>movieId</th>\n",
       "      <th>rating</th>\n",
       "      <th>timestamp</th>\n",
       "    </tr>\n",
       "  </thead>\n",
       "  <tbody>\n",
       "    <tr>\n",
       "      <th>0</th>\n",
       "      <td>1</td>\n",
       "      <td>110</td>\n",
       "      <td>1.0</td>\n",
       "      <td>1425941529</td>\n",
       "    </tr>\n",
       "    <tr>\n",
       "      <th>1</th>\n",
       "      <td>1</td>\n",
       "      <td>147</td>\n",
       "      <td>4.5</td>\n",
       "      <td>1425942435</td>\n",
       "    </tr>\n",
       "    <tr>\n",
       "      <th>2</th>\n",
       "      <td>1</td>\n",
       "      <td>858</td>\n",
       "      <td>5.0</td>\n",
       "      <td>1425941523</td>\n",
       "    </tr>\n",
       "    <tr>\n",
       "      <th>3</th>\n",
       "      <td>1</td>\n",
       "      <td>1221</td>\n",
       "      <td>5.0</td>\n",
       "      <td>1425941546</td>\n",
       "    </tr>\n",
       "    <tr>\n",
       "      <th>4</th>\n",
       "      <td>1</td>\n",
       "      <td>1246</td>\n",
       "      <td>5.0</td>\n",
       "      <td>1425941556</td>\n",
       "    </tr>\n",
       "  </tbody>\n",
       "</table>\n",
       "</div>"
      ],
      "text/plain": [
       "   userId  movieId  rating   timestamp\n",
       "0       1      110     1.0  1425941529\n",
       "1       1      147     4.5  1425942435\n",
       "2       1      858     5.0  1425941523\n",
       "3       1     1221     5.0  1425941546\n",
       "4       1     1246     5.0  1425941556"
      ]
     },
     "execution_count": 35,
     "metadata": {},
     "output_type": "execute_result"
    }
   ],
   "source": [
    "ratings = pd.read_csv('./ratings.csv')\n",
    "ratings.head()"
   ]
  },
  {
   "cell_type": "code",
   "execution_count": 36,
   "id": "plORyd595jeB",
   "metadata": {
    "colab": {
     "base_uri": "https://localhost:8080/"
    },
    "id": "plORyd595jeB",
    "outputId": "b6e02b83-3b65-4be5-a3be-5eb097fe9d43"
   },
   "outputs": [
    {
     "data": {
      "text/plain": [
       "userId       0\n",
       "movieId      0\n",
       "rating       0\n",
       "timestamp    0\n",
       "dtype: int64"
      ]
     },
     "execution_count": 36,
     "metadata": {},
     "output_type": "execute_result"
    }
   ],
   "source": [
    "ratings.isnull().sum(axis=0)"
   ]
  },
  {
   "cell_type": "code",
   "execution_count": 37,
   "id": "PFVJgEa15rCS",
   "metadata": {
    "colab": {
     "base_uri": "https://localhost:8080/"
    },
    "id": "PFVJgEa15rCS",
    "outputId": "d5da4d7f-6aad-4884-b8b8-f66f6d916ecd"
   },
   "outputs": [
    {
     "name": "stdout",
     "output_type": "stream",
     "text": [
      "<class 'pandas.core.frame.DataFrame'>\n",
      "RangeIndex: 26024289 entries, 0 to 26024288\n",
      "Data columns (total 4 columns):\n",
      " #   Column     Dtype  \n",
      "---  ------     -----  \n",
      " 0   userId     int64  \n",
      " 1   movieId    int64  \n",
      " 2   rating     float64\n",
      " 3   timestamp  int64  \n",
      "dtypes: float64(1), int64(3)\n",
      "memory usage: 794.2 MB\n"
     ]
    }
   ],
   "source": [
    "ratings.info()"
   ]
  },
  {
   "cell_type": "code",
   "execution_count": 38,
   "id": "3g5Auvgl5sRX",
   "metadata": {
    "colab": {
     "base_uri": "https://localhost:8080/",
     "height": 206
    },
    "id": "3g5Auvgl5sRX",
    "outputId": "5d188619-3378-498f-d396-bfe5bf8238c8"
   },
   "outputs": [
    {
     "data": {
      "text/html": [
       "<div>\n",
       "<style scoped>\n",
       "    .dataframe tbody tr th:only-of-type {\n",
       "        vertical-align: middle;\n",
       "    }\n",
       "\n",
       "    .dataframe tbody tr th {\n",
       "        vertical-align: top;\n",
       "    }\n",
       "\n",
       "    .dataframe thead th {\n",
       "        text-align: right;\n",
       "    }\n",
       "</style>\n",
       "<table border=\"1\" class=\"dataframe\">\n",
       "  <thead>\n",
       "    <tr style=\"text-align: right;\">\n",
       "      <th></th>\n",
       "      <th>movieId</th>\n",
       "      <th>rating</th>\n",
       "    </tr>\n",
       "  </thead>\n",
       "  <tbody>\n",
       "    <tr>\n",
       "      <th>0</th>\n",
       "      <td>1</td>\n",
       "      <td>3.888157</td>\n",
       "    </tr>\n",
       "    <tr>\n",
       "      <th>1</th>\n",
       "      <td>2</td>\n",
       "      <td>3.236953</td>\n",
       "    </tr>\n",
       "    <tr>\n",
       "      <th>2</th>\n",
       "      <td>3</td>\n",
       "      <td>3.175550</td>\n",
       "    </tr>\n",
       "    <tr>\n",
       "      <th>3</th>\n",
       "      <td>4</td>\n",
       "      <td>2.875713</td>\n",
       "    </tr>\n",
       "    <tr>\n",
       "      <th>4</th>\n",
       "      <td>5</td>\n",
       "      <td>3.079565</td>\n",
       "    </tr>\n",
       "  </tbody>\n",
       "</table>\n",
       "</div>"
      ],
      "text/plain": [
       "   movieId    rating\n",
       "0        1  3.888157\n",
       "1        2  3.236953\n",
       "2        3  3.175550\n",
       "3        4  2.875713\n",
       "4        5  3.079565"
      ]
     },
     "execution_count": 38,
     "metadata": {},
     "output_type": "execute_result"
    }
   ],
   "source": [
    "avgratings = ratings.groupby('movieId').agg({'rating': 'mean'}).reset_index()\n",
    "avgratings.head()"
   ]
  },
  {
   "cell_type": "code",
   "execution_count": 39,
   "id": "d1Tj0Rnz5vVb",
   "metadata": {
    "colab": {
     "base_uri": "https://localhost:8080/",
     "height": 629
    },
    "id": "d1Tj0Rnz5vVb",
    "outputId": "4f697c18-9e12-4032-8871-efe666a7e66d"
   },
   "outputs": [],
   "source": [
    "movies3 = movies2.merge(avgratings, how='left', left_on='movieId', right_on='movieId')"
   ]
  },
  {
   "cell_type": "code",
   "execution_count": 40,
   "id": "WQtJXSVy57Qy",
   "metadata": {
    "colab": {
     "base_uri": "https://localhost:8080/",
     "height": 600
    },
    "id": "WQtJXSVy57Qy",
    "outputId": "e6e47001-e593-45e4-a117-659006e7c1ef"
   },
   "outputs": [],
   "source": [
    "movies3.drop(columns=['original_language', 'production_countries', 'imdbId', 'tmdbId'], inplace=True)"
   ]
  },
  {
   "cell_type": "code",
   "execution_count": 41,
   "id": "8R836umA6T8O",
   "metadata": {
    "id": "8R836umA6T8O"
   },
   "outputs": [],
   "source": [
    "movies3[\"genres\"] = movies3[\"genres\"].apply(ast.literal_eval)\n",
    "movies3[\"production_companies\"] = movies3[\"production_companies\"].apply(ast.literal_eval)\n",
    "movies3['spoken_languages'] = movies3[\"spoken_languages\"].apply(ast.literal_eval)"
   ]
  },
  {
   "cell_type": "code",
   "execution_count": 42,
   "id": "Xzf4bbjG6CEq",
   "metadata": {
    "colab": {
     "base_uri": "https://localhost:8080/",
     "height": 206
    },
    "id": "Xzf4bbjG6CEq",
    "outputId": "607accdc-d50f-4625-fd70-e62adfa8259e"
   },
   "outputs": [
    {
     "data": {
      "text/html": [
       "<div>\n",
       "<style scoped>\n",
       "    .dataframe tbody tr th:only-of-type {\n",
       "        vertical-align: middle;\n",
       "    }\n",
       "\n",
       "    .dataframe tbody tr th {\n",
       "        vertical-align: top;\n",
       "    }\n",
       "\n",
       "    .dataframe thead th {\n",
       "        text-align: right;\n",
       "    }\n",
       "</style>\n",
       "<table border=\"1\" class=\"dataframe\">\n",
       "  <thead>\n",
       "    <tr style=\"text-align: right;\">\n",
       "      <th></th>\n",
       "      <th>id</th>\n",
       "      <th>genres_list</th>\n",
       "    </tr>\n",
       "  </thead>\n",
       "  <tbody>\n",
       "    <tr>\n",
       "      <th>0</th>\n",
       "      <td>32872</td>\n",
       "      <td>Comedy</td>\n",
       "    </tr>\n",
       "    <tr>\n",
       "      <th>0</th>\n",
       "      <td>32872</td>\n",
       "      <td>Romance</td>\n",
       "    </tr>\n",
       "    <tr>\n",
       "      <th>1</th>\n",
       "      <td>9054</td>\n",
       "      <td>Comedy</td>\n",
       "    </tr>\n",
       "    <tr>\n",
       "      <th>1</th>\n",
       "      <td>9054</td>\n",
       "      <td>Family</td>\n",
       "    </tr>\n",
       "    <tr>\n",
       "      <th>2</th>\n",
       "      <td>11015</td>\n",
       "      <td>Horror</td>\n",
       "    </tr>\n",
       "  </tbody>\n",
       "</table>\n",
       "</div>"
      ],
      "text/plain": [
       "      id genres_list\n",
       "0  32872      Comedy\n",
       "0  32872     Romance\n",
       "1   9054      Comedy\n",
       "1   9054      Family\n",
       "2  11015      Horror"
      ]
     },
     "execution_count": 42,
     "metadata": {},
     "output_type": "execute_result"
    }
   ],
   "source": [
    "movies3[\"genres_list\"] = movies3[\"genres\"].apply(lambda x: [x[i]['name'] for i in range(len(x))])\n",
    "s = movies3['genres_list']\n",
    "i = np.arange(len(movies3)).repeat(s.str.len())\n",
    "df_genre = movies3.iloc[i, :-1].assign(**{'genres_list': np.concatenate(s.values)})[[\"id\", \"genres_list\"]]\n",
    "df_genre.head()"
   ]
  },
  {
   "cell_type": "code",
   "execution_count": 43,
   "id": "FqsjkRB66k-w",
   "metadata": {
    "colab": {
     "base_uri": "https://localhost:8080/"
    },
    "id": "FqsjkRB66k-w",
    "outputId": "25050876-9cec-4d1b-a287-7e375ef6de9b"
   },
   "outputs": [
    {
     "data": {
      "text/plain": [
       "Drama              4282\n",
       "Comedy             3520\n",
       "Thriller           2568\n",
       "Action             1885\n",
       "Romance            1525\n",
       "Horror             1487\n",
       "Documentary        1294\n",
       "Crime              1049\n",
       "Adventure          1048\n",
       "Family             1020\n",
       "Science Fiction     972\n",
       "Mystery             687\n",
       "Fantasy             659\n",
       "Animation           616\n",
       "Music               365\n",
       "TV Movie            305\n",
       "History             245\n",
       "War                 165\n",
       "Western             105\n",
       "Foreign              52\n",
       "Name: genres_list, dtype: int64"
      ]
     },
     "execution_count": 43,
     "metadata": {},
     "output_type": "execute_result"
    }
   ],
   "source": [
    "df_genre.genres_list.value_counts().sort_values(ascending=False)"
   ]
  },
  {
   "cell_type": "code",
   "execution_count": 44,
   "id": "r7vmsL0g60gU",
   "metadata": {
    "colab": {
     "base_uri": "https://localhost:8080/",
     "height": 348
    },
    "id": "r7vmsL0g60gU",
    "outputId": "33231005-8aa5-4fca-b37e-d534727131b0"
   },
   "outputs": [
    {
     "data": {
      "text/html": [
       "<div>\n",
       "<style scoped>\n",
       "    .dataframe tbody tr th:only-of-type {\n",
       "        vertical-align: middle;\n",
       "    }\n",
       "\n",
       "    .dataframe tbody tr th {\n",
       "        vertical-align: top;\n",
       "    }\n",
       "\n",
       "    .dataframe thead th {\n",
       "        text-align: right;\n",
       "    }\n",
       "</style>\n",
       "<table border=\"1\" class=\"dataframe\">\n",
       "  <thead>\n",
       "    <tr style=\"text-align: right;\">\n",
       "      <th></th>\n",
       "      <th>genres_list</th>\n",
       "      <th>genre_TV Movie</th>\n",
       "      <th>genre_Horror</th>\n",
       "      <th>genre_Mystery</th>\n",
       "      <th>genre_Foreign</th>\n",
       "      <th>genre_Drama</th>\n",
       "      <th>genre_Music</th>\n",
       "      <th>genre_Western</th>\n",
       "      <th>genre_Animation</th>\n",
       "      <th>genre_Adventure</th>\n",
       "      <th>...</th>\n",
       "      <th>genre_War</th>\n",
       "      <th>genre_History</th>\n",
       "      <th>genre_Thriller</th>\n",
       "      <th>genre_Fantasy</th>\n",
       "      <th>genre_Documentary</th>\n",
       "      <th>genre_Romance</th>\n",
       "      <th>genre_Family</th>\n",
       "      <th>genre_Science Fiction</th>\n",
       "      <th>genre_Action</th>\n",
       "      <th>genre_Crime</th>\n",
       "    </tr>\n",
       "    <tr>\n",
       "      <th>id</th>\n",
       "      <th></th>\n",
       "      <th></th>\n",
       "      <th></th>\n",
       "      <th></th>\n",
       "      <th></th>\n",
       "      <th></th>\n",
       "      <th></th>\n",
       "      <th></th>\n",
       "      <th></th>\n",
       "      <th></th>\n",
       "      <th></th>\n",
       "      <th></th>\n",
       "      <th></th>\n",
       "      <th></th>\n",
       "      <th></th>\n",
       "      <th></th>\n",
       "      <th></th>\n",
       "      <th></th>\n",
       "      <th></th>\n",
       "      <th></th>\n",
       "      <th></th>\n",
       "    </tr>\n",
       "  </thead>\n",
       "  <tbody>\n",
       "    <tr>\n",
       "      <th>12</th>\n",
       "      <td>Family</td>\n",
       "      <td>0</td>\n",
       "      <td>0</td>\n",
       "      <td>0</td>\n",
       "      <td>0</td>\n",
       "      <td>0</td>\n",
       "      <td>0</td>\n",
       "      <td>0</td>\n",
       "      <td>1</td>\n",
       "      <td>0</td>\n",
       "      <td>...</td>\n",
       "      <td>0</td>\n",
       "      <td>0</td>\n",
       "      <td>0</td>\n",
       "      <td>0</td>\n",
       "      <td>0</td>\n",
       "      <td>0</td>\n",
       "      <td>1</td>\n",
       "      <td>0</td>\n",
       "      <td>0</td>\n",
       "      <td>0</td>\n",
       "    </tr>\n",
       "    <tr>\n",
       "      <th>14</th>\n",
       "      <td>Drama</td>\n",
       "      <td>0</td>\n",
       "      <td>0</td>\n",
       "      <td>0</td>\n",
       "      <td>0</td>\n",
       "      <td>1</td>\n",
       "      <td>0</td>\n",
       "      <td>0</td>\n",
       "      <td>0</td>\n",
       "      <td>0</td>\n",
       "      <td>...</td>\n",
       "      <td>0</td>\n",
       "      <td>0</td>\n",
       "      <td>0</td>\n",
       "      <td>0</td>\n",
       "      <td>0</td>\n",
       "      <td>0</td>\n",
       "      <td>0</td>\n",
       "      <td>0</td>\n",
       "      <td>0</td>\n",
       "      <td>0</td>\n",
       "    </tr>\n",
       "    <tr>\n",
       "      <th>16</th>\n",
       "      <td>Music</td>\n",
       "      <td>0</td>\n",
       "      <td>0</td>\n",
       "      <td>0</td>\n",
       "      <td>0</td>\n",
       "      <td>1</td>\n",
       "      <td>1</td>\n",
       "      <td>0</td>\n",
       "      <td>0</td>\n",
       "      <td>0</td>\n",
       "      <td>...</td>\n",
       "      <td>0</td>\n",
       "      <td>0</td>\n",
       "      <td>0</td>\n",
       "      <td>0</td>\n",
       "      <td>0</td>\n",
       "      <td>0</td>\n",
       "      <td>0</td>\n",
       "      <td>0</td>\n",
       "      <td>0</td>\n",
       "      <td>1</td>\n",
       "    </tr>\n",
       "    <tr>\n",
       "      <th>22</th>\n",
       "      <td>Fantasy</td>\n",
       "      <td>0</td>\n",
       "      <td>0</td>\n",
       "      <td>0</td>\n",
       "      <td>0</td>\n",
       "      <td>0</td>\n",
       "      <td>0</td>\n",
       "      <td>0</td>\n",
       "      <td>0</td>\n",
       "      <td>1</td>\n",
       "      <td>...</td>\n",
       "      <td>0</td>\n",
       "      <td>0</td>\n",
       "      <td>0</td>\n",
       "      <td>1</td>\n",
       "      <td>0</td>\n",
       "      <td>0</td>\n",
       "      <td>0</td>\n",
       "      <td>0</td>\n",
       "      <td>1</td>\n",
       "      <td>0</td>\n",
       "    </tr>\n",
       "    <tr>\n",
       "      <th>24</th>\n",
       "      <td>Crime</td>\n",
       "      <td>0</td>\n",
       "      <td>0</td>\n",
       "      <td>0</td>\n",
       "      <td>0</td>\n",
       "      <td>0</td>\n",
       "      <td>0</td>\n",
       "      <td>0</td>\n",
       "      <td>0</td>\n",
       "      <td>0</td>\n",
       "      <td>...</td>\n",
       "      <td>0</td>\n",
       "      <td>0</td>\n",
       "      <td>0</td>\n",
       "      <td>0</td>\n",
       "      <td>0</td>\n",
       "      <td>0</td>\n",
       "      <td>0</td>\n",
       "      <td>0</td>\n",
       "      <td>1</td>\n",
       "      <td>1</td>\n",
       "    </tr>\n",
       "  </tbody>\n",
       "</table>\n",
       "<p>5 rows × 21 columns</p>\n",
       "</div>"
      ],
      "text/plain": [
       "   genres_list  genre_TV Movie  genre_Horror  genre_Mystery  genre_Foreign  \\\n",
       "id                                                                           \n",
       "12      Family               0             0              0              0   \n",
       "14       Drama               0             0              0              0   \n",
       "16       Music               0             0              0              0   \n",
       "22     Fantasy               0             0              0              0   \n",
       "24       Crime               0             0              0              0   \n",
       "\n",
       "    genre_Drama  genre_Music  genre_Western  genre_Animation  genre_Adventure  \\\n",
       "id                                                                              \n",
       "12            0            0              0                1                0   \n",
       "14            1            0              0                0                0   \n",
       "16            1            1              0                0                0   \n",
       "22            0            0              0                0                1   \n",
       "24            0            0              0                0                0   \n",
       "\n",
       "    ...  genre_War  genre_History  genre_Thriller  genre_Fantasy  \\\n",
       "id  ...                                                            \n",
       "12  ...          0              0               0              0   \n",
       "14  ...          0              0               0              0   \n",
       "16  ...          0              0               0              0   \n",
       "22  ...          0              0               0              1   \n",
       "24  ...          0              0               0              0   \n",
       "\n",
       "    genre_Documentary  genre_Romance  genre_Family  genre_Science Fiction  \\\n",
       "id                                                                          \n",
       "12                  0              0             1                      0   \n",
       "14                  0              0             0                      0   \n",
       "16                  0              0             0                      0   \n",
       "22                  0              0             0                      0   \n",
       "24                  0              0             0                      0   \n",
       "\n",
       "    genre_Action  genre_Crime  \n",
       "id                             \n",
       "12             0            0  \n",
       "14             0            0  \n",
       "16             0            1  \n",
       "22             1            0  \n",
       "24             1            1  \n",
       "\n",
       "[5 rows x 21 columns]"
      ]
     },
     "execution_count": 44,
     "metadata": {},
     "output_type": "execute_result"
    }
   ],
   "source": [
    "set_val = set(df_genre[\"genres_list\"].values)\n",
    "for i in set_val:    \n",
    "    df_genre[\"genre_\"+i] = np.where(df_genre[\"genres_list\"] == i,1,0)\n",
    "df_genre = df_genre.groupby(\"id\").max()\n",
    "df_genre.head()"
   ]
  },
  {
   "cell_type": "code",
   "execution_count": 45,
   "id": "KGOpYdHl7EJn",
   "metadata": {
    "colab": {
     "base_uri": "https://localhost:8080/",
     "height": 646
    },
    "id": "KGOpYdHl7EJn",
    "outputId": "580ec1e4-d71e-4e00-ca54-825560842234"
   },
   "outputs": [],
   "source": [
    "movies4 = pd.merge(movies3, df_genre, how='left', on='id')"
   ]
  },
  {
   "cell_type": "code",
   "execution_count": 46,
   "id": "iW9inWTD6--P",
   "metadata": {
    "colab": {
     "base_uri": "https://localhost:8080/"
    },
    "id": "iW9inWTD6--P",
    "outputId": "0dd11775-5b03-44f9-8db3-81aa6e5286c5"
   },
   "outputs": [],
   "source": [
    "movies4.drop(columns=[\"genres_list_x\",\"genres_list_y\"], axis=1, inplace=True)"
   ]
  },
  {
   "cell_type": "code",
   "execution_count": 47,
   "id": "-aQVeehk7Vmy",
   "metadata": {
    "colab": {
     "base_uri": "https://localhost:8080/"
    },
    "id": "-aQVeehk7Vmy",
    "outputId": "a0e24553-8e8d-48e5-fb23-9f81932a6736"
   },
   "outputs": [],
   "source": [
    "movies4.dropna(subset=[\"genre_Fantasy\"], inplace=True)"
   ]
  },
  {
   "cell_type": "code",
   "execution_count": 48,
   "id": "CYiV6mRb8JZd",
   "metadata": {
    "colab": {
     "base_uri": "https://localhost:8080/",
     "height": 206
    },
    "id": "CYiV6mRb8JZd",
    "outputId": "c26381d6-7208-4388-a659-7c4a6067e59b"
   },
   "outputs": [],
   "source": [
    "movies4[\"studio\"] = movies4[\"production_companies\"].apply(lambda x: [x[i]['name'] for i in range(len(x))])\n",
    "s = movies4['studio']\n",
    "i = np.arange(len(movies4)).repeat(s.str.len())\n",
    "df_prod = movies4.iloc[i, :-1].assign(**{'studio': np.concatenate(s.values)})[[\"id\", \"studio\"]]\n",
    "df_prod['freq_studio'] = df_prod['studio'].map(df_prod['studio'].value_counts())"
   ]
  },
  {
   "cell_type": "code",
   "execution_count": 49,
   "id": "IuJdc_N4vHfJ",
   "metadata": {
    "colab": {
     "base_uri": "https://localhost:8080/"
    },
    "id": "IuJdc_N4vHfJ",
    "outputId": "574ba34f-e556-4cf4-d186-846311cadcee"
   },
   "outputs": [],
   "source": [
    "df_prod.sort_values(['id','freq_studio'], ascending=[True, False], inplace=True)\n",
    "df_prod.drop_duplicates(subset='id', keep='first', inplace=True)"
   ]
  },
  {
   "cell_type": "code",
   "execution_count": 50,
   "id": "k0ysuFqovJs5",
   "metadata": {
    "colab": {
     "base_uri": "https://localhost:8080/",
     "height": 206
    },
    "id": "k0ysuFqovJs5",
    "outputId": "decf622f-6cd3-4003-f227-93e1e8fe0e96"
   },
   "outputs": [
    {
     "data": {
      "text/html": [
       "<div>\n",
       "<style scoped>\n",
       "    .dataframe tbody tr th:only-of-type {\n",
       "        vertical-align: middle;\n",
       "    }\n",
       "\n",
       "    .dataframe tbody tr th {\n",
       "        vertical-align: top;\n",
       "    }\n",
       "\n",
       "    .dataframe thead th {\n",
       "        text-align: right;\n",
       "    }\n",
       "</style>\n",
       "<table border=\"1\" class=\"dataframe\">\n",
       "  <thead>\n",
       "    <tr style=\"text-align: right;\">\n",
       "      <th></th>\n",
       "      <th>id</th>\n",
       "      <th>studio</th>\n",
       "      <th>freq_studio</th>\n",
       "    </tr>\n",
       "  </thead>\n",
       "  <tbody>\n",
       "    <tr>\n",
       "      <th>1373</th>\n",
       "      <td>12</td>\n",
       "      <td>Pixar Animation Studios</td>\n",
       "      <td>43</td>\n",
       "    </tr>\n",
       "    <tr>\n",
       "      <th>532</th>\n",
       "      <td>14</td>\n",
       "      <td>DreamWorks SKG</td>\n",
       "      <td>90</td>\n",
       "    </tr>\n",
       "    <tr>\n",
       "      <th>778</th>\n",
       "      <td>16</td>\n",
       "      <td>Canal+</td>\n",
       "      <td>33</td>\n",
       "    </tr>\n",
       "    <tr>\n",
       "      <th>1396</th>\n",
       "      <td>22</td>\n",
       "      <td>Walt Disney Pictures</td>\n",
       "      <td>177</td>\n",
       "    </tr>\n",
       "    <tr>\n",
       "      <th>1467</th>\n",
       "      <td>24</td>\n",
       "      <td>Miramax Films</td>\n",
       "      <td>101</td>\n",
       "    </tr>\n",
       "  </tbody>\n",
       "</table>\n",
       "</div>"
      ],
      "text/plain": [
       "      id                   studio  freq_studio\n",
       "1373  12  Pixar Animation Studios           43\n",
       "532   14           DreamWorks SKG           90\n",
       "778   16                   Canal+           33\n",
       "1396  22     Walt Disney Pictures          177\n",
       "1467  24            Miramax Films          101"
      ]
     },
     "execution_count": 50,
     "metadata": {},
     "output_type": "execute_result"
    }
   ],
   "source": [
    "df_prod.head()"
   ]
  },
  {
   "cell_type": "code",
   "execution_count": 51,
   "id": "vKXkU-d1-J3H",
   "metadata": {
    "colab": {
     "base_uri": "https://localhost:8080/",
     "height": 681
    },
    "id": "vKXkU-d1-J3H",
    "outputId": "98f4b420-9808-460f-af44-a74ca19152cd"
   },
   "outputs": [
    {
     "data": {
      "text/html": [
       "<div>\n",
       "<style scoped>\n",
       "    .dataframe tbody tr th:only-of-type {\n",
       "        vertical-align: middle;\n",
       "    }\n",
       "\n",
       "    .dataframe tbody tr th {\n",
       "        vertical-align: top;\n",
       "    }\n",
       "\n",
       "    .dataframe thead th {\n",
       "        text-align: right;\n",
       "    }\n",
       "</style>\n",
       "<table border=\"1\" class=\"dataframe\">\n",
       "  <thead>\n",
       "    <tr style=\"text-align: right;\">\n",
       "      <th></th>\n",
       "      <th>series</th>\n",
       "      <th>budget</th>\n",
       "      <th>genres</th>\n",
       "      <th>id</th>\n",
       "      <th>imdb_id</th>\n",
       "      <th>popularity</th>\n",
       "      <th>production_companies</th>\n",
       "      <th>revenue</th>\n",
       "      <th>runtime</th>\n",
       "      <th>spoken_languages</th>\n",
       "      <th>...</th>\n",
       "      <th>genre_Fantasy</th>\n",
       "      <th>genre_Documentary</th>\n",
       "      <th>genre_Romance</th>\n",
       "      <th>genre_Family</th>\n",
       "      <th>genre_Science Fiction</th>\n",
       "      <th>genre_Action</th>\n",
       "      <th>genre_Crime</th>\n",
       "      <th>studio_x</th>\n",
       "      <th>studio_y</th>\n",
       "      <th>freq_studio</th>\n",
       "    </tr>\n",
       "  </thead>\n",
       "  <tbody>\n",
       "    <tr>\n",
       "      <th>0</th>\n",
       "      <td>0</td>\n",
       "      <td>1000000.0</td>\n",
       "      <td>[{'id': 35, 'name': 'Comedy'}, {'id': 10749, '...</td>\n",
       "      <td>32872</td>\n",
       "      <td>118523</td>\n",
       "      <td>2.700061</td>\n",
       "      <td>[{'name': 'Paramount Pictures', 'id': 4}, {'na...</td>\n",
       "      <td>NaN</td>\n",
       "      <td>113.0</td>\n",
       "      <td>[{'iso_639_1': 'en', 'name': 'English'}, {'iso...</td>\n",
       "      <td>...</td>\n",
       "      <td>0.0</td>\n",
       "      <td>0.0</td>\n",
       "      <td>1.0</td>\n",
       "      <td>0.0</td>\n",
       "      <td>0.0</td>\n",
       "      <td>0.0</td>\n",
       "      <td>0.0</td>\n",
       "      <td>[Paramount Pictures, Lakeshore Entertainment]</td>\n",
       "      <td>Paramount Pictures</td>\n",
       "      <td>227.0</td>\n",
       "    </tr>\n",
       "    <tr>\n",
       "      <th>1</th>\n",
       "      <td>0</td>\n",
       "      <td>53000000.0</td>\n",
       "      <td>[{'id': 35, 'name': 'Comedy'}, {'id': 10751, '...</td>\n",
       "      <td>9054</td>\n",
       "      <td>119214</td>\n",
       "      <td>2.289647</td>\n",
       "      <td>[{'name': 'Caravan Pictures', 'id': 175}, {'na...</td>\n",
       "      <td>NaN</td>\n",
       "      <td>94.0</td>\n",
       "      <td>[{'iso_639_1': 'en', 'name': 'English'}]</td>\n",
       "      <td>...</td>\n",
       "      <td>0.0</td>\n",
       "      <td>0.0</td>\n",
       "      <td>0.0</td>\n",
       "      <td>1.0</td>\n",
       "      <td>0.0</td>\n",
       "      <td>0.0</td>\n",
       "      <td>0.0</td>\n",
       "      <td>[Caravan Pictures, Hollywood Pictures, Roger B...</td>\n",
       "      <td>Hollywood Pictures</td>\n",
       "      <td>20.0</td>\n",
       "    </tr>\n",
       "    <tr>\n",
       "      <th>2</th>\n",
       "      <td>0</td>\n",
       "      <td>60000000.0</td>\n",
       "      <td>[{'id': 27, 'name': 'Horror'}, {'id': 9648, 'n...</td>\n",
       "      <td>11015</td>\n",
       "      <td>120004</td>\n",
       "      <td>7.699967</td>\n",
       "      <td>[{'name': 'Paramount Pictures', 'id': 4}, {'na...</td>\n",
       "      <td>33956608.0</td>\n",
       "      <td>110.0</td>\n",
       "      <td>[{'iso_639_1': 'en', 'name': 'English'}]</td>\n",
       "      <td>...</td>\n",
       "      <td>0.0</td>\n",
       "      <td>0.0</td>\n",
       "      <td>0.0</td>\n",
       "      <td>0.0</td>\n",
       "      <td>0.0</td>\n",
       "      <td>0.0</td>\n",
       "      <td>0.0</td>\n",
       "      <td>[Paramount Pictures, Universal Pictures, Toho-...</td>\n",
       "      <td>Universal Pictures</td>\n",
       "      <td>301.0</td>\n",
       "    </tr>\n",
       "    <tr>\n",
       "      <th>3</th>\n",
       "      <td>0</td>\n",
       "      <td>NaN</td>\n",
       "      <td>[{'id': 18, 'name': 'Drama'}, {'id': 10749, 'n...</td>\n",
       "      <td>56077</td>\n",
       "      <td>120271</td>\n",
       "      <td>0.978989</td>\n",
       "      <td>[{'name': 'Kanzaman', 'id': 4169}, {'name': 'K...</td>\n",
       "      <td>NaN</td>\n",
       "      <td>96.0</td>\n",
       "      <td>[{'iso_639_1': 'en', 'name': 'English'}]</td>\n",
       "      <td>...</td>\n",
       "      <td>0.0</td>\n",
       "      <td>0.0</td>\n",
       "      <td>1.0</td>\n",
       "      <td>0.0</td>\n",
       "      <td>0.0</td>\n",
       "      <td>0.0</td>\n",
       "      <td>0.0</td>\n",
       "      <td>[Kanzaman, Kan Zamia-a, Polaris Pictures]</td>\n",
       "      <td>Kanzaman</td>\n",
       "      <td>8.0</td>\n",
       "    </tr>\n",
       "    <tr>\n",
       "      <th>4</th>\n",
       "      <td>0</td>\n",
       "      <td>NaN</td>\n",
       "      <td>[{'id': 18, 'name': 'Drama'}]</td>\n",
       "      <td>52855</td>\n",
       "      <td>118927</td>\n",
       "      <td>1.463219</td>\n",
       "      <td>[{'name': 'New Line Cinema', 'id': 12}, {'name...</td>\n",
       "      <td>3028094.0</td>\n",
       "      <td>95.0</td>\n",
       "      <td>[{'iso_639_1': 'en', 'name': 'English'}, {'iso...</td>\n",
       "      <td>...</td>\n",
       "      <td>0.0</td>\n",
       "      <td>0.0</td>\n",
       "      <td>0.0</td>\n",
       "      <td>0.0</td>\n",
       "      <td>0.0</td>\n",
       "      <td>0.0</td>\n",
       "      <td>0.0</td>\n",
       "      <td>[New Line Cinema, Jacaranda Films, Investec Me...</td>\n",
       "      <td>New Line Cinema</td>\n",
       "      <td>176.0</td>\n",
       "    </tr>\n",
       "  </tbody>\n",
       "</table>\n",
       "<p>5 rows × 42 columns</p>\n",
       "</div>"
      ],
      "text/plain": [
       "   series      budget                                             genres  \\\n",
       "0       0   1000000.0  [{'id': 35, 'name': 'Comedy'}, {'id': 10749, '...   \n",
       "1       0  53000000.0  [{'id': 35, 'name': 'Comedy'}, {'id': 10751, '...   \n",
       "2       0  60000000.0  [{'id': 27, 'name': 'Horror'}, {'id': 9648, 'n...   \n",
       "3       0         NaN  [{'id': 18, 'name': 'Drama'}, {'id': 10749, 'n...   \n",
       "4       0         NaN                      [{'id': 18, 'name': 'Drama'}]   \n",
       "\n",
       "      id  imdb_id popularity  \\\n",
       "0  32872   118523   2.700061   \n",
       "1   9054   119214   2.289647   \n",
       "2  11015   120004   7.699967   \n",
       "3  56077   120271   0.978989   \n",
       "4  52855   118927   1.463219   \n",
       "\n",
       "                                production_companies     revenue  runtime  \\\n",
       "0  [{'name': 'Paramount Pictures', 'id': 4}, {'na...         NaN    113.0   \n",
       "1  [{'name': 'Caravan Pictures', 'id': 175}, {'na...         NaN     94.0   \n",
       "2  [{'name': 'Paramount Pictures', 'id': 4}, {'na...  33956608.0    110.0   \n",
       "3  [{'name': 'Kanzaman', 'id': 4169}, {'name': 'K...         NaN     96.0   \n",
       "4  [{'name': 'New Line Cinema', 'id': 12}, {'name...   3028094.0     95.0   \n",
       "\n",
       "                                    spoken_languages  ... genre_Fantasy  \\\n",
       "0  [{'iso_639_1': 'en', 'name': 'English'}, {'iso...  ...           0.0   \n",
       "1           [{'iso_639_1': 'en', 'name': 'English'}]  ...           0.0   \n",
       "2           [{'iso_639_1': 'en', 'name': 'English'}]  ...           0.0   \n",
       "3           [{'iso_639_1': 'en', 'name': 'English'}]  ...           0.0   \n",
       "4  [{'iso_639_1': 'en', 'name': 'English'}, {'iso...  ...           0.0   \n",
       "\n",
       "  genre_Documentary genre_Romance  genre_Family  genre_Science Fiction  \\\n",
       "0               0.0           1.0           0.0                    0.0   \n",
       "1               0.0           0.0           1.0                    0.0   \n",
       "2               0.0           0.0           0.0                    0.0   \n",
       "3               0.0           1.0           0.0                    0.0   \n",
       "4               0.0           0.0           0.0                    0.0   \n",
       "\n",
       "   genre_Action  genre_Crime  \\\n",
       "0           0.0          0.0   \n",
       "1           0.0          0.0   \n",
       "2           0.0          0.0   \n",
       "3           0.0          0.0   \n",
       "4           0.0          0.0   \n",
       "\n",
       "                                            studio_x            studio_y  \\\n",
       "0      [Paramount Pictures, Lakeshore Entertainment]  Paramount Pictures   \n",
       "1  [Caravan Pictures, Hollywood Pictures, Roger B...  Hollywood Pictures   \n",
       "2  [Paramount Pictures, Universal Pictures, Toho-...  Universal Pictures   \n",
       "3          [Kanzaman, Kan Zamia-a, Polaris Pictures]            Kanzaman   \n",
       "4  [New Line Cinema, Jacaranda Films, Investec Me...     New Line Cinema   \n",
       "\n",
       "   freq_studio  \n",
       "0        227.0  \n",
       "1         20.0  \n",
       "2        301.0  \n",
       "3          8.0  \n",
       "4        176.0  \n",
       "\n",
       "[5 rows x 42 columns]"
      ]
     },
     "execution_count": 51,
     "metadata": {},
     "output_type": "execute_result"
    }
   ],
   "source": [
    "movies5 = pd.merge(movies4, df_prod, how='left', on='id')\n",
    "movies5.head()"
   ]
  },
  {
   "cell_type": "code",
   "execution_count": 52,
   "id": "IPgIIbmn-S3g",
   "metadata": {
    "colab": {
     "base_uri": "https://localhost:8080/"
    },
    "id": "IPgIIbmn-S3g",
    "outputId": "c0ebb8d1-059c-4932-d858-20c13acb1a4e"
   },
   "outputs": [],
   "source": [
    "movies5.drop(columns=[\"studio_x\"], axis=1, inplace=True)"
   ]
  },
  {
   "cell_type": "code",
   "execution_count": 53,
   "id": "vADlclaO-uZV",
   "metadata": {
    "colab": {
     "base_uri": "https://localhost:8080/"
    },
    "id": "vADlclaO-uZV",
    "outputId": "d531b66a-0e8b-4a5b-cb5f-42722e0c9d40"
   },
   "outputs": [],
   "source": [
    "movies5.dropna(subset=[\"studio_y\"], inplace=True)"
   ]
  },
  {
   "cell_type": "code",
   "execution_count": 54,
   "id": "cqvBIIQ_eNro",
   "metadata": {
    "colab": {
     "base_uri": "https://localhost:8080/",
     "height": 206
    },
    "id": "cqvBIIQ_eNro",
    "outputId": "2cb6dda5-5c1e-44ca-e386-e4c96df0acbb"
   },
   "outputs": [],
   "source": [
    "movies5[\"spoken_languages_list\"] = movies5[\"spoken_languages\"].apply(lambda x: [x[i]['name'] for i in range(len(x))])\n",
    "s = movies5['spoken_languages_list']\n",
    "i = np.arange(len(movies5)).repeat(s.str.len())\n",
    "df_lang = movies5.iloc[i, :-1].assign(**{'spoken_languages_list': np.concatenate(s.values)})[[\"id\", \"spoken_languages_list\"]]\n"
   ]
  },
  {
   "cell_type": "code",
   "execution_count": 55,
   "id": "2XTCaP3yeh3g",
   "metadata": {
    "colab": {
     "base_uri": "https://localhost:8080/"
    },
    "id": "2XTCaP3yeh3g",
    "outputId": "617c872c-27e6-4e90-efe3-e33f67bae2f9"
   },
   "outputs": [
    {
     "data": {
      "text/plain": [
       "English      8758\n",
       "Français      496\n",
       "Español       474\n",
       "Deutsch       344\n",
       "Pусский       217\n",
       "Italiano      203\n",
       "日本語           114\n",
       "Português      96\n",
       "普通话            94\n",
       "Polski         92\n",
       "Name: spoken_languages_list, dtype: int64"
      ]
     },
     "execution_count": 55,
     "metadata": {},
     "output_type": "execute_result"
    }
   ],
   "source": [
    "df_lang.spoken_languages_list.value_counts().sort_values(ascending=False).nlargest(10)"
   ]
  },
  {
   "cell_type": "markdown",
   "id": "c9382ab2",
   "metadata": {},
   "source": [
    "проводим серию манипуляций с данными фильмов и рейтингами, включающих группировку, присоединение, преобразование и удаление столбцов, а также применение литеральной оценки для преобразования строковых значений в списки. В конце кода создаются новые столбцы на основе значений в других столбцах, затем объединяются различные таблицы данных с помощью функции merge, а также производятся некоторые вычисления и фильтрация строк с пропущенными значениями"
   ]
  },
  {
   "cell_type": "code",
   "execution_count": 56,
   "id": "5RamuK2Leqdy",
   "metadata": {
    "id": "5RamuK2Leqdy"
   },
   "outputs": [],
   "source": [
    "# Глядя на распределение разговорных языков, мы можем создать две категории - английский и другие\n",
    "df_lang[\"spoken_languages_list_2\"] = df_lang[\"spoken_languages_list\"].apply(lambda x: \"Other\" if x not in [\"English\"] else x)"
   ]
  },
  {
   "cell_type": "code",
   "execution_count": 57,
   "id": "9oGbyKgBe4-L",
   "metadata": {
    "colab": {
     "base_uri": "https://localhost:8080/",
     "height": 237
    },
    "id": "9oGbyKgBe4-L",
    "outputId": "522a0280-06b4-4b82-db0c-e73c5f045a95"
   },
   "outputs": [
    {
     "data": {
      "text/html": [
       "<div>\n",
       "<style scoped>\n",
       "    .dataframe tbody tr th:only-of-type {\n",
       "        vertical-align: middle;\n",
       "    }\n",
       "\n",
       "    .dataframe tbody tr th {\n",
       "        vertical-align: top;\n",
       "    }\n",
       "\n",
       "    .dataframe thead th {\n",
       "        text-align: right;\n",
       "    }\n",
       "</style>\n",
       "<table border=\"1\" class=\"dataframe\">\n",
       "  <thead>\n",
       "    <tr style=\"text-align: right;\">\n",
       "      <th></th>\n",
       "      <th>spoken_languages_list</th>\n",
       "      <th>spoken_languages_list_2</th>\n",
       "      <th>spoken_lang_English</th>\n",
       "      <th>spoken_lang_Other</th>\n",
       "    </tr>\n",
       "    <tr>\n",
       "      <th>id</th>\n",
       "      <th></th>\n",
       "      <th></th>\n",
       "      <th></th>\n",
       "      <th></th>\n",
       "    </tr>\n",
       "  </thead>\n",
       "  <tbody>\n",
       "    <tr>\n",
       "      <th>12</th>\n",
       "      <td>English</td>\n",
       "      <td>English</td>\n",
       "      <td>1</td>\n",
       "      <td>0</td>\n",
       "    </tr>\n",
       "    <tr>\n",
       "      <th>14</th>\n",
       "      <td>English</td>\n",
       "      <td>English</td>\n",
       "      <td>1</td>\n",
       "      <td>0</td>\n",
       "    </tr>\n",
       "    <tr>\n",
       "      <th>16</th>\n",
       "      <td>English</td>\n",
       "      <td>English</td>\n",
       "      <td>1</td>\n",
       "      <td>0</td>\n",
       "    </tr>\n",
       "    <tr>\n",
       "      <th>22</th>\n",
       "      <td>English</td>\n",
       "      <td>English</td>\n",
       "      <td>1</td>\n",
       "      <td>0</td>\n",
       "    </tr>\n",
       "    <tr>\n",
       "      <th>24</th>\n",
       "      <td>日本語</td>\n",
       "      <td>Other</td>\n",
       "      <td>1</td>\n",
       "      <td>1</td>\n",
       "    </tr>\n",
       "  </tbody>\n",
       "</table>\n",
       "</div>"
      ],
      "text/plain": [
       "   spoken_languages_list spoken_languages_list_2  spoken_lang_English  \\\n",
       "id                                                                      \n",
       "12               English                 English                    1   \n",
       "14               English                 English                    1   \n",
       "16               English                 English                    1   \n",
       "22               English                 English                    1   \n",
       "24                   日本語                   Other                    1   \n",
       "\n",
       "    spoken_lang_Other  \n",
       "id                     \n",
       "12                  0  \n",
       "14                  0  \n",
       "16                  0  \n",
       "22                  0  \n",
       "24                  1  "
      ]
     },
     "execution_count": 57,
     "metadata": {},
     "output_type": "execute_result"
    }
   ],
   "source": [
    "#Берем базу данных производственных компаний и создаем манекены\n",
    "\n",
    "set_val = set(df_lang[\"spoken_languages_list_2\"].values)\n",
    "for i in set_val:    \n",
    "    df_lang[\"spoken_lang_\"+i] = np.where(df_lang[\"spoken_languages_list_2\"] == i,1,0)\n",
    "df_lang = df_lang.groupby(\"id\").max()\n",
    "df_lang.head()"
   ]
  },
  {
   "cell_type": "code",
   "execution_count": 58,
   "id": "xpPXXOd1fAek",
   "metadata": {
    "colab": {
     "base_uri": "https://localhost:8080/",
     "height": 629
    },
    "id": "xpPXXOd1fAek",
    "outputId": "c1875df9-9178-4457-e287-37bdc1debaa8"
   },
   "outputs": [
    {
     "data": {
      "text/html": [
       "<div>\n",
       "<style scoped>\n",
       "    .dataframe tbody tr th:only-of-type {\n",
       "        vertical-align: middle;\n",
       "    }\n",
       "\n",
       "    .dataframe tbody tr th {\n",
       "        vertical-align: top;\n",
       "    }\n",
       "\n",
       "    .dataframe thead th {\n",
       "        text-align: right;\n",
       "    }\n",
       "</style>\n",
       "<table border=\"1\" class=\"dataframe\">\n",
       "  <thead>\n",
       "    <tr style=\"text-align: right;\">\n",
       "      <th></th>\n",
       "      <th>series</th>\n",
       "      <th>budget</th>\n",
       "      <th>genres</th>\n",
       "      <th>id</th>\n",
       "      <th>imdb_id</th>\n",
       "      <th>popularity</th>\n",
       "      <th>production_companies</th>\n",
       "      <th>revenue</th>\n",
       "      <th>runtime</th>\n",
       "      <th>spoken_languages</th>\n",
       "      <th>...</th>\n",
       "      <th>genre_Science Fiction</th>\n",
       "      <th>genre_Action</th>\n",
       "      <th>genre_Crime</th>\n",
       "      <th>studio_y</th>\n",
       "      <th>freq_studio</th>\n",
       "      <th>spoken_languages_list_x</th>\n",
       "      <th>spoken_languages_list_y</th>\n",
       "      <th>spoken_languages_list_2</th>\n",
       "      <th>spoken_lang_English</th>\n",
       "      <th>spoken_lang_Other</th>\n",
       "    </tr>\n",
       "  </thead>\n",
       "  <tbody>\n",
       "    <tr>\n",
       "      <th>0</th>\n",
       "      <td>0</td>\n",
       "      <td>1000000.0</td>\n",
       "      <td>[{'id': 35, 'name': 'Comedy'}, {'id': 10749, '...</td>\n",
       "      <td>32872</td>\n",
       "      <td>118523</td>\n",
       "      <td>2.700061</td>\n",
       "      <td>[{'name': 'Paramount Pictures', 'id': 4}, {'na...</td>\n",
       "      <td>NaN</td>\n",
       "      <td>113.0</td>\n",
       "      <td>[{'iso_639_1': 'en', 'name': 'English'}, {'iso...</td>\n",
       "      <td>...</td>\n",
       "      <td>0.0</td>\n",
       "      <td>0.0</td>\n",
       "      <td>0.0</td>\n",
       "      <td>Paramount Pictures</td>\n",
       "      <td>227.0</td>\n",
       "      <td>[English, Français]</td>\n",
       "      <td>Français</td>\n",
       "      <td>Other</td>\n",
       "      <td>1.0</td>\n",
       "      <td>1.0</td>\n",
       "    </tr>\n",
       "    <tr>\n",
       "      <th>1</th>\n",
       "      <td>0</td>\n",
       "      <td>53000000.0</td>\n",
       "      <td>[{'id': 35, 'name': 'Comedy'}, {'id': 10751, '...</td>\n",
       "      <td>9054</td>\n",
       "      <td>119214</td>\n",
       "      <td>2.289647</td>\n",
       "      <td>[{'name': 'Caravan Pictures', 'id': 175}, {'na...</td>\n",
       "      <td>NaN</td>\n",
       "      <td>94.0</td>\n",
       "      <td>[{'iso_639_1': 'en', 'name': 'English'}]</td>\n",
       "      <td>...</td>\n",
       "      <td>0.0</td>\n",
       "      <td>0.0</td>\n",
       "      <td>0.0</td>\n",
       "      <td>Hollywood Pictures</td>\n",
       "      <td>20.0</td>\n",
       "      <td>[English]</td>\n",
       "      <td>English</td>\n",
       "      <td>English</td>\n",
       "      <td>1.0</td>\n",
       "      <td>0.0</td>\n",
       "    </tr>\n",
       "    <tr>\n",
       "      <th>2</th>\n",
       "      <td>0</td>\n",
       "      <td>60000000.0</td>\n",
       "      <td>[{'id': 27, 'name': 'Horror'}, {'id': 9648, 'n...</td>\n",
       "      <td>11015</td>\n",
       "      <td>120004</td>\n",
       "      <td>7.699967</td>\n",
       "      <td>[{'name': 'Paramount Pictures', 'id': 4}, {'na...</td>\n",
       "      <td>33956608.0</td>\n",
       "      <td>110.0</td>\n",
       "      <td>[{'iso_639_1': 'en', 'name': 'English'}]</td>\n",
       "      <td>...</td>\n",
       "      <td>0.0</td>\n",
       "      <td>0.0</td>\n",
       "      <td>0.0</td>\n",
       "      <td>Universal Pictures</td>\n",
       "      <td>301.0</td>\n",
       "      <td>[English]</td>\n",
       "      <td>English</td>\n",
       "      <td>English</td>\n",
       "      <td>1.0</td>\n",
       "      <td>0.0</td>\n",
       "    </tr>\n",
       "    <tr>\n",
       "      <th>3</th>\n",
       "      <td>0</td>\n",
       "      <td>NaN</td>\n",
       "      <td>[{'id': 18, 'name': 'Drama'}, {'id': 10749, 'n...</td>\n",
       "      <td>56077</td>\n",
       "      <td>120271</td>\n",
       "      <td>0.978989</td>\n",
       "      <td>[{'name': 'Kanzaman', 'id': 4169}, {'name': 'K...</td>\n",
       "      <td>NaN</td>\n",
       "      <td>96.0</td>\n",
       "      <td>[{'iso_639_1': 'en', 'name': 'English'}]</td>\n",
       "      <td>...</td>\n",
       "      <td>0.0</td>\n",
       "      <td>0.0</td>\n",
       "      <td>0.0</td>\n",
       "      <td>Kanzaman</td>\n",
       "      <td>8.0</td>\n",
       "      <td>[English]</td>\n",
       "      <td>English</td>\n",
       "      <td>English</td>\n",
       "      <td>1.0</td>\n",
       "      <td>0.0</td>\n",
       "    </tr>\n",
       "    <tr>\n",
       "      <th>4</th>\n",
       "      <td>0</td>\n",
       "      <td>NaN</td>\n",
       "      <td>[{'id': 18, 'name': 'Drama'}]</td>\n",
       "      <td>52855</td>\n",
       "      <td>118927</td>\n",
       "      <td>1.463219</td>\n",
       "      <td>[{'name': 'New Line Cinema', 'id': 12}, {'name...</td>\n",
       "      <td>3028094.0</td>\n",
       "      <td>95.0</td>\n",
       "      <td>[{'iso_639_1': 'en', 'name': 'English'}, {'iso...</td>\n",
       "      <td>...</td>\n",
       "      <td>0.0</td>\n",
       "      <td>0.0</td>\n",
       "      <td>0.0</td>\n",
       "      <td>New Line Cinema</td>\n",
       "      <td>176.0</td>\n",
       "      <td>[English, Polski]</td>\n",
       "      <td>Polski</td>\n",
       "      <td>Other</td>\n",
       "      <td>1.0</td>\n",
       "      <td>1.0</td>\n",
       "    </tr>\n",
       "  </tbody>\n",
       "</table>\n",
       "<p>5 rows × 46 columns</p>\n",
       "</div>"
      ],
      "text/plain": [
       "   series      budget                                             genres  \\\n",
       "0       0   1000000.0  [{'id': 35, 'name': 'Comedy'}, {'id': 10749, '...   \n",
       "1       0  53000000.0  [{'id': 35, 'name': 'Comedy'}, {'id': 10751, '...   \n",
       "2       0  60000000.0  [{'id': 27, 'name': 'Horror'}, {'id': 9648, 'n...   \n",
       "3       0         NaN  [{'id': 18, 'name': 'Drama'}, {'id': 10749, 'n...   \n",
       "4       0         NaN                      [{'id': 18, 'name': 'Drama'}]   \n",
       "\n",
       "      id  imdb_id popularity  \\\n",
       "0  32872   118523   2.700061   \n",
       "1   9054   119214   2.289647   \n",
       "2  11015   120004   7.699967   \n",
       "3  56077   120271   0.978989   \n",
       "4  52855   118927   1.463219   \n",
       "\n",
       "                                production_companies     revenue  runtime  \\\n",
       "0  [{'name': 'Paramount Pictures', 'id': 4}, {'na...         NaN    113.0   \n",
       "1  [{'name': 'Caravan Pictures', 'id': 175}, {'na...         NaN     94.0   \n",
       "2  [{'name': 'Paramount Pictures', 'id': 4}, {'na...  33956608.0    110.0   \n",
       "3  [{'name': 'Kanzaman', 'id': 4169}, {'name': 'K...         NaN     96.0   \n",
       "4  [{'name': 'New Line Cinema', 'id': 12}, {'name...   3028094.0     95.0   \n",
       "\n",
       "                                    spoken_languages  ...  \\\n",
       "0  [{'iso_639_1': 'en', 'name': 'English'}, {'iso...  ...   \n",
       "1           [{'iso_639_1': 'en', 'name': 'English'}]  ...   \n",
       "2           [{'iso_639_1': 'en', 'name': 'English'}]  ...   \n",
       "3           [{'iso_639_1': 'en', 'name': 'English'}]  ...   \n",
       "4  [{'iso_639_1': 'en', 'name': 'English'}, {'iso...  ...   \n",
       "\n",
       "  genre_Science Fiction genre_Action genre_Crime            studio_y  \\\n",
       "0                   0.0          0.0         0.0  Paramount Pictures   \n",
       "1                   0.0          0.0         0.0  Hollywood Pictures   \n",
       "2                   0.0          0.0         0.0  Universal Pictures   \n",
       "3                   0.0          0.0         0.0            Kanzaman   \n",
       "4                   0.0          0.0         0.0     New Line Cinema   \n",
       "\n",
       "   freq_studio  spoken_languages_list_x  spoken_languages_list_y  \\\n",
       "0        227.0      [English, Français]                 Français   \n",
       "1         20.0                [English]                  English   \n",
       "2        301.0                [English]                  English   \n",
       "3          8.0                [English]                  English   \n",
       "4        176.0        [English, Polski]                   Polski   \n",
       "\n",
       "   spoken_languages_list_2  spoken_lang_English  spoken_lang_Other  \n",
       "0                    Other                  1.0                1.0  \n",
       "1                  English                  1.0                0.0  \n",
       "2                  English                  1.0                0.0  \n",
       "3                  English                  1.0                0.0  \n",
       "4                    Other                  1.0                1.0  \n",
       "\n",
       "[5 rows x 46 columns]"
      ]
     },
     "execution_count": 58,
     "metadata": {},
     "output_type": "execute_result"
    }
   ],
   "source": [
    "movies6 = pd.merge(movies5, df_lang, how='left', on='id')\n",
    "movies6.head()"
   ]
  },
  {
   "cell_type": "code",
   "execution_count": 59,
   "id": "TR1eZYQKfumb",
   "metadata": {
    "colab": {
     "base_uri": "https://localhost:8080/"
    },
    "id": "TR1eZYQKfumb",
    "outputId": "44509ad6-17a9-46bf-e0b9-f12b2e6a686e"
   },
   "outputs": [],
   "source": [
    "movies6.drop(columns=[\"spoken_languages_list_x\",\"spoken_languages_list_y\",\"spoken_languages_list_2\"], axis=1, inplace=True)"
   ]
  },
  {
   "cell_type": "code",
   "execution_count": 60,
   "id": "JTIE_3rdfI1C",
   "metadata": {
    "colab": {
     "base_uri": "https://localhost:8080/"
    },
    "id": "JTIE_3rdfI1C",
    "outputId": "89b3493c-71bd-4513-ef2f-49ea2ee5899c"
   },
   "outputs": [],
   "source": [
    "movies6.dropna(subset=[\"spoken_lang_English\"], inplace=True)"
   ]
  },
  {
   "cell_type": "code",
   "execution_count": 61,
   "id": "0W3n_Njt-4zQ",
   "metadata": {
    "colab": {
     "base_uri": "https://localhost:8080/"
    },
    "id": "0W3n_Njt-4zQ",
    "outputId": "7ca5507b-2d73-42b1-faa9-1ba87ee26083"
   },
   "outputs": [
    {
     "name": "stdout",
     "output_type": "stream",
     "text": [
      "<class 'pandas.core.frame.DataFrame'>\n",
      "Int64Index: 8887 entries, 0 to 9030\n",
      "Data columns (total 40 columns):\n",
      " #   Column                 Non-Null Count  Dtype         \n",
      "---  ------                 --------------  -----         \n",
      " 0   series                 8887 non-null   int64         \n",
      " 1   budget                 3960 non-null   float64       \n",
      " 2   id                     8887 non-null   Int64         \n",
      " 3   imdb_id                8887 non-null   int64         \n",
      " 4   popularity             8887 non-null   object        \n",
      " 5   revenue                3447 non-null   float64       \n",
      " 6   runtime                8887 non-null   float64       \n",
      " 7   status                 8887 non-null   object        \n",
      " 8   title                  8887 non-null   object        \n",
      " 9   release_date           8887 non-null   datetime64[ns]\n",
      " 10  release_month          8887 non-null   int64         \n",
      " 11  release_day            8887 non-null   int64         \n",
      " 12  release_year           8887 non-null   int64         \n",
      " 13  score                  8887 non-null   float64       \n",
      " 14  movieId                8887 non-null   int64         \n",
      " 15  rating                 8815 non-null   float64       \n",
      " 16  genre_TV Movie         8887 non-null   float64       \n",
      " 17  genre_Horror           8887 non-null   float64       \n",
      " 18  genre_Mystery          8887 non-null   float64       \n",
      " 19  genre_Foreign          8887 non-null   float64       \n",
      " 20  genre_Drama            8887 non-null   float64       \n",
      " 21  genre_Music            8887 non-null   float64       \n",
      " 22  genre_Western          8887 non-null   float64       \n",
      " 23  genre_Animation        8887 non-null   float64       \n",
      " 24  genre_Adventure        8887 non-null   float64       \n",
      " 25  genre_Comedy           8887 non-null   float64       \n",
      " 26  genre_War              8887 non-null   float64       \n",
      " 27  genre_History          8887 non-null   float64       \n",
      " 28  genre_Thriller         8887 non-null   float64       \n",
      " 29  genre_Fantasy          8887 non-null   float64       \n",
      " 30  genre_Documentary      8887 non-null   float64       \n",
      " 31  genre_Romance          8887 non-null   float64       \n",
      " 32  genre_Family           8887 non-null   float64       \n",
      " 33  genre_Science Fiction  8887 non-null   float64       \n",
      " 34  genre_Action           8887 non-null   float64       \n",
      " 35  genre_Crime            8887 non-null   float64       \n",
      " 36  studio_y               8887 non-null   object        \n",
      " 37  freq_studio            8887 non-null   float64       \n",
      " 38  spoken_lang_English    8887 non-null   float64       \n",
      " 39  spoken_lang_Other      8887 non-null   float64       \n",
      "dtypes: Int64(1), datetime64[ns](1), float64(28), int64(6), object(4)\n",
      "memory usage: 2.8+ MB\n"
     ]
    }
   ],
   "source": [
    "movies6.drop(columns=['genres', 'production_companies','spoken_languages'], inplace=True)\n",
    "movies6.info()"
   ]
  },
  {
   "cell_type": "code",
   "execution_count": 62,
   "id": "BX9EdGCJ--A5",
   "metadata": {
    "id": "BX9EdGCJ--A5"
   },
   "outputs": [],
   "source": [
    "credits = pd.read_csv('./credits.csv')"
   ]
  },
  {
   "cell_type": "code",
   "execution_count": 63,
   "id": "yCOPHrv__F_k",
   "metadata": {
    "colab": {
     "base_uri": "https://localhost:8080/",
     "height": 206
    },
    "id": "yCOPHrv__F_k",
    "outputId": "3b3d8d9e-7f1d-42a6-8ec9-0547b2653eff"
   },
   "outputs": [
    {
     "data": {
      "text/html": [
       "<div>\n",
       "<style scoped>\n",
       "    .dataframe tbody tr th:only-of-type {\n",
       "        vertical-align: middle;\n",
       "    }\n",
       "\n",
       "    .dataframe tbody tr th {\n",
       "        vertical-align: top;\n",
       "    }\n",
       "\n",
       "    .dataframe thead th {\n",
       "        text-align: right;\n",
       "    }\n",
       "</style>\n",
       "<table border=\"1\" class=\"dataframe\">\n",
       "  <thead>\n",
       "    <tr style=\"text-align: right;\">\n",
       "      <th></th>\n",
       "      <th>cast</th>\n",
       "      <th>crew</th>\n",
       "      <th>id</th>\n",
       "    </tr>\n",
       "  </thead>\n",
       "  <tbody>\n",
       "    <tr>\n",
       "      <th>0</th>\n",
       "      <td>[{'cast_id': 14, 'character': 'Woody (voice)',...</td>\n",
       "      <td>[{'credit_id': '52fe4284c3a36847f8024f49', 'de...</td>\n",
       "      <td>862</td>\n",
       "    </tr>\n",
       "    <tr>\n",
       "      <th>1</th>\n",
       "      <td>[{'cast_id': 1, 'character': 'Alan Parrish', '...</td>\n",
       "      <td>[{'credit_id': '52fe44bfc3a36847f80a7cd1', 'de...</td>\n",
       "      <td>8844</td>\n",
       "    </tr>\n",
       "    <tr>\n",
       "      <th>2</th>\n",
       "      <td>[{'cast_id': 2, 'character': 'Max Goldman', 'c...</td>\n",
       "      <td>[{'credit_id': '52fe466a9251416c75077a89', 'de...</td>\n",
       "      <td>15602</td>\n",
       "    </tr>\n",
       "    <tr>\n",
       "      <th>3</th>\n",
       "      <td>[{'cast_id': 1, 'character': \"Savannah 'Vannah...</td>\n",
       "      <td>[{'credit_id': '52fe44779251416c91011acb', 'de...</td>\n",
       "      <td>31357</td>\n",
       "    </tr>\n",
       "    <tr>\n",
       "      <th>4</th>\n",
       "      <td>[{'cast_id': 1, 'character': 'George Banks', '...</td>\n",
       "      <td>[{'credit_id': '52fe44959251416c75039ed7', 'de...</td>\n",
       "      <td>11862</td>\n",
       "    </tr>\n",
       "  </tbody>\n",
       "</table>\n",
       "</div>"
      ],
      "text/plain": [
       "                                                cast  \\\n",
       "0  [{'cast_id': 14, 'character': 'Woody (voice)',...   \n",
       "1  [{'cast_id': 1, 'character': 'Alan Parrish', '...   \n",
       "2  [{'cast_id': 2, 'character': 'Max Goldman', 'c...   \n",
       "3  [{'cast_id': 1, 'character': \"Savannah 'Vannah...   \n",
       "4  [{'cast_id': 1, 'character': 'George Banks', '...   \n",
       "\n",
       "                                                crew     id  \n",
       "0  [{'credit_id': '52fe4284c3a36847f8024f49', 'de...    862  \n",
       "1  [{'credit_id': '52fe44bfc3a36847f80a7cd1', 'de...   8844  \n",
       "2  [{'credit_id': '52fe466a9251416c75077a89', 'de...  15602  \n",
       "3  [{'credit_id': '52fe44779251416c91011acb', 'de...  31357  \n",
       "4  [{'credit_id': '52fe44959251416c75039ed7', 'de...  11862  "
      ]
     },
     "execution_count": 63,
     "metadata": {},
     "output_type": "execute_result"
    }
   ],
   "source": [
    "credits.head()"
   ]
  },
  {
   "cell_type": "markdown",
   "id": "AEGtxfB3_YzI",
   "metadata": {
    "id": "AEGtxfB3_YzI"
   },
   "source": [
    "Примечание: Пол указан цифрами 1=Женщина 2=Мужчина 0=неизвестно/отсутствует\n",
    "\n",
    "Порядок обозначается 0=Ведущий, 1=Поддерживающий и т.д."
   ]
  },
  {
   "cell_type": "code",
   "execution_count": 64,
   "id": "s65iENC0_crX",
   "metadata": {
    "id": "s65iENC0_crX"
   },
   "outputs": [],
   "source": [
    "# Создайте таблицы фильмов со всеми связанными актерами и членами съемочной группы в отдельных кадрах данных\n",
    "\n",
    "all_casts = []\n",
    "all_crews = []\n",
    "\n",
    "for i in range(credits.shape[0]):\n",
    "    cast = eval(credits['cast'][i])\n",
    "    for x in cast:\n",
    "        x['id'] = credits['id'][i]\n",
    "    crew = eval(credits['crew'][i])\n",
    "    for x in crew:\n",
    "        x['id'] = credits['id'][i]\n",
    "    all_casts.extend(cast)\n",
    "    all_crews.extend(crew)\n",
    "\n",
    "cast = pd.DataFrame(all_casts)\n",
    "crew = pd.DataFrame(all_crews)"
   ]
  },
  {
   "cell_type": "code",
   "execution_count": 65,
   "id": "Cku4PA3I_nGx",
   "metadata": {
    "colab": {
     "base_uri": "https://localhost:8080/"
    },
    "id": "Cku4PA3I_nGx",
    "outputId": "38c75cd2-d3b2-4201-b64d-26ab0ebad291"
   },
   "outputs": [
    {
     "data": {
      "text/plain": [
       "2    226713\n",
       "0    223964\n",
       "1    111797\n",
       "Name: gender, dtype: int64"
      ]
     },
     "execution_count": 65,
     "metadata": {},
     "output_type": "execute_result"
    }
   ],
   "source": [
    "cast.gender.value_counts()"
   ]
  },
  {
   "cell_type": "code",
   "execution_count": 66,
   "id": "rZgsuYDF_rBv",
   "metadata": {
    "colab": {
     "base_uri": "https://localhost:8080/"
    },
    "id": "rZgsuYDF_rBv",
    "outputId": "de05f2d5-26f6-44cd-bfd3-a7864ebfc8c3"
   },
   "outputs": [
    {
     "data": {
      "text/plain": [
       "0    272319\n",
       "2    160872\n",
       "1     31123\n",
       "Name: gender, dtype: int64"
      ]
     },
     "execution_count": 66,
     "metadata": {},
     "output_type": "execute_result"
    }
   ],
   "source": [
    "crew.gender.value_counts()"
   ]
  },
  {
   "cell_type": "code",
   "execution_count": 67,
   "id": "onX5VD34_sN3",
   "metadata": {
    "colab": {
     "base_uri": "https://localhost:8080/",
     "height": 206
    },
    "id": "onX5VD34_sN3",
    "outputId": "d487ebaf-25e2-4b3d-9556-25d6b8eb664f"
   },
   "outputs": [
    {
     "data": {
      "text/html": [
       "<div>\n",
       "<style scoped>\n",
       "    .dataframe tbody tr th:only-of-type {\n",
       "        vertical-align: middle;\n",
       "    }\n",
       "\n",
       "    .dataframe tbody tr th {\n",
       "        vertical-align: top;\n",
       "    }\n",
       "\n",
       "    .dataframe thead th {\n",
       "        text-align: right;\n",
       "    }\n",
       "</style>\n",
       "<table border=\"1\" class=\"dataframe\">\n",
       "  <thead>\n",
       "    <tr style=\"text-align: right;\">\n",
       "      <th></th>\n",
       "      <th>cast_id</th>\n",
       "      <th>character</th>\n",
       "      <th>credit_id</th>\n",
       "      <th>gender</th>\n",
       "      <th>id</th>\n",
       "      <th>name</th>\n",
       "      <th>order</th>\n",
       "      <th>profile_path</th>\n",
       "    </tr>\n",
       "  </thead>\n",
       "  <tbody>\n",
       "    <tr>\n",
       "      <th>0</th>\n",
       "      <td>14</td>\n",
       "      <td>Woody (voice)</td>\n",
       "      <td>52fe4284c3a36847f8024f95</td>\n",
       "      <td>2</td>\n",
       "      <td>862</td>\n",
       "      <td>Tom Hanks</td>\n",
       "      <td>0</td>\n",
       "      <td>/pQFoyx7rp09CJTAb932F2g8Nlho.jpg</td>\n",
       "    </tr>\n",
       "    <tr>\n",
       "      <th>1</th>\n",
       "      <td>15</td>\n",
       "      <td>Buzz Lightyear (voice)</td>\n",
       "      <td>52fe4284c3a36847f8024f99</td>\n",
       "      <td>2</td>\n",
       "      <td>862</td>\n",
       "      <td>Tim Allen</td>\n",
       "      <td>1</td>\n",
       "      <td>/uX2xVf6pMmPepxnvFWyBtjexzgY.jpg</td>\n",
       "    </tr>\n",
       "    <tr>\n",
       "      <th>2</th>\n",
       "      <td>16</td>\n",
       "      <td>Mr. Potato Head (voice)</td>\n",
       "      <td>52fe4284c3a36847f8024f9d</td>\n",
       "      <td>2</td>\n",
       "      <td>862</td>\n",
       "      <td>Don Rickles</td>\n",
       "      <td>2</td>\n",
       "      <td>/h5BcaDMPRVLHLDzbQavec4xfSdt.jpg</td>\n",
       "    </tr>\n",
       "    <tr>\n",
       "      <th>3</th>\n",
       "      <td>17</td>\n",
       "      <td>Slinky Dog (voice)</td>\n",
       "      <td>52fe4284c3a36847f8024fa1</td>\n",
       "      <td>2</td>\n",
       "      <td>862</td>\n",
       "      <td>Jim Varney</td>\n",
       "      <td>3</td>\n",
       "      <td>/eIo2jVVXYgjDtaHoF19Ll9vtW7h.jpg</td>\n",
       "    </tr>\n",
       "    <tr>\n",
       "      <th>4</th>\n",
       "      <td>18</td>\n",
       "      <td>Rex (voice)</td>\n",
       "      <td>52fe4284c3a36847f8024fa5</td>\n",
       "      <td>2</td>\n",
       "      <td>862</td>\n",
       "      <td>Wallace Shawn</td>\n",
       "      <td>4</td>\n",
       "      <td>/oGE6JqPP2xH4tNORKNqxbNPYi7u.jpg</td>\n",
       "    </tr>\n",
       "  </tbody>\n",
       "</table>\n",
       "</div>"
      ],
      "text/plain": [
       "   cast_id                character                 credit_id  gender   id  \\\n",
       "0       14            Woody (voice)  52fe4284c3a36847f8024f95       2  862   \n",
       "1       15   Buzz Lightyear (voice)  52fe4284c3a36847f8024f99       2  862   \n",
       "2       16  Mr. Potato Head (voice)  52fe4284c3a36847f8024f9d       2  862   \n",
       "3       17       Slinky Dog (voice)  52fe4284c3a36847f8024fa1       2  862   \n",
       "4       18              Rex (voice)  52fe4284c3a36847f8024fa5       2  862   \n",
       "\n",
       "            name  order                      profile_path  \n",
       "0      Tom Hanks      0  /pQFoyx7rp09CJTAb932F2g8Nlho.jpg  \n",
       "1      Tim Allen      1  /uX2xVf6pMmPepxnvFWyBtjexzgY.jpg  \n",
       "2    Don Rickles      2  /h5BcaDMPRVLHLDzbQavec4xfSdt.jpg  \n",
       "3     Jim Varney      3  /eIo2jVVXYgjDtaHoF19Ll9vtW7h.jpg  \n",
       "4  Wallace Shawn      4  /oGE6JqPP2xH4tNORKNqxbNPYi7u.jpg  "
      ]
     },
     "execution_count": 67,
     "metadata": {},
     "output_type": "execute_result"
    }
   ],
   "source": [
    "cast.head()"
   ]
  },
  {
   "cell_type": "code",
   "execution_count": 68,
   "id": "a3AhtUWy_vxv",
   "metadata": {
    "colab": {
     "base_uri": "https://localhost:8080/",
     "height": 206
    },
    "id": "a3AhtUWy_vxv",
    "outputId": "ff56d5ba-cb35-4f11-fed8-a3e824d14f7c"
   },
   "outputs": [
    {
     "data": {
      "text/html": [
       "<div>\n",
       "<style scoped>\n",
       "    .dataframe tbody tr th:only-of-type {\n",
       "        vertical-align: middle;\n",
       "    }\n",
       "\n",
       "    .dataframe tbody tr th {\n",
       "        vertical-align: top;\n",
       "    }\n",
       "\n",
       "    .dataframe thead th {\n",
       "        text-align: right;\n",
       "    }\n",
       "</style>\n",
       "<table border=\"1\" class=\"dataframe\">\n",
       "  <thead>\n",
       "    <tr style=\"text-align: right;\">\n",
       "      <th></th>\n",
       "      <th>gender</th>\n",
       "      <th>id</th>\n",
       "      <th>name</th>\n",
       "      <th>order</th>\n",
       "    </tr>\n",
       "  </thead>\n",
       "  <tbody>\n",
       "    <tr>\n",
       "      <th>0</th>\n",
       "      <td>2</td>\n",
       "      <td>862</td>\n",
       "      <td>Tom Hanks</td>\n",
       "      <td>0</td>\n",
       "    </tr>\n",
       "    <tr>\n",
       "      <th>1</th>\n",
       "      <td>2</td>\n",
       "      <td>862</td>\n",
       "      <td>Tim Allen</td>\n",
       "      <td>1</td>\n",
       "    </tr>\n",
       "    <tr>\n",
       "      <th>2</th>\n",
       "      <td>2</td>\n",
       "      <td>862</td>\n",
       "      <td>Don Rickles</td>\n",
       "      <td>2</td>\n",
       "    </tr>\n",
       "    <tr>\n",
       "      <th>3</th>\n",
       "      <td>2</td>\n",
       "      <td>862</td>\n",
       "      <td>Jim Varney</td>\n",
       "      <td>3</td>\n",
       "    </tr>\n",
       "    <tr>\n",
       "      <th>4</th>\n",
       "      <td>2</td>\n",
       "      <td>862</td>\n",
       "      <td>Wallace Shawn</td>\n",
       "      <td>4</td>\n",
       "    </tr>\n",
       "  </tbody>\n",
       "</table>\n",
       "</div>"
      ],
      "text/plain": [
       "   gender   id           name  order\n",
       "0       2  862      Tom Hanks      0\n",
       "1       2  862      Tim Allen      1\n",
       "2       2  862    Don Rickles      2\n",
       "3       2  862     Jim Varney      3\n",
       "4       2  862  Wallace Shawn      4"
      ]
     },
     "execution_count": 68,
     "metadata": {},
     "output_type": "execute_result"
    }
   ],
   "source": [
    "cast.drop(columns=['cast_id', 'character', 'credit_id', 'profile_path'], inplace=True)\n",
    "cast.head()"
   ]
  },
  {
   "cell_type": "code",
   "execution_count": 69,
   "id": "5MqRtKmi_w5y",
   "metadata": {
    "colab": {
     "base_uri": "https://localhost:8080/"
    },
    "id": "5MqRtKmi_w5y",
    "outputId": "ac766f2c-3a55-462d-d67a-d1ed914878fa"
   },
   "outputs": [
    {
     "data": {
      "text/plain": [
       "Bess Flowers          241\n",
       "Christopher Lee       148\n",
       "John Wayne            125\n",
       "Samuel L. Jackson     123\n",
       "Michael Caine         110\n",
       "Gérard Depardieu      110\n",
       "John Carradine        109\n",
       "Donald Sutherland     109\n",
       "Jackie Chan           108\n",
       "Frank Welker          107\n",
       "Robert De Niro        104\n",
       "Danny Trejo           102\n",
       "Steve Buscemi         101\n",
       "Irving Bacon           98\n",
       "John Goodman           97\n",
       "Danny Glover           96\n",
       "Christopher Walken     96\n",
       "Dennis Hopper          94\n",
       "Susan Sarandon         93\n",
       "John Hurt              93\n",
       "Eric Roberts           92\n",
       "Harvey Keitel          91\n",
       "Bruce Willis           91\n",
       "Malcolm McDowell       90\n",
       "Willem Dafoe           89\n",
       "Anthony Quinn          88\n",
       "Donald Pleasence       87\n",
       "Keith David            87\n",
       "Stellan Skarsgård      86\n",
       "Whoopi Goldberg        85\n",
       "Morgan Freeman         85\n",
       "Robert Duvall          84\n",
       "Max von Sydow          84\n",
       "Charles Lane           84\n",
       "James Franco           83\n",
       "Name: name, dtype: int64"
      ]
     },
     "execution_count": 69,
     "metadata": {},
     "output_type": "execute_result"
    }
   ],
   "source": [
    "cast.name.value_counts().nlargest(35)"
   ]
  },
  {
   "cell_type": "code",
   "execution_count": 70,
   "id": "SQ_9yWt1_98q",
   "metadata": {
    "colab": {
     "base_uri": "https://localhost:8080/",
     "height": 206
    },
    "id": "SQ_9yWt1_98q",
    "outputId": "1921f0d6-f72d-4f88-8837-81814bb86702"
   },
   "outputs": [
    {
     "data": {
      "text/html": [
       "<div>\n",
       "<style scoped>\n",
       "    .dataframe tbody tr th:only-of-type {\n",
       "        vertical-align: middle;\n",
       "    }\n",
       "\n",
       "    .dataframe tbody tr th {\n",
       "        vertical-align: top;\n",
       "    }\n",
       "\n",
       "    .dataframe thead th {\n",
       "        text-align: right;\n",
       "    }\n",
       "</style>\n",
       "<table border=\"1\" class=\"dataframe\">\n",
       "  <thead>\n",
       "    <tr style=\"text-align: right;\">\n",
       "      <th></th>\n",
       "      <th>gender_lead</th>\n",
       "      <th>id</th>\n",
       "      <th>lead</th>\n",
       "      <th>freq_lead</th>\n",
       "    </tr>\n",
       "  </thead>\n",
       "  <tbody>\n",
       "    <tr>\n",
       "      <th>0</th>\n",
       "      <td>2</td>\n",
       "      <td>862</td>\n",
       "      <td>Tom Hanks</td>\n",
       "      <td>41</td>\n",
       "    </tr>\n",
       "    <tr>\n",
       "      <th>13</th>\n",
       "      <td>2</td>\n",
       "      <td>8844</td>\n",
       "      <td>Robin Williams</td>\n",
       "      <td>42</td>\n",
       "    </tr>\n",
       "    <tr>\n",
       "      <th>39</th>\n",
       "      <td>2</td>\n",
       "      <td>15602</td>\n",
       "      <td>Walter Matthau</td>\n",
       "      <td>24</td>\n",
       "    </tr>\n",
       "    <tr>\n",
       "      <th>46</th>\n",
       "      <td>1</td>\n",
       "      <td>31357</td>\n",
       "      <td>Whitney Houston</td>\n",
       "      <td>3</td>\n",
       "    </tr>\n",
       "    <tr>\n",
       "      <th>56</th>\n",
       "      <td>2</td>\n",
       "      <td>11862</td>\n",
       "      <td>Steve Martin</td>\n",
       "      <td>30</td>\n",
       "    </tr>\n",
       "  </tbody>\n",
       "</table>\n",
       "</div>"
      ],
      "text/plain": [
       "    gender_lead     id             lead  freq_lead\n",
       "0             2    862        Tom Hanks         41\n",
       "13            2   8844   Robin Williams         42\n",
       "39            2  15602   Walter Matthau         24\n",
       "46            1  31357  Whitney Houston          3\n",
       "56            2  11862     Steve Martin         30"
      ]
     },
     "execution_count": 70,
     "metadata": {},
     "output_type": "execute_result"
    }
   ],
   "source": [
    "# Слишком много вариантов приведения актеров. Удержание только людей с должностными функциями ведущего (0) или поддерживающего (1)\n",
    "lead = cast[cast['order'] == 0]\n",
    "lead = lead.rename(columns={'name':'lead','gender':'gender_lead'})\n",
    "lead.drop(columns=['order'], inplace=True)\n",
    "lead['freq_lead'] = lead['lead'].map(lead['lead'].value_counts())\n",
    "lead.head()"
   ]
  },
  {
   "cell_type": "code",
   "execution_count": 71,
   "id": "f7938HEMAOZG",
   "metadata": {
    "colab": {
     "base_uri": "https://localhost:8080/"
    },
    "id": "f7938HEMAOZG",
    "outputId": "fe8d3ecd-17b2-4fc1-ea5c-6cab5da86431"
   },
   "outputs": [
    {
     "name": "stdout",
     "output_type": "stream",
     "text": [
      "(36747, 4)\n",
      "35\n"
     ]
    }
   ],
   "source": [
    "print(lead.shape)\n",
    "print(lead.duplicated().sum())"
   ]
  },
  {
   "cell_type": "code",
   "execution_count": 72,
   "id": "KIEdLN1aAO7D",
   "metadata": {
    "colab": {
     "base_uri": "https://localhost:8080/"
    },
    "id": "KIEdLN1aAO7D",
    "outputId": "2d2e2523-5e3f-4778-f42d-a90d862951cd"
   },
   "outputs": [
    {
     "data": {
      "text/plain": [
       "(36712, 4)"
      ]
     },
     "execution_count": 72,
     "metadata": {},
     "output_type": "execute_result"
    }
   ],
   "source": [
    "lead.drop_duplicates(inplace=True)\n",
    "lead.shape"
   ]
  },
  {
   "cell_type": "code",
   "execution_count": 73,
   "id": "CxQZNIJRAR9U",
   "metadata": {
    "colab": {
     "base_uri": "https://localhost:8080/"
    },
    "id": "CxQZNIJRAR9U",
    "outputId": "77450056-c900-4066-c082-238eee3843ac"
   },
   "outputs": [
    {
     "data": {
      "text/plain": [
       "John Wayne          92\n",
       "Jackie Chan         71\n",
       "Nicolas Cage        55\n",
       "Robert De Niro      53\n",
       "Gérard Depardieu    50\n",
       "                    ..\n",
       "Madeleine Renaud     1\n",
       "Lady Tabares         1\n",
       "Gavin MacLeod        1\n",
       "Jesse McCartney      1\n",
       "Erika Eleniak        1\n",
       "Name: lead, Length: 15049, dtype: int64"
      ]
     },
     "execution_count": 73,
     "metadata": {},
     "output_type": "execute_result"
    }
   ],
   "source": [
    "lead.lead.value_counts()"
   ]
  },
  {
   "cell_type": "code",
   "execution_count": 74,
   "id": "qyXLFDvUAVUw",
   "metadata": {
    "colab": {
     "base_uri": "https://localhost:8080/"
    },
    "id": "qyXLFDvUAVUw",
    "outputId": "0067ef46-7529-43aa-dd54-b97e84f68607"
   },
   "outputs": [
    {
     "data": {
      "text/plain": [
       "2    21300\n",
       "1     8381\n",
       "0     7031\n",
       "Name: gender_lead, dtype: int64"
      ]
     },
     "execution_count": 74,
     "metadata": {},
     "output_type": "execute_result"
    }
   ],
   "source": [
    "lead.gender_lead.value_counts()"
   ]
  },
  {
   "cell_type": "code",
   "execution_count": 75,
   "id": "qEnVaj6qejnp",
   "metadata": {
    "colab": {
     "base_uri": "https://localhost:8080/",
     "height": 421
    },
    "id": "qEnVaj6qejnp",
    "outputId": "cd7378fe-b6a9-42a2-b94f-77ac18ffdc76"
   },
   "outputs": [
    {
     "data": {
      "text/html": [
       "<div>\n",
       "<style scoped>\n",
       "    .dataframe tbody tr th:only-of-type {\n",
       "        vertical-align: middle;\n",
       "    }\n",
       "\n",
       "    .dataframe tbody tr th {\n",
       "        vertical-align: top;\n",
       "    }\n",
       "\n",
       "    .dataframe thead th {\n",
       "        text-align: right;\n",
       "    }\n",
       "</style>\n",
       "<table border=\"1\" class=\"dataframe\">\n",
       "  <thead>\n",
       "    <tr style=\"text-align: right;\">\n",
       "      <th></th>\n",
       "      <th>series</th>\n",
       "      <th>budget</th>\n",
       "      <th>id</th>\n",
       "      <th>imdb_id</th>\n",
       "      <th>popularity</th>\n",
       "      <th>revenue</th>\n",
       "      <th>runtime</th>\n",
       "      <th>status</th>\n",
       "      <th>title</th>\n",
       "      <th>release_date</th>\n",
       "      <th>...</th>\n",
       "      <th>genre_Science Fiction</th>\n",
       "      <th>genre_Action</th>\n",
       "      <th>genre_Crime</th>\n",
       "      <th>studio_y</th>\n",
       "      <th>freq_studio</th>\n",
       "      <th>spoken_lang_English</th>\n",
       "      <th>spoken_lang_Other</th>\n",
       "      <th>gender_lead</th>\n",
       "      <th>lead</th>\n",
       "      <th>freq_lead</th>\n",
       "    </tr>\n",
       "  </thead>\n",
       "  <tbody>\n",
       "    <tr>\n",
       "      <th>0</th>\n",
       "      <td>0</td>\n",
       "      <td>1000000.0</td>\n",
       "      <td>32872</td>\n",
       "      <td>118523</td>\n",
       "      <td>2.700061</td>\n",
       "      <td>NaN</td>\n",
       "      <td>113.0</td>\n",
       "      <td>Released</td>\n",
       "      <td>Til There Was You</td>\n",
       "      <td>1997-05-30</td>\n",
       "      <td>...</td>\n",
       "      <td>0.0</td>\n",
       "      <td>0.0</td>\n",
       "      <td>0.0</td>\n",
       "      <td>Paramount Pictures</td>\n",
       "      <td>227.0</td>\n",
       "      <td>1.0</td>\n",
       "      <td>1.0</td>\n",
       "      <td>1.0</td>\n",
       "      <td>Sarah Jessica Parker</td>\n",
       "      <td>9.0</td>\n",
       "    </tr>\n",
       "    <tr>\n",
       "      <th>1</th>\n",
       "      <td>0</td>\n",
       "      <td>53000000.0</td>\n",
       "      <td>9054</td>\n",
       "      <td>119214</td>\n",
       "      <td>2.289647</td>\n",
       "      <td>NaN</td>\n",
       "      <td>94.0</td>\n",
       "      <td>Released</td>\n",
       "      <td>Gone Fishin'</td>\n",
       "      <td>1997-05-30</td>\n",
       "      <td>...</td>\n",
       "      <td>0.0</td>\n",
       "      <td>0.0</td>\n",
       "      <td>0.0</td>\n",
       "      <td>Hollywood Pictures</td>\n",
       "      <td>20.0</td>\n",
       "      <td>1.0</td>\n",
       "      <td>0.0</td>\n",
       "      <td>2.0</td>\n",
       "      <td>Joe Pesci</td>\n",
       "      <td>7.0</td>\n",
       "    </tr>\n",
       "    <tr>\n",
       "      <th>2</th>\n",
       "      <td>0</td>\n",
       "      <td>60000000.0</td>\n",
       "      <td>11015</td>\n",
       "      <td>120004</td>\n",
       "      <td>7.699967</td>\n",
       "      <td>33956608.0</td>\n",
       "      <td>110.0</td>\n",
       "      <td>Released</td>\n",
       "      <td>The Relic</td>\n",
       "      <td>1997-01-10</td>\n",
       "      <td>...</td>\n",
       "      <td>0.0</td>\n",
       "      <td>0.0</td>\n",
       "      <td>0.0</td>\n",
       "      <td>Universal Pictures</td>\n",
       "      <td>301.0</td>\n",
       "      <td>1.0</td>\n",
       "      <td>0.0</td>\n",
       "      <td>1.0</td>\n",
       "      <td>Penelope Ann Miller</td>\n",
       "      <td>3.0</td>\n",
       "    </tr>\n",
       "    <tr>\n",
       "      <th>3</th>\n",
       "      <td>0</td>\n",
       "      <td>NaN</td>\n",
       "      <td>56077</td>\n",
       "      <td>120271</td>\n",
       "      <td>0.978989</td>\n",
       "      <td>NaN</td>\n",
       "      <td>96.0</td>\n",
       "      <td>Released</td>\n",
       "      <td>Talk of Angels</td>\n",
       "      <td>1998-10-30</td>\n",
       "      <td>...</td>\n",
       "      <td>0.0</td>\n",
       "      <td>0.0</td>\n",
       "      <td>0.0</td>\n",
       "      <td>Kanzaman</td>\n",
       "      <td>8.0</td>\n",
       "      <td>1.0</td>\n",
       "      <td>0.0</td>\n",
       "      <td>1.0</td>\n",
       "      <td>Polly Walker</td>\n",
       "      <td>1.0</td>\n",
       "    </tr>\n",
       "    <tr>\n",
       "      <th>4</th>\n",
       "      <td>0</td>\n",
       "      <td>NaN</td>\n",
       "      <td>52855</td>\n",
       "      <td>118927</td>\n",
       "      <td>1.463219</td>\n",
       "      <td>3028094.0</td>\n",
       "      <td>95.0</td>\n",
       "      <td>Released</td>\n",
       "      <td>Dangerous Ground</td>\n",
       "      <td>1997-02-12</td>\n",
       "      <td>...</td>\n",
       "      <td>0.0</td>\n",
       "      <td>0.0</td>\n",
       "      <td>0.0</td>\n",
       "      <td>New Line Cinema</td>\n",
       "      <td>176.0</td>\n",
       "      <td>1.0</td>\n",
       "      <td>1.0</td>\n",
       "      <td>2.0</td>\n",
       "      <td>Ice Cube</td>\n",
       "      <td>16.0</td>\n",
       "    </tr>\n",
       "  </tbody>\n",
       "</table>\n",
       "<p>5 rows × 43 columns</p>\n",
       "</div>"
      ],
      "text/plain": [
       "   series      budget     id  imdb_id popularity     revenue  runtime  \\\n",
       "0       0   1000000.0  32872   118523   2.700061         NaN    113.0   \n",
       "1       0  53000000.0   9054   119214   2.289647         NaN     94.0   \n",
       "2       0  60000000.0  11015   120004   7.699967  33956608.0    110.0   \n",
       "3       0         NaN  56077   120271   0.978989         NaN     96.0   \n",
       "4       0         NaN  52855   118927   1.463219   3028094.0     95.0   \n",
       "\n",
       "     status              title release_date  ...  genre_Science Fiction  \\\n",
       "0  Released  Til There Was You   1997-05-30  ...                    0.0   \n",
       "1  Released       Gone Fishin'   1997-05-30  ...                    0.0   \n",
       "2  Released          The Relic   1997-01-10  ...                    0.0   \n",
       "3  Released     Talk of Angels   1998-10-30  ...                    0.0   \n",
       "4  Released   Dangerous Ground   1997-02-12  ...                    0.0   \n",
       "\n",
       "   genre_Action  genre_Crime            studio_y  freq_studio  \\\n",
       "0           0.0          0.0  Paramount Pictures        227.0   \n",
       "1           0.0          0.0  Hollywood Pictures         20.0   \n",
       "2           0.0          0.0  Universal Pictures        301.0   \n",
       "3           0.0          0.0            Kanzaman          8.0   \n",
       "4           0.0          0.0     New Line Cinema        176.0   \n",
       "\n",
       "   spoken_lang_English  spoken_lang_Other  gender_lead                  lead  \\\n",
       "0                  1.0                1.0          1.0  Sarah Jessica Parker   \n",
       "1                  1.0                0.0          2.0             Joe Pesci   \n",
       "2                  1.0                0.0          1.0   Penelope Ann Miller   \n",
       "3                  1.0                0.0          1.0          Polly Walker   \n",
       "4                  1.0                1.0          2.0              Ice Cube   \n",
       "\n",
       "   freq_lead  \n",
       "0        9.0  \n",
       "1        7.0  \n",
       "2        3.0  \n",
       "3        1.0  \n",
       "4       16.0  \n",
       "\n",
       "[5 rows x 43 columns]"
      ]
     },
     "execution_count": 75,
     "metadata": {},
     "output_type": "execute_result"
    }
   ],
   "source": [
    "movies7 = pd.merge(movies6, lead, how='left', on='id')\n",
    "movies7.head()"
   ]
  },
  {
   "cell_type": "code",
   "execution_count": 76,
   "id": "xIi24uKZAZ9I",
   "metadata": {
    "colab": {
     "base_uri": "https://localhost:8080/",
     "height": 206
    },
    "id": "xIi24uKZAZ9I",
    "outputId": "c815f170-3bbc-42da-c6b4-7c8e47d28e4b"
   },
   "outputs": [
    {
     "data": {
      "text/html": [
       "<div>\n",
       "<style scoped>\n",
       "    .dataframe tbody tr th:only-of-type {\n",
       "        vertical-align: middle;\n",
       "    }\n",
       "\n",
       "    .dataframe tbody tr th {\n",
       "        vertical-align: top;\n",
       "    }\n",
       "\n",
       "    .dataframe thead th {\n",
       "        text-align: right;\n",
       "    }\n",
       "</style>\n",
       "<table border=\"1\" class=\"dataframe\">\n",
       "  <thead>\n",
       "    <tr style=\"text-align: right;\">\n",
       "      <th></th>\n",
       "      <th>gender_support</th>\n",
       "      <th>id</th>\n",
       "      <th>support</th>\n",
       "      <th>freq_support</th>\n",
       "    </tr>\n",
       "  </thead>\n",
       "  <tbody>\n",
       "    <tr>\n",
       "      <th>1</th>\n",
       "      <td>2</td>\n",
       "      <td>862</td>\n",
       "      <td>Tim Allen</td>\n",
       "      <td>9</td>\n",
       "    </tr>\n",
       "    <tr>\n",
       "      <th>14</th>\n",
       "      <td>2</td>\n",
       "      <td>8844</td>\n",
       "      <td>Jonathan Hyde</td>\n",
       "      <td>1</td>\n",
       "    </tr>\n",
       "    <tr>\n",
       "      <th>40</th>\n",
       "      <td>2</td>\n",
       "      <td>15602</td>\n",
       "      <td>Jack Lemmon</td>\n",
       "      <td>10</td>\n",
       "    </tr>\n",
       "    <tr>\n",
       "      <th>47</th>\n",
       "      <td>1</td>\n",
       "      <td>31357</td>\n",
       "      <td>Angela Bassett</td>\n",
       "      <td>10</td>\n",
       "    </tr>\n",
       "    <tr>\n",
       "      <th>57</th>\n",
       "      <td>1</td>\n",
       "      <td>11862</td>\n",
       "      <td>Diane Keaton</td>\n",
       "      <td>25</td>\n",
       "    </tr>\n",
       "  </tbody>\n",
       "</table>\n",
       "</div>"
      ],
      "text/plain": [
       "    gender_support     id         support  freq_support\n",
       "1                2    862       Tim Allen             9\n",
       "14               2   8844   Jonathan Hyde             1\n",
       "40               2  15602     Jack Lemmon            10\n",
       "47               1  31357  Angela Bassett            10\n",
       "57               1  11862    Diane Keaton            25"
      ]
     },
     "execution_count": 76,
     "metadata": {},
     "output_type": "execute_result"
    }
   ],
   "source": [
    "support = cast[cast['order'] == 1]\n",
    "support = support.rename(columns={'name':'support','gender':'gender_support'})\n",
    "support.drop(columns=['order'], inplace=True)\n",
    "support['freq_support'] = support['support'].map(support['support'].value_counts())\n",
    "support.head()"
   ]
  },
  {
   "cell_type": "code",
   "execution_count": 77,
   "id": "nCW2kB8cAgsF",
   "metadata": {
    "colab": {
     "base_uri": "https://localhost:8080/"
    },
    "id": "nCW2kB8cAgsF",
    "outputId": "2e0146c3-ae4d-4bf5-b40a-3f7133967d32"
   },
   "outputs": [
    {
     "name": "stdout",
     "output_type": "stream",
     "text": [
      "(41589, 4)\n",
      "38\n"
     ]
    }
   ],
   "source": [
    "print(support.shape)\n",
    "print(support.duplicated().sum())"
   ]
  },
  {
   "cell_type": "code",
   "execution_count": 78,
   "id": "PNjLbsi9Ao6q",
   "metadata": {
    "colab": {
     "base_uri": "https://localhost:8080/"
    },
    "id": "PNjLbsi9Ao6q",
    "outputId": "88d76fd9-98ea-4132-b703-1feb78049a46"
   },
   "outputs": [
    {
     "data": {
      "text/plain": [
       "(41551, 4)"
      ]
     },
     "execution_count": 78,
     "metadata": {},
     "output_type": "execute_result"
    }
   ],
   "source": [
    "support.drop_duplicates(inplace=True)\n",
    "support.shape"
   ]
  },
  {
   "cell_type": "code",
   "execution_count": 79,
   "id": "Qq599F8vAqhl",
   "metadata": {
    "colab": {
     "base_uri": "https://localhost:8080/"
    },
    "id": "Qq599F8vAqhl",
    "outputId": "6fd5a93c-ffe5-4788-f85f-491fdcb61543"
   },
   "outputs": [
    {
     "data": {
      "text/plain": [
       "Barbara Hale         34\n",
       "Oliver Hardy         29\n",
       "Lou Costello         26\n",
       "Eric Roberts         25\n",
       "Diane Keaton         25\n",
       "                     ..\n",
       "Caitlin Martin        1\n",
       "Idina Menzel          1\n",
       "David Grisman         1\n",
       "Sally Stockwell       1\n",
       "Nathalie Lissenko     1\n",
       "Name: support, Length: 22008, dtype: int64"
      ]
     },
     "execution_count": 79,
     "metadata": {},
     "output_type": "execute_result"
    }
   ],
   "source": [
    "support.support.value_counts()"
   ]
  },
  {
   "cell_type": "code",
   "execution_count": 80,
   "id": "IVmCjjUvAsDL",
   "metadata": {
    "colab": {
     "base_uri": "https://localhost:8080/"
    },
    "id": "IVmCjjUvAsDL",
    "outputId": "4e7495ec-5864-46cd-b0a8-0dadf0ffb080"
   },
   "outputs": [
    {
     "data": {
      "text/plain": [
       "2    17929\n",
       "1    13050\n",
       "0    10572\n",
       "Name: gender_support, dtype: int64"
      ]
     },
     "execution_count": 80,
     "metadata": {},
     "output_type": "execute_result"
    }
   ],
   "source": [
    "support.gender_support.value_counts()"
   ]
  },
  {
   "cell_type": "code",
   "execution_count": 81,
   "id": "wk7xMOcHAtwZ",
   "metadata": {
    "colab": {
     "base_uri": "https://localhost:8080/",
     "height": 421
    },
    "id": "wk7xMOcHAtwZ",
    "outputId": "434dd91a-44f5-47d4-f992-a8d776d5c925"
   },
   "outputs": [
    {
     "data": {
      "text/html": [
       "<div>\n",
       "<style scoped>\n",
       "    .dataframe tbody tr th:only-of-type {\n",
       "        vertical-align: middle;\n",
       "    }\n",
       "\n",
       "    .dataframe tbody tr th {\n",
       "        vertical-align: top;\n",
       "    }\n",
       "\n",
       "    .dataframe thead th {\n",
       "        text-align: right;\n",
       "    }\n",
       "</style>\n",
       "<table border=\"1\" class=\"dataframe\">\n",
       "  <thead>\n",
       "    <tr style=\"text-align: right;\">\n",
       "      <th></th>\n",
       "      <th>series</th>\n",
       "      <th>budget</th>\n",
       "      <th>id</th>\n",
       "      <th>imdb_id</th>\n",
       "      <th>popularity</th>\n",
       "      <th>revenue</th>\n",
       "      <th>runtime</th>\n",
       "      <th>status</th>\n",
       "      <th>title</th>\n",
       "      <th>release_date</th>\n",
       "      <th>...</th>\n",
       "      <th>studio_y</th>\n",
       "      <th>freq_studio</th>\n",
       "      <th>spoken_lang_English</th>\n",
       "      <th>spoken_lang_Other</th>\n",
       "      <th>gender_lead</th>\n",
       "      <th>lead</th>\n",
       "      <th>freq_lead</th>\n",
       "      <th>gender_support</th>\n",
       "      <th>support</th>\n",
       "      <th>freq_support</th>\n",
       "    </tr>\n",
       "  </thead>\n",
       "  <tbody>\n",
       "    <tr>\n",
       "      <th>0</th>\n",
       "      <td>0</td>\n",
       "      <td>1000000.0</td>\n",
       "      <td>32872</td>\n",
       "      <td>118523</td>\n",
       "      <td>2.700061</td>\n",
       "      <td>NaN</td>\n",
       "      <td>113.0</td>\n",
       "      <td>Released</td>\n",
       "      <td>Til There Was You</td>\n",
       "      <td>1997-05-30</td>\n",
       "      <td>...</td>\n",
       "      <td>Paramount Pictures</td>\n",
       "      <td>227.0</td>\n",
       "      <td>1.0</td>\n",
       "      <td>1.0</td>\n",
       "      <td>1.0</td>\n",
       "      <td>Sarah Jessica Parker</td>\n",
       "      <td>9.0</td>\n",
       "      <td>1.0</td>\n",
       "      <td>Jeanne Tripplehorn</td>\n",
       "      <td>2.0</td>\n",
       "    </tr>\n",
       "    <tr>\n",
       "      <th>1</th>\n",
       "      <td>0</td>\n",
       "      <td>53000000.0</td>\n",
       "      <td>9054</td>\n",
       "      <td>119214</td>\n",
       "      <td>2.289647</td>\n",
       "      <td>NaN</td>\n",
       "      <td>94.0</td>\n",
       "      <td>Released</td>\n",
       "      <td>Gone Fishin'</td>\n",
       "      <td>1997-05-30</td>\n",
       "      <td>...</td>\n",
       "      <td>Hollywood Pictures</td>\n",
       "      <td>20.0</td>\n",
       "      <td>1.0</td>\n",
       "      <td>0.0</td>\n",
       "      <td>2.0</td>\n",
       "      <td>Joe Pesci</td>\n",
       "      <td>7.0</td>\n",
       "      <td>2.0</td>\n",
       "      <td>Danny Glover</td>\n",
       "      <td>20.0</td>\n",
       "    </tr>\n",
       "    <tr>\n",
       "      <th>2</th>\n",
       "      <td>0</td>\n",
       "      <td>60000000.0</td>\n",
       "      <td>11015</td>\n",
       "      <td>120004</td>\n",
       "      <td>7.699967</td>\n",
       "      <td>33956608.0</td>\n",
       "      <td>110.0</td>\n",
       "      <td>Released</td>\n",
       "      <td>The Relic</td>\n",
       "      <td>1997-01-10</td>\n",
       "      <td>...</td>\n",
       "      <td>Universal Pictures</td>\n",
       "      <td>301.0</td>\n",
       "      <td>1.0</td>\n",
       "      <td>0.0</td>\n",
       "      <td>1.0</td>\n",
       "      <td>Penelope Ann Miller</td>\n",
       "      <td>3.0</td>\n",
       "      <td>2.0</td>\n",
       "      <td>Tom Sizemore</td>\n",
       "      <td>8.0</td>\n",
       "    </tr>\n",
       "    <tr>\n",
       "      <th>3</th>\n",
       "      <td>0</td>\n",
       "      <td>NaN</td>\n",
       "      <td>56077</td>\n",
       "      <td>120271</td>\n",
       "      <td>0.978989</td>\n",
       "      <td>NaN</td>\n",
       "      <td>96.0</td>\n",
       "      <td>Released</td>\n",
       "      <td>Talk of Angels</td>\n",
       "      <td>1998-10-30</td>\n",
       "      <td>...</td>\n",
       "      <td>Kanzaman</td>\n",
       "      <td>8.0</td>\n",
       "      <td>1.0</td>\n",
       "      <td>0.0</td>\n",
       "      <td>1.0</td>\n",
       "      <td>Polly Walker</td>\n",
       "      <td>1.0</td>\n",
       "      <td>1.0</td>\n",
       "      <td>Frances McDormand</td>\n",
       "      <td>10.0</td>\n",
       "    </tr>\n",
       "    <tr>\n",
       "      <th>4</th>\n",
       "      <td>0</td>\n",
       "      <td>NaN</td>\n",
       "      <td>52855</td>\n",
       "      <td>118927</td>\n",
       "      <td>1.463219</td>\n",
       "      <td>3028094.0</td>\n",
       "      <td>95.0</td>\n",
       "      <td>Released</td>\n",
       "      <td>Dangerous Ground</td>\n",
       "      <td>1997-02-12</td>\n",
       "      <td>...</td>\n",
       "      <td>New Line Cinema</td>\n",
       "      <td>176.0</td>\n",
       "      <td>1.0</td>\n",
       "      <td>1.0</td>\n",
       "      <td>2.0</td>\n",
       "      <td>Ice Cube</td>\n",
       "      <td>16.0</td>\n",
       "      <td>1.0</td>\n",
       "      <td>Elizabeth Hurley</td>\n",
       "      <td>8.0</td>\n",
       "    </tr>\n",
       "  </tbody>\n",
       "</table>\n",
       "<p>5 rows × 46 columns</p>\n",
       "</div>"
      ],
      "text/plain": [
       "   series      budget     id  imdb_id popularity     revenue  runtime  \\\n",
       "0       0   1000000.0  32872   118523   2.700061         NaN    113.0   \n",
       "1       0  53000000.0   9054   119214   2.289647         NaN     94.0   \n",
       "2       0  60000000.0  11015   120004   7.699967  33956608.0    110.0   \n",
       "3       0         NaN  56077   120271   0.978989         NaN     96.0   \n",
       "4       0         NaN  52855   118927   1.463219   3028094.0     95.0   \n",
       "\n",
       "     status              title release_date  ...            studio_y  \\\n",
       "0  Released  Til There Was You   1997-05-30  ...  Paramount Pictures   \n",
       "1  Released       Gone Fishin'   1997-05-30  ...  Hollywood Pictures   \n",
       "2  Released          The Relic   1997-01-10  ...  Universal Pictures   \n",
       "3  Released     Talk of Angels   1998-10-30  ...            Kanzaman   \n",
       "4  Released   Dangerous Ground   1997-02-12  ...     New Line Cinema   \n",
       "\n",
       "   freq_studio  spoken_lang_English  spoken_lang_Other  gender_lead  \\\n",
       "0        227.0                  1.0                1.0          1.0   \n",
       "1         20.0                  1.0                0.0          2.0   \n",
       "2        301.0                  1.0                0.0          1.0   \n",
       "3          8.0                  1.0                0.0          1.0   \n",
       "4        176.0                  1.0                1.0          2.0   \n",
       "\n",
       "                   lead  freq_lead  gender_support             support  \\\n",
       "0  Sarah Jessica Parker        9.0             1.0  Jeanne Tripplehorn   \n",
       "1             Joe Pesci        7.0             2.0        Danny Glover   \n",
       "2   Penelope Ann Miller        3.0             2.0        Tom Sizemore   \n",
       "3          Polly Walker        1.0             1.0   Frances McDormand   \n",
       "4              Ice Cube       16.0             1.0    Elizabeth Hurley   \n",
       "\n",
       "   freq_support  \n",
       "0           2.0  \n",
       "1          20.0  \n",
       "2           8.0  \n",
       "3          10.0  \n",
       "4           8.0  \n",
       "\n",
       "[5 rows x 46 columns]"
      ]
     },
     "execution_count": 81,
     "metadata": {},
     "output_type": "execute_result"
    }
   ],
   "source": [
    "movies8 = pd.merge(movies7, support, how='left', on='id')\n",
    "movies8.head()"
   ]
  },
  {
   "cell_type": "code",
   "execution_count": 82,
   "id": "KJpLU1psAwpu",
   "metadata": {
    "id": "KJpLU1psAwpu"
   },
   "outputs": [
    {
     "data": {
      "text/plain": [
       "(8887, 46)"
      ]
     },
     "execution_count": 82,
     "metadata": {},
     "output_type": "execute_result"
    }
   ],
   "source": [
    "movies8.drop_duplicates(subset=[\"id\"],inplace=True)\n",
    "movies8.shape"
   ]
  },
  {
   "cell_type": "code",
   "execution_count": 83,
   "id": "jwl_5ANVB97N",
   "metadata": {
    "colab": {
     "base_uri": "https://localhost:8080/",
     "height": 206
    },
    "id": "jwl_5ANVB97N",
    "outputId": "4e036e65-da61-41a2-8107-a85c84d98ab5"
   },
   "outputs": [
    {
     "data": {
      "text/html": [
       "<div>\n",
       "<style scoped>\n",
       "    .dataframe tbody tr th:only-of-type {\n",
       "        vertical-align: middle;\n",
       "    }\n",
       "\n",
       "    .dataframe tbody tr th {\n",
       "        vertical-align: top;\n",
       "    }\n",
       "\n",
       "    .dataframe thead th {\n",
       "        text-align: right;\n",
       "    }\n",
       "</style>\n",
       "<table border=\"1\" class=\"dataframe\">\n",
       "  <thead>\n",
       "    <tr style=\"text-align: right;\">\n",
       "      <th></th>\n",
       "      <th>gender</th>\n",
       "      <th>id</th>\n",
       "      <th>job</th>\n",
       "      <th>name</th>\n",
       "    </tr>\n",
       "  </thead>\n",
       "  <tbody>\n",
       "    <tr>\n",
       "      <th>0</th>\n",
       "      <td>2</td>\n",
       "      <td>862</td>\n",
       "      <td>Director</td>\n",
       "      <td>John Lasseter</td>\n",
       "    </tr>\n",
       "    <tr>\n",
       "      <th>1</th>\n",
       "      <td>2</td>\n",
       "      <td>862</td>\n",
       "      <td>Screenplay</td>\n",
       "      <td>Joss Whedon</td>\n",
       "    </tr>\n",
       "    <tr>\n",
       "      <th>2</th>\n",
       "      <td>2</td>\n",
       "      <td>862</td>\n",
       "      <td>Screenplay</td>\n",
       "      <td>Andrew Stanton</td>\n",
       "    </tr>\n",
       "    <tr>\n",
       "      <th>3</th>\n",
       "      <td>2</td>\n",
       "      <td>862</td>\n",
       "      <td>Screenplay</td>\n",
       "      <td>Joel Cohen</td>\n",
       "    </tr>\n",
       "    <tr>\n",
       "      <th>4</th>\n",
       "      <td>0</td>\n",
       "      <td>862</td>\n",
       "      <td>Screenplay</td>\n",
       "      <td>Alec Sokolow</td>\n",
       "    </tr>\n",
       "  </tbody>\n",
       "</table>\n",
       "</div>"
      ],
      "text/plain": [
       "   gender   id         job            name\n",
       "0       2  862    Director   John Lasseter\n",
       "1       2  862  Screenplay     Joss Whedon\n",
       "2       2  862  Screenplay  Andrew Stanton\n",
       "3       2  862  Screenplay      Joel Cohen\n",
       "4       0  862  Screenplay    Alec Sokolow"
      ]
     },
     "execution_count": 83,
     "metadata": {},
     "output_type": "execute_result"
    }
   ],
   "source": [
    "crew.drop(columns=['credit_id', 'department', 'profile_path'], inplace=True)\n",
    "crew.head()"
   ]
  },
  {
   "cell_type": "code",
   "execution_count": 84,
   "id": "96VEnSxoB_5m",
   "metadata": {
    "colab": {
     "base_uri": "https://localhost:8080/"
    },
    "id": "96VEnSxoB_5m",
    "outputId": "ff758636-4eff-456d-b0a1-7b8c96b27de0",
    "scrolled": true
   },
   "outputs": [
    {
     "data": {
      "text/plain": [
       "array(['Director', 'Screenplay', 'Producer', 'Executive Producer',\n",
       "       'Editor', 'Art Direction', 'Foley Editor', 'Animation',\n",
       "       'ADR Editor', 'Orchestrator', 'Color Timer', 'CG Painter',\n",
       "       'Original Story', 'Post Production Supervisor', 'Sculptor',\n",
       "       'Animation Director', 'Music', 'Layout', 'Music Editor',\n",
       "       'Negative Cutter', 'Title Designer',\n",
       "       'Supervising Technical Director', 'Songs', 'Supervising Animator',\n",
       "       'Sound Designer', 'Production Supervisor',\n",
       "       'Executive Music Producer', 'Visual Effects Supervisor',\n",
       "       'Visual Effects', 'Lighting Supervisor', 'Character Designer',\n",
       "       'Set Dresser', 'Editorial Manager', 'Assistant Editor',\n",
       "       'Editorial Coordinator', 'Production Coordinator',\n",
       "       'Unit Publicist', 'Sound Re-Recording Mixer',\n",
       "       'Supervising Sound Editor', 'Sound Effects Editor',\n",
       "       'Sound Design Assistant', 'Assistant Sound Editor',\n",
       "       'Casting Consultant', 'ADR Voice Casting',\n",
       "       'Original Music Composer', 'Casting', 'Animation Supervisor',\n",
       "       'Production Design', 'Director of Photography', 'Novel',\n",
       "       'Characters', 'Writer', 'Sound Recordist', 'Costume Design',\n",
       "       'Special Effects Coordinator', 'Special Effects',\n",
       "       'Stunt Coordinator', 'Stunts', 'Set Decoration',\n",
       "       'Costume Supervisor', 'Script Supervisor',\n",
       "       'Art Department Coordinator', 'Assistant Art Director',\n",
       "       'Construction Coordinator', 'Assistant Costume Designer',\n",
       "       'Hairstylist', 'Key Hair Stylist', 'Makeup Artist',\n",
       "       'Dialogue Editor', 'Camera Operator', 'Steadicam Operator',\n",
       "       'Still Photographer', 'First Assistant Camera', 'Rigging Gaffer',\n",
       "       'Music Supervisor', 'First Assistant Editor',\n",
       "       'Technical Supervisor', 'Associate Producer',\n",
       "       'Unit Production Manager', 'Assistant Director',\n",
       "       'Casting Associate', 'Set Costumer', 'Digital Effects Supervisor',\n",
       "       'Additional Soundtrack', 'Co-Costume Designer', 'Sound mixer',\n",
       "       'Supervising Sound Effects Editor', 'Boom Operator',\n",
       "       'Production Manager', 'Casting Assistant', 'Location Manager',\n",
       "       'Story', 'Supervising Art Director', 'Armorer', 'Gaffer',\n",
       "       'Special Effects Supervisor', 'Visual Effects Coordinator',\n",
       "       'Visual Effects Editor', 'Background Designer',\n",
       "       'Animation Manager', 'Co-Producer', 'Foley',\n",
       "       'Construction Foreman', 'Lead Painter', 'Painter',\n",
       "       'Standby Painter', 'Key Grip', 'Grip', 'Carpenter',\n",
       "       'Choreographer', 'Craft Service', 'Driver',\n",
       "       'Post Production Assistant', 'Property Master', 'Security',\n",
       "       'Set Medic', 'Set Production Assistant', 'Stand In',\n",
       "       'Transportation Captain', 'Transportation Coordinator',\n",
       "       'First Assistant Director', 'Best Boy Electric', 'Electrician',\n",
       "       'Production Accountant', 'First Assistant Sound Editor',\n",
       "       'Production Sound Mixer', 'Sound Editor', 'Special Sound Effects',\n",
       "       'Studio Teachers', 'Creative Consultant', 'Dolby Consultant',\n",
       "       'Makeup Department Head', 'Author', 'Set Designer', 'Leadman',\n",
       "       'Greensman', 'Helicopter Camera', 'Additional Camera',\n",
       "       'Lighting Technician', 'Dialect Coach',\n",
       "       'Production Office Assistant', 'Line Producer', 'Adaptation',\n",
       "       'Script Editor', 'Visual Effects Designer', 'Makeup Designer',\n",
       "       'Underwater Camera', 'Hair Designer', 'Propmaker',\n",
       "       'Digital Compositors', 'Rigging Grip', 'Loader',\n",
       "       'Video Assist Operator', 'Post-Production Manager',\n",
       "       'Public Relations', 'Legal Services', 'Location Scout',\n",
       "       'Production Illustrator', 'Scenic Artist',\n",
       "       'Chief Lighting Technician', 'Assistant Property Master',\n",
       "       'Dolly Grip', 'Wardrobe Supervisor', 'Animal Coordinator',\n",
       "       'Pyrotechnician', 'Assistant Production Manager', 'Local Casting',\n",
       "       'Apprentice Sound Editor', 'Musician', 'Second Assistant Director',\n",
       "       'Key Makeup Artist', 'ADR & Dubbing', 'Seamstress', 'Thanks',\n",
       "       'Sound Mixer', 'Set Dressing Artist', 'Storyboard',\n",
       "       'Additional Music', 'Chef', 'Mixing Engineer', 'Production Intern',\n",
       "       'Telecine Colorist', 'Set Dressing Production Assistant',\n",
       "       'Finance', 'Theatre Play', 'Creator', 'Additional Editing',\n",
       "       'Co-Executive Producer', 'Executive In Charge Of Post Production',\n",
       "       'Additional Photography', 'Executive In Charge Of Production',\n",
       "       'Makeup Effects', 'Color Designer', 'Transportation Co-Captain',\n",
       "       'Supervising ADR Editor', 'Supervising Music Editor',\n",
       "       'Makeup Effects Designer', 'Tattooist', 'Camera Intern',\n",
       "       'CGI Supervisor', 'Scoring Mixer', 'Visual Effects Producer',\n",
       "       'Cableman', 'Sound Engineer', 'Other', \"Actor's Assistant\",\n",
       "       'Publicist', 'Production Controller', 'Cinematography',\n",
       "       'Compositors', 'Sound', 'Prosthetic Supervisor',\n",
       "       'Supervising Film Editor', 'Visual Effects Design Consultant',\n",
       "       'Title Graphics', 'Scenario Writer', 'Conductor', 'Pilot',\n",
       "       'Second Unit Cinematographer', 'Systems Administrators & Support',\n",
       "       'Art Department Assistant', 'Camera Technician', 'Machinist',\n",
       "       'Underwater Director of Photography', 'CG Supervisor',\n",
       "       'Second Unit', 'Utility Stunts', 'Creature Design', 'Modeling',\n",
       "       'Visual Effects Art Director', 'Hair Department Head',\n",
       "       'Co-Art Director', 'Aerial Camera', '3D Artist', 'Unit Manager',\n",
       "       'Short Story', 'Additional Writing', 'Additional Dialogue',\n",
       "       'Settings', 'Wigmaker', 'Editorial Staff', 'Camera Supervisor',\n",
       "       'Key Animation', 'Picture Car Coordinator',\n",
       "       'Production Office Coordinator', 'Projection', 'ADR Supervisor',\n",
       "       'Aerial Coordinator', 'Sound Director', 'Vocal Coach',\n",
       "       'Conceptual Design', 'Camera Department Manager', 'Screenstory',\n",
       "       'I/O Manager', 'Stunts Coordinator', 'Book', 'Camera Loader',\n",
       "       'Software Engineer', 'I/O Supervisor', 'Makeup Supervisor',\n",
       "       'Assistant Production Coordinator', 'CG Animator',\n",
       "       'Mechanical Designer', '3D Animator', 'Editorial Services',\n",
       "       'Music Director', 'Art Department Manager',\n",
       "       'Post Production Consulting', 'Visual Development',\n",
       "       'Animation Production Assistant', 'Sequence Supervisor',\n",
       "       'Character Technical Supervisor', 'Editorial Production Assistant',\n",
       "       'Associate Editor', 'Animal Wrangler', 'Dialogue', 'Idea',\n",
       "       'Prosthetic Makeup Artist', '3D Modeller', 'VFX Artist',\n",
       "       'Lead Animator', '3D Coordinator', 'Digital Producer',\n",
       "       'Martial Arts Choreographer', 'Aerial Director of Photography',\n",
       "       'CGI Director', 'Presenter', 'Administration', 'Music Programmer',\n",
       "       'Comic Book', 'Recording Supervision', 'Hair Supervisor',\n",
       "       'Stunt Double', 'Script', 'Musical', 'Interior Designer',\n",
       "       'Researcher', 'Special Guest Director', 'Continuity',\n",
       "       'Mix Technician', 'Sound Montage Associate',\n",
       "       'Motion Capture Artist', 'Mechanical & Creature Designer',\n",
       "       'Hair Setup', 'Sound Effects', 'Commissioning Editor',\n",
       "       'Conceptual Illustrator', 'Script Coordinator',\n",
       "       'Executive Consultant', 'Animatronic and Prosthetic Effects',\n",
       "       'Second Unit Director of Photography', 'Third Assistant Director',\n",
       "       'Key Costumer', 'Marine Coordinator', 'Lighting Director',\n",
       "       'Translator', '24 Frame Playback', 'Production Artist',\n",
       "       'Set Decoration Buyer', 'Temp Music Editor',\n",
       "       'Animatronics Designer', '3D Supervisor', 'Key Set Costumer',\n",
       "       'Animation Department Coordinator', 'Sound Effects Designer',\n",
       "       'Pyrotechnic Supervisor', 'Teleplay',\n",
       "       'Supervising Dialogue Editor', 'Roto Supervisor',\n",
       "       'Lighting Camera', 'Tailor', 'Digital Effects Producer',\n",
       "       'Lighting Artist', 'Executive Visual Effects Producer',\n",
       "       'Ager/Dyer', 'Utility Sound', 'Score Engineer',\n",
       "       'Associate Choreographer', 'VFX Supervisor',\n",
       "       'Assistant Set Dresser', 'Draughtsman', 'Costume Coordinator',\n",
       "       'Aerial Camera (suggest in addition to Helicopter Camera)',\n",
       "       'Tattoo Designer', 'Additional Sound Re-Recording Mixer',\n",
       "       'Co-Director', 'Chief Technician / Stop-Motion Expert',\n",
       "       'Costume Illustrator', 'Supervising Producer',\n",
       "       'Digital Intermediate', 'Steadycam', 'Sets & Props Artist',\n",
       "       'Prop Maker', 'Poem', 'Second Film Editor',\n",
       "       'Additional Editorial Assistant', 'Software Team Lead',\n",
       "       'Lighting Production Assistant', 'VFX Production Coordinator',\n",
       "       'Sign Painter', 'Shading', 'Set Dressing Supervisor',\n",
       "       'Fix Animator', 'In Memory Of', 'Best Boy Electrician',\n",
       "       'Sequence Leads', 'Co-Editor', 'Lead Set Dresser',\n",
       "       'Storyboard Designer', 'Documentation & Support',\n",
       "       'VFX Director of Photography', 'Fight Choreographer',\n",
       "       'Set Decorating Coordinator', 'Techno Crane Operator',\n",
       "       'Script Researcher', 'Imaging Science', 'Aerial Camera Technician',\n",
       "       'Matchmove Supervisor', 'Set Dressing Manager',\n",
       "       'Animatronics Supervisor', 'Wig Designer', '2D Supervisor',\n",
       "       'Animation Fix Coordinator', 'Lighting Manager',\n",
       "       'Directing Lighting Artist', 'Master Lighting Artist',\n",
       "       'Photoscience Manager', 'Department Administrator',\n",
       "       'Information Systems Manager', 'Simulation & Effects Artist',\n",
       "       'Armory Coordinator', 'Story Editor', '2D Artist', 'Gun Wrangler',\n",
       "       'Consulting Producer', 'Additional Still Photographer',\n",
       "       'Visual Effects Technical Director', 'Music Score Producer',\n",
       "       'Radio Play', 'Pre-Visualization Supervisor', 'Underwater Gaffer',\n",
       "       'Executive in Charge of Finance', 'Production Director',\n",
       "       'Theme Song Performance', 'VFX Editor', 'Development Manager',\n",
       "       'Manager of Operations', 'Opera', 'Quality Control Supervisor',\n",
       "       'Rigging Supervisor', 'Playback Singer',\n",
       "       'Creature Technical Director', 'Co-Writer',\n",
       "       'Supervisor of Production Resources', 'Assistant Music Supervisor',\n",
       "       'Creative Producer', 'Series Writer', 'Schedule Coordinator',\n",
       "       'Temp Sound Editor', 'Comic-Zeichner', 'Lead Character Designer',\n",
       "       'Voice', 'Archival Footage Coordinator',\n",
       "       'Archival Footage Research', 'Set Production Intern',\n",
       "       'Additional Music Supervisor', 'treatment',\n",
       "       'Graphic Novel Illustrator', 'Motion Actor',\n",
       "       'Battle Motion Coordinator', 'Sets & Props Supervisor',\n",
       "       'Cloth Setup', 'Facial Setup Artist', 'Sequence Artist',\n",
       "       'CG Engineer', 'Prop Designer', 'Shoe Design',\n",
       "       'Simulation & Effects Production Assistant', 'Video Game',\n",
       "       'Opening/Ending Animation', 'Epk Camera Operator',\n",
       "       'Script Consultant', 'Coordinating Producer',\n",
       "       'Lighting Coordinator', 'Dramaturgy', 'Prosthetic Designer',\n",
       "       'Drone Operator', '3D Generalist', 'Russian Arm Operator',\n",
       "       'Ultimate Arm Operator', '3D Director', 'Dramaturgie', 'Actor',\n",
       "       'Costume Consultant', 'Character Modelling Supervisor',\n",
       "       'Stereoscopic Coordinator'], dtype=object)"
      ]
     },
     "execution_count": 84,
     "metadata": {},
     "output_type": "execute_result"
    }
   ],
   "source": [
    "crew['job'].unique()"
   ]
  },
  {
   "cell_type": "code",
   "execution_count": 85,
   "id": "GysmWOVlCCD9",
   "metadata": {
    "colab": {
     "base_uri": "https://localhost:8080/",
     "height": 206
    },
    "id": "GysmWOVlCCD9",
    "outputId": "db6042c2-a703-4f2a-97d7-d8e0b6168a3a"
   },
   "outputs": [
    {
     "data": {
      "text/html": [
       "<div>\n",
       "<style scoped>\n",
       "    .dataframe tbody tr th:only-of-type {\n",
       "        vertical-align: middle;\n",
       "    }\n",
       "\n",
       "    .dataframe tbody tr th {\n",
       "        vertical-align: top;\n",
       "    }\n",
       "\n",
       "    .dataframe thead th {\n",
       "        text-align: right;\n",
       "    }\n",
       "</style>\n",
       "<table border=\"1\" class=\"dataframe\">\n",
       "  <thead>\n",
       "    <tr style=\"text-align: right;\">\n",
       "      <th></th>\n",
       "      <th>gender_director</th>\n",
       "      <th>id</th>\n",
       "      <th>director</th>\n",
       "      <th>freq_dir</th>\n",
       "    </tr>\n",
       "  </thead>\n",
       "  <tbody>\n",
       "    <tr>\n",
       "      <th>0</th>\n",
       "      <td>2</td>\n",
       "      <td>862</td>\n",
       "      <td>John Lasseter</td>\n",
       "      <td>10</td>\n",
       "    </tr>\n",
       "    <tr>\n",
       "      <th>109</th>\n",
       "      <td>2</td>\n",
       "      <td>8844</td>\n",
       "      <td>Joe Johnston</td>\n",
       "      <td>10</td>\n",
       "    </tr>\n",
       "    <tr>\n",
       "      <th>122</th>\n",
       "      <td>2</td>\n",
       "      <td>15602</td>\n",
       "      <td>Howard Deutch</td>\n",
       "      <td>11</td>\n",
       "    </tr>\n",
       "    <tr>\n",
       "      <th>126</th>\n",
       "      <td>2</td>\n",
       "      <td>31357</td>\n",
       "      <td>Forest Whitaker</td>\n",
       "      <td>4</td>\n",
       "    </tr>\n",
       "    <tr>\n",
       "      <th>141</th>\n",
       "      <td>2</td>\n",
       "      <td>11862</td>\n",
       "      <td>Charles Shyer</td>\n",
       "      <td>7</td>\n",
       "    </tr>\n",
       "  </tbody>\n",
       "</table>\n",
       "</div>"
      ],
      "text/plain": [
       "     gender_director     id         director  freq_dir\n",
       "0                  2    862    John Lasseter        10\n",
       "109                2   8844     Joe Johnston        10\n",
       "122                2  15602    Howard Deutch        11\n",
       "126                2  31357  Forest Whitaker         4\n",
       "141                2  11862    Charles Shyer         7"
      ]
     },
     "execution_count": 85,
     "metadata": {},
     "output_type": "execute_result"
    }
   ],
   "source": [
    "# Слишком много вариантов экипажа. На данный момент мы оставляем за собой только людей с должностями режиссера, исполнительного продюсера, продюсерши или сценариста\n",
    "director = crew[crew['job'] == 'Director']\n",
    "director = director.rename(columns={'name':'director','gender':'gender_director'})\n",
    "director.drop(columns=['job'], inplace=True)\n",
    "director['freq_dir'] = director['director'].map(director['director'].value_counts())\n",
    "director.head()"
   ]
  },
  {
   "cell_type": "code",
   "execution_count": 86,
   "id": "vqRbBUDVCGpF",
   "metadata": {
    "colab": {
     "base_uri": "https://localhost:8080/"
    },
    "id": "vqRbBUDVCGpF",
    "outputId": "4ea6ddbc-8cfb-4de3-9202-b57b8f92b0db"
   },
   "outputs": [
    {
     "name": "stdout",
     "output_type": "stream",
     "text": [
      "(49048, 4)\n",
      "50\n"
     ]
    }
   ],
   "source": [
    "print(director.shape)\n",
    "print(director.duplicated().sum())"
   ]
  },
  {
   "cell_type": "code",
   "execution_count": 87,
   "id": "fDRAqS1-CMZu",
   "metadata": {
    "colab": {
     "base_uri": "https://localhost:8080/"
    },
    "id": "fDRAqS1-CMZu",
    "outputId": "f85c33b2-8498-4777-bb01-7c6d6aded078"
   },
   "outputs": [],
   "source": [
    "director.drop_duplicates(inplace=True)"
   ]
  },
  {
   "cell_type": "code",
   "execution_count": 88,
   "id": "Mpg4IzvaCQa_",
   "metadata": {
    "colab": {
     "base_uri": "https://localhost:8080/"
    },
    "id": "Mpg4IzvaCQa_",
    "outputId": "4249838e-48e1-4a70-a6b7-8cf503c178bf"
   },
   "outputs": [
    {
     "data": {
      "text/plain": [
       "John Ford            68\n",
       "Michael Curtiz       65\n",
       "Werner Herzog        55\n",
       "Alfred Hitchcock     53\n",
       "Georges Méliès       51\n",
       "                     ..\n",
       "Jorge Dorado          1\n",
       "Michael Rosenbaum     1\n",
       "Lawrie Brewster       1\n",
       "Connie Stevens        1\n",
       "Daisy Asquith         1\n",
       "Name: director, Length: 19740, dtype: int64"
      ]
     },
     "execution_count": 88,
     "metadata": {},
     "output_type": "execute_result"
    }
   ],
   "source": [
    "director.director.value_counts()"
   ]
  },
  {
   "cell_type": "code",
   "execution_count": 89,
   "id": "FBkIHqBGCSvu",
   "metadata": {
    "colab": {
     "base_uri": "https://localhost:8080/"
    },
    "id": "FBkIHqBGCSvu",
    "outputId": "8f2e103e-228a-4e54-882b-060856345ef4"
   },
   "outputs": [
    {
     "data": {
      "text/plain": [
       "2    27553\n",
       "0    19551\n",
       "1     1894\n",
       "Name: gender_director, dtype: int64"
      ]
     },
     "execution_count": 89,
     "metadata": {},
     "output_type": "execute_result"
    }
   ],
   "source": [
    "director.gender_director.value_counts()"
   ]
  },
  {
   "cell_type": "code",
   "execution_count": 90,
   "id": "5udpfVFVCaQN",
   "metadata": {
    "id": "5udpfVFVCaQN"
   },
   "outputs": [],
   "source": [
    "director.sort_values(['id','freq_dir'], ascending=[True, False], inplace=True)\n",
    "director.drop_duplicates(subset='id', keep='first', inplace=True)"
   ]
  },
  {
   "cell_type": "code",
   "execution_count": 91,
   "id": "PZRQa40WCk_3",
   "metadata": {
    "colab": {
     "base_uri": "https://localhost:8080/"
    },
    "id": "PZRQa40WCk_3",
    "outputId": "1bac8790-8b00-43be-f3e1-fa163d5950fa"
   },
   "outputs": [
    {
     "data": {
      "text/plain": [
       "(44545, 4)"
      ]
     },
     "execution_count": 91,
     "metadata": {},
     "output_type": "execute_result"
    }
   ],
   "source": [
    "director.shape"
   ]
  },
  {
   "cell_type": "code",
   "execution_count": 92,
   "id": "a8dQM6TJCnDM",
   "metadata": {
    "colab": {
     "base_uri": "https://localhost:8080/",
     "height": 438
    },
    "id": "a8dQM6TJCnDM",
    "outputId": "a0ad2561-1034-4c42-99b0-cdcedbc5506f",
    "scrolled": false
   },
   "outputs": [
    {
     "data": {
      "text/html": [
       "<div>\n",
       "<style scoped>\n",
       "    .dataframe tbody tr th:only-of-type {\n",
       "        vertical-align: middle;\n",
       "    }\n",
       "\n",
       "    .dataframe tbody tr th {\n",
       "        vertical-align: top;\n",
       "    }\n",
       "\n",
       "    .dataframe thead th {\n",
       "        text-align: right;\n",
       "    }\n",
       "</style>\n",
       "<table border=\"1\" class=\"dataframe\">\n",
       "  <thead>\n",
       "    <tr style=\"text-align: right;\">\n",
       "      <th></th>\n",
       "      <th>series</th>\n",
       "      <th>budget</th>\n",
       "      <th>id</th>\n",
       "      <th>imdb_id</th>\n",
       "      <th>popularity</th>\n",
       "      <th>revenue</th>\n",
       "      <th>runtime</th>\n",
       "      <th>status</th>\n",
       "      <th>title</th>\n",
       "      <th>release_date</th>\n",
       "      <th>...</th>\n",
       "      <th>spoken_lang_Other</th>\n",
       "      <th>gender_lead</th>\n",
       "      <th>lead</th>\n",
       "      <th>freq_lead</th>\n",
       "      <th>gender_support</th>\n",
       "      <th>support</th>\n",
       "      <th>freq_support</th>\n",
       "      <th>gender_director</th>\n",
       "      <th>director</th>\n",
       "      <th>freq_dir</th>\n",
       "    </tr>\n",
       "  </thead>\n",
       "  <tbody>\n",
       "    <tr>\n",
       "      <th>0</th>\n",
       "      <td>0</td>\n",
       "      <td>1000000.0</td>\n",
       "      <td>32872</td>\n",
       "      <td>118523</td>\n",
       "      <td>2.700061</td>\n",
       "      <td>NaN</td>\n",
       "      <td>113.0</td>\n",
       "      <td>Released</td>\n",
       "      <td>Til There Was You</td>\n",
       "      <td>1997-05-30</td>\n",
       "      <td>...</td>\n",
       "      <td>1.0</td>\n",
       "      <td>1.0</td>\n",
       "      <td>Sarah Jessica Parker</td>\n",
       "      <td>9.0</td>\n",
       "      <td>1.0</td>\n",
       "      <td>Jeanne Tripplehorn</td>\n",
       "      <td>2.0</td>\n",
       "      <td>2.0</td>\n",
       "      <td>Scott Winant</td>\n",
       "      <td>1.0</td>\n",
       "    </tr>\n",
       "    <tr>\n",
       "      <th>1</th>\n",
       "      <td>0</td>\n",
       "      <td>53000000.0</td>\n",
       "      <td>9054</td>\n",
       "      <td>119214</td>\n",
       "      <td>2.289647</td>\n",
       "      <td>NaN</td>\n",
       "      <td>94.0</td>\n",
       "      <td>Released</td>\n",
       "      <td>Gone Fishin'</td>\n",
       "      <td>1997-05-30</td>\n",
       "      <td>...</td>\n",
       "      <td>0.0</td>\n",
       "      <td>2.0</td>\n",
       "      <td>Joe Pesci</td>\n",
       "      <td>7.0</td>\n",
       "      <td>2.0</td>\n",
       "      <td>Danny Glover</td>\n",
       "      <td>20.0</td>\n",
       "      <td>2.0</td>\n",
       "      <td>Christopher Cain</td>\n",
       "      <td>11.0</td>\n",
       "    </tr>\n",
       "    <tr>\n",
       "      <th>2</th>\n",
       "      <td>0</td>\n",
       "      <td>60000000.0</td>\n",
       "      <td>11015</td>\n",
       "      <td>120004</td>\n",
       "      <td>7.699967</td>\n",
       "      <td>33956608.0</td>\n",
       "      <td>110.0</td>\n",
       "      <td>Released</td>\n",
       "      <td>The Relic</td>\n",
       "      <td>1997-01-10</td>\n",
       "      <td>...</td>\n",
       "      <td>0.0</td>\n",
       "      <td>1.0</td>\n",
       "      <td>Penelope Ann Miller</td>\n",
       "      <td>3.0</td>\n",
       "      <td>2.0</td>\n",
       "      <td>Tom Sizemore</td>\n",
       "      <td>8.0</td>\n",
       "      <td>2.0</td>\n",
       "      <td>Peter Hyams</td>\n",
       "      <td>18.0</td>\n",
       "    </tr>\n",
       "    <tr>\n",
       "      <th>3</th>\n",
       "      <td>0</td>\n",
       "      <td>NaN</td>\n",
       "      <td>56077</td>\n",
       "      <td>120271</td>\n",
       "      <td>0.978989</td>\n",
       "      <td>NaN</td>\n",
       "      <td>96.0</td>\n",
       "      <td>Released</td>\n",
       "      <td>Talk of Angels</td>\n",
       "      <td>1998-10-30</td>\n",
       "      <td>...</td>\n",
       "      <td>0.0</td>\n",
       "      <td>1.0</td>\n",
       "      <td>Polly Walker</td>\n",
       "      <td>1.0</td>\n",
       "      <td>1.0</td>\n",
       "      <td>Frances McDormand</td>\n",
       "      <td>10.0</td>\n",
       "      <td>2.0</td>\n",
       "      <td>Nick Hamm</td>\n",
       "      <td>6.0</td>\n",
       "    </tr>\n",
       "    <tr>\n",
       "      <th>4</th>\n",
       "      <td>0</td>\n",
       "      <td>NaN</td>\n",
       "      <td>52855</td>\n",
       "      <td>118927</td>\n",
       "      <td>1.463219</td>\n",
       "      <td>3028094.0</td>\n",
       "      <td>95.0</td>\n",
       "      <td>Released</td>\n",
       "      <td>Dangerous Ground</td>\n",
       "      <td>1997-02-12</td>\n",
       "      <td>...</td>\n",
       "      <td>1.0</td>\n",
       "      <td>2.0</td>\n",
       "      <td>Ice Cube</td>\n",
       "      <td>16.0</td>\n",
       "      <td>1.0</td>\n",
       "      <td>Elizabeth Hurley</td>\n",
       "      <td>8.0</td>\n",
       "      <td>0.0</td>\n",
       "      <td>Darrell James Roodt</td>\n",
       "      <td>7.0</td>\n",
       "    </tr>\n",
       "  </tbody>\n",
       "</table>\n",
       "<p>5 rows × 49 columns</p>\n",
       "</div>"
      ],
      "text/plain": [
       "   series      budget     id  imdb_id popularity     revenue  runtime  \\\n",
       "0       0   1000000.0  32872   118523   2.700061         NaN    113.0   \n",
       "1       0  53000000.0   9054   119214   2.289647         NaN     94.0   \n",
       "2       0  60000000.0  11015   120004   7.699967  33956608.0    110.0   \n",
       "3       0         NaN  56077   120271   0.978989         NaN     96.0   \n",
       "4       0         NaN  52855   118927   1.463219   3028094.0     95.0   \n",
       "\n",
       "     status              title release_date  ...  spoken_lang_Other  \\\n",
       "0  Released  Til There Was You   1997-05-30  ...                1.0   \n",
       "1  Released       Gone Fishin'   1997-05-30  ...                0.0   \n",
       "2  Released          The Relic   1997-01-10  ...                0.0   \n",
       "3  Released     Talk of Angels   1998-10-30  ...                0.0   \n",
       "4  Released   Dangerous Ground   1997-02-12  ...                1.0   \n",
       "\n",
       "   gender_lead                  lead  freq_lead  gender_support  \\\n",
       "0          1.0  Sarah Jessica Parker        9.0             1.0   \n",
       "1          2.0             Joe Pesci        7.0             2.0   \n",
       "2          1.0   Penelope Ann Miller        3.0             2.0   \n",
       "3          1.0          Polly Walker        1.0             1.0   \n",
       "4          2.0              Ice Cube       16.0             1.0   \n",
       "\n",
       "              support  freq_support  gender_director             director  \\\n",
       "0  Jeanne Tripplehorn           2.0              2.0         Scott Winant   \n",
       "1        Danny Glover          20.0              2.0     Christopher Cain   \n",
       "2        Tom Sizemore           8.0              2.0          Peter Hyams   \n",
       "3   Frances McDormand          10.0              2.0            Nick Hamm   \n",
       "4    Elizabeth Hurley           8.0              0.0  Darrell James Roodt   \n",
       "\n",
       "   freq_dir  \n",
       "0       1.0  \n",
       "1      11.0  \n",
       "2      18.0  \n",
       "3       6.0  \n",
       "4       7.0  \n",
       "\n",
       "[5 rows x 49 columns]"
      ]
     },
     "execution_count": 92,
     "metadata": {},
     "output_type": "execute_result"
    }
   ],
   "source": [
    "movies9 = pd.merge(movies8, director, how='left', on='id')\n",
    "movies9.head()"
   ]
  },
  {
   "cell_type": "code",
   "execution_count": 93,
   "id": "00Y8Y3o9Co9D",
   "metadata": {
    "colab": {
     "base_uri": "https://localhost:8080/"
    },
    "id": "00Y8Y3o9Co9D",
    "outputId": "c7d8a1bf-cd52-45c8-8bec-af9775f1f622"
   },
   "outputs": [
    {
     "data": {
      "text/plain": [
       "(8887, 49)"
      ]
     },
     "execution_count": 93,
     "metadata": {},
     "output_type": "execute_result"
    }
   ],
   "source": [
    "movies9.shape"
   ]
  },
  {
   "cell_type": "code",
   "execution_count": 94,
   "id": "aYP3xVqTCrgq",
   "metadata": {
    "colab": {
     "base_uri": "https://localhost:8080/",
     "height": 206
    },
    "id": "aYP3xVqTCrgq",
    "outputId": "cfbf9ad7-f445-4b1a-d3e6-5c3427dce8c4"
   },
   "outputs": [
    {
     "data": {
      "text/html": [
       "<div>\n",
       "<style scoped>\n",
       "    .dataframe tbody tr th:only-of-type {\n",
       "        vertical-align: middle;\n",
       "    }\n",
       "\n",
       "    .dataframe tbody tr th {\n",
       "        vertical-align: top;\n",
       "    }\n",
       "\n",
       "    .dataframe thead th {\n",
       "        text-align: right;\n",
       "    }\n",
       "</style>\n",
       "<table border=\"1\" class=\"dataframe\">\n",
       "  <thead>\n",
       "    <tr style=\"text-align: right;\">\n",
       "      <th></th>\n",
       "      <th>gender_ep</th>\n",
       "      <th>id</th>\n",
       "      <th>execprod</th>\n",
       "      <th>freq_ep</th>\n",
       "    </tr>\n",
       "  </thead>\n",
       "  <tbody>\n",
       "    <tr>\n",
       "      <th>6</th>\n",
       "      <td>0</td>\n",
       "      <td>862</td>\n",
       "      <td>Ed Catmull</td>\n",
       "      <td>2</td>\n",
       "    </tr>\n",
       "    <tr>\n",
       "      <th>8</th>\n",
       "      <td>2</td>\n",
       "      <td>862</td>\n",
       "      <td>Steve Jobs</td>\n",
       "      <td>1</td>\n",
       "    </tr>\n",
       "    <tr>\n",
       "      <th>106</th>\n",
       "      <td>2</td>\n",
       "      <td>8844</td>\n",
       "      <td>Larry J. Franco</td>\n",
       "      <td>3</td>\n",
       "    </tr>\n",
       "    <tr>\n",
       "      <th>115</th>\n",
       "      <td>2</td>\n",
       "      <td>8844</td>\n",
       "      <td>Ted Field</td>\n",
       "      <td>22</td>\n",
       "    </tr>\n",
       "    <tr>\n",
       "      <th>116</th>\n",
       "      <td>2</td>\n",
       "      <td>8844</td>\n",
       "      <td>Robert W. Cort</td>\n",
       "      <td>12</td>\n",
       "    </tr>\n",
       "  </tbody>\n",
       "</table>\n",
       "</div>"
      ],
      "text/plain": [
       "     gender_ep    id         execprod  freq_ep\n",
       "6            0   862       Ed Catmull        2\n",
       "8            2   862       Steve Jobs        1\n",
       "106          2  8844  Larry J. Franco        3\n",
       "115          2  8844        Ted Field       22\n",
       "116          2  8844   Robert W. Cort       12"
      ]
     },
     "execution_count": 94,
     "metadata": {},
     "output_type": "execute_result"
    }
   ],
   "source": [
    "ep = crew[crew['job'] == 'Executive Producer']\n",
    "ep = ep.rename(columns={'name':'execprod','gender':'gender_ep'})\n",
    "ep.drop(columns=['job'], inplace=True)\n",
    "ep['freq_ep'] = ep['execprod'].map(ep['execprod'].value_counts())\n",
    "ep.head()"
   ]
  },
  {
   "cell_type": "code",
   "execution_count": 95,
   "id": "_jHA0uOjCyOQ",
   "metadata": {
    "colab": {
     "base_uri": "https://localhost:8080/"
    },
    "id": "_jHA0uOjCyOQ",
    "outputId": "6cb2694f-5579-4ca3-a6aa-6a3efb9de88d"
   },
   "outputs": [
    {
     "name": "stdout",
     "output_type": "stream",
     "text": [
      "(18866, 4)\n",
      "19\n"
     ]
    }
   ],
   "source": [
    "print(ep.shape)\n",
    "print(ep.duplicated().sum())"
   ]
  },
  {
   "cell_type": "code",
   "execution_count": 96,
   "id": "TfDyGgJWC08O",
   "metadata": {
    "colab": {
     "base_uri": "https://localhost:8080/"
    },
    "id": "TfDyGgJWC08O",
    "outputId": "ea388d0c-9181-4cfa-90b7-4f551690ca5b"
   },
   "outputs": [],
   "source": [
    "ep.drop_duplicates(inplace=True)"
   ]
  },
  {
   "cell_type": "code",
   "execution_count": 97,
   "id": "KPulTT8DC3KT",
   "metadata": {
    "colab": {
     "base_uri": "https://localhost:8080/"
    },
    "id": "KPulTT8DC3KT",
    "outputId": "faa8af42-c2ba-4497-82f3-25a9250e2058"
   },
   "outputs": [
    {
     "data": {
      "text/plain": [
       "Bob Weinstein           98\n",
       "Harvey Weinstein        96\n",
       "Hal B. Wallis           60\n",
       "Roger Corman            58\n",
       "Bruce Berman            57\n",
       "                        ..\n",
       "Jeff Katz                1\n",
       "Jeff Kinney              1\n",
       "Mads Peter Ole Olsen     1\n",
       "Christine Alderson       1\n",
       "Pirie Jones              1\n",
       "Name: execprod, Length: 9939, dtype: int64"
      ]
     },
     "execution_count": 97,
     "metadata": {},
     "output_type": "execute_result"
    }
   ],
   "source": [
    "ep.execprod.value_counts()"
   ]
  },
  {
   "cell_type": "code",
   "execution_count": 98,
   "id": "jjHX4uEmC4_I",
   "metadata": {
    "colab": {
     "base_uri": "https://localhost:8080/"
    },
    "id": "jjHX4uEmC4_I",
    "outputId": "8dd5dbf7-bdea-4b0f-f301-ccbdf6f6ace1"
   },
   "outputs": [
    {
     "data": {
      "text/plain": [
       "2    8787\n",
       "0    8698\n",
       "1    1362\n",
       "Name: gender_ep, dtype: int64"
      ]
     },
     "execution_count": 98,
     "metadata": {},
     "output_type": "execute_result"
    }
   ],
   "source": [
    "ep.gender_ep.value_counts()"
   ]
  },
  {
   "cell_type": "code",
   "execution_count": 99,
   "id": "cesqR2pmC6PZ",
   "metadata": {
    "colab": {
     "base_uri": "https://localhost:8080/"
    },
    "id": "cesqR2pmC6PZ",
    "outputId": "63d06c31-eb55-4a39-9a4c-0bc6c35d01c2"
   },
   "outputs": [
    {
     "data": {
      "text/plain": [
       "(18847, 4)"
      ]
     },
     "execution_count": 99,
     "metadata": {},
     "output_type": "execute_result"
    }
   ],
   "source": [
    "ep.shape"
   ]
  },
  {
   "cell_type": "code",
   "execution_count": 100,
   "id": "s1ynPrjOC8R4",
   "metadata": {
    "colab": {
     "base_uri": "https://localhost:8080/"
    },
    "id": "s1ynPrjOC8R4",
    "outputId": "0120e8e4-eb46-4cda-93f7-e41253db4cc0"
   },
   "outputs": [
    {
     "data": {
      "text/plain": [
       "(8370, 4)"
      ]
     },
     "execution_count": 100,
     "metadata": {},
     "output_type": "execute_result"
    }
   ],
   "source": [
    "ep.sort_values(['id','freq_ep'], ascending=[True, False], inplace=True)\n",
    "ep.drop_duplicates(subset='id', keep='first', inplace=True)\n",
    "ep.shape"
   ]
  },
  {
   "cell_type": "code",
   "execution_count": 101,
   "id": "F80joDkTC_jp",
   "metadata": {
    "colab": {
     "base_uri": "https://localhost:8080/",
     "height": 403
    },
    "id": "F80joDkTC_jp",
    "outputId": "53eed919-b86b-40c7-81a8-bb265917bdab"
   },
   "outputs": [
    {
     "data": {
      "text/html": [
       "<div>\n",
       "<style scoped>\n",
       "    .dataframe tbody tr th:only-of-type {\n",
       "        vertical-align: middle;\n",
       "    }\n",
       "\n",
       "    .dataframe tbody tr th {\n",
       "        vertical-align: top;\n",
       "    }\n",
       "\n",
       "    .dataframe thead th {\n",
       "        text-align: right;\n",
       "    }\n",
       "</style>\n",
       "<table border=\"1\" class=\"dataframe\">\n",
       "  <thead>\n",
       "    <tr style=\"text-align: right;\">\n",
       "      <th></th>\n",
       "      <th>series</th>\n",
       "      <th>budget</th>\n",
       "      <th>id</th>\n",
       "      <th>imdb_id</th>\n",
       "      <th>popularity</th>\n",
       "      <th>revenue</th>\n",
       "      <th>runtime</th>\n",
       "      <th>status</th>\n",
       "      <th>title</th>\n",
       "      <th>release_date</th>\n",
       "      <th>...</th>\n",
       "      <th>freq_lead</th>\n",
       "      <th>gender_support</th>\n",
       "      <th>support</th>\n",
       "      <th>freq_support</th>\n",
       "      <th>gender_director</th>\n",
       "      <th>director</th>\n",
       "      <th>freq_dir</th>\n",
       "      <th>gender_ep</th>\n",
       "      <th>execprod</th>\n",
       "      <th>freq_ep</th>\n",
       "    </tr>\n",
       "  </thead>\n",
       "  <tbody>\n",
       "    <tr>\n",
       "      <th>0</th>\n",
       "      <td>0</td>\n",
       "      <td>1000000.0</td>\n",
       "      <td>32872</td>\n",
       "      <td>118523</td>\n",
       "      <td>2.700061</td>\n",
       "      <td>NaN</td>\n",
       "      <td>113.0</td>\n",
       "      <td>Released</td>\n",
       "      <td>Til There Was You</td>\n",
       "      <td>1997-05-30</td>\n",
       "      <td>...</td>\n",
       "      <td>9.0</td>\n",
       "      <td>1.0</td>\n",
       "      <td>Jeanne Tripplehorn</td>\n",
       "      <td>2.0</td>\n",
       "      <td>2.0</td>\n",
       "      <td>Scott Winant</td>\n",
       "      <td>1.0</td>\n",
       "      <td>NaN</td>\n",
       "      <td>NaN</td>\n",
       "      <td>NaN</td>\n",
       "    </tr>\n",
       "    <tr>\n",
       "      <th>1</th>\n",
       "      <td>0</td>\n",
       "      <td>53000000.0</td>\n",
       "      <td>9054</td>\n",
       "      <td>119214</td>\n",
       "      <td>2.289647</td>\n",
       "      <td>NaN</td>\n",
       "      <td>94.0</td>\n",
       "      <td>Released</td>\n",
       "      <td>Gone Fishin'</td>\n",
       "      <td>1997-05-30</td>\n",
       "      <td>...</td>\n",
       "      <td>7.0</td>\n",
       "      <td>2.0</td>\n",
       "      <td>Danny Glover</td>\n",
       "      <td>20.0</td>\n",
       "      <td>2.0</td>\n",
       "      <td>Christopher Cain</td>\n",
       "      <td>11.0</td>\n",
       "      <td>NaN</td>\n",
       "      <td>NaN</td>\n",
       "      <td>NaN</td>\n",
       "    </tr>\n",
       "    <tr>\n",
       "      <th>2</th>\n",
       "      <td>0</td>\n",
       "      <td>60000000.0</td>\n",
       "      <td>11015</td>\n",
       "      <td>120004</td>\n",
       "      <td>7.699967</td>\n",
       "      <td>33956608.0</td>\n",
       "      <td>110.0</td>\n",
       "      <td>Released</td>\n",
       "      <td>The Relic</td>\n",
       "      <td>1997-01-10</td>\n",
       "      <td>...</td>\n",
       "      <td>3.0</td>\n",
       "      <td>2.0</td>\n",
       "      <td>Tom Sizemore</td>\n",
       "      <td>8.0</td>\n",
       "      <td>2.0</td>\n",
       "      <td>Peter Hyams</td>\n",
       "      <td>18.0</td>\n",
       "      <td>2.0</td>\n",
       "      <td>Mark Gordon</td>\n",
       "      <td>9.0</td>\n",
       "    </tr>\n",
       "    <tr>\n",
       "      <th>3</th>\n",
       "      <td>0</td>\n",
       "      <td>NaN</td>\n",
       "      <td>56077</td>\n",
       "      <td>120271</td>\n",
       "      <td>0.978989</td>\n",
       "      <td>NaN</td>\n",
       "      <td>96.0</td>\n",
       "      <td>Released</td>\n",
       "      <td>Talk of Angels</td>\n",
       "      <td>1998-10-30</td>\n",
       "      <td>...</td>\n",
       "      <td>1.0</td>\n",
       "      <td>1.0</td>\n",
       "      <td>Frances McDormand</td>\n",
       "      <td>10.0</td>\n",
       "      <td>2.0</td>\n",
       "      <td>Nick Hamm</td>\n",
       "      <td>6.0</td>\n",
       "      <td>NaN</td>\n",
       "      <td>NaN</td>\n",
       "      <td>NaN</td>\n",
       "    </tr>\n",
       "    <tr>\n",
       "      <th>4</th>\n",
       "      <td>0</td>\n",
       "      <td>NaN</td>\n",
       "      <td>52855</td>\n",
       "      <td>118927</td>\n",
       "      <td>1.463219</td>\n",
       "      <td>3028094.0</td>\n",
       "      <td>95.0</td>\n",
       "      <td>Released</td>\n",
       "      <td>Dangerous Ground</td>\n",
       "      <td>1997-02-12</td>\n",
       "      <td>...</td>\n",
       "      <td>16.0</td>\n",
       "      <td>1.0</td>\n",
       "      <td>Elizabeth Hurley</td>\n",
       "      <td>8.0</td>\n",
       "      <td>0.0</td>\n",
       "      <td>Darrell James Roodt</td>\n",
       "      <td>7.0</td>\n",
       "      <td>NaN</td>\n",
       "      <td>NaN</td>\n",
       "      <td>NaN</td>\n",
       "    </tr>\n",
       "  </tbody>\n",
       "</table>\n",
       "<p>5 rows × 52 columns</p>\n",
       "</div>"
      ],
      "text/plain": [
       "   series      budget     id  imdb_id popularity     revenue  runtime  \\\n",
       "0       0   1000000.0  32872   118523   2.700061         NaN    113.0   \n",
       "1       0  53000000.0   9054   119214   2.289647         NaN     94.0   \n",
       "2       0  60000000.0  11015   120004   7.699967  33956608.0    110.0   \n",
       "3       0         NaN  56077   120271   0.978989         NaN     96.0   \n",
       "4       0         NaN  52855   118927   1.463219   3028094.0     95.0   \n",
       "\n",
       "     status              title release_date  ...  freq_lead  gender_support  \\\n",
       "0  Released  Til There Was You   1997-05-30  ...        9.0             1.0   \n",
       "1  Released       Gone Fishin'   1997-05-30  ...        7.0             2.0   \n",
       "2  Released          The Relic   1997-01-10  ...        3.0             2.0   \n",
       "3  Released     Talk of Angels   1998-10-30  ...        1.0             1.0   \n",
       "4  Released   Dangerous Ground   1997-02-12  ...       16.0             1.0   \n",
       "\n",
       "              support  freq_support  gender_director             director  \\\n",
       "0  Jeanne Tripplehorn           2.0              2.0         Scott Winant   \n",
       "1        Danny Glover          20.0              2.0     Christopher Cain   \n",
       "2        Tom Sizemore           8.0              2.0          Peter Hyams   \n",
       "3   Frances McDormand          10.0              2.0            Nick Hamm   \n",
       "4    Elizabeth Hurley           8.0              0.0  Darrell James Roodt   \n",
       "\n",
       "   freq_dir  gender_ep     execprod  freq_ep  \n",
       "0       1.0        NaN          NaN      NaN  \n",
       "1      11.0        NaN          NaN      NaN  \n",
       "2      18.0        2.0  Mark Gordon      9.0  \n",
       "3       6.0        NaN          NaN      NaN  \n",
       "4       7.0        NaN          NaN      NaN  \n",
       "\n",
       "[5 rows x 52 columns]"
      ]
     },
     "execution_count": 101,
     "metadata": {},
     "output_type": "execute_result"
    }
   ],
   "source": [
    "movies10 = pd.merge(movies9, ep, how='left', on='id')\n",
    "movies10.head()"
   ]
  },
  {
   "cell_type": "code",
   "execution_count": 102,
   "id": "pQ549icWDBoy",
   "metadata": {
    "colab": {
     "base_uri": "https://localhost:8080/"
    },
    "id": "pQ549icWDBoy",
    "outputId": "0cf099a6-c535-4f60-8ff3-77f7f938e4b1"
   },
   "outputs": [
    {
     "data": {
      "text/plain": [
       "(8887, 52)"
      ]
     },
     "execution_count": 102,
     "metadata": {},
     "output_type": "execute_result"
    }
   ],
   "source": [
    "movies10.shape"
   ]
  },
  {
   "cell_type": "markdown",
   "id": "d33e13b8",
   "metadata": {},
   "source": [
    "создаем наборы данных, объединяя данные о языках озвучки, жанрах и производственных компаниях для фильмов. Скрипт также разделяет актеров, режиссеров и других членов съемочной группы, записывая их имена, пол и название должности, среди прочей информации, в отдельные наборы данных. Код также используется для очистки данных, например, путем удаления дублирующихся записей или удаления столбцов, которые не нужны."
   ]
  },
  {
   "cell_type": "code",
   "execution_count": 103,
   "id": "1iYwmZ6TDCrS",
   "metadata": {
    "colab": {
     "base_uri": "https://localhost:8080/",
     "height": 206
    },
    "id": "1iYwmZ6TDCrS",
    "outputId": "874598b8-d91d-418d-c0d6-873a69d26bcc"
   },
   "outputs": [
    {
     "data": {
      "text/html": [
       "<div>\n",
       "<style scoped>\n",
       "    .dataframe tbody tr th:only-of-type {\n",
       "        vertical-align: middle;\n",
       "    }\n",
       "\n",
       "    .dataframe tbody tr th {\n",
       "        vertical-align: top;\n",
       "    }\n",
       "\n",
       "    .dataframe thead th {\n",
       "        text-align: right;\n",
       "    }\n",
       "</style>\n",
       "<table border=\"1\" class=\"dataframe\">\n",
       "  <thead>\n",
       "    <tr style=\"text-align: right;\">\n",
       "      <th></th>\n",
       "      <th>gender_producer</th>\n",
       "      <th>id</th>\n",
       "      <th>producer</th>\n",
       "      <th>freq_producer</th>\n",
       "    </tr>\n",
       "  </thead>\n",
       "  <tbody>\n",
       "    <tr>\n",
       "      <th>5</th>\n",
       "      <td>1</td>\n",
       "      <td>862</td>\n",
       "      <td>Bonnie Arnold</td>\n",
       "      <td>4</td>\n",
       "    </tr>\n",
       "    <tr>\n",
       "      <th>7</th>\n",
       "      <td>2</td>\n",
       "      <td>862</td>\n",
       "      <td>Ralph Guggenheim</td>\n",
       "      <td>1</td>\n",
       "    </tr>\n",
       "    <tr>\n",
       "      <th>114</th>\n",
       "      <td>2</td>\n",
       "      <td>8844</td>\n",
       "      <td>Scott Kroopf</td>\n",
       "      <td>17</td>\n",
       "    </tr>\n",
       "    <tr>\n",
       "      <th>119</th>\n",
       "      <td>2</td>\n",
       "      <td>8844</td>\n",
       "      <td>William Teitler</td>\n",
       "      <td>7</td>\n",
       "    </tr>\n",
       "    <tr>\n",
       "      <th>128</th>\n",
       "      <td>0</td>\n",
       "      <td>31357</td>\n",
       "      <td>Ronald Bass</td>\n",
       "      <td>4</td>\n",
       "    </tr>\n",
       "  </tbody>\n",
       "</table>\n",
       "</div>"
      ],
      "text/plain": [
       "     gender_producer     id          producer  freq_producer\n",
       "5                  1    862     Bonnie Arnold              4\n",
       "7                  2    862  Ralph Guggenheim              1\n",
       "114                2   8844      Scott Kroopf             17\n",
       "119                2   8844   William Teitler              7\n",
       "128                0  31357       Ronald Bass              4"
      ]
     },
     "execution_count": 103,
     "metadata": {},
     "output_type": "execute_result"
    }
   ],
   "source": [
    "prod = crew[crew['job'] == 'Producer']\n",
    "prod = prod.rename(columns={'name':'producer','gender':'gender_producer'})\n",
    "prod.drop(columns=['job'], inplace=True)\n",
    "prod['freq_producer'] = prod['producer'].map(prod['producer'].value_counts())\n",
    "prod.head()"
   ]
  },
  {
   "cell_type": "code",
   "execution_count": 104,
   "id": "NbqqLi5BDL-s",
   "metadata": {
    "colab": {
     "base_uri": "https://localhost:8080/"
    },
    "id": "NbqqLi5BDL-s",
    "outputId": "a9d75196-b7fd-466d-b5fc-e7c9632d2170"
   },
   "outputs": [
    {
     "name": "stdout",
     "output_type": "stream",
     "text": [
      "(43555, 4)\n",
      "65\n"
     ]
    }
   ],
   "source": [
    "print(prod.shape)\n",
    "print(prod.duplicated().sum())"
   ]
  },
  {
   "cell_type": "code",
   "execution_count": 105,
   "id": "GFeQM80vDWlA",
   "metadata": {
    "colab": {
     "base_uri": "https://localhost:8080/"
    },
    "id": "GFeQM80vDWlA",
    "outputId": "53aac83a-12e4-4237-9ea5-270b9c94ae82"
   },
   "outputs": [],
   "source": [
    "prod.drop_duplicates(inplace=True)"
   ]
  },
  {
   "cell_type": "code",
   "execution_count": 106,
   "id": "vR9Cb3NMDYIe",
   "metadata": {
    "colab": {
     "base_uri": "https://localhost:8080/"
    },
    "id": "vR9Cb3NMDYIe",
    "outputId": "57933412-ceb7-45d1-8ae7-21caa138cb92"
   },
   "outputs": [
    {
     "data": {
      "text/plain": [
       "Darryl F. Zanuck    75\n",
       "Walt Disney         73\n",
       "Hal B. Wallis       70\n",
       "Brian Grazer        67\n",
       "Scott Rudin         62\n",
       "                    ..\n",
       "Oleg Kokhan          1\n",
       "Elma Tataragić       1\n",
       "William Girard       1\n",
       "Philippe Caland      1\n",
       "Hamid Nematollah     1\n",
       "Name: producer, Length: 20017, dtype: int64"
      ]
     },
     "execution_count": 106,
     "metadata": {},
     "output_type": "execute_result"
    }
   ],
   "source": [
    "prod.producer.value_counts()"
   ]
  },
  {
   "cell_type": "code",
   "execution_count": 107,
   "id": "e0HQHxuFDZnz",
   "metadata": {
    "colab": {
     "base_uri": "https://localhost:8080/"
    },
    "id": "e0HQHxuFDZnz",
    "outputId": "22e6cdd4-c5da-4316-a4ce-74dbb1817fdf"
   },
   "outputs": [
    {
     "data": {
      "text/plain": [
       "2    20308\n",
       "0    20219\n",
       "1     2963\n",
       "Name: gender_producer, dtype: int64"
      ]
     },
     "execution_count": 107,
     "metadata": {},
     "output_type": "execute_result"
    }
   ],
   "source": [
    "prod.gender_producer.value_counts()"
   ]
  },
  {
   "cell_type": "code",
   "execution_count": 108,
   "id": "aPaT5AEbDdQH",
   "metadata": {
    "id": "aPaT5AEbDdQH"
   },
   "outputs": [],
   "source": [
    "prod.sort_values(['id','freq_producer'], ascending=[True, False], inplace=True)\n",
    "prod.drop_duplicates(subset='id', keep='first', inplace=True)"
   ]
  },
  {
   "cell_type": "code",
   "execution_count": 109,
   "id": "HXJBUWdLDe_c",
   "metadata": {
    "colab": {
     "base_uri": "https://localhost:8080/"
    },
    "id": "HXJBUWdLDe_c",
    "outputId": "525a3f19-dc07-4260-8b0e-0cd6463a0eb6"
   },
   "outputs": [
    {
     "data": {
      "text/plain": [
       "(21986, 4)"
      ]
     },
     "execution_count": 109,
     "metadata": {},
     "output_type": "execute_result"
    }
   ],
   "source": [
    "prod.shape"
   ]
  },
  {
   "cell_type": "code",
   "execution_count": 110,
   "id": "w2-u15CFDhQt",
   "metadata": {
    "colab": {
     "base_uri": "https://localhost:8080/",
     "height": 421
    },
    "id": "w2-u15CFDhQt",
    "outputId": "1201cf04-5e84-4b62-cc6a-2ae6d58f9875"
   },
   "outputs": [
    {
     "data": {
      "text/html": [
       "<div>\n",
       "<style scoped>\n",
       "    .dataframe tbody tr th:only-of-type {\n",
       "        vertical-align: middle;\n",
       "    }\n",
       "\n",
       "    .dataframe tbody tr th {\n",
       "        vertical-align: top;\n",
       "    }\n",
       "\n",
       "    .dataframe thead th {\n",
       "        text-align: right;\n",
       "    }\n",
       "</style>\n",
       "<table border=\"1\" class=\"dataframe\">\n",
       "  <thead>\n",
       "    <tr style=\"text-align: right;\">\n",
       "      <th></th>\n",
       "      <th>series</th>\n",
       "      <th>budget</th>\n",
       "      <th>id</th>\n",
       "      <th>imdb_id</th>\n",
       "      <th>popularity</th>\n",
       "      <th>revenue</th>\n",
       "      <th>runtime</th>\n",
       "      <th>status</th>\n",
       "      <th>title</th>\n",
       "      <th>release_date</th>\n",
       "      <th>...</th>\n",
       "      <th>freq_support</th>\n",
       "      <th>gender_director</th>\n",
       "      <th>director</th>\n",
       "      <th>freq_dir</th>\n",
       "      <th>gender_ep</th>\n",
       "      <th>execprod</th>\n",
       "      <th>freq_ep</th>\n",
       "      <th>gender_producer</th>\n",
       "      <th>producer</th>\n",
       "      <th>freq_producer</th>\n",
       "    </tr>\n",
       "  </thead>\n",
       "  <tbody>\n",
       "    <tr>\n",
       "      <th>0</th>\n",
       "      <td>0</td>\n",
       "      <td>1000000.0</td>\n",
       "      <td>32872</td>\n",
       "      <td>118523</td>\n",
       "      <td>2.700061</td>\n",
       "      <td>NaN</td>\n",
       "      <td>113.0</td>\n",
       "      <td>Released</td>\n",
       "      <td>Til There Was You</td>\n",
       "      <td>1997-05-30</td>\n",
       "      <td>...</td>\n",
       "      <td>2.0</td>\n",
       "      <td>2.0</td>\n",
       "      <td>Scott Winant</td>\n",
       "      <td>1.0</td>\n",
       "      <td>NaN</td>\n",
       "      <td>NaN</td>\n",
       "      <td>NaN</td>\n",
       "      <td>1.0</td>\n",
       "      <td>Penney Finkelman Cox</td>\n",
       "      <td>4.0</td>\n",
       "    </tr>\n",
       "    <tr>\n",
       "      <th>1</th>\n",
       "      <td>0</td>\n",
       "      <td>53000000.0</td>\n",
       "      <td>9054</td>\n",
       "      <td>119214</td>\n",
       "      <td>2.289647</td>\n",
       "      <td>NaN</td>\n",
       "      <td>94.0</td>\n",
       "      <td>Released</td>\n",
       "      <td>Gone Fishin'</td>\n",
       "      <td>1997-05-30</td>\n",
       "      <td>...</td>\n",
       "      <td>20.0</td>\n",
       "      <td>2.0</td>\n",
       "      <td>Christopher Cain</td>\n",
       "      <td>11.0</td>\n",
       "      <td>NaN</td>\n",
       "      <td>NaN</td>\n",
       "      <td>NaN</td>\n",
       "      <td>2.0</td>\n",
       "      <td>Roger Birnbaum</td>\n",
       "      <td>36.0</td>\n",
       "    </tr>\n",
       "    <tr>\n",
       "      <th>2</th>\n",
       "      <td>0</td>\n",
       "      <td>60000000.0</td>\n",
       "      <td>11015</td>\n",
       "      <td>120004</td>\n",
       "      <td>7.699967</td>\n",
       "      <td>33956608.0</td>\n",
       "      <td>110.0</td>\n",
       "      <td>Released</td>\n",
       "      <td>The Relic</td>\n",
       "      <td>1997-01-10</td>\n",
       "      <td>...</td>\n",
       "      <td>8.0</td>\n",
       "      <td>2.0</td>\n",
       "      <td>Peter Hyams</td>\n",
       "      <td>18.0</td>\n",
       "      <td>2.0</td>\n",
       "      <td>Mark Gordon</td>\n",
       "      <td>9.0</td>\n",
       "      <td>1.0</td>\n",
       "      <td>Gale Anne Hurd</td>\n",
       "      <td>26.0</td>\n",
       "    </tr>\n",
       "    <tr>\n",
       "      <th>3</th>\n",
       "      <td>0</td>\n",
       "      <td>NaN</td>\n",
       "      <td>56077</td>\n",
       "      <td>120271</td>\n",
       "      <td>0.978989</td>\n",
       "      <td>NaN</td>\n",
       "      <td>96.0</td>\n",
       "      <td>Released</td>\n",
       "      <td>Talk of Angels</td>\n",
       "      <td>1998-10-30</td>\n",
       "      <td>...</td>\n",
       "      <td>10.0</td>\n",
       "      <td>2.0</td>\n",
       "      <td>Nick Hamm</td>\n",
       "      <td>6.0</td>\n",
       "      <td>NaN</td>\n",
       "      <td>NaN</td>\n",
       "      <td>NaN</td>\n",
       "      <td>NaN</td>\n",
       "      <td>NaN</td>\n",
       "      <td>NaN</td>\n",
       "    </tr>\n",
       "    <tr>\n",
       "      <th>4</th>\n",
       "      <td>0</td>\n",
       "      <td>NaN</td>\n",
       "      <td>52855</td>\n",
       "      <td>118927</td>\n",
       "      <td>1.463219</td>\n",
       "      <td>3028094.0</td>\n",
       "      <td>95.0</td>\n",
       "      <td>Released</td>\n",
       "      <td>Dangerous Ground</td>\n",
       "      <td>1997-02-12</td>\n",
       "      <td>...</td>\n",
       "      <td>8.0</td>\n",
       "      <td>0.0</td>\n",
       "      <td>Darrell James Roodt</td>\n",
       "      <td>7.0</td>\n",
       "      <td>NaN</td>\n",
       "      <td>NaN</td>\n",
       "      <td>NaN</td>\n",
       "      <td>NaN</td>\n",
       "      <td>NaN</td>\n",
       "      <td>NaN</td>\n",
       "    </tr>\n",
       "  </tbody>\n",
       "</table>\n",
       "<p>5 rows × 55 columns</p>\n",
       "</div>"
      ],
      "text/plain": [
       "   series      budget     id  imdb_id popularity     revenue  runtime  \\\n",
       "0       0   1000000.0  32872   118523   2.700061         NaN    113.0   \n",
       "1       0  53000000.0   9054   119214   2.289647         NaN     94.0   \n",
       "2       0  60000000.0  11015   120004   7.699967  33956608.0    110.0   \n",
       "3       0         NaN  56077   120271   0.978989         NaN     96.0   \n",
       "4       0         NaN  52855   118927   1.463219   3028094.0     95.0   \n",
       "\n",
       "     status              title release_date  ...  freq_support  \\\n",
       "0  Released  Til There Was You   1997-05-30  ...           2.0   \n",
       "1  Released       Gone Fishin'   1997-05-30  ...          20.0   \n",
       "2  Released          The Relic   1997-01-10  ...           8.0   \n",
       "3  Released     Talk of Angels   1998-10-30  ...          10.0   \n",
       "4  Released   Dangerous Ground   1997-02-12  ...           8.0   \n",
       "\n",
       "   gender_director             director  freq_dir  gender_ep     execprod  \\\n",
       "0              2.0         Scott Winant       1.0        NaN          NaN   \n",
       "1              2.0     Christopher Cain      11.0        NaN          NaN   \n",
       "2              2.0          Peter Hyams      18.0        2.0  Mark Gordon   \n",
       "3              2.0            Nick Hamm       6.0        NaN          NaN   \n",
       "4              0.0  Darrell James Roodt       7.0        NaN          NaN   \n",
       "\n",
       "   freq_ep  gender_producer              producer  freq_producer  \n",
       "0      NaN              1.0  Penney Finkelman Cox            4.0  \n",
       "1      NaN              2.0        Roger Birnbaum           36.0  \n",
       "2      9.0              1.0        Gale Anne Hurd           26.0  \n",
       "3      NaN              NaN                   NaN            NaN  \n",
       "4      NaN              NaN                   NaN            NaN  \n",
       "\n",
       "[5 rows x 55 columns]"
      ]
     },
     "execution_count": 110,
     "metadata": {},
     "output_type": "execute_result"
    }
   ],
   "source": [
    "movies11 = pd.merge(movies10, prod, how='left', on='id')\n",
    "movies11.head()"
   ]
  },
  {
   "cell_type": "code",
   "execution_count": 111,
   "id": "SXWpsuz_DjBT",
   "metadata": {
    "colab": {
     "base_uri": "https://localhost:8080/"
    },
    "id": "SXWpsuz_DjBT",
    "outputId": "dcd71e9a-413a-44f0-f281-9df634edbe72"
   },
   "outputs": [
    {
     "data": {
      "text/plain": [
       "(8887, 55)"
      ]
     },
     "execution_count": 111,
     "metadata": {},
     "output_type": "execute_result"
    }
   ],
   "source": [
    "movies11.shape"
   ]
  },
  {
   "cell_type": "code",
   "execution_count": 112,
   "id": "pkQpl5jFDkl6",
   "metadata": {
    "colab": {
     "base_uri": "https://localhost:8080/",
     "height": 206
    },
    "id": "pkQpl5jFDkl6",
    "outputId": "6ba62557-2d4d-458e-b236-d5c280d3cddb"
   },
   "outputs": [
    {
     "data": {
      "text/html": [
       "<div>\n",
       "<style scoped>\n",
       "    .dataframe tbody tr th:only-of-type {\n",
       "        vertical-align: middle;\n",
       "    }\n",
       "\n",
       "    .dataframe tbody tr th {\n",
       "        vertical-align: top;\n",
       "    }\n",
       "\n",
       "    .dataframe thead th {\n",
       "        text-align: right;\n",
       "    }\n",
       "</style>\n",
       "<table border=\"1\" class=\"dataframe\">\n",
       "  <thead>\n",
       "    <tr style=\"text-align: right;\">\n",
       "      <th></th>\n",
       "      <th>gender_scnply</th>\n",
       "      <th>id</th>\n",
       "      <th>writer</th>\n",
       "      <th>freq_scnply</th>\n",
       "    </tr>\n",
       "  </thead>\n",
       "  <tbody>\n",
       "    <tr>\n",
       "      <th>1</th>\n",
       "      <td>2</td>\n",
       "      <td>862</td>\n",
       "      <td>Joss Whedon</td>\n",
       "      <td>7</td>\n",
       "    </tr>\n",
       "    <tr>\n",
       "      <th>2</th>\n",
       "      <td>2</td>\n",
       "      <td>862</td>\n",
       "      <td>Andrew Stanton</td>\n",
       "      <td>8</td>\n",
       "    </tr>\n",
       "    <tr>\n",
       "      <th>3</th>\n",
       "      <td>2</td>\n",
       "      <td>862</td>\n",
       "      <td>Joel Cohen</td>\n",
       "      <td>6</td>\n",
       "    </tr>\n",
       "    <tr>\n",
       "      <th>4</th>\n",
       "      <td>0</td>\n",
       "      <td>862</td>\n",
       "      <td>Alec Sokolow</td>\n",
       "      <td>6</td>\n",
       "    </tr>\n",
       "    <tr>\n",
       "      <th>107</th>\n",
       "      <td>2</td>\n",
       "      <td>8844</td>\n",
       "      <td>Jonathan Hensleigh</td>\n",
       "      <td>7</td>\n",
       "    </tr>\n",
       "  </tbody>\n",
       "</table>\n",
       "</div>"
      ],
      "text/plain": [
       "     gender_scnply    id              writer  freq_scnply\n",
       "1                2   862         Joss Whedon            7\n",
       "2                2   862      Andrew Stanton            8\n",
       "3                2   862          Joel Cohen            6\n",
       "4                0   862        Alec Sokolow            6\n",
       "107              2  8844  Jonathan Hensleigh            7"
      ]
     },
     "execution_count": 112,
     "metadata": {},
     "output_type": "execute_result"
    }
   ],
   "source": [
    "scnply = crew[crew['job'] == 'Screenplay']\n",
    "scnply = scnply.rename(columns={'name':'writer','gender':'gender_scnply'})\n",
    "scnply.drop(columns=['job'], inplace=True)\n",
    "scnply['freq_scnply'] = scnply['writer'].map(scnply['writer'].value_counts())\n",
    "scnply.head()"
   ]
  },
  {
   "cell_type": "code",
   "execution_count": 113,
   "id": "PYo7mb_bDnXR",
   "metadata": {
    "colab": {
     "base_uri": "https://localhost:8080/"
    },
    "id": "PYo7mb_bDnXR",
    "outputId": "075a00cd-d6ca-486a-e6f2-3f443ce3e218"
   },
   "outputs": [
    {
     "name": "stdout",
     "output_type": "stream",
     "text": [
      "(25163, 4)\n",
      "20\n"
     ]
    }
   ],
   "source": [
    "print(scnply.shape)\n",
    "print(scnply.duplicated().sum())"
   ]
  },
  {
   "cell_type": "code",
   "execution_count": 114,
   "id": "PDIXLm56DtIk",
   "metadata": {
    "colab": {
     "base_uri": "https://localhost:8080/"
    },
    "id": "PDIXLm56DtIk",
    "outputId": "992276bb-d32a-496b-c685-c114df898af8"
   },
   "outputs": [],
   "source": [
    "scnply.drop_duplicates(inplace=True)"
   ]
  },
  {
   "cell_type": "code",
   "execution_count": 115,
   "id": "AMKXh8ccDu5U",
   "metadata": {
    "colab": {
     "base_uri": "https://localhost:8080/"
    },
    "id": "AMKXh8ccDu5U",
    "outputId": "121c1ac6-1936-4fc5-837b-d457ff644a3a"
   },
   "outputs": [
    {
     "data": {
      "text/plain": [
       "Ben Hecht             35\n",
       "Woody Allen           33\n",
       "Ernesto Gastaldi      30\n",
       "Dudley Nichols        29\n",
       "Nunnally Johnson      29\n",
       "                      ..\n",
       "Ripley Highsmith       1\n",
       "Matt Roe               1\n",
       "Sarett Tobias          1\n",
       "John Jacoby            1\n",
       "Jeffrey Goldenberg     1\n",
       "Name: writer, Length: 12817, dtype: int64"
      ]
     },
     "execution_count": 115,
     "metadata": {},
     "output_type": "execute_result"
    }
   ],
   "source": [
    "scnply.writer.value_counts()"
   ]
  },
  {
   "cell_type": "code",
   "execution_count": 116,
   "id": "R_VoOmkcDwWq",
   "metadata": {
    "colab": {
     "base_uri": "https://localhost:8080/"
    },
    "id": "R_VoOmkcDwWq",
    "outputId": "8ba236e9-2762-4fb7-f19a-0699f533de20"
   },
   "outputs": [
    {
     "data": {
      "text/plain": [
       "2    12900\n",
       "0    10910\n",
       "1     1333\n",
       "Name: gender_scnply, dtype: int64"
      ]
     },
     "execution_count": 116,
     "metadata": {},
     "output_type": "execute_result"
    }
   ],
   "source": [
    "scnply.gender_scnply.value_counts()"
   ]
  },
  {
   "cell_type": "code",
   "execution_count": 117,
   "id": "YHHbCb9RDx5_",
   "metadata": {
    "colab": {
     "base_uri": "https://localhost:8080/"
    },
    "id": "YHHbCb9RDx5_",
    "outputId": "9c7bf2c9-7d4c-4be7-8e48-86c6fe8a048a"
   },
   "outputs": [
    {
     "data": {
      "text/plain": [
       "(25143, 4)"
      ]
     },
     "execution_count": 117,
     "metadata": {},
     "output_type": "execute_result"
    }
   ],
   "source": [
    "scnply.shape"
   ]
  },
  {
   "cell_type": "code",
   "execution_count": 118,
   "id": "1S0TRaLMD055",
   "metadata": {
    "colab": {
     "base_uri": "https://localhost:8080/"
    },
    "id": "1S0TRaLMD055",
    "outputId": "0d961a67-4501-442d-c421-e7bd36501077"
   },
   "outputs": [
    {
     "data": {
      "text/plain": [
       "(15713, 4)"
      ]
     },
     "execution_count": 118,
     "metadata": {},
     "output_type": "execute_result"
    }
   ],
   "source": [
    "scnply.sort_values(['id','freq_scnply'], ascending=[True, False], inplace=True)\n",
    "scnply.drop_duplicates(subset='id', keep='first', inplace=True)\n",
    "scnply.shape"
   ]
  },
  {
   "cell_type": "code",
   "execution_count": 119,
   "id": "TxOURZ7PD3Qz",
   "metadata": {
    "colab": {
     "base_uri": "https://localhost:8080/",
     "height": 403
    },
    "id": "TxOURZ7PD3Qz",
    "outputId": "c0906f49-06ce-479e-c9ea-f4635a3ecf26"
   },
   "outputs": [
    {
     "data": {
      "text/html": [
       "<div>\n",
       "<style scoped>\n",
       "    .dataframe tbody tr th:only-of-type {\n",
       "        vertical-align: middle;\n",
       "    }\n",
       "\n",
       "    .dataframe tbody tr th {\n",
       "        vertical-align: top;\n",
       "    }\n",
       "\n",
       "    .dataframe thead th {\n",
       "        text-align: right;\n",
       "    }\n",
       "</style>\n",
       "<table border=\"1\" class=\"dataframe\">\n",
       "  <thead>\n",
       "    <tr style=\"text-align: right;\">\n",
       "      <th></th>\n",
       "      <th>series</th>\n",
       "      <th>budget</th>\n",
       "      <th>id</th>\n",
       "      <th>imdb_id</th>\n",
       "      <th>popularity</th>\n",
       "      <th>revenue</th>\n",
       "      <th>runtime</th>\n",
       "      <th>status</th>\n",
       "      <th>title</th>\n",
       "      <th>release_date</th>\n",
       "      <th>...</th>\n",
       "      <th>freq_dir</th>\n",
       "      <th>gender_ep</th>\n",
       "      <th>execprod</th>\n",
       "      <th>freq_ep</th>\n",
       "      <th>gender_producer</th>\n",
       "      <th>producer</th>\n",
       "      <th>freq_producer</th>\n",
       "      <th>gender_scnply</th>\n",
       "      <th>writer</th>\n",
       "      <th>freq_scnply</th>\n",
       "    </tr>\n",
       "  </thead>\n",
       "  <tbody>\n",
       "    <tr>\n",
       "      <th>0</th>\n",
       "      <td>0</td>\n",
       "      <td>1000000.0</td>\n",
       "      <td>32872</td>\n",
       "      <td>118523</td>\n",
       "      <td>2.700061</td>\n",
       "      <td>NaN</td>\n",
       "      <td>113.0</td>\n",
       "      <td>Released</td>\n",
       "      <td>Til There Was You</td>\n",
       "      <td>1997-05-30</td>\n",
       "      <td>...</td>\n",
       "      <td>1.0</td>\n",
       "      <td>NaN</td>\n",
       "      <td>NaN</td>\n",
       "      <td>NaN</td>\n",
       "      <td>1.0</td>\n",
       "      <td>Penney Finkelman Cox</td>\n",
       "      <td>4.0</td>\n",
       "      <td>NaN</td>\n",
       "      <td>NaN</td>\n",
       "      <td>NaN</td>\n",
       "    </tr>\n",
       "    <tr>\n",
       "      <th>1</th>\n",
       "      <td>0</td>\n",
       "      <td>53000000.0</td>\n",
       "      <td>9054</td>\n",
       "      <td>119214</td>\n",
       "      <td>2.289647</td>\n",
       "      <td>NaN</td>\n",
       "      <td>94.0</td>\n",
       "      <td>Released</td>\n",
       "      <td>Gone Fishin'</td>\n",
       "      <td>1997-05-30</td>\n",
       "      <td>...</td>\n",
       "      <td>11.0</td>\n",
       "      <td>NaN</td>\n",
       "      <td>NaN</td>\n",
       "      <td>NaN</td>\n",
       "      <td>2.0</td>\n",
       "      <td>Roger Birnbaum</td>\n",
       "      <td>36.0</td>\n",
       "      <td>NaN</td>\n",
       "      <td>NaN</td>\n",
       "      <td>NaN</td>\n",
       "    </tr>\n",
       "    <tr>\n",
       "      <th>2</th>\n",
       "      <td>0</td>\n",
       "      <td>60000000.0</td>\n",
       "      <td>11015</td>\n",
       "      <td>120004</td>\n",
       "      <td>7.699967</td>\n",
       "      <td>33956608.0</td>\n",
       "      <td>110.0</td>\n",
       "      <td>Released</td>\n",
       "      <td>The Relic</td>\n",
       "      <td>1997-01-10</td>\n",
       "      <td>...</td>\n",
       "      <td>18.0</td>\n",
       "      <td>2.0</td>\n",
       "      <td>Mark Gordon</td>\n",
       "      <td>9.0</td>\n",
       "      <td>1.0</td>\n",
       "      <td>Gale Anne Hurd</td>\n",
       "      <td>26.0</td>\n",
       "      <td>1.0</td>\n",
       "      <td>Amy Holden Jones</td>\n",
       "      <td>5.0</td>\n",
       "    </tr>\n",
       "    <tr>\n",
       "      <th>3</th>\n",
       "      <td>0</td>\n",
       "      <td>NaN</td>\n",
       "      <td>56077</td>\n",
       "      <td>120271</td>\n",
       "      <td>0.978989</td>\n",
       "      <td>NaN</td>\n",
       "      <td>96.0</td>\n",
       "      <td>Released</td>\n",
       "      <td>Talk of Angels</td>\n",
       "      <td>1998-10-30</td>\n",
       "      <td>...</td>\n",
       "      <td>6.0</td>\n",
       "      <td>NaN</td>\n",
       "      <td>NaN</td>\n",
       "      <td>NaN</td>\n",
       "      <td>NaN</td>\n",
       "      <td>NaN</td>\n",
       "      <td>NaN</td>\n",
       "      <td>2.0</td>\n",
       "      <td>Frank McGuinness</td>\n",
       "      <td>2.0</td>\n",
       "    </tr>\n",
       "    <tr>\n",
       "      <th>4</th>\n",
       "      <td>0</td>\n",
       "      <td>NaN</td>\n",
       "      <td>52855</td>\n",
       "      <td>118927</td>\n",
       "      <td>1.463219</td>\n",
       "      <td>3028094.0</td>\n",
       "      <td>95.0</td>\n",
       "      <td>Released</td>\n",
       "      <td>Dangerous Ground</td>\n",
       "      <td>1997-02-12</td>\n",
       "      <td>...</td>\n",
       "      <td>7.0</td>\n",
       "      <td>NaN</td>\n",
       "      <td>NaN</td>\n",
       "      <td>NaN</td>\n",
       "      <td>NaN</td>\n",
       "      <td>NaN</td>\n",
       "      <td>NaN</td>\n",
       "      <td>NaN</td>\n",
       "      <td>NaN</td>\n",
       "      <td>NaN</td>\n",
       "    </tr>\n",
       "  </tbody>\n",
       "</table>\n",
       "<p>5 rows × 58 columns</p>\n",
       "</div>"
      ],
      "text/plain": [
       "   series      budget     id  imdb_id popularity     revenue  runtime  \\\n",
       "0       0   1000000.0  32872   118523   2.700061         NaN    113.0   \n",
       "1       0  53000000.0   9054   119214   2.289647         NaN     94.0   \n",
       "2       0  60000000.0  11015   120004   7.699967  33956608.0    110.0   \n",
       "3       0         NaN  56077   120271   0.978989         NaN     96.0   \n",
       "4       0         NaN  52855   118927   1.463219   3028094.0     95.0   \n",
       "\n",
       "     status              title release_date  ...  freq_dir  gender_ep  \\\n",
       "0  Released  Til There Was You   1997-05-30  ...       1.0        NaN   \n",
       "1  Released       Gone Fishin'   1997-05-30  ...      11.0        NaN   \n",
       "2  Released          The Relic   1997-01-10  ...      18.0        2.0   \n",
       "3  Released     Talk of Angels   1998-10-30  ...       6.0        NaN   \n",
       "4  Released   Dangerous Ground   1997-02-12  ...       7.0        NaN   \n",
       "\n",
       "      execprod  freq_ep  gender_producer              producer  freq_producer  \\\n",
       "0          NaN      NaN              1.0  Penney Finkelman Cox            4.0   \n",
       "1          NaN      NaN              2.0        Roger Birnbaum           36.0   \n",
       "2  Mark Gordon      9.0              1.0        Gale Anne Hurd           26.0   \n",
       "3          NaN      NaN              NaN                   NaN            NaN   \n",
       "4          NaN      NaN              NaN                   NaN            NaN   \n",
       "\n",
       "   gender_scnply            writer  freq_scnply  \n",
       "0            NaN               NaN          NaN  \n",
       "1            NaN               NaN          NaN  \n",
       "2            1.0  Amy Holden Jones          5.0  \n",
       "3            2.0  Frank McGuinness          2.0  \n",
       "4            NaN               NaN          NaN  \n",
       "\n",
       "[5 rows x 58 columns]"
      ]
     },
     "execution_count": 119,
     "metadata": {},
     "output_type": "execute_result"
    }
   ],
   "source": [
    "movies12 = pd.merge(movies11, scnply, how='left', on='id')\n",
    "movies12.head()"
   ]
  },
  {
   "cell_type": "code",
   "execution_count": 120,
   "id": "oAwV95d7D8Vu",
   "metadata": {
    "colab": {
     "base_uri": "https://localhost:8080/",
     "height": 206
    },
    "id": "oAwV95d7D8Vu",
    "outputId": "af24fcd7-922c-422c-e182-a20564bb1fa1"
   },
   "outputs": [
    {
     "data": {
      "text/html": [
       "<div>\n",
       "<style scoped>\n",
       "    .dataframe tbody tr th:only-of-type {\n",
       "        vertical-align: middle;\n",
       "    }\n",
       "\n",
       "    .dataframe tbody tr th {\n",
       "        vertical-align: top;\n",
       "    }\n",
       "\n",
       "    .dataframe thead th {\n",
       "        text-align: right;\n",
       "    }\n",
       "</style>\n",
       "<table border=\"1\" class=\"dataframe\">\n",
       "  <thead>\n",
       "    <tr style=\"text-align: right;\">\n",
       "      <th></th>\n",
       "      <th>id</th>\n",
       "      <th>keywords</th>\n",
       "    </tr>\n",
       "  </thead>\n",
       "  <tbody>\n",
       "    <tr>\n",
       "      <th>0</th>\n",
       "      <td>862</td>\n",
       "      <td>[{'id': 931, 'name': 'jealousy'}, {'id': 4290,...</td>\n",
       "    </tr>\n",
       "    <tr>\n",
       "      <th>1</th>\n",
       "      <td>8844</td>\n",
       "      <td>[{'id': 10090, 'name': 'board game'}, {'id': 1...</td>\n",
       "    </tr>\n",
       "    <tr>\n",
       "      <th>2</th>\n",
       "      <td>15602</td>\n",
       "      <td>[{'id': 1495, 'name': 'fishing'}, {'id': 12392...</td>\n",
       "    </tr>\n",
       "    <tr>\n",
       "      <th>3</th>\n",
       "      <td>31357</td>\n",
       "      <td>[{'id': 818, 'name': 'based on novel'}, {'id':...</td>\n",
       "    </tr>\n",
       "    <tr>\n",
       "      <th>4</th>\n",
       "      <td>11862</td>\n",
       "      <td>[{'id': 1009, 'name': 'baby'}, {'id': 1599, 'n...</td>\n",
       "    </tr>\n",
       "  </tbody>\n",
       "</table>\n",
       "</div>"
      ],
      "text/plain": [
       "      id                                           keywords\n",
       "0    862  [{'id': 931, 'name': 'jealousy'}, {'id': 4290,...\n",
       "1   8844  [{'id': 10090, 'name': 'board game'}, {'id': 1...\n",
       "2  15602  [{'id': 1495, 'name': 'fishing'}, {'id': 12392...\n",
       "3  31357  [{'id': 818, 'name': 'based on novel'}, {'id':...\n",
       "4  11862  [{'id': 1009, 'name': 'baby'}, {'id': 1599, 'n..."
      ]
     },
     "execution_count": 120,
     "metadata": {},
     "output_type": "execute_result"
    }
   ],
   "source": [
    "# Добавить ключевые слова\n",
    "\n",
    "keywords = pd.read_csv('./keywords.csv')\n",
    "keywords.head()"
   ]
  },
  {
   "cell_type": "code",
   "execution_count": 121,
   "id": "mBX0hRJtPqtn",
   "metadata": {
    "colab": {
     "base_uri": "https://localhost:8080/"
    },
    "id": "mBX0hRJtPqtn",
    "outputId": "1c09ff3e-2c02-4916-d2b2-004cfca1e314"
   },
   "outputs": [
    {
     "name": "stdout",
     "output_type": "stream",
     "text": [
      "(46419, 2)\n",
      "987\n"
     ]
    }
   ],
   "source": [
    "print(keywords.shape)\n",
    "print(keywords.duplicated().sum())"
   ]
  },
  {
   "cell_type": "code",
   "execution_count": 122,
   "id": "9bM4vZSNPtZt",
   "metadata": {
    "colab": {
     "base_uri": "https://localhost:8080/"
    },
    "id": "9bM4vZSNPtZt",
    "outputId": "93621bdb-3558-4925-a5d0-7423f3edaa1e"
   },
   "outputs": [
    {
     "data": {
      "text/plain": [
       "(45432, 2)"
      ]
     },
     "execution_count": 122,
     "metadata": {},
     "output_type": "execute_result"
    }
   ],
   "source": [
    "keywords.drop_duplicates(inplace=True)\n",
    "keywords.shape"
   ]
  },
  {
   "cell_type": "code",
   "execution_count": 123,
   "id": "fBdn26YAPvx-",
   "metadata": {
    "colab": {
     "base_uri": "https://localhost:8080/",
     "height": 206
    },
    "id": "fBdn26YAPvx-",
    "outputId": "c644f8a2-299a-497a-a187-50f25f7194b8"
   },
   "outputs": [],
   "source": [
    "kwlist = []\n",
    "\n",
    "for i in range(keywords.shape[0]):\n",
    "    keyw = eval(keywords['keywords'].iloc[i])\n",
    "    for each in keyw:\n",
    "        each['id'] = keywords['id'].iloc[i]\n",
    "    kwlist.extend(keyw)\n",
    "k = pd.DataFrame(kwlist)\n",
    "\n",
    "k = k.rename(columns={'name':'keyword'})"
   ]
  },
  {
   "cell_type": "code",
   "execution_count": 124,
   "id": "L9vwdK2NPyJW",
   "metadata": {
    "colab": {
     "base_uri": "https://localhost:8080/",
     "height": 206
    },
    "id": "L9vwdK2NPyJW",
    "outputId": "9a7e46d6-9dda-4243-ef11-a5f3fb938476"
   },
   "outputs": [
    {
     "data": {
      "text/html": [
       "<div>\n",
       "<style scoped>\n",
       "    .dataframe tbody tr th:only-of-type {\n",
       "        vertical-align: middle;\n",
       "    }\n",
       "\n",
       "    .dataframe tbody tr th {\n",
       "        vertical-align: top;\n",
       "    }\n",
       "\n",
       "    .dataframe thead th {\n",
       "        text-align: right;\n",
       "    }\n",
       "</style>\n",
       "<table border=\"1\" class=\"dataframe\">\n",
       "  <thead>\n",
       "    <tr style=\"text-align: right;\">\n",
       "      <th></th>\n",
       "      <th>id</th>\n",
       "      <th>keyword</th>\n",
       "    </tr>\n",
       "  </thead>\n",
       "  <tbody>\n",
       "    <tr>\n",
       "      <th>0</th>\n",
       "      <td>2</td>\n",
       "      <td>underdog, prison, factory worker, prisoner, he...</td>\n",
       "    </tr>\n",
       "    <tr>\n",
       "      <th>1</th>\n",
       "      <td>3</td>\n",
       "      <td>salesclerk, helsinki, garbage, independent film</td>\n",
       "    </tr>\n",
       "    <tr>\n",
       "      <th>2</th>\n",
       "      <td>5</td>\n",
       "      <td>hotel, new year's eve, witch, bet, hotel room,...</td>\n",
       "    </tr>\n",
       "    <tr>\n",
       "      <th>3</th>\n",
       "      <td>6</td>\n",
       "      <td>chicago, drug dealer, boxing match, escape, on...</td>\n",
       "    </tr>\n",
       "    <tr>\n",
       "      <th>4</th>\n",
       "      <td>11</td>\n",
       "      <td>android, galaxy, hermit, death star, lightsabe...</td>\n",
       "    </tr>\n",
       "  </tbody>\n",
       "</table>\n",
       "</div>"
      ],
      "text/plain": [
       "   id                                            keyword\n",
       "0   2  underdog, prison, factory worker, prisoner, he...\n",
       "1   3    salesclerk, helsinki, garbage, independent film\n",
       "2   5  hotel, new year's eve, witch, bet, hotel room,...\n",
       "3   6  chicago, drug dealer, boxing match, escape, on...\n",
       "4  11  android, galaxy, hermit, death star, lightsabe..."
      ]
     },
     "execution_count": 124,
     "metadata": {},
     "output_type": "execute_result"
    }
   ],
   "source": [
    "k = k.groupby('id')['keyword'].apply(', '.join).reset_index()\n",
    "k.head()"
   ]
  },
  {
   "cell_type": "code",
   "execution_count": 125,
   "id": "uVqsoAzGP2yS",
   "metadata": {
    "colab": {
     "base_uri": "https://localhost:8080/"
    },
    "id": "uVqsoAzGP2yS",
    "outputId": "4140f9b4-2936-4c25-ef01-40a2b555ba20"
   },
   "outputs": [
    {
     "name": "stderr",
     "output_type": "stream",
     "text": [
      "[nltk_data] Downloading package punkt to\n",
      "[nltk_data]     C:\\Users\\arina\\AppData\\Roaming\\nltk_data...\n",
      "[nltk_data]   Package punkt is already up-to-date!\n",
      "[nltk_data] Downloading package vader_lexicon to\n",
      "[nltk_data]     C:\\Users\\arina\\AppData\\Roaming\\nltk_data...\n",
      "[nltk_data]   Package vader_lexicon is already up-to-date!\n"
     ]
    },
    {
     "data": {
      "text/plain": [
       "True"
      ]
     },
     "execution_count": 125,
     "metadata": {},
     "output_type": "execute_result"
    }
   ],
   "source": [
    "nltk.download('punkt')\n",
    "nltk.download('vader_lexicon')"
   ]
  },
  {
   "cell_type": "markdown",
   "id": "57a80f17",
   "metadata": {},
   "source": [
    "создаем набор фреймов данных, объединяя данные о языках озвучки, жанрах и производственных компаниях для фильмов. Скрипт также разделяет актеров, режиссеров и других членов экипажа, записывая их имена, пол и должности, среди прочей информации, в отдельные фреймы данных. Код также используется для очистки данных, например, удаления дублирующихся записей или отбрасывания ненужных столбцов."
   ]
  },
  {
   "cell_type": "code",
   "execution_count": 126,
   "id": "ph13iYjlP5aL",
   "metadata": {
    "id": "ph13iYjlP5aL"
   },
   "outputs": [
    {
     "name": "stderr",
     "output_type": "stream",
     "text": [
      "C:\\Users\\arina\\AppData\\Local\\Programs\\Python\\Python310\\lib\\site-packages\\sklearn\\feature_extraction\\text.py:528: UserWarning: The parameter 'token_pattern' will not be used since 'tokenizer' is not None'\n",
      "  warnings.warn(\n"
     ]
    }
   ],
   "source": [
    "from nltk.tokenize import word_tokenize\n",
    "from sklearn.feature_extraction.text import TfidfVectorizer\n",
    "vect = TfidfVectorizer(tokenizer=word_tokenize,ngram_range=(1,2), binary=True, max_features=30,stop_words='english')\n",
    "TFIDF=vect.fit_transform(k['keyword'])"
   ]
  },
  {
   "cell_type": "code",
   "execution_count": 127,
   "id": "-fG1UwI-P_z_",
   "metadata": {
    "colab": {
     "base_uri": "https://localhost:8080/",
     "height": 525
    },
    "id": "-fG1UwI-P_z_",
    "outputId": "5e5dc392-ddbb-44cb-9789-1dcc5e8cc523"
   },
   "outputs": [
    {
     "data": {
      "text/html": [
       "<div>\n",
       "<style scoped>\n",
       "    .dataframe tbody tr th:only-of-type {\n",
       "        vertical-align: middle;\n",
       "    }\n",
       "\n",
       "    .dataframe tbody tr th {\n",
       "        vertical-align: top;\n",
       "    }\n",
       "\n",
       "    .dataframe thead th {\n",
       "        text-align: right;\n",
       "    }\n",
       "</style>\n",
       "<table border=\"1\" class=\"dataframe\">\n",
       "  <thead>\n",
       "    <tr style=\"text-align: right;\">\n",
       "      <th></th>\n",
       "      <th>series</th>\n",
       "      <th>budget</th>\n",
       "      <th>id</th>\n",
       "      <th>imdb_id</th>\n",
       "      <th>popularity</th>\n",
       "      <th>revenue</th>\n",
       "      <th>runtime</th>\n",
       "      <th>status</th>\n",
       "      <th>title</th>\n",
       "      <th>release_date</th>\n",
       "      <th>...</th>\n",
       "      <th>gender_ep</th>\n",
       "      <th>execprod</th>\n",
       "      <th>freq_ep</th>\n",
       "      <th>gender_producer</th>\n",
       "      <th>producer</th>\n",
       "      <th>freq_producer</th>\n",
       "      <th>gender_scnply</th>\n",
       "      <th>writer</th>\n",
       "      <th>freq_scnply</th>\n",
       "      <th>keyword</th>\n",
       "    </tr>\n",
       "  </thead>\n",
       "  <tbody>\n",
       "    <tr>\n",
       "      <th>0</th>\n",
       "      <td>0</td>\n",
       "      <td>1000000.0</td>\n",
       "      <td>32872</td>\n",
       "      <td>118523</td>\n",
       "      <td>2.700061</td>\n",
       "      <td>NaN</td>\n",
       "      <td>113.0</td>\n",
       "      <td>Released</td>\n",
       "      <td>Til There Was You</td>\n",
       "      <td>1997-05-30</td>\n",
       "      <td>...</td>\n",
       "      <td>NaN</td>\n",
       "      <td>NaN</td>\n",
       "      <td>NaN</td>\n",
       "      <td>1.0</td>\n",
       "      <td>Penney Finkelman Cox</td>\n",
       "      <td>4.0</td>\n",
       "      <td>NaN</td>\n",
       "      <td>NaN</td>\n",
       "      <td>NaN</td>\n",
       "      <td>poem, father son relationship, support group, ...</td>\n",
       "    </tr>\n",
       "    <tr>\n",
       "      <th>1</th>\n",
       "      <td>0</td>\n",
       "      <td>53000000.0</td>\n",
       "      <td>9054</td>\n",
       "      <td>119214</td>\n",
       "      <td>2.289647</td>\n",
       "      <td>NaN</td>\n",
       "      <td>94.0</td>\n",
       "      <td>Released</td>\n",
       "      <td>Gone Fishin'</td>\n",
       "      <td>1997-05-30</td>\n",
       "      <td>...</td>\n",
       "      <td>NaN</td>\n",
       "      <td>NaN</td>\n",
       "      <td>NaN</td>\n",
       "      <td>2.0</td>\n",
       "      <td>Roger Birnbaum</td>\n",
       "      <td>36.0</td>\n",
       "      <td>NaN</td>\n",
       "      <td>NaN</td>\n",
       "      <td>NaN</td>\n",
       "      <td>sea, boat, fishing, rogue</td>\n",
       "    </tr>\n",
       "    <tr>\n",
       "      <th>2</th>\n",
       "      <td>0</td>\n",
       "      <td>60000000.0</td>\n",
       "      <td>11015</td>\n",
       "      <td>120004</td>\n",
       "      <td>7.699967</td>\n",
       "      <td>33956608.0</td>\n",
       "      <td>110.0</td>\n",
       "      <td>Released</td>\n",
       "      <td>The Relic</td>\n",
       "      <td>1997-01-10</td>\n",
       "      <td>...</td>\n",
       "      <td>2.0</td>\n",
       "      <td>Mark Gordon</td>\n",
       "      <td>9.0</td>\n",
       "      <td>1.0</td>\n",
       "      <td>Gale Anne Hurd</td>\n",
       "      <td>26.0</td>\n",
       "      <td>1.0</td>\n",
       "      <td>Amy Holden Jones</td>\n",
       "      <td>5.0</td>\n",
       "      <td>chicago, based on novel, monster, museum, pile...</td>\n",
       "    </tr>\n",
       "    <tr>\n",
       "      <th>3</th>\n",
       "      <td>0</td>\n",
       "      <td>NaN</td>\n",
       "      <td>56077</td>\n",
       "      <td>120271</td>\n",
       "      <td>0.978989</td>\n",
       "      <td>NaN</td>\n",
       "      <td>96.0</td>\n",
       "      <td>Released</td>\n",
       "      <td>Talk of Angels</td>\n",
       "      <td>1998-10-30</td>\n",
       "      <td>...</td>\n",
       "      <td>NaN</td>\n",
       "      <td>NaN</td>\n",
       "      <td>NaN</td>\n",
       "      <td>NaN</td>\n",
       "      <td>NaN</td>\n",
       "      <td>NaN</td>\n",
       "      <td>2.0</td>\n",
       "      <td>Frank McGuinness</td>\n",
       "      <td>2.0</td>\n",
       "      <td>independent film</td>\n",
       "    </tr>\n",
       "    <tr>\n",
       "      <th>4</th>\n",
       "      <td>0</td>\n",
       "      <td>NaN</td>\n",
       "      <td>52855</td>\n",
       "      <td>118927</td>\n",
       "      <td>1.463219</td>\n",
       "      <td>3028094.0</td>\n",
       "      <td>95.0</td>\n",
       "      <td>Released</td>\n",
       "      <td>Dangerous Ground</td>\n",
       "      <td>1997-02-12</td>\n",
       "      <td>...</td>\n",
       "      <td>NaN</td>\n",
       "      <td>NaN</td>\n",
       "      <td>NaN</td>\n",
       "      <td>NaN</td>\n",
       "      <td>NaN</td>\n",
       "      <td>NaN</td>\n",
       "      <td>NaN</td>\n",
       "      <td>NaN</td>\n",
       "      <td>NaN</td>\n",
       "      <td>independent film</td>\n",
       "    </tr>\n",
       "  </tbody>\n",
       "</table>\n",
       "<p>5 rows × 59 columns</p>\n",
       "</div>"
      ],
      "text/plain": [
       "   series      budget     id  imdb_id popularity     revenue  runtime  \\\n",
       "0       0   1000000.0  32872   118523   2.700061         NaN    113.0   \n",
       "1       0  53000000.0   9054   119214   2.289647         NaN     94.0   \n",
       "2       0  60000000.0  11015   120004   7.699967  33956608.0    110.0   \n",
       "3       0         NaN  56077   120271   0.978989         NaN     96.0   \n",
       "4       0         NaN  52855   118927   1.463219   3028094.0     95.0   \n",
       "\n",
       "     status              title release_date  ...  gender_ep     execprod  \\\n",
       "0  Released  Til There Was You   1997-05-30  ...        NaN          NaN   \n",
       "1  Released       Gone Fishin'   1997-05-30  ...        NaN          NaN   \n",
       "2  Released          The Relic   1997-01-10  ...        2.0  Mark Gordon   \n",
       "3  Released     Talk of Angels   1998-10-30  ...        NaN          NaN   \n",
       "4  Released   Dangerous Ground   1997-02-12  ...        NaN          NaN   \n",
       "\n",
       "   freq_ep  gender_producer              producer  freq_producer  \\\n",
       "0      NaN              1.0  Penney Finkelman Cox            4.0   \n",
       "1      NaN              2.0        Roger Birnbaum           36.0   \n",
       "2      9.0              1.0        Gale Anne Hurd           26.0   \n",
       "3      NaN              NaN                   NaN            NaN   \n",
       "4      NaN              NaN                   NaN            NaN   \n",
       "\n",
       "   gender_scnply            writer  freq_scnply  \\\n",
       "0            NaN               NaN          NaN   \n",
       "1            NaN               NaN          NaN   \n",
       "2            1.0  Amy Holden Jones          5.0   \n",
       "3            2.0  Frank McGuinness          2.0   \n",
       "4            NaN               NaN          NaN   \n",
       "\n",
       "                                             keyword  \n",
       "0  poem, father son relationship, support group, ...  \n",
       "1                          sea, boat, fishing, rogue  \n",
       "2  chicago, based on novel, monster, museum, pile...  \n",
       "3                                   independent film  \n",
       "4                                   independent film  \n",
       "\n",
       "[5 rows x 59 columns]"
      ]
     },
     "execution_count": 127,
     "metadata": {},
     "output_type": "execute_result"
    }
   ],
   "source": [
    "movies13 = pd.merge(movies12, k, how='left', on='id')\n",
    "movies13.head()"
   ]
  },
  {
   "cell_type": "code",
   "execution_count": 128,
   "id": "nETX0RouhVcw",
   "metadata": {
    "colab": {
     "base_uri": "https://localhost:8080/",
     "height": 542
    },
    "id": "nETX0RouhVcw",
    "outputId": "14079731-9215-4c66-f4ff-9eb3d340b741"
   },
   "outputs": [],
   "source": [
    "# Не хватает большого количества информации для исполнительных продюсеров, продюсерши и сценаристов (включая пол) - отбросьте эти категории\n",
    "\n",
    "cols2drop = [49, 50, 51, 52, 53, 54, 55, 56, 57]\n",
    "movies14 = movies13.iloc[:, [j for j, c in enumerate(movies13.columns) if j not in cols2drop]]"
   ]
  },
  {
   "cell_type": "code",
   "execution_count": 129,
   "id": "wqyky-xPjPN3",
   "metadata": {
    "colab": {
     "base_uri": "https://localhost:8080/",
     "height": 1000
    },
    "id": "wqyky-xPjPN3",
    "outputId": "4e6967a8-5be0-4fbe-f34d-cff655722ea7"
   },
   "outputs": [
    {
     "name": "stderr",
     "output_type": "stream",
     "text": [
      "C:\\Users\\arina\\AppData\\Local\\Temp\\ipykernel_9676\\4290218953.py:3: SettingWithCopyWarning: \n",
      "A value is trying to be set on a copy of a slice from a DataFrame\n",
      "\n",
      "See the caveats in the documentation: https://pandas.pydata.org/pandas-docs/stable/user_guide/indexing.html#returning-a-view-versus-a-copy\n",
      "  movies14.rename(columns={'gender_lead': 'isFemale_lead', 'gender_support': 'isFemale_support', 'gender_director': 'isFemale_director'}, inplace=True)\n",
      "C:\\Users\\arina\\AppData\\Local\\Temp\\ipykernel_9676\\4290218953.py:7: SettingWithCopyWarning: \n",
      "A value is trying to be set on a copy of a slice from a DataFrame.\n",
      "Try using .loc[row_indexer,col_indexer] = value instead\n",
      "\n",
      "See the caveats in the documentation: https://pandas.pydata.org/pandas-docs/stable/user_guide/indexing.html#returning-a-view-versus-a-copy\n",
      "  movies14['isFemale_lead'] = movies14['isFemale_lead'].replace(0, np.nan)\n",
      "C:\\Users\\arina\\AppData\\Local\\Temp\\ipykernel_9676\\4290218953.py:8: SettingWithCopyWarning: \n",
      "A value is trying to be set on a copy of a slice from a DataFrame.\n",
      "Try using .loc[row_indexer,col_indexer] = value instead\n",
      "\n",
      "See the caveats in the documentation: https://pandas.pydata.org/pandas-docs/stable/user_guide/indexing.html#returning-a-view-versus-a-copy\n",
      "  movies14['isFemale_support'] = movies14['isFemale_support'].replace(0, np.nan)\n",
      "C:\\Users\\arina\\AppData\\Local\\Temp\\ipykernel_9676\\4290218953.py:9: SettingWithCopyWarning: \n",
      "A value is trying to be set on a copy of a slice from a DataFrame.\n",
      "Try using .loc[row_indexer,col_indexer] = value instead\n",
      "\n",
      "See the caveats in the documentation: https://pandas.pydata.org/pandas-docs/stable/user_guide/indexing.html#returning-a-view-versus-a-copy\n",
      "  movies14['isFemale_director'] = movies14['isFemale_director'].replace(0, np.nan)\n",
      "C:\\Users\\arina\\AppData\\Local\\Temp\\ipykernel_9676\\4290218953.py:13: SettingWithCopyWarning: \n",
      "A value is trying to be set on a copy of a slice from a DataFrame.\n",
      "Try using .loc[row_indexer,col_indexer] = value instead\n",
      "\n",
      "See the caveats in the documentation: https://pandas.pydata.org/pandas-docs/stable/user_guide/indexing.html#returning-a-view-versus-a-copy\n",
      "  movies14['isFemale_lead'] = movies14['isFemale_lead'].replace(2, 0)\n",
      "C:\\Users\\arina\\AppData\\Local\\Temp\\ipykernel_9676\\4290218953.py:14: SettingWithCopyWarning: \n",
      "A value is trying to be set on a copy of a slice from a DataFrame.\n",
      "Try using .loc[row_indexer,col_indexer] = value instead\n",
      "\n",
      "See the caveats in the documentation: https://pandas.pydata.org/pandas-docs/stable/user_guide/indexing.html#returning-a-view-versus-a-copy\n",
      "  movies14['isFemale_support'] = movies14['isFemale_support'].replace(2, 0)\n",
      "C:\\Users\\arina\\AppData\\Local\\Temp\\ipykernel_9676\\4290218953.py:15: SettingWithCopyWarning: \n",
      "A value is trying to be set on a copy of a slice from a DataFrame.\n",
      "Try using .loc[row_indexer,col_indexer] = value instead\n",
      "\n",
      "See the caveats in the documentation: https://pandas.pydata.org/pandas-docs/stable/user_guide/indexing.html#returning-a-view-versus-a-copy\n",
      "  movies14['isFemale_director'] = movies14['isFemale_director'].replace(2, 0)\n"
     ]
    },
    {
     "data": {
      "text/html": [
       "<div>\n",
       "<style scoped>\n",
       "    .dataframe tbody tr th:only-of-type {\n",
       "        vertical-align: middle;\n",
       "    }\n",
       "\n",
       "    .dataframe tbody tr th {\n",
       "        vertical-align: top;\n",
       "    }\n",
       "\n",
       "    .dataframe thead th {\n",
       "        text-align: right;\n",
       "    }\n",
       "</style>\n",
       "<table border=\"1\" class=\"dataframe\">\n",
       "  <thead>\n",
       "    <tr style=\"text-align: right;\">\n",
       "      <th></th>\n",
       "      <th>series</th>\n",
       "      <th>budget</th>\n",
       "      <th>id</th>\n",
       "      <th>imdb_id</th>\n",
       "      <th>popularity</th>\n",
       "      <th>revenue</th>\n",
       "      <th>runtime</th>\n",
       "      <th>status</th>\n",
       "      <th>title</th>\n",
       "      <th>release_date</th>\n",
       "      <th>...</th>\n",
       "      <th>isFemale_lead</th>\n",
       "      <th>lead</th>\n",
       "      <th>freq_lead</th>\n",
       "      <th>isFemale_support</th>\n",
       "      <th>support</th>\n",
       "      <th>freq_support</th>\n",
       "      <th>isFemale_director</th>\n",
       "      <th>director</th>\n",
       "      <th>freq_dir</th>\n",
       "      <th>keyword</th>\n",
       "    </tr>\n",
       "  </thead>\n",
       "  <tbody>\n",
       "    <tr>\n",
       "      <th>0</th>\n",
       "      <td>0</td>\n",
       "      <td>1000000.0</td>\n",
       "      <td>32872</td>\n",
       "      <td>118523</td>\n",
       "      <td>2.700061</td>\n",
       "      <td>NaN</td>\n",
       "      <td>113.0</td>\n",
       "      <td>Released</td>\n",
       "      <td>Til There Was You</td>\n",
       "      <td>1997-05-30</td>\n",
       "      <td>...</td>\n",
       "      <td>1.0</td>\n",
       "      <td>Sarah Jessica Parker</td>\n",
       "      <td>9.0</td>\n",
       "      <td>1.0</td>\n",
       "      <td>Jeanne Tripplehorn</td>\n",
       "      <td>2.0</td>\n",
       "      <td>0.0</td>\n",
       "      <td>Scott Winant</td>\n",
       "      <td>1.0</td>\n",
       "      <td>poem, father son relationship, support group, ...</td>\n",
       "    </tr>\n",
       "    <tr>\n",
       "      <th>1</th>\n",
       "      <td>0</td>\n",
       "      <td>53000000.0</td>\n",
       "      <td>9054</td>\n",
       "      <td>119214</td>\n",
       "      <td>2.289647</td>\n",
       "      <td>NaN</td>\n",
       "      <td>94.0</td>\n",
       "      <td>Released</td>\n",
       "      <td>Gone Fishin'</td>\n",
       "      <td>1997-05-30</td>\n",
       "      <td>...</td>\n",
       "      <td>0.0</td>\n",
       "      <td>Joe Pesci</td>\n",
       "      <td>7.0</td>\n",
       "      <td>0.0</td>\n",
       "      <td>Danny Glover</td>\n",
       "      <td>20.0</td>\n",
       "      <td>0.0</td>\n",
       "      <td>Christopher Cain</td>\n",
       "      <td>11.0</td>\n",
       "      <td>sea, boat, fishing, rogue</td>\n",
       "    </tr>\n",
       "    <tr>\n",
       "      <th>2</th>\n",
       "      <td>0</td>\n",
       "      <td>60000000.0</td>\n",
       "      <td>11015</td>\n",
       "      <td>120004</td>\n",
       "      <td>7.699967</td>\n",
       "      <td>33956608.0</td>\n",
       "      <td>110.0</td>\n",
       "      <td>Released</td>\n",
       "      <td>The Relic</td>\n",
       "      <td>1997-01-10</td>\n",
       "      <td>...</td>\n",
       "      <td>1.0</td>\n",
       "      <td>Penelope Ann Miller</td>\n",
       "      <td>3.0</td>\n",
       "      <td>0.0</td>\n",
       "      <td>Tom Sizemore</td>\n",
       "      <td>8.0</td>\n",
       "      <td>0.0</td>\n",
       "      <td>Peter Hyams</td>\n",
       "      <td>18.0</td>\n",
       "      <td>chicago, based on novel, monster, museum, pile...</td>\n",
       "    </tr>\n",
       "    <tr>\n",
       "      <th>3</th>\n",
       "      <td>0</td>\n",
       "      <td>NaN</td>\n",
       "      <td>56077</td>\n",
       "      <td>120271</td>\n",
       "      <td>0.978989</td>\n",
       "      <td>NaN</td>\n",
       "      <td>96.0</td>\n",
       "      <td>Released</td>\n",
       "      <td>Talk of Angels</td>\n",
       "      <td>1998-10-30</td>\n",
       "      <td>...</td>\n",
       "      <td>1.0</td>\n",
       "      <td>Polly Walker</td>\n",
       "      <td>1.0</td>\n",
       "      <td>1.0</td>\n",
       "      <td>Frances McDormand</td>\n",
       "      <td>10.0</td>\n",
       "      <td>0.0</td>\n",
       "      <td>Nick Hamm</td>\n",
       "      <td>6.0</td>\n",
       "      <td>independent film</td>\n",
       "    </tr>\n",
       "    <tr>\n",
       "      <th>4</th>\n",
       "      <td>0</td>\n",
       "      <td>NaN</td>\n",
       "      <td>52855</td>\n",
       "      <td>118927</td>\n",
       "      <td>1.463219</td>\n",
       "      <td>3028094.0</td>\n",
       "      <td>95.0</td>\n",
       "      <td>Released</td>\n",
       "      <td>Dangerous Ground</td>\n",
       "      <td>1997-02-12</td>\n",
       "      <td>...</td>\n",
       "      <td>0.0</td>\n",
       "      <td>Ice Cube</td>\n",
       "      <td>16.0</td>\n",
       "      <td>1.0</td>\n",
       "      <td>Elizabeth Hurley</td>\n",
       "      <td>8.0</td>\n",
       "      <td>NaN</td>\n",
       "      <td>Darrell James Roodt</td>\n",
       "      <td>7.0</td>\n",
       "      <td>independent film</td>\n",
       "    </tr>\n",
       "  </tbody>\n",
       "</table>\n",
       "<p>5 rows × 50 columns</p>\n",
       "</div>"
      ],
      "text/plain": [
       "   series      budget     id  imdb_id popularity     revenue  runtime  \\\n",
       "0       0   1000000.0  32872   118523   2.700061         NaN    113.0   \n",
       "1       0  53000000.0   9054   119214   2.289647         NaN     94.0   \n",
       "2       0  60000000.0  11015   120004   7.699967  33956608.0    110.0   \n",
       "3       0         NaN  56077   120271   0.978989         NaN     96.0   \n",
       "4       0         NaN  52855   118927   1.463219   3028094.0     95.0   \n",
       "\n",
       "     status              title release_date  ...  isFemale_lead  \\\n",
       "0  Released  Til There Was You   1997-05-30  ...            1.0   \n",
       "1  Released       Gone Fishin'   1997-05-30  ...            0.0   \n",
       "2  Released          The Relic   1997-01-10  ...            1.0   \n",
       "3  Released     Talk of Angels   1998-10-30  ...            1.0   \n",
       "4  Released   Dangerous Ground   1997-02-12  ...            0.0   \n",
       "\n",
       "                   lead  freq_lead  isFemale_support             support  \\\n",
       "0  Sarah Jessica Parker        9.0               1.0  Jeanne Tripplehorn   \n",
       "1             Joe Pesci        7.0               0.0        Danny Glover   \n",
       "2   Penelope Ann Miller        3.0               0.0        Tom Sizemore   \n",
       "3          Polly Walker        1.0               1.0   Frances McDormand   \n",
       "4              Ice Cube       16.0               1.0    Elizabeth Hurley   \n",
       "\n",
       "   freq_support  isFemale_director             director  freq_dir  \\\n",
       "0           2.0                0.0         Scott Winant       1.0   \n",
       "1          20.0                0.0     Christopher Cain      11.0   \n",
       "2           8.0                0.0          Peter Hyams      18.0   \n",
       "3          10.0                0.0            Nick Hamm       6.0   \n",
       "4           8.0                NaN  Darrell James Roodt       7.0   \n",
       "\n",
       "                                             keyword  \n",
       "0  poem, father son relationship, support group, ...  \n",
       "1                          sea, boat, fishing, rogue  \n",
       "2  chicago, based on novel, monster, museum, pile...  \n",
       "3                                   independent film  \n",
       "4                                   independent film  \n",
       "\n",
       "[5 rows x 50 columns]"
      ]
     },
     "execution_count": 129,
     "metadata": {},
     "output_type": "execute_result"
    }
   ],
   "source": [
    "# Преобразовать столбец \"пол\" для остальных столбцов актеров /съемочной группы в IsFemale\n",
    "\n",
    "movies14.rename(columns={'gender_lead': 'isFemale_lead', 'gender_support': 'isFemale_support', 'gender_director': 'isFemale_director'}, inplace=True)\n",
    "\n",
    "# Замените значения 0 для гендера на NaN\n",
    "\n",
    "movies14['isFemale_lead'] = movies14['isFemale_lead'].replace(0, np.nan)\n",
    "movies14['isFemale_support'] = movies14['isFemale_support'].replace(0, np.nan)\n",
    "movies14['isFemale_director'] = movies14['isFemale_director'].replace(0, np.nan)\n",
    "\n",
    "# Замените 2 значения для гендера на 0\n",
    "\n",
    "movies14['isFemale_lead'] = movies14['isFemale_lead'].replace(2, 0)\n",
    "movies14['isFemale_support'] = movies14['isFemale_support'].replace(2, 0)\n",
    "movies14['isFemale_director'] = movies14['isFemale_director'].replace(2, 0)\n",
    "\n",
    "movies14.head()"
   ]
  },
  {
   "cell_type": "code",
   "execution_count": 130,
   "id": "xxaQ8X6ercRA",
   "metadata": {
    "colab": {
     "base_uri": "https://localhost:8080/"
    },
    "id": "xxaQ8X6ercRA",
    "outputId": "bab851b4-5ae5-4c5b-90fa-3717d07da164",
    "scrolled": true
   },
   "outputs": [
    {
     "name": "stdout",
     "output_type": "stream",
     "text": [
      "<class 'pandas.core.frame.DataFrame'>\n",
      "Int64Index: 8887 entries, 0 to 8886\n",
      "Data columns (total 48 columns):\n",
      " #   Column                 Non-Null Count  Dtype         \n",
      "---  ------                 --------------  -----         \n",
      " 0   series                 8887 non-null   int64         \n",
      " 1   budget                 3960 non-null   float64       \n",
      " 2   id                     8887 non-null   Int64         \n",
      " 3   imdb_id                8887 non-null   int64         \n",
      " 4   popularity             8887 non-null   object        \n",
      " 5   revenue                3447 non-null   float64       \n",
      " 6   runtime                8887 non-null   float64       \n",
      " 7   title                  8887 non-null   object        \n",
      " 8   release_date           8887 non-null   datetime64[ns]\n",
      " 9   release_month          8887 non-null   int64         \n",
      " 10  release_day            8887 non-null   int64         \n",
      " 11  release_year           8887 non-null   int64         \n",
      " 12  score                  8887 non-null   float64       \n",
      " 13  rating                 8815 non-null   float64       \n",
      " 14  genre_TV Movie         8887 non-null   float64       \n",
      " 15  genre_Horror           8887 non-null   float64       \n",
      " 16  genre_Mystery          8887 non-null   float64       \n",
      " 17  genre_Foreign          8887 non-null   float64       \n",
      " 18  genre_Drama            8887 non-null   float64       \n",
      " 19  genre_Music            8887 non-null   float64       \n",
      " 20  genre_Western          8887 non-null   float64       \n",
      " 21  genre_Animation        8887 non-null   float64       \n",
      " 22  genre_Adventure        8887 non-null   float64       \n",
      " 23  genre_Comedy           8887 non-null   float64       \n",
      " 24  genre_War              8887 non-null   float64       \n",
      " 25  genre_History          8887 non-null   float64       \n",
      " 26  genre_Thriller         8887 non-null   float64       \n",
      " 27  genre_Fantasy          8887 non-null   float64       \n",
      " 28  genre_Documentary      8887 non-null   float64       \n",
      " 29  genre_Romance          8887 non-null   float64       \n",
      " 30  genre_Family           8887 non-null   float64       \n",
      " 31  genre_Science Fiction  8887 non-null   float64       \n",
      " 32  genre_Action           8887 non-null   float64       \n",
      " 33  genre_Crime            8887 non-null   float64       \n",
      " 34  studio_y               8887 non-null   object        \n",
      " 35  freq_studio            8887 non-null   float64       \n",
      " 36  spoken_lang_English    8887 non-null   float64       \n",
      " 37  spoken_lang_Other      8887 non-null   float64       \n",
      " 38  isFemale_lead          6967 non-null   float64       \n",
      " 39  lead                   7572 non-null   object        \n",
      " 40  freq_lead              7572 non-null   float64       \n",
      " 41  isFemale_support       7377 non-null   float64       \n",
      " 42  support                8542 non-null   object        \n",
      " 43  freq_support           8542 non-null   float64       \n",
      " 44  isFemale_director      6283 non-null   float64       \n",
      " 45  director               8848 non-null   object        \n",
      " 46  freq_dir               8848 non-null   float64       \n",
      " 47  keyword                7469 non-null   object        \n",
      "dtypes: Int64(1), datetime64[ns](1), float64(34), int64(5), object(7)\n",
      "memory usage: 3.3+ MB\n"
     ]
    },
    {
     "name": "stderr",
     "output_type": "stream",
     "text": [
      "C:\\Users\\arina\\AppData\\Local\\Temp\\ipykernel_9676\\1316751242.py:2: SettingWithCopyWarning: \n",
      "A value is trying to be set on a copy of a slice from a DataFrame\n",
      "\n",
      "See the caveats in the documentation: https://pandas.pydata.org/pandas-docs/stable/user_guide/indexing.html#returning-a-view-versus-a-copy\n",
      "  movies14.drop(columns=['status', 'movieId'], inplace=True)\n"
     ]
    }
   ],
   "source": [
    "# Удаляем ненужные столбцы\n",
    "movies14.drop(columns=['status', 'movieId'], inplace=True)\n",
    "movies14.info()"
   ]
  },
  {
   "cell_type": "code",
   "execution_count": 131,
   "id": "KhpMGw86qtZQ",
   "metadata": {
    "colab": {
     "base_uri": "https://localhost:8080/"
    },
    "id": "KhpMGw86qtZQ",
    "outputId": "3beb1e12-d0c8-4299-c71f-45a1c8834cca"
   },
   "outputs": [
    {
     "data": {
      "text/plain": [
       "0"
      ]
     },
     "execution_count": 131,
     "metadata": {},
     "output_type": "execute_result"
    }
   ],
   "source": [
    "movies14.duplicated(subset='id').sum()"
   ]
  },
  {
   "cell_type": "code",
   "execution_count": 132,
   "id": "Fop_NxADOa0r",
   "metadata": {
    "colab": {
     "base_uri": "https://localhost:8080/",
     "height": 971
    },
    "id": "Fop_NxADOa0r",
    "outputId": "5bd491b8-6556-4d76-c6ba-65fe42a46440"
   },
   "outputs": [
    {
     "name": "stderr",
     "output_type": "stream",
     "text": [
      "C:\\Users\\arina\\AppData\\Local\\Temp\\ipykernel_9676\\434446315.py:3: SettingWithCopyWarning: \n",
      "A value is trying to be set on a copy of a slice from a DataFrame.\n",
      "Try using .loc[row_indexer,col_indexer] = value instead\n",
      "\n",
      "See the caveats in the documentation: https://pandas.pydata.org/pandas-docs/stable/user_guide/indexing.html#returning-a-view-versus-a-copy\n",
      "  movies14['leadAppearances'] = pd.cut(movies14['freq_lead'], bins=np.linspace(0,75,6))\n",
      "C:\\Users\\arina\\AppData\\Local\\Temp\\ipykernel_9676\\434446315.py:4: SettingWithCopyWarning: \n",
      "A value is trying to be set on a copy of a slice from a DataFrame.\n",
      "Try using .loc[row_indexer,col_indexer] = value instead\n",
      "\n",
      "See the caveats in the documentation: https://pandas.pydata.org/pandas-docs/stable/user_guide/indexing.html#returning-a-view-versus-a-copy\n",
      "  movies14['supportAppearances'] = pd.cut(movies14['freq_support'], bins=np.linspace(0,25,6))\n",
      "C:\\Users\\arina\\AppData\\Local\\Temp\\ipykernel_9676\\434446315.py:5: SettingWithCopyWarning: \n",
      "A value is trying to be set on a copy of a slice from a DataFrame.\n",
      "Try using .loc[row_indexer,col_indexer] = value instead\n",
      "\n",
      "See the caveats in the documentation: https://pandas.pydata.org/pandas-docs/stable/user_guide/indexing.html#returning-a-view-versus-a-copy\n",
      "  movies14['dirAppearances'] = pd.cut(movies14['freq_dir'], bins=np.linspace(0,55,5))\n",
      "C:\\Users\\arina\\AppData\\Local\\Temp\\ipykernel_9676\\434446315.py:6: SettingWithCopyWarning: \n",
      "A value is trying to be set on a copy of a slice from a DataFrame.\n",
      "Try using .loc[row_indexer,col_indexer] = value instead\n",
      "\n",
      "See the caveats in the documentation: https://pandas.pydata.org/pandas-docs/stable/user_guide/indexing.html#returning-a-view-versus-a-copy\n",
      "  movies14['studioAppearances'] = pd.cut(movies14['freq_studio'], bins=np.linspace(0,304,7))\n"
     ]
    },
    {
     "data": {
      "text/html": [
       "<div>\n",
       "<style scoped>\n",
       "    .dataframe tbody tr th:only-of-type {\n",
       "        vertical-align: middle;\n",
       "    }\n",
       "\n",
       "    .dataframe tbody tr th {\n",
       "        vertical-align: top;\n",
       "    }\n",
       "\n",
       "    .dataframe thead th {\n",
       "        text-align: right;\n",
       "    }\n",
       "</style>\n",
       "<table border=\"1\" class=\"dataframe\">\n",
       "  <thead>\n",
       "    <tr style=\"text-align: right;\">\n",
       "      <th></th>\n",
       "      <th>series</th>\n",
       "      <th>budget</th>\n",
       "      <th>id</th>\n",
       "      <th>imdb_id</th>\n",
       "      <th>popularity</th>\n",
       "      <th>revenue</th>\n",
       "      <th>runtime</th>\n",
       "      <th>title</th>\n",
       "      <th>release_date</th>\n",
       "      <th>release_month</th>\n",
       "      <th>...</th>\n",
       "      <th>support</th>\n",
       "      <th>freq_support</th>\n",
       "      <th>isFemale_director</th>\n",
       "      <th>director</th>\n",
       "      <th>freq_dir</th>\n",
       "      <th>keyword</th>\n",
       "      <th>leadAppearances</th>\n",
       "      <th>supportAppearances</th>\n",
       "      <th>dirAppearances</th>\n",
       "      <th>studioAppearances</th>\n",
       "    </tr>\n",
       "  </thead>\n",
       "  <tbody>\n",
       "    <tr>\n",
       "      <th>0</th>\n",
       "      <td>0</td>\n",
       "      <td>1000000.0</td>\n",
       "      <td>32872</td>\n",
       "      <td>118523</td>\n",
       "      <td>2.700061</td>\n",
       "      <td>NaN</td>\n",
       "      <td>113.0</td>\n",
       "      <td>Til There Was You</td>\n",
       "      <td>1997-05-30</td>\n",
       "      <td>5</td>\n",
       "      <td>...</td>\n",
       "      <td>Jeanne Tripplehorn</td>\n",
       "      <td>2.0</td>\n",
       "      <td>0.0</td>\n",
       "      <td>Scott Winant</td>\n",
       "      <td>1.0</td>\n",
       "      <td>poem, father son relationship, support group, ...</td>\n",
       "      <td>(0.0, 15.0]</td>\n",
       "      <td>(0.0, 5.0]</td>\n",
       "      <td>(0.0, 13.75]</td>\n",
       "      <td>(202.667, 253.333]</td>\n",
       "    </tr>\n",
       "    <tr>\n",
       "      <th>1</th>\n",
       "      <td>0</td>\n",
       "      <td>53000000.0</td>\n",
       "      <td>9054</td>\n",
       "      <td>119214</td>\n",
       "      <td>2.289647</td>\n",
       "      <td>NaN</td>\n",
       "      <td>94.0</td>\n",
       "      <td>Gone Fishin'</td>\n",
       "      <td>1997-05-30</td>\n",
       "      <td>5</td>\n",
       "      <td>...</td>\n",
       "      <td>Danny Glover</td>\n",
       "      <td>20.0</td>\n",
       "      <td>0.0</td>\n",
       "      <td>Christopher Cain</td>\n",
       "      <td>11.0</td>\n",
       "      <td>sea, boat, fishing, rogue</td>\n",
       "      <td>(0.0, 15.0]</td>\n",
       "      <td>(15.0, 20.0]</td>\n",
       "      <td>(0.0, 13.75]</td>\n",
       "      <td>(0.0, 50.667]</td>\n",
       "    </tr>\n",
       "    <tr>\n",
       "      <th>2</th>\n",
       "      <td>0</td>\n",
       "      <td>60000000.0</td>\n",
       "      <td>11015</td>\n",
       "      <td>120004</td>\n",
       "      <td>7.699967</td>\n",
       "      <td>33956608.0</td>\n",
       "      <td>110.0</td>\n",
       "      <td>The Relic</td>\n",
       "      <td>1997-01-10</td>\n",
       "      <td>1</td>\n",
       "      <td>...</td>\n",
       "      <td>Tom Sizemore</td>\n",
       "      <td>8.0</td>\n",
       "      <td>0.0</td>\n",
       "      <td>Peter Hyams</td>\n",
       "      <td>18.0</td>\n",
       "      <td>chicago, based on novel, monster, museum, pile...</td>\n",
       "      <td>(0.0, 15.0]</td>\n",
       "      <td>(5.0, 10.0]</td>\n",
       "      <td>(13.75, 27.5]</td>\n",
       "      <td>(253.333, 304.0]</td>\n",
       "    </tr>\n",
       "    <tr>\n",
       "      <th>3</th>\n",
       "      <td>0</td>\n",
       "      <td>NaN</td>\n",
       "      <td>56077</td>\n",
       "      <td>120271</td>\n",
       "      <td>0.978989</td>\n",
       "      <td>NaN</td>\n",
       "      <td>96.0</td>\n",
       "      <td>Talk of Angels</td>\n",
       "      <td>1998-10-30</td>\n",
       "      <td>10</td>\n",
       "      <td>...</td>\n",
       "      <td>Frances McDormand</td>\n",
       "      <td>10.0</td>\n",
       "      <td>0.0</td>\n",
       "      <td>Nick Hamm</td>\n",
       "      <td>6.0</td>\n",
       "      <td>independent film</td>\n",
       "      <td>(0.0, 15.0]</td>\n",
       "      <td>(5.0, 10.0]</td>\n",
       "      <td>(0.0, 13.75]</td>\n",
       "      <td>(0.0, 50.667]</td>\n",
       "    </tr>\n",
       "    <tr>\n",
       "      <th>4</th>\n",
       "      <td>0</td>\n",
       "      <td>NaN</td>\n",
       "      <td>52855</td>\n",
       "      <td>118927</td>\n",
       "      <td>1.463219</td>\n",
       "      <td>3028094.0</td>\n",
       "      <td>95.0</td>\n",
       "      <td>Dangerous Ground</td>\n",
       "      <td>1997-02-12</td>\n",
       "      <td>2</td>\n",
       "      <td>...</td>\n",
       "      <td>Elizabeth Hurley</td>\n",
       "      <td>8.0</td>\n",
       "      <td>NaN</td>\n",
       "      <td>Darrell James Roodt</td>\n",
       "      <td>7.0</td>\n",
       "      <td>independent film</td>\n",
       "      <td>(15.0, 30.0]</td>\n",
       "      <td>(5.0, 10.0]</td>\n",
       "      <td>(0.0, 13.75]</td>\n",
       "      <td>(152.0, 202.667]</td>\n",
       "    </tr>\n",
       "  </tbody>\n",
       "</table>\n",
       "<p>5 rows × 52 columns</p>\n",
       "</div>"
      ],
      "text/plain": [
       "   series      budget     id  imdb_id popularity     revenue  runtime  \\\n",
       "0       0   1000000.0  32872   118523   2.700061         NaN    113.0   \n",
       "1       0  53000000.0   9054   119214   2.289647         NaN     94.0   \n",
       "2       0  60000000.0  11015   120004   7.699967  33956608.0    110.0   \n",
       "3       0         NaN  56077   120271   0.978989         NaN     96.0   \n",
       "4       0         NaN  52855   118927   1.463219   3028094.0     95.0   \n",
       "\n",
       "               title release_date  release_month  ...             support  \\\n",
       "0  Til There Was You   1997-05-30              5  ...  Jeanne Tripplehorn   \n",
       "1       Gone Fishin'   1997-05-30              5  ...        Danny Glover   \n",
       "2          The Relic   1997-01-10              1  ...        Tom Sizemore   \n",
       "3     Talk of Angels   1998-10-30             10  ...   Frances McDormand   \n",
       "4   Dangerous Ground   1997-02-12              2  ...    Elizabeth Hurley   \n",
       "\n",
       "   freq_support  isFemale_director             director  freq_dir  \\\n",
       "0           2.0                0.0         Scott Winant       1.0   \n",
       "1          20.0                0.0     Christopher Cain      11.0   \n",
       "2           8.0                0.0          Peter Hyams      18.0   \n",
       "3          10.0                0.0            Nick Hamm       6.0   \n",
       "4           8.0                NaN  Darrell James Roodt       7.0   \n",
       "\n",
       "                                             keyword  leadAppearances  \\\n",
       "0  poem, father son relationship, support group, ...      (0.0, 15.0]   \n",
       "1                          sea, boat, fishing, rogue      (0.0, 15.0]   \n",
       "2  chicago, based on novel, monster, museum, pile...      (0.0, 15.0]   \n",
       "3                                   independent film      (0.0, 15.0]   \n",
       "4                                   independent film     (15.0, 30.0]   \n",
       "\n",
       "   supportAppearances  dirAppearances   studioAppearances  \n",
       "0          (0.0, 5.0]    (0.0, 13.75]  (202.667, 253.333]  \n",
       "1        (15.0, 20.0]    (0.0, 13.75]       (0.0, 50.667]  \n",
       "2         (5.0, 10.0]   (13.75, 27.5]    (253.333, 304.0]  \n",
       "3         (5.0, 10.0]    (0.0, 13.75]       (0.0, 50.667]  \n",
       "4         (5.0, 10.0]    (0.0, 13.75]    (152.0, 202.667]  \n",
       "\n",
       "[5 rows x 52 columns]"
      ]
     },
     "execution_count": 132,
     "metadata": {},
     "output_type": "execute_result"
    }
   ],
   "source": [
    "# Руководство, поддержка и директор Bucketize\n",
    "\n",
    "movies14['leadAppearances'] = pd.cut(movies14['freq_lead'], bins=np.linspace(0,75,6))\n",
    "movies14['supportAppearances'] = pd.cut(movies14['freq_support'], bins=np.linspace(0,25,6))\n",
    "movies14['dirAppearances'] = pd.cut(movies14['freq_dir'], bins=np.linspace(0,55,5))\n",
    "movies14['studioAppearances'] = pd.cut(movies14['freq_studio'], bins=np.linspace(0,304,7))\n",
    "\n",
    "movies14.head()"
   ]
  },
  {
   "cell_type": "code",
   "execution_count": 133,
   "id": "J5lV7nNXPa7b",
   "metadata": {
    "colab": {
     "base_uri": "https://localhost:8080/"
    },
    "id": "J5lV7nNXPa7b",
    "outputId": "f2e6485f-b8bc-4f8e-c4ae-713c23f0b7e8"
   },
   "outputs": [
    {
     "data": {
      "text/plain": [
       "[(0.0, 15.0], (15.0, 30.0], NaN, (30.0, 45.0], (45.0, 60.0], (60.0, 75.0]]\n",
       "Categories (5, interval[float64, right]): [(0.0, 15.0] < (15.0, 30.0] < (30.0, 45.0] < (45.0, 60.0] < (60.0, 75.0]]"
      ]
     },
     "execution_count": 133,
     "metadata": {},
     "output_type": "execute_result"
    }
   ],
   "source": [
    "movies14['leadAppearances'].unique()"
   ]
  },
  {
   "cell_type": "code",
   "execution_count": 134,
   "id": "lFzF2RjxPcC5",
   "metadata": {
    "colab": {
     "base_uri": "https://localhost:8080/"
    },
    "id": "lFzF2RjxPcC5",
    "outputId": "04be288d-55e3-4bba-ba30-6889eb9aceda"
   },
   "outputs": [
    {
     "data": {
      "text/plain": [
       "[(0.0, 5.0], (15.0, 20.0], (5.0, 10.0], (10.0, 15.0], (20.0, 25.0], NaN]\n",
       "Categories (5, interval[float64, right]): [(0.0, 5.0] < (5.0, 10.0] < (10.0, 15.0] < (15.0, 20.0] < (20.0, 25.0]]"
      ]
     },
     "execution_count": 134,
     "metadata": {},
     "output_type": "execute_result"
    }
   ],
   "source": [
    "movies14['supportAppearances'].unique()"
   ]
  },
  {
   "cell_type": "code",
   "execution_count": 135,
   "id": "fDNrxQn9Pfrs",
   "metadata": {
    "colab": {
     "base_uri": "https://localhost:8080/"
    },
    "id": "fDNrxQn9Pfrs",
    "outputId": "506483dd-6ac3-4c3b-a084-c21f2491e571"
   },
   "outputs": [
    {
     "data": {
      "text/plain": [
       "[(0.0, 13.75], (13.75, 27.5], (27.5, 41.25], (41.25, 55.0], NaN]\n",
       "Categories (4, interval[float64, right]): [(0.0, 13.75] < (13.75, 27.5] < (27.5, 41.25] < (41.25, 55.0]]"
      ]
     },
     "execution_count": 135,
     "metadata": {},
     "output_type": "execute_result"
    }
   ],
   "source": [
    "movies14['dirAppearances'].unique()"
   ]
  },
  {
   "cell_type": "code",
   "execution_count": 136,
   "id": "URhqmIlVv568",
   "metadata": {
    "colab": {
     "base_uri": "https://localhost:8080/"
    },
    "id": "URhqmIlVv568",
    "outputId": "441e8edd-e99d-4860-8eda-a7222f13a351"
   },
   "outputs": [
    {
     "data": {
      "text/plain": [
       "[(202.667, 253.333], (0.0, 50.667], (253.333, 304.0], (152.0, 202.667], (101.333, 152.0], (50.667, 101.333]]\n",
       "Categories (6, interval[float64, right]): [(0.0, 50.667] < (50.667, 101.333] < (101.333, 152.0] < (152.0, 202.667] < (202.667, 253.333] < (253.333, 304.0]]"
      ]
     },
     "execution_count": 136,
     "metadata": {},
     "output_type": "execute_result"
    }
   ],
   "source": [
    "movies14['studioAppearances'].unique()"
   ]
  },
  {
   "cell_type": "code",
   "execution_count": 137,
   "id": "A8tr7YvvPxBs",
   "metadata": {
    "colab": {
     "base_uri": "https://localhost:8080/"
    },
    "id": "A8tr7YvvPxBs",
    "outputId": "65c47c2c-a048-426b-df23-914a672ff5f2"
   },
   "outputs": [],
   "source": [
    "movies_final_w_dummies = pd.concat([movies14, pd.get_dummies(movies14['leadAppearances'])], axis=1).drop(['freq_lead'], axis=1)\n",
    "col = movies_final_w_dummies.columns \n",
    "movies_final_w_dummies.rename(columns={col[51]:'lead_5Quintile', col[52]:'lead_4Quintile', col[53]:'lead_3Quintile', col[54]:'lead_2Quintile', col[55]:'lead_1Quintile'}, inplace=True)"
   ]
  },
  {
   "cell_type": "code",
   "execution_count": 138,
   "id": "6K8jcwyyQyXR",
   "metadata": {
    "colab": {
     "base_uri": "https://localhost:8080/"
    },
    "id": "6K8jcwyyQyXR",
    "outputId": "172f9334-3a30-4a2b-fe54-c7bf485ff1f4"
   },
   "outputs": [],
   "source": [
    "movies_final_w_dummies = pd.concat([movies_final_w_dummies, pd.get_dummies(movies14['supportAppearances'])], axis=1).drop(['freq_support'], axis=1)\n",
    "col = movies_final_w_dummies.columns\n",
    "movies_final_w_dummies.rename(columns={col[55]:'support_5Quintile', col[56]:'support_4Quintile', col[57]:'support_3Quintile', col[58]:'support_2Quintile', col[59]:'support_1Quintile'}, inplace=True)"
   ]
  },
  {
   "cell_type": "code",
   "execution_count": 139,
   "id": "suqn6pTqQ2-m",
   "metadata": {
    "colab": {
     "base_uri": "https://localhost:8080/"
    },
    "id": "suqn6pTqQ2-m",
    "outputId": "92086e94-5306-4091-8540-8c33b50dc0ac"
   },
   "outputs": [],
   "source": [
    "movies_final_w_dummies = pd.concat([movies_final_w_dummies, pd.get_dummies(movies14['dirAppearances'])], axis=1).drop(['freq_dir'], axis=1)\n",
    "col = movies_final_w_dummies.columns\n",
    "movies_final_w_dummies.rename(columns={col[59]:'dir_4Quartile', col[60]:'dir_3Quartile', col[61]:'dir_2Quartile', col[62]:'dir_1Quintile'}, inplace=True)"
   ]
  },
  {
   "cell_type": "code",
   "execution_count": 140,
   "id": "EIdHImLiwGgR",
   "metadata": {
    "colab": {
     "base_uri": "https://localhost:8080/"
    },
    "id": "EIdHImLiwGgR",
    "outputId": "8f89074a-70d0-4bed-a896-f558c84d8097"
   },
   "outputs": [],
   "source": [
    "movies_final_w_dummies = pd.concat([movies_final_w_dummies, pd.get_dummies(movies14['studioAppearances'])], axis=1).drop(['freq_studio'], axis=1)\n",
    "col = movies_final_w_dummies.columns\n",
    "movies_final_w_dummies.rename(columns={col[62]:'studio_6Quartile', col[63]:'studio_5Quartile', col[64]:'studio_4Quartile', col[65]:'studio_3Quartile', col[66]:'studio_2Quartile', col[67]:'studio_1Quartile'}, inplace=True)"
   ]
  },
  {
   "cell_type": "code",
   "execution_count": 141,
   "id": "am-GpwdvREEF",
   "metadata": {
    "colab": {
     "base_uri": "https://localhost:8080/"
    },
    "id": "am-GpwdvREEF",
    "outputId": "7051560b-3bc7-491a-aac0-4236da199e2d",
    "scrolled": true
   },
   "outputs": [
    {
     "name": "stdout",
     "output_type": "stream",
     "text": [
      "<class 'pandas.core.frame.DataFrame'>\n",
      "Int64Index: 8887 entries, 0 to 8886\n",
      "Data columns (total 68 columns):\n",
      " #   Column                 Non-Null Count  Dtype         \n",
      "---  ------                 --------------  -----         \n",
      " 0   series                 8887 non-null   int64         \n",
      " 1   budget                 3960 non-null   float64       \n",
      " 2   id                     8887 non-null   Int64         \n",
      " 3   imdb_id                8887 non-null   int64         \n",
      " 4   popularity             8887 non-null   object        \n",
      " 5   revenue                3447 non-null   float64       \n",
      " 6   runtime                8887 non-null   float64       \n",
      " 7   title                  8887 non-null   object        \n",
      " 8   release_date           8887 non-null   datetime64[ns]\n",
      " 9   release_month          8887 non-null   int64         \n",
      " 10  release_day            8887 non-null   int64         \n",
      " 11  release_year           8887 non-null   int64         \n",
      " 12  score                  8887 non-null   float64       \n",
      " 13  rating                 8815 non-null   float64       \n",
      " 14  genre_TV Movie         8887 non-null   float64       \n",
      " 15  genre_Horror           8887 non-null   float64       \n",
      " 16  genre_Mystery          8887 non-null   float64       \n",
      " 17  genre_Foreign          8887 non-null   float64       \n",
      " 18  genre_Drama            8887 non-null   float64       \n",
      " 19  genre_Music            8887 non-null   float64       \n",
      " 20  genre_Western          8887 non-null   float64       \n",
      " 21  genre_Animation        8887 non-null   float64       \n",
      " 22  genre_Adventure        8887 non-null   float64       \n",
      " 23  genre_Comedy           8887 non-null   float64       \n",
      " 24  genre_War              8887 non-null   float64       \n",
      " 25  genre_History          8887 non-null   float64       \n",
      " 26  genre_Thriller         8887 non-null   float64       \n",
      " 27  genre_Fantasy          8887 non-null   float64       \n",
      " 28  genre_Documentary      8887 non-null   float64       \n",
      " 29  genre_Romance          8887 non-null   float64       \n",
      " 30  genre_Family           8887 non-null   float64       \n",
      " 31  genre_Science Fiction  8887 non-null   float64       \n",
      " 32  genre_Action           8887 non-null   float64       \n",
      " 33  genre_Crime            8887 non-null   float64       \n",
      " 34  studio_y               8887 non-null   object        \n",
      " 35  spoken_lang_English    8887 non-null   float64       \n",
      " 36  spoken_lang_Other      8887 non-null   float64       \n",
      " 37  isFemale_lead          6967 non-null   float64       \n",
      " 38  lead                   7572 non-null   object        \n",
      " 39  isFemale_support       7377 non-null   float64       \n",
      " 40  support                8542 non-null   object        \n",
      " 41  isFemale_director      6283 non-null   float64       \n",
      " 42  director               8848 non-null   object        \n",
      " 43  keyword                7469 non-null   object        \n",
      " 44  leadAppearances        7572 non-null   category      \n",
      " 45  supportAppearances     8542 non-null   category      \n",
      " 46  dirAppearances         8848 non-null   category      \n",
      " 47  studioAppearances      8887 non-null   category      \n",
      " 48  lead_5Quintile         8887 non-null   uint8         \n",
      " 49  lead_4Quintile         8887 non-null   uint8         \n",
      " 50  lead_3Quintile         8887 non-null   uint8         \n",
      " 51  lead_2Quintile         8887 non-null   uint8         \n",
      " 52  lead_1Quintile         8887 non-null   uint8         \n",
      " 53  support_5Quintile      8887 non-null   uint8         \n",
      " 54  support_4Quintile      8887 non-null   uint8         \n",
      " 55  support_3Quintile      8887 non-null   uint8         \n",
      " 56  support_2Quintile      8887 non-null   uint8         \n",
      " 57  support_1Quintile      8887 non-null   uint8         \n",
      " 58  dir_4Quartile          8887 non-null   uint8         \n",
      " 59  dir_3Quartile          8887 non-null   uint8         \n",
      " 60  dir_2Quartile          8887 non-null   uint8         \n",
      " 61  dir_1Quintile          8887 non-null   uint8         \n",
      " 62  studio_6Quartile       8887 non-null   uint8         \n",
      " 63  studio_5Quartile       8887 non-null   uint8         \n",
      " 64  studio_4Quartile       8887 non-null   uint8         \n",
      " 65  studio_3Quartile       8887 non-null   uint8         \n",
      " 66  studio_2Quartile       8887 non-null   uint8         \n",
      " 67  studio_1Quartile       8887 non-null   uint8         \n",
      "dtypes: Int64(1), category(4), datetime64[ns](1), float64(30), int64(5), object(7), uint8(20)\n",
      "memory usage: 3.3+ MB\n"
     ]
    }
   ],
   "source": [
    "movies_final_w_dummies.info()"
   ]
  },
  {
   "cell_type": "code",
   "execution_count": 142,
   "id": "tJNZaNRSZydu",
   "metadata": {
    "id": "tJNZaNRSZydu"
   },
   "outputs": [],
   "source": [
    "movies_final_w_dummies.drop(columns=['dirAppearances','supportAppearances','leadAppearances','studioAppearances'], axis=1, inplace=True)"
   ]
  },
  {
   "cell_type": "code",
   "execution_count": 143,
   "id": "q0MCiSfjaBu5",
   "metadata": {
    "colab": {
     "base_uri": "https://localhost:8080/"
    },
    "id": "q0MCiSfjaBu5",
    "outputId": "0d781a46-c55f-4273-91ee-8f6aa07b7740"
   },
   "outputs": [
    {
     "data": {
      "text/plain": [
       "(8887, 64)"
      ]
     },
     "execution_count": 143,
     "metadata": {},
     "output_type": "execute_result"
    }
   ],
   "source": [
    "movies_final_w_dummies.shape"
   ]
  },
  {
   "cell_type": "code",
   "execution_count": 144,
   "id": "18b8675f",
   "metadata": {},
   "outputs": [],
   "source": [
    "movies14.to_csv(\"./data_new.csv\", index=False)\n",
    "movies_final_w_dummies.to_csv(\"./data_w_dummies_final.csv\", index=False)"
   ]
  },
  {
   "cell_type": "markdown",
   "id": "28a3ee5f",
   "metadata": {},
   "source": [
    "код готовит и очищает набор данных, связанный с фильмами. Сначала он использует библиотеку NLTK для токенизации ключевых слов фильмов и библиотеку Scikit-learn для их преобразования с помощью алгоритма Term Frequency-Inverse Document Frequency (TF-IDF). Затем он объединяет полученный датафрейм с другим, используя общий идентификатор (id).\n",
    "\n",
    "Далее код удаляет некоторые столбцы, связанные с исполнительными продюсерами, продюсерами и сценаристами. Он также переименовывает некоторые столбцы, связанные с полом актеров и режиссера. После этого он заменяет некоторые значения пола на NaN или 0 в зависимости от их исходных значений.\n",
    "\n",
    "Затем код создает новые столбцы, категоризируя количество появлений главных актеров, актеров второго плана, режиссера и студии. После этого он создает фиктивные переменные для этих категориальных столбцов и удаляет исходные. Наконец, он удаляет еще несколько столбцов и проверяет информацию полученного датафрейма."
   ]
  },
  {
   "cell_type": "markdown",
   "id": "YxnILzpjAOey",
   "metadata": {
    "id": "YxnILzpjAOey"
   },
   "source": [
    "Примечание: после вывода файла \"data_w_dummies_final.csv\" в приведенном выше коде мы создали второй файл данных для тестирования наших моделей с помощью Excel/OpenRefine, чтобы быстро создать модифицированный набор данных, который преобразовал фиктивные переменные для квартилей director, lead, support и studio в порядковые функции. Это позволило нам сократить общее количество функций с 67 до 47. Этот второй метод также оказался более успешным с нашими моделями и представляет собой набор данных \"data_w_dummies_final_2.csv\", который мы загружаем в следующую ячейку.\n",
    "\n"
   ]
  },
  {
   "cell_type": "markdown",
   "id": "8vp0lxbnbIM2",
   "metadata": {
    "id": "8vp0lxbnbIM2"
   },
   "source": [
    "# Описательный анализ\n",
    "\n"
   ]
  },
  {
   "cell_type": "markdown",
   "id": "660d05a3",
   "metadata": {},
   "source": [
    "выполняем задачи по очистке и анализу данных на наборе данных о фильмах, включая выборку столбцов, группировку, создание новых DataFrame'ов, удаление дубликатов и преобразование типов данных. В конечном итоге данные готовятся для использования в модели машинного обучения."
   ]
  },
  {
   "cell_type": "code",
   "execution_count": 145,
   "id": "knpUoRj9bLr5",
   "metadata": {
    "id": "knpUoRj9bLr5"
   },
   "outputs": [
    {
     "name": "stderr",
     "output_type": "stream",
     "text": [
      "C:\\Users\\arina\\AppData\\Local\\Temp\\ipykernel_9676\\2574695736.py:2: DtypeWarning: Columns (10) have mixed types. Specify dtype option on import or set low_memory=False.\n",
      "  movies_df = pd.read_csv(\"./movies_metadata.csv\")\n"
     ]
    }
   ],
   "source": [
    "movies_final = pd.read_csv(\"./data_w_dummies_final.csv\")\n",
    "movies_df = pd.read_csv(\"./movies_metadata.csv\")"
   ]
  },
  {
   "cell_type": "code",
   "execution_count": 146,
   "id": "zp-iipRgJPN2",
   "metadata": {
    "colab": {
     "base_uri": "https://localhost:8080/"
    },
    "id": "zp-iipRgJPN2",
    "outputId": "53b8247f-fd54-48c8-e6db-d4e3c6a49555",
    "scrolled": true
   },
   "outputs": [
    {
     "name": "stderr",
     "output_type": "stream",
     "text": [
      "C:\\Users\\arina\\AppData\\Local\\Temp\\ipykernel_9676\\1156816542.py:2: SettingWithCopyWarning: \n",
      "A value is trying to be set on a copy of a slice from a DataFrame\n",
      "\n",
      "See the caveats in the documentation: https://pandas.pydata.org/pandas-docs/stable/user_guide/indexing.html#returning-a-view-versus-a-copy\n",
      "  test.dropna(inplace=True)\n"
     ]
    }
   ],
   "source": [
    "test = movies_final[['popularity','budget','revenue']]\n",
    "test.dropna(inplace=True)"
   ]
  },
  {
   "cell_type": "code",
   "execution_count": 147,
   "id": "CffUljy3Jgau",
   "metadata": {
    "colab": {
     "base_uri": "https://localhost:8080/",
     "height": 420
    },
    "id": "CffUljy3Jgau",
    "outputId": "8857c3df-61c8-4a4f-f74c-ba6370d0b02d"
   },
   "outputs": [
    {
     "name": "stderr",
     "output_type": "stream",
     "text": [
      "C:\\Users\\arina\\AppData\\Local\\Temp\\ipykernel_9676\\2176947285.py:1: SettingWithCopyWarning: \n",
      "A value is trying to be set on a copy of a slice from a DataFrame.\n",
      "Try using .loc[row_indexer,col_indexer] = value instead\n",
      "\n",
      "See the caveats in the documentation: https://pandas.pydata.org/pandas-docs/stable/user_guide/indexing.html#returning-a-view-versus-a-copy\n",
      "  test['return'] = test['revenue']/test['budget']\n",
      "C:\\Users\\arina\\AppData\\Local\\Temp\\ipykernel_9676\\2176947285.py:2: SettingWithCopyWarning: \n",
      "A value is trying to be set on a copy of a slice from a DataFrame.\n",
      "Try using .loc[row_indexer,col_indexer] = value instead\n",
      "\n",
      "See the caveats in the documentation: https://pandas.pydata.org/pandas-docs/stable/user_guide/indexing.html#returning-a-view-versus-a-copy\n",
      "  test['popularity_bin'] = pd.cut(test['popularity'],bins=np.linspace(0,600,5))\n"
     ]
    },
    {
     "data": {
      "text/html": [
       "<div>\n",
       "<style scoped>\n",
       "    .dataframe tbody tr th:only-of-type {\n",
       "        vertical-align: middle;\n",
       "    }\n",
       "\n",
       "    .dataframe tbody tr th {\n",
       "        vertical-align: top;\n",
       "    }\n",
       "\n",
       "    .dataframe thead th {\n",
       "        text-align: right;\n",
       "    }\n",
       "</style>\n",
       "<table border=\"1\" class=\"dataframe\">\n",
       "  <thead>\n",
       "    <tr style=\"text-align: right;\">\n",
       "      <th></th>\n",
       "      <th>popularity</th>\n",
       "      <th>budget</th>\n",
       "      <th>revenue</th>\n",
       "      <th>return</th>\n",
       "    </tr>\n",
       "    <tr>\n",
       "      <th>popularity_bin</th>\n",
       "      <th></th>\n",
       "      <th></th>\n",
       "      <th></th>\n",
       "      <th></th>\n",
       "    </tr>\n",
       "  </thead>\n",
       "  <tbody>\n",
       "    <tr>\n",
       "      <th>(0.0, 150.0]</th>\n",
       "      <td>9.544657</td>\n",
       "      <td>30000000.0</td>\n",
       "      <td>5.693230e+07</td>\n",
       "      <td>1.955405</td>\n",
       "    </tr>\n",
       "    <tr>\n",
       "      <th>(150.0, 300.0]</th>\n",
       "      <td>187.860492</td>\n",
       "      <td>149000000.0</td>\n",
       "      <td>7.831130e+08</td>\n",
       "      <td>6.054596</td>\n",
       "    </tr>\n",
       "    <tr>\n",
       "      <th>(300.0, 450.0]</th>\n",
       "      <td>NaN</td>\n",
       "      <td>NaN</td>\n",
       "      <td>NaN</td>\n",
       "      <td>NaN</td>\n",
       "    </tr>\n",
       "    <tr>\n",
       "      <th>(450.0, 600.0]</th>\n",
       "      <td>547.488298</td>\n",
       "      <td>74000000.0</td>\n",
       "      <td>1.156731e+09</td>\n",
       "      <td>15.631499</td>\n",
       "    </tr>\n",
       "  </tbody>\n",
       "</table>\n",
       "</div>"
      ],
      "text/plain": [
       "                popularity       budget       revenue     return\n",
       "popularity_bin                                                  \n",
       "(0.0, 150.0]      9.544657   30000000.0  5.693230e+07   1.955405\n",
       "(150.0, 300.0]  187.860492  149000000.0  7.831130e+08   6.054596\n",
       "(300.0, 450.0]         NaN          NaN           NaN        NaN\n",
       "(450.0, 600.0]  547.488298   74000000.0  1.156731e+09  15.631499"
      ]
     },
     "execution_count": 147,
     "metadata": {},
     "output_type": "execute_result"
    }
   ],
   "source": [
    "test['return'] = test['revenue']/test['budget']\n",
    "test['popularity_bin'] = pd.cut(test['popularity'],bins=np.linspace(0,600,5))\n",
    "test_2 = test[['popularity_bin','return']]\n",
    "test.groupby('popularity_bin').median()"
   ]
  },
  {
   "cell_type": "code",
   "execution_count": 148,
   "id": "o_zzAn6NDEEB",
   "metadata": {
    "colab": {
     "base_uri": "https://localhost:8080/"
    },
    "id": "o_zzAn6NDEEB",
    "outputId": "adab97ee-0e26-4f72-d0fc-a9bd89d59545",
    "scrolled": false
   },
   "outputs": [
    {
     "data": {
      "text/plain": [
       "id            0\n",
       "imdb_id      17\n",
       "overview    954\n",
       "dtype: int64"
      ]
     },
     "execution_count": 148,
     "metadata": {},
     "output_type": "execute_result"
    }
   ],
   "source": [
    "movies_df.duplicated(subset='id').sum()\n",
    "movies_df.drop_duplicates(subset='id', inplace=True)\n",
    "movies_df['imdb_id'] = movies_df['imdb_id'].str[2:]\n",
    "\n",
    "# Убедитесь, что пробелы не портят значения\n",
    "# movies_df['id'].str.strip()\n",
    "movies_df['imdb_id'].str.strip()\n",
    "movies_df_words = movies_df[['id','imdb_id','overview']]\n",
    "movies_df_words.isna().sum()"
   ]
  },
  {
   "cell_type": "code",
   "execution_count": 149,
   "id": "61ce5118",
   "metadata": {},
   "outputs": [
    {
     "name": "stderr",
     "output_type": "stream",
     "text": [
      "C:\\Users\\arina\\AppData\\Local\\Temp\\ipykernel_9676\\143201528.py:1: SettingWithCopyWarning: \n",
      "A value is trying to be set on a copy of a slice from a DataFrame\n",
      "\n",
      "See the caveats in the documentation: https://pandas.pydata.org/pandas-docs/stable/user_guide/indexing.html#returning-a-view-versus-a-copy\n",
      "  movies_df_words.dropna(how='any', inplace=True)\n",
      "C:\\Users\\arina\\AppData\\Local\\Temp\\ipykernel_9676\\143201528.py:2: SettingWithCopyWarning: \n",
      "A value is trying to be set on a copy of a slice from a DataFrame.\n",
      "Try using .loc[row_indexer,col_indexer] = value instead\n",
      "\n",
      "See the caveats in the documentation: https://pandas.pydata.org/pandas-docs/stable/user_guide/indexing.html#returning-a-view-versus-a-copy\n",
      "  movies_df_words['imdb_id'] = movies_df_words['imdb_id'].apply(pd.to_numeric, errors='coerce').astype('Int64')\n"
     ]
    },
    {
     "data": {
      "text/html": [
       "<div>\n",
       "<style scoped>\n",
       "    .dataframe tbody tr th:only-of-type {\n",
       "        vertical-align: middle;\n",
       "    }\n",
       "\n",
       "    .dataframe tbody tr th {\n",
       "        vertical-align: top;\n",
       "    }\n",
       "\n",
       "    .dataframe thead th {\n",
       "        text-align: right;\n",
       "    }\n",
       "</style>\n",
       "<table border=\"1\" class=\"dataframe\">\n",
       "  <thead>\n",
       "    <tr style=\"text-align: right;\">\n",
       "      <th></th>\n",
       "      <th>id</th>\n",
       "      <th>imdb_id</th>\n",
       "      <th>overview</th>\n",
       "    </tr>\n",
       "  </thead>\n",
       "  <tbody>\n",
       "    <tr>\n",
       "      <th>0</th>\n",
       "      <td>862</td>\n",
       "      <td>114709</td>\n",
       "      <td>Led by Woody, Andy's toys live happily in his ...</td>\n",
       "    </tr>\n",
       "    <tr>\n",
       "      <th>1</th>\n",
       "      <td>8844</td>\n",
       "      <td>113497</td>\n",
       "      <td>When siblings Judy and Peter discover an encha...</td>\n",
       "    </tr>\n",
       "    <tr>\n",
       "      <th>2</th>\n",
       "      <td>15602</td>\n",
       "      <td>113228</td>\n",
       "      <td>A family wedding reignites the ancient feud be...</td>\n",
       "    </tr>\n",
       "    <tr>\n",
       "      <th>3</th>\n",
       "      <td>31357</td>\n",
       "      <td>114885</td>\n",
       "      <td>Cheated on, mistreated and stepped on, the wom...</td>\n",
       "    </tr>\n",
       "    <tr>\n",
       "      <th>4</th>\n",
       "      <td>11862</td>\n",
       "      <td>113041</td>\n",
       "      <td>Just when George Banks has recovered from his ...</td>\n",
       "    </tr>\n",
       "  </tbody>\n",
       "</table>\n",
       "</div>"
      ],
      "text/plain": [
       "      id  imdb_id                                           overview\n",
       "0    862   114709  Led by Woody, Andy's toys live happily in his ...\n",
       "1   8844   113497  When siblings Judy and Peter discover an encha...\n",
       "2  15602   113228  A family wedding reignites the ancient feud be...\n",
       "3  31357   114885  Cheated on, mistreated and stepped on, the wom...\n",
       "4  11862   113041  Just when George Banks has recovered from his ..."
      ]
     },
     "execution_count": 149,
     "metadata": {},
     "output_type": "execute_result"
    }
   ],
   "source": [
    "movies_df_words.dropna(how='any', inplace=True)\n",
    "movies_df_words['imdb_id'] = movies_df_words['imdb_id'].apply(pd.to_numeric, errors='coerce').astype('Int64')\n",
    "movies_df_words.head()\n"
   ]
  },
  {
   "cell_type": "code",
   "execution_count": 150,
   "id": "TjP-N64ebrRY",
   "metadata": {
    "colab": {
     "base_uri": "https://localhost:8080/",
     "height": 577
    },
    "id": "TjP-N64ebrRY",
    "outputId": "1c986e00-6509-4604-c8cc-dcd20711f3e5"
   },
   "outputs": [
    {
     "data": {
      "text/html": [
       "<div>\n",
       "<style scoped>\n",
       "    .dataframe tbody tr th:only-of-type {\n",
       "        vertical-align: middle;\n",
       "    }\n",
       "\n",
       "    .dataframe tbody tr th {\n",
       "        vertical-align: top;\n",
       "    }\n",
       "\n",
       "    .dataframe thead th {\n",
       "        text-align: right;\n",
       "    }\n",
       "</style>\n",
       "<table border=\"1\" class=\"dataframe\">\n",
       "  <thead>\n",
       "    <tr style=\"text-align: right;\">\n",
       "      <th></th>\n",
       "      <th>series</th>\n",
       "      <th>budget</th>\n",
       "      <th>id</th>\n",
       "      <th>imdb_id</th>\n",
       "      <th>popularity</th>\n",
       "      <th>revenue</th>\n",
       "      <th>runtime</th>\n",
       "      <th>title</th>\n",
       "      <th>release_date</th>\n",
       "      <th>release_month</th>\n",
       "      <th>...</th>\n",
       "      <th>dir_4Quartile</th>\n",
       "      <th>dir_3Quartile</th>\n",
       "      <th>dir_2Quartile</th>\n",
       "      <th>dir_1Quintile</th>\n",
       "      <th>studio_6Quartile</th>\n",
       "      <th>studio_5Quartile</th>\n",
       "      <th>studio_4Quartile</th>\n",
       "      <th>studio_3Quartile</th>\n",
       "      <th>studio_2Quartile</th>\n",
       "      <th>studio_1Quartile</th>\n",
       "    </tr>\n",
       "  </thead>\n",
       "  <tbody>\n",
       "    <tr>\n",
       "      <th>0</th>\n",
       "      <td>0</td>\n",
       "      <td>1000000.0</td>\n",
       "      <td>32872</td>\n",
       "      <td>118523</td>\n",
       "      <td>2.700061</td>\n",
       "      <td>NaN</td>\n",
       "      <td>113.0</td>\n",
       "      <td>Til There Was You</td>\n",
       "      <td>1997-05-30</td>\n",
       "      <td>5</td>\n",
       "      <td>...</td>\n",
       "      <td>1</td>\n",
       "      <td>0</td>\n",
       "      <td>0</td>\n",
       "      <td>0</td>\n",
       "      <td>0</td>\n",
       "      <td>0</td>\n",
       "      <td>0</td>\n",
       "      <td>0</td>\n",
       "      <td>1</td>\n",
       "      <td>0</td>\n",
       "    </tr>\n",
       "    <tr>\n",
       "      <th>1</th>\n",
       "      <td>0</td>\n",
       "      <td>53000000.0</td>\n",
       "      <td>9054</td>\n",
       "      <td>119214</td>\n",
       "      <td>2.289647</td>\n",
       "      <td>NaN</td>\n",
       "      <td>94.0</td>\n",
       "      <td>Gone Fishin'</td>\n",
       "      <td>1997-05-30</td>\n",
       "      <td>5</td>\n",
       "      <td>...</td>\n",
       "      <td>1</td>\n",
       "      <td>0</td>\n",
       "      <td>0</td>\n",
       "      <td>0</td>\n",
       "      <td>1</td>\n",
       "      <td>0</td>\n",
       "      <td>0</td>\n",
       "      <td>0</td>\n",
       "      <td>0</td>\n",
       "      <td>0</td>\n",
       "    </tr>\n",
       "    <tr>\n",
       "      <th>2</th>\n",
       "      <td>0</td>\n",
       "      <td>60000000.0</td>\n",
       "      <td>11015</td>\n",
       "      <td>120004</td>\n",
       "      <td>7.699967</td>\n",
       "      <td>33956608.0</td>\n",
       "      <td>110.0</td>\n",
       "      <td>The Relic</td>\n",
       "      <td>1997-01-10</td>\n",
       "      <td>1</td>\n",
       "      <td>...</td>\n",
       "      <td>0</td>\n",
       "      <td>1</td>\n",
       "      <td>0</td>\n",
       "      <td>0</td>\n",
       "      <td>0</td>\n",
       "      <td>0</td>\n",
       "      <td>0</td>\n",
       "      <td>0</td>\n",
       "      <td>0</td>\n",
       "      <td>1</td>\n",
       "    </tr>\n",
       "    <tr>\n",
       "      <th>3</th>\n",
       "      <td>0</td>\n",
       "      <td>NaN</td>\n",
       "      <td>56077</td>\n",
       "      <td>120271</td>\n",
       "      <td>0.978989</td>\n",
       "      <td>NaN</td>\n",
       "      <td>96.0</td>\n",
       "      <td>Talk of Angels</td>\n",
       "      <td>1998-10-30</td>\n",
       "      <td>10</td>\n",
       "      <td>...</td>\n",
       "      <td>1</td>\n",
       "      <td>0</td>\n",
       "      <td>0</td>\n",
       "      <td>0</td>\n",
       "      <td>1</td>\n",
       "      <td>0</td>\n",
       "      <td>0</td>\n",
       "      <td>0</td>\n",
       "      <td>0</td>\n",
       "      <td>0</td>\n",
       "    </tr>\n",
       "    <tr>\n",
       "      <th>4</th>\n",
       "      <td>0</td>\n",
       "      <td>NaN</td>\n",
       "      <td>52855</td>\n",
       "      <td>118927</td>\n",
       "      <td>1.463219</td>\n",
       "      <td>3028094.0</td>\n",
       "      <td>95.0</td>\n",
       "      <td>Dangerous Ground</td>\n",
       "      <td>1997-02-12</td>\n",
       "      <td>2</td>\n",
       "      <td>...</td>\n",
       "      <td>1</td>\n",
       "      <td>0</td>\n",
       "      <td>0</td>\n",
       "      <td>0</td>\n",
       "      <td>0</td>\n",
       "      <td>0</td>\n",
       "      <td>0</td>\n",
       "      <td>1</td>\n",
       "      <td>0</td>\n",
       "      <td>0</td>\n",
       "    </tr>\n",
       "  </tbody>\n",
       "</table>\n",
       "<p>5 rows × 64 columns</p>\n",
       "</div>"
      ],
      "text/plain": [
       "   series      budget     id  imdb_id  popularity     revenue  runtime  \\\n",
       "0       0   1000000.0  32872   118523    2.700061         NaN    113.0   \n",
       "1       0  53000000.0   9054   119214    2.289647         NaN     94.0   \n",
       "2       0  60000000.0  11015   120004    7.699967  33956608.0    110.0   \n",
       "3       0         NaN  56077   120271    0.978989         NaN     96.0   \n",
       "4       0         NaN  52855   118927    1.463219   3028094.0     95.0   \n",
       "\n",
       "               title release_date  release_month  ...  dir_4Quartile  \\\n",
       "0  Til There Was You   1997-05-30              5  ...              1   \n",
       "1       Gone Fishin'   1997-05-30              5  ...              1   \n",
       "2          The Relic   1997-01-10              1  ...              0   \n",
       "3     Talk of Angels   1998-10-30             10  ...              1   \n",
       "4   Dangerous Ground   1997-02-12              2  ...              1   \n",
       "\n",
       "   dir_3Quartile  dir_2Quartile  dir_1Quintile  studio_6Quartile  \\\n",
       "0              0              0              0                 0   \n",
       "1              0              0              0                 1   \n",
       "2              1              0              0                 0   \n",
       "3              0              0              0                 1   \n",
       "4              0              0              0                 0   \n",
       "\n",
       "   studio_5Quartile  studio_4Quartile  studio_3Quartile  studio_2Quartile  \\\n",
       "0                 0                 0                 0                 1   \n",
       "1                 0                 0                 0                 0   \n",
       "2                 0                 0                 0                 0   \n",
       "3                 0                 0                 0                 0   \n",
       "4                 0                 0                 1                 0   \n",
       "\n",
       "   studio_1Quartile  \n",
       "0                 0  \n",
       "1                 0  \n",
       "2                 1  \n",
       "3                 0  \n",
       "4                 0  \n",
       "\n",
       "[5 rows x 64 columns]"
      ]
     },
     "execution_count": 150,
     "metadata": {},
     "output_type": "execute_result"
    }
   ],
   "source": [
    "movies_final.head()"
   ]
  },
  {
   "cell_type": "code",
   "execution_count": 151,
   "id": "fVLjVk03b4gi",
   "metadata": {
    "colab": {
     "base_uri": "https://localhost:8080/"
    },
    "id": "fVLjVk03b4gi",
    "outputId": "ea7e3e8d-ae47-4f42-c8fc-26def106f727",
    "scrolled": true
   },
   "outputs": [
    {
     "name": "stdout",
     "output_type": "stream",
     "text": [
      "<class 'pandas.core.frame.DataFrame'>\n",
      "RangeIndex: 8887 entries, 0 to 8886\n",
      "Data columns (total 64 columns):\n",
      " #   Column                 Non-Null Count  Dtype  \n",
      "---  ------                 --------------  -----  \n",
      " 0   series                 8887 non-null   int64  \n",
      " 1   budget                 3960 non-null   float64\n",
      " 2   id                     8887 non-null   int64  \n",
      " 3   imdb_id                8887 non-null   int64  \n",
      " 4   popularity             8887 non-null   float64\n",
      " 5   revenue                3447 non-null   float64\n",
      " 6   runtime                8887 non-null   float64\n",
      " 7   title                  8887 non-null   object \n",
      " 8   release_date           8887 non-null   object \n",
      " 9   release_month          8887 non-null   int64  \n",
      " 10  release_day            8887 non-null   int64  \n",
      " 11  release_year           8887 non-null   int64  \n",
      " 12  score                  8887 non-null   float64\n",
      " 13  rating                 8815 non-null   float64\n",
      " 14  genre_TV Movie         8887 non-null   float64\n",
      " 15  genre_Horror           8887 non-null   float64\n",
      " 16  genre_Mystery          8887 non-null   float64\n",
      " 17  genre_Foreign          8887 non-null   float64\n",
      " 18  genre_Drama            8887 non-null   float64\n",
      " 19  genre_Music            8887 non-null   float64\n",
      " 20  genre_Western          8887 non-null   float64\n",
      " 21  genre_Animation        8887 non-null   float64\n",
      " 22  genre_Adventure        8887 non-null   float64\n",
      " 23  genre_Comedy           8887 non-null   float64\n",
      " 24  genre_War              8887 non-null   float64\n",
      " 25  genre_History          8887 non-null   float64\n",
      " 26  genre_Thriller         8887 non-null   float64\n",
      " 27  genre_Fantasy          8887 non-null   float64\n",
      " 28  genre_Documentary      8887 non-null   float64\n",
      " 29  genre_Romance          8887 non-null   float64\n",
      " 30  genre_Family           8887 non-null   float64\n",
      " 31  genre_Science Fiction  8887 non-null   float64\n",
      " 32  genre_Action           8887 non-null   float64\n",
      " 33  genre_Crime            8887 non-null   float64\n",
      " 34  studio_y               8887 non-null   object \n",
      " 35  spoken_lang_English    8887 non-null   float64\n",
      " 36  spoken_lang_Other      8887 non-null   float64\n",
      " 37  isFemale_lead          6967 non-null   float64\n",
      " 38  lead                   7572 non-null   object \n",
      " 39  isFemale_support       7377 non-null   float64\n",
      " 40  support                8542 non-null   object \n",
      " 41  isFemale_director      6283 non-null   float64\n",
      " 42  director               8848 non-null   object \n",
      " 43  keyword                7469 non-null   object \n",
      " 44  lead_5Quintile         8887 non-null   int64  \n",
      " 45  lead_4Quintile         8887 non-null   int64  \n",
      " 46  lead_3Quintile         8887 non-null   int64  \n",
      " 47  lead_2Quintile         8887 non-null   int64  \n",
      " 48  lead_1Quintile         8887 non-null   int64  \n",
      " 49  support_5Quintile      8887 non-null   int64  \n",
      " 50  support_4Quintile      8887 non-null   int64  \n",
      " 51  support_3Quintile      8887 non-null   int64  \n",
      " 52  support_2Quintile      8887 non-null   int64  \n",
      " 53  support_1Quintile      8887 non-null   int64  \n",
      " 54  dir_4Quartile          8887 non-null   int64  \n",
      " 55  dir_3Quartile          8887 non-null   int64  \n",
      " 56  dir_2Quartile          8887 non-null   int64  \n",
      " 57  dir_1Quintile          8887 non-null   int64  \n",
      " 58  studio_6Quartile       8887 non-null   int64  \n",
      " 59  studio_5Quartile       8887 non-null   int64  \n",
      " 60  studio_4Quartile       8887 non-null   int64  \n",
      " 61  studio_3Quartile       8887 non-null   int64  \n",
      " 62  studio_2Quartile       8887 non-null   int64  \n",
      " 63  studio_1Quartile       8887 non-null   int64  \n",
      "dtypes: float64(31), int64(26), object(7)\n",
      "memory usage: 4.3+ MB\n"
     ]
    }
   ],
   "source": [
    "movies_final.info()"
   ]
  },
  {
   "cell_type": "code",
   "execution_count": 152,
   "id": "gHls9qoGIdIt",
   "metadata": {
    "colab": {
     "base_uri": "https://localhost:8080/"
    },
    "id": "gHls9qoGIdIt",
    "outputId": "f3a9eaa7-3c8a-4551-dfb2-17f355f62c85",
    "scrolled": true
   },
   "outputs": [
    {
     "name": "stdout",
     "output_type": "stream",
     "text": [
      "<class 'pandas.core.frame.DataFrame'>\n",
      "RangeIndex: 8887 entries, 0 to 8886\n",
      "Data columns (total 64 columns):\n",
      " #   Column                 Non-Null Count  Dtype         \n",
      "---  ------                 --------------  -----         \n",
      " 0   series                 8887 non-null   int64         \n",
      " 1   budget                 3960 non-null   float64       \n",
      " 2   id                     8887 non-null   int64         \n",
      " 3   imdb_id                8887 non-null   int64         \n",
      " 4   popularity             8887 non-null   float64       \n",
      " 5   revenue                3447 non-null   float64       \n",
      " 6   runtime                8887 non-null   float64       \n",
      " 7   title                  8887 non-null   object        \n",
      " 8   release_date           8887 non-null   datetime64[ns]\n",
      " 9   release_month          8887 non-null   int64         \n",
      " 10  release_day            8887 non-null   int64         \n",
      " 11  release_year           8887 non-null   int64         \n",
      " 12  score                  8887 non-null   float64       \n",
      " 13  rating                 8815 non-null   float64       \n",
      " 14  genre_TV Movie         8887 non-null   float64       \n",
      " 15  genre_Horror           8887 non-null   float64       \n",
      " 16  genre_Mystery          8887 non-null   float64       \n",
      " 17  genre_Foreign          8887 non-null   float64       \n",
      " 18  genre_Drama            8887 non-null   float64       \n",
      " 19  genre_Music            8887 non-null   float64       \n",
      " 20  genre_Western          8887 non-null   float64       \n",
      " 21  genre_Animation        8887 non-null   float64       \n",
      " 22  genre_Adventure        8887 non-null   float64       \n",
      " 23  genre_Comedy           8887 non-null   float64       \n",
      " 24  genre_War              8887 non-null   float64       \n",
      " 25  genre_History          8887 non-null   float64       \n",
      " 26  genre_Thriller         8887 non-null   float64       \n",
      " 27  genre_Fantasy          8887 non-null   float64       \n",
      " 28  genre_Documentary      8887 non-null   float64       \n",
      " 29  genre_Romance          8887 non-null   float64       \n",
      " 30  genre_Family           8887 non-null   float64       \n",
      " 31  genre_Science Fiction  8887 non-null   float64       \n",
      " 32  genre_Action           8887 non-null   float64       \n",
      " 33  genre_Crime            8887 non-null   float64       \n",
      " 34  studio_y               8887 non-null   object        \n",
      " 35  spoken_lang_English    8887 non-null   float64       \n",
      " 36  spoken_lang_Other      8887 non-null   float64       \n",
      " 37  isFemale_lead          6967 non-null   float64       \n",
      " 38  lead                   7572 non-null   object        \n",
      " 39  isFemale_support       7377 non-null   float64       \n",
      " 40  support                8542 non-null   object        \n",
      " 41  isFemale_director      6283 non-null   float64       \n",
      " 42  director               8848 non-null   object        \n",
      " 43  keyword                7469 non-null   object        \n",
      " 44  lead_5Quintile         8887 non-null   int64         \n",
      " 45  lead_4Quintile         8887 non-null   int64         \n",
      " 46  lead_3Quintile         8887 non-null   int64         \n",
      " 47  lead_2Quintile         8887 non-null   int64         \n",
      " 48  lead_1Quintile         8887 non-null   int64         \n",
      " 49  support_5Quintile      8887 non-null   int64         \n",
      " 50  support_4Quintile      8887 non-null   int64         \n",
      " 51  support_3Quintile      8887 non-null   int64         \n",
      " 52  support_2Quintile      8887 non-null   int64         \n",
      " 53  support_1Quintile      8887 non-null   int64         \n",
      " 54  dir_4Quartile          8887 non-null   int64         \n",
      " 55  dir_3Quartile          8887 non-null   int64         \n",
      " 56  dir_2Quartile          8887 non-null   int64         \n",
      " 57  dir_1Quintile          8887 non-null   int64         \n",
      " 58  studio_6Quartile       8887 non-null   int64         \n",
      " 59  studio_5Quartile       8887 non-null   int64         \n",
      " 60  studio_4Quartile       8887 non-null   int64         \n",
      " 61  studio_3Quartile       8887 non-null   int64         \n",
      " 62  studio_2Quartile       8887 non-null   int64         \n",
      " 63  studio_1Quartile       8887 non-null   int64         \n",
      "dtypes: datetime64[ns](1), float64(31), int64(26), object(6)\n",
      "memory usage: 4.3+ MB\n"
     ]
    }
   ],
   "source": [
    "movies_final['release_date']= pd.to_datetime(movies_final['release_date'])\n",
    "\n",
    "# movies_final['release_date'] = movies_final['release_date'].apply(fix_date)\n",
    "movies_final.info()"
   ]
  },
  {
   "cell_type": "code",
   "execution_count": 153,
   "id": "911f079f",
   "metadata": {},
   "outputs": [
    {
     "data": {
      "text/html": [
       "<div>\n",
       "<style scoped>\n",
       "    .dataframe tbody tr th:only-of-type {\n",
       "        vertical-align: middle;\n",
       "    }\n",
       "\n",
       "    .dataframe tbody tr th {\n",
       "        vertical-align: top;\n",
       "    }\n",
       "\n",
       "    .dataframe thead th {\n",
       "        text-align: right;\n",
       "    }\n",
       "</style>\n",
       "<table border=\"1\" class=\"dataframe\">\n",
       "  <thead>\n",
       "    <tr style=\"text-align: right;\">\n",
       "      <th></th>\n",
       "      <th>title</th>\n",
       "      <th>id</th>\n",
       "      <th>imdb_id</th>\n",
       "      <th>keyword</th>\n",
       "      <th>id</th>\n",
       "      <th>imdb_id</th>\n",
       "      <th>overview</th>\n",
       "    </tr>\n",
       "  </thead>\n",
       "  <tbody>\n",
       "    <tr>\n",
       "      <th>0</th>\n",
       "      <td>Til There Was You</td>\n",
       "      <td>32872</td>\n",
       "      <td>118523</td>\n",
       "      <td>poem, father son relationship, support group, ...</td>\n",
       "      <td>862</td>\n",
       "      <td>114709</td>\n",
       "      <td>Led by Woody, Andy's toys live happily in his ...</td>\n",
       "    </tr>\n",
       "    <tr>\n",
       "      <th>1</th>\n",
       "      <td>Gone Fishin'</td>\n",
       "      <td>9054</td>\n",
       "      <td>119214</td>\n",
       "      <td>sea, boat, fishing, rogue</td>\n",
       "      <td>8844</td>\n",
       "      <td>113497</td>\n",
       "      <td>When siblings Judy and Peter discover an encha...</td>\n",
       "    </tr>\n",
       "    <tr>\n",
       "      <th>2</th>\n",
       "      <td>The Relic</td>\n",
       "      <td>11015</td>\n",
       "      <td>120004</td>\n",
       "      <td>chicago, based on novel, monster, museum, pile...</td>\n",
       "      <td>15602</td>\n",
       "      <td>113228</td>\n",
       "      <td>A family wedding reignites the ancient feud be...</td>\n",
       "    </tr>\n",
       "    <tr>\n",
       "      <th>3</th>\n",
       "      <td>Talk of Angels</td>\n",
       "      <td>56077</td>\n",
       "      <td>120271</td>\n",
       "      <td>independent film</td>\n",
       "      <td>31357</td>\n",
       "      <td>114885</td>\n",
       "      <td>Cheated on, mistreated and stepped on, the wom...</td>\n",
       "    </tr>\n",
       "    <tr>\n",
       "      <th>4</th>\n",
       "      <td>Dangerous Ground</td>\n",
       "      <td>52855</td>\n",
       "      <td>118927</td>\n",
       "      <td>independent film</td>\n",
       "      <td>11862</td>\n",
       "      <td>113041</td>\n",
       "      <td>Just when George Banks has recovered from his ...</td>\n",
       "    </tr>\n",
       "  </tbody>\n",
       "</table>\n",
       "</div>"
      ],
      "text/plain": [
       "               title     id  imdb_id  \\\n",
       "0  Til There Was You  32872   118523   \n",
       "1       Gone Fishin'   9054   119214   \n",
       "2          The Relic  11015   120004   \n",
       "3     Talk of Angels  56077   120271   \n",
       "4   Dangerous Ground  52855   118927   \n",
       "\n",
       "                                             keyword     id  imdb_id  \\\n",
       "0  poem, father son relationship, support group, ...    862   114709   \n",
       "1                          sea, boat, fishing, rogue   8844   113497   \n",
       "2  chicago, based on novel, monster, museum, pile...  15602   113228   \n",
       "3                                   independent film  31357   114885   \n",
       "4                                   independent film  11862   113041   \n",
       "\n",
       "                                            overview  \n",
       "0  Led by Woody, Andy's toys live happily in his ...  \n",
       "1  When siblings Judy and Peter discover an encha...  \n",
       "2  A family wedding reignites the ancient feud be...  \n",
       "3  Cheated on, mistreated and stepped on, the wom...  \n",
       "4  Just when George Banks has recovered from his ...  "
      ]
     },
     "execution_count": 153,
     "metadata": {},
     "output_type": "execute_result"
    }
   ],
   "source": [
    "movies_final['imdb_id'] = movies_final['imdb_id'].astype(str)\n",
    "movies_wordcloud = pd.concat([movies_final[['title','id','imdb_id','keyword']], movies_df_words], axis=1, join='inner')\n",
    "movies_wordcloud.head()"
   ]
  },
  {
   "cell_type": "code",
   "execution_count": 154,
   "id": "nOE8uiVZFN9I",
   "metadata": {
    "id": "nOE8uiVZFN9I"
   },
   "outputs": [],
   "source": [
    "movies_wordcloud.dropna(inplace=True)"
   ]
  },
  {
   "cell_type": "code",
   "execution_count": 155,
   "id": "3yyr1cCiFvBG",
   "metadata": {
    "id": "3yyr1cCiFvBG"
   },
   "outputs": [],
   "source": [
    "\n",
    "# Преобразование в строку\n",
    "movies_wordcloud['title']=movies_wordcloud['title'].astype('str')\n",
    "movies_wordcloud['overview']=movies_wordcloud['overview'].astype('str')\n",
    "movies_wordcloud['keyword']=movies_wordcloud['keyword'].astype('str')\n",
    "\n",
    "# объединение заголовков через пробел\n",
    "title_data=' '.join(movies_wordcloud['title'])\n",
    "overview_data=' '.join(movies_wordcloud['overview'])\n",
    "keyword_data=' '.join(movies_wordcloud['keyword'])"
   ]
  },
  {
   "cell_type": "code",
   "execution_count": 156,
   "id": "j8DMeQsHFaJo",
   "metadata": {
    "id": "j8DMeQsHFaJo"
   },
   "outputs": [],
   "source": [
    "from wordcloud import WordCloud, STOPWORDS"
   ]
  },
  {
   "cell_type": "code",
   "execution_count": 157,
   "id": "cP0V8MbmFgdX",
   "metadata": {
    "colab": {
     "base_uri": "https://localhost:8080/",
     "height": 254
    },
    "id": "cP0V8MbmFgdX",
    "outputId": "6aebc3b8-c3b0-495f-ae49-af71196800d1"
   },
   "outputs": [
    {
     "ename": "ValueError",
     "evalue": "Only supported for TrueType fonts",
     "output_type": "error",
     "traceback": [
      "\u001b[1;31m---------------------------------------------------------------------------\u001b[0m",
      "\u001b[1;31mValueError\u001b[0m                                Traceback (most recent call last)",
      "Input \u001b[1;32mIn [157]\u001b[0m, in \u001b[0;36m<module>\u001b[1;34m\u001b[0m\n\u001b[1;32m----> 1\u001b[0m title_cloud \u001b[38;5;241m=\u001b[39m \u001b[43mWordCloud\u001b[49m\u001b[43m(\u001b[49m\u001b[43mstopwords\u001b[49m\u001b[38;5;241;43m=\u001b[39;49m\u001b[43mSTOPWORDS\u001b[49m\u001b[43m,\u001b[49m\u001b[43m \u001b[49m\u001b[43mbackground_color\u001b[49m\u001b[38;5;241;43m=\u001b[39;49m\u001b[38;5;124;43m'\u001b[39;49m\u001b[38;5;124;43mwhite\u001b[39;49m\u001b[38;5;124;43m'\u001b[39;49m\u001b[43m,\u001b[49m\u001b[43m \u001b[49m\u001b[43mheight\u001b[49m\u001b[38;5;241;43m=\u001b[39;49m\u001b[38;5;241;43m1000\u001b[39;49m\u001b[43m,\u001b[49m\u001b[43m \u001b[49m\u001b[43mwidth\u001b[49m\u001b[38;5;241;43m=\u001b[39;49m\u001b[38;5;241;43m3000\u001b[39;49m\u001b[43m)\u001b[49m\u001b[38;5;241;43m.\u001b[39;49m\u001b[43mgenerate\u001b[49m\u001b[43m(\u001b[49m\u001b[43mtitle_data\u001b[49m\u001b[43m)\u001b[49m\n\u001b[0;32m      2\u001b[0m plt\u001b[38;5;241m.\u001b[39mfigure(figsize\u001b[38;5;241m=\u001b[39m(\u001b[38;5;241m12\u001b[39m,\u001b[38;5;241m6\u001b[39m))\n\u001b[0;32m      3\u001b[0m plt\u001b[38;5;241m.\u001b[39mimshow(title_cloud)\n",
      "File \u001b[1;32m~\\AppData\\Local\\Programs\\Python\\Python310\\lib\\site-packages\\wordcloud\\wordcloud.py:639\u001b[0m, in \u001b[0;36mWordCloud.generate\u001b[1;34m(self, text)\u001b[0m\n\u001b[0;32m    624\u001b[0m \u001b[38;5;28;01mdef\u001b[39;00m \u001b[38;5;21mgenerate\u001b[39m(\u001b[38;5;28mself\u001b[39m, text):\n\u001b[0;32m    625\u001b[0m     \u001b[38;5;124;03m\"\"\"Generate wordcloud from text.\u001b[39;00m\n\u001b[0;32m    626\u001b[0m \n\u001b[0;32m    627\u001b[0m \u001b[38;5;124;03m    The input \"text\" is expected to be a natural text. If you pass a sorted\u001b[39;00m\n\u001b[1;32m   (...)\u001b[0m\n\u001b[0;32m    637\u001b[0m \u001b[38;5;124;03m    self\u001b[39;00m\n\u001b[0;32m    638\u001b[0m \u001b[38;5;124;03m    \"\"\"\u001b[39;00m\n\u001b[1;32m--> 639\u001b[0m     \u001b[38;5;28;01mreturn\u001b[39;00m \u001b[38;5;28;43mself\u001b[39;49m\u001b[38;5;241;43m.\u001b[39;49m\u001b[43mgenerate_from_text\u001b[49m\u001b[43m(\u001b[49m\u001b[43mtext\u001b[49m\u001b[43m)\u001b[49m\n",
      "File \u001b[1;32m~\\AppData\\Local\\Programs\\Python\\Python310\\lib\\site-packages\\wordcloud\\wordcloud.py:621\u001b[0m, in \u001b[0;36mWordCloud.generate_from_text\u001b[1;34m(self, text)\u001b[0m\n\u001b[0;32m    604\u001b[0m \u001b[38;5;124;03m\"\"\"Generate wordcloud from text.\u001b[39;00m\n\u001b[0;32m    605\u001b[0m \n\u001b[0;32m    606\u001b[0m \u001b[38;5;124;03mThe input \"text\" is expected to be a natural text. If you pass a sorted\u001b[39;00m\n\u001b[1;32m   (...)\u001b[0m\n\u001b[0;32m    618\u001b[0m \u001b[38;5;124;03mself\u001b[39;00m\n\u001b[0;32m    619\u001b[0m \u001b[38;5;124;03m\"\"\"\u001b[39;00m\n\u001b[0;32m    620\u001b[0m words \u001b[38;5;241m=\u001b[39m \u001b[38;5;28mself\u001b[39m\u001b[38;5;241m.\u001b[39mprocess_text(text)\n\u001b[1;32m--> 621\u001b[0m \u001b[38;5;28;43mself\u001b[39;49m\u001b[38;5;241;43m.\u001b[39;49m\u001b[43mgenerate_from_frequencies\u001b[49m\u001b[43m(\u001b[49m\u001b[43mwords\u001b[49m\u001b[43m)\u001b[49m\n\u001b[0;32m    622\u001b[0m \u001b[38;5;28;01mreturn\u001b[39;00m \u001b[38;5;28mself\u001b[39m\n",
      "File \u001b[1;32m~\\AppData\\Local\\Programs\\Python\\Python310\\lib\\site-packages\\wordcloud\\wordcloud.py:453\u001b[0m, in \u001b[0;36mWordCloud.generate_from_frequencies\u001b[1;34m(self, frequencies, max_font_size)\u001b[0m\n\u001b[0;32m    451\u001b[0m     font_size \u001b[38;5;241m=\u001b[39m \u001b[38;5;28mself\u001b[39m\u001b[38;5;241m.\u001b[39mheight\n\u001b[0;32m    452\u001b[0m \u001b[38;5;28;01melse\u001b[39;00m:\n\u001b[1;32m--> 453\u001b[0m     \u001b[38;5;28;43mself\u001b[39;49m\u001b[38;5;241;43m.\u001b[39;49m\u001b[43mgenerate_from_frequencies\u001b[49m\u001b[43m(\u001b[49m\u001b[38;5;28;43mdict\u001b[39;49m\u001b[43m(\u001b[49m\u001b[43mfrequencies\u001b[49m\u001b[43m[\u001b[49m\u001b[43m:\u001b[49m\u001b[38;5;241;43m2\u001b[39;49m\u001b[43m]\u001b[49m\u001b[43m)\u001b[49m\u001b[43m,\u001b[49m\n\u001b[0;32m    454\u001b[0m \u001b[43m                                   \u001b[49m\u001b[43mmax_font_size\u001b[49m\u001b[38;5;241;43m=\u001b[39;49m\u001b[38;5;28;43mself\u001b[39;49m\u001b[38;5;241;43m.\u001b[39;49m\u001b[43mheight\u001b[49m\u001b[43m)\u001b[49m\n\u001b[0;32m    455\u001b[0m     \u001b[38;5;66;03m# find font sizes\u001b[39;00m\n\u001b[0;32m    456\u001b[0m     sizes \u001b[38;5;241m=\u001b[39m [x[\u001b[38;5;241m1\u001b[39m] \u001b[38;5;28;01mfor\u001b[39;00m x \u001b[38;5;129;01min\u001b[39;00m \u001b[38;5;28mself\u001b[39m\u001b[38;5;241m.\u001b[39mlayout_]\n",
      "File \u001b[1;32m~\\AppData\\Local\\Programs\\Python\\Python310\\lib\\site-packages\\wordcloud\\wordcloud.py:508\u001b[0m, in \u001b[0;36mWordCloud.generate_from_frequencies\u001b[1;34m(self, frequencies, max_font_size)\u001b[0m\n\u001b[0;32m    505\u001b[0m transposed_font \u001b[38;5;241m=\u001b[39m ImageFont\u001b[38;5;241m.\u001b[39mTransposedFont(\n\u001b[0;32m    506\u001b[0m     font, orientation\u001b[38;5;241m=\u001b[39morientation)\n\u001b[0;32m    507\u001b[0m \u001b[38;5;66;03m# get size of resulting text\u001b[39;00m\n\u001b[1;32m--> 508\u001b[0m box_size \u001b[38;5;241m=\u001b[39m \u001b[43mdraw\u001b[49m\u001b[38;5;241;43m.\u001b[39;49m\u001b[43mtextbbox\u001b[49m\u001b[43m(\u001b[49m\u001b[43m(\u001b[49m\u001b[38;5;241;43m0\u001b[39;49m\u001b[43m,\u001b[49m\u001b[43m \u001b[49m\u001b[38;5;241;43m0\u001b[39;49m\u001b[43m)\u001b[49m\u001b[43m,\u001b[49m\u001b[43m \u001b[49m\u001b[43mword\u001b[49m\u001b[43m,\u001b[49m\u001b[43m \u001b[49m\u001b[43mfont\u001b[49m\u001b[38;5;241;43m=\u001b[39;49m\u001b[43mtransposed_font\u001b[49m\u001b[43m,\u001b[49m\u001b[43m \u001b[49m\u001b[43manchor\u001b[49m\u001b[38;5;241;43m=\u001b[39;49m\u001b[38;5;124;43m\"\u001b[39;49m\u001b[38;5;124;43mlt\u001b[39;49m\u001b[38;5;124;43m\"\u001b[39;49m\u001b[43m)\u001b[49m\n\u001b[0;32m    509\u001b[0m \u001b[38;5;66;03m# find possible places using integral image:\u001b[39;00m\n\u001b[0;32m    510\u001b[0m result \u001b[38;5;241m=\u001b[39m occupancy\u001b[38;5;241m.\u001b[39msample_position(box_size[\u001b[38;5;241m3\u001b[39m] \u001b[38;5;241m+\u001b[39m \u001b[38;5;28mself\u001b[39m\u001b[38;5;241m.\u001b[39mmargin,\n\u001b[0;32m    511\u001b[0m                                    box_size[\u001b[38;5;241m2\u001b[39m] \u001b[38;5;241m+\u001b[39m \u001b[38;5;28mself\u001b[39m\u001b[38;5;241m.\u001b[39mmargin,\n\u001b[0;32m    512\u001b[0m                                    random_state)\n",
      "File \u001b[1;32m~\\AppData\\Local\\Programs\\Python\\Python310\\lib\\site-packages\\PIL\\ImageDraw.py:671\u001b[0m, in \u001b[0;36mImageDraw.textbbox\u001b[1;34m(self, xy, text, font, anchor, spacing, align, direction, features, language, stroke_width, embedded_color)\u001b[0m\n\u001b[0;32m    669\u001b[0m     font \u001b[38;5;241m=\u001b[39m \u001b[38;5;28mself\u001b[39m\u001b[38;5;241m.\u001b[39mgetfont()\n\u001b[0;32m    670\u001b[0m \u001b[38;5;28;01mif\u001b[39;00m \u001b[38;5;129;01mnot\u001b[39;00m \u001b[38;5;28misinstance\u001b[39m(font, ImageFont\u001b[38;5;241m.\u001b[39mFreeTypeFont):\n\u001b[1;32m--> 671\u001b[0m     \u001b[38;5;28;01mraise\u001b[39;00m \u001b[38;5;167;01mValueError\u001b[39;00m(\u001b[38;5;124m\"\u001b[39m\u001b[38;5;124mOnly supported for TrueType fonts\u001b[39m\u001b[38;5;124m\"\u001b[39m)\n\u001b[0;32m    672\u001b[0m mode \u001b[38;5;241m=\u001b[39m \u001b[38;5;124m\"\u001b[39m\u001b[38;5;124mRGBA\u001b[39m\u001b[38;5;124m\"\u001b[39m \u001b[38;5;28;01mif\u001b[39;00m embedded_color \u001b[38;5;28;01melse\u001b[39;00m \u001b[38;5;28mself\u001b[39m\u001b[38;5;241m.\u001b[39mfontmode\n\u001b[0;32m    673\u001b[0m bbox \u001b[38;5;241m=\u001b[39m font\u001b[38;5;241m.\u001b[39mgetbbox(\n\u001b[0;32m    674\u001b[0m     text, mode, direction, features, language, stroke_width, anchor\n\u001b[0;32m    675\u001b[0m )\n",
      "\u001b[1;31mValueError\u001b[0m: Only supported for TrueType fonts"
     ]
    }
   ],
   "source": [
    "title_cloud = WordCloud(stopwords=STOPWORDS, background_color='white', height=1000, width=3000).generate(title_data)\n",
    "plt.figure(figsize=(12,6))\n",
    "plt.imshow(title_cloud)\n",
    "plt.axis('off')\n",
    "plt.show()"
   ]
  },
  {
   "cell_type": "code",
   "execution_count": 158,
   "id": "G_9aRwNyF_D0",
   "metadata": {
    "colab": {
     "base_uri": "https://localhost:8080/",
     "height": 254
    },
    "id": "G_9aRwNyF_D0",
    "outputId": "f5e91ad0-31f2-41cd-94a4-94bd237702d8"
   },
   "outputs": [
    {
     "ename": "ValueError",
     "evalue": "Only supported for TrueType fonts",
     "output_type": "error",
     "traceback": [
      "\u001b[1;31m---------------------------------------------------------------------------\u001b[0m",
      "\u001b[1;31mValueError\u001b[0m                                Traceback (most recent call last)",
      "Input \u001b[1;32mIn [158]\u001b[0m, in \u001b[0;36m<module>\u001b[1;34m\u001b[0m\n\u001b[1;32m----> 1\u001b[0m overview_cloud \u001b[38;5;241m=\u001b[39m \u001b[43mWordCloud\u001b[49m\u001b[43m(\u001b[49m\u001b[43mstopwords\u001b[49m\u001b[38;5;241;43m=\u001b[39;49m\u001b[43mSTOPWORDS\u001b[49m\u001b[43m,\u001b[49m\u001b[43m \u001b[49m\u001b[43mbackground_color\u001b[49m\u001b[38;5;241;43m=\u001b[39;49m\u001b[38;5;124;43m'\u001b[39;49m\u001b[38;5;124;43mwhite\u001b[39;49m\u001b[38;5;124;43m'\u001b[39;49m\u001b[43m,\u001b[49m\u001b[43m \u001b[49m\u001b[43mheight\u001b[49m\u001b[38;5;241;43m=\u001b[39;49m\u001b[38;5;241;43m1000\u001b[39;49m\u001b[43m,\u001b[49m\u001b[43m \u001b[49m\u001b[43mwidth\u001b[49m\u001b[38;5;241;43m=\u001b[39;49m\u001b[38;5;241;43m3000\u001b[39;49m\u001b[43m)\u001b[49m\u001b[38;5;241;43m.\u001b[39;49m\u001b[43mgenerate\u001b[49m\u001b[43m(\u001b[49m\u001b[43moverview_data\u001b[49m\u001b[43m)\u001b[49m\n\u001b[0;32m      2\u001b[0m plt\u001b[38;5;241m.\u001b[39mfigure(figsize\u001b[38;5;241m=\u001b[39m(\u001b[38;5;241m12\u001b[39m,\u001b[38;5;241m6\u001b[39m))\n\u001b[0;32m      3\u001b[0m plt\u001b[38;5;241m.\u001b[39mimshow(overview_cloud)\n",
      "File \u001b[1;32m~\\AppData\\Local\\Programs\\Python\\Python310\\lib\\site-packages\\wordcloud\\wordcloud.py:639\u001b[0m, in \u001b[0;36mWordCloud.generate\u001b[1;34m(self, text)\u001b[0m\n\u001b[0;32m    624\u001b[0m \u001b[38;5;28;01mdef\u001b[39;00m \u001b[38;5;21mgenerate\u001b[39m(\u001b[38;5;28mself\u001b[39m, text):\n\u001b[0;32m    625\u001b[0m     \u001b[38;5;124;03m\"\"\"Generate wordcloud from text.\u001b[39;00m\n\u001b[0;32m    626\u001b[0m \n\u001b[0;32m    627\u001b[0m \u001b[38;5;124;03m    The input \"text\" is expected to be a natural text. If you pass a sorted\u001b[39;00m\n\u001b[1;32m   (...)\u001b[0m\n\u001b[0;32m    637\u001b[0m \u001b[38;5;124;03m    self\u001b[39;00m\n\u001b[0;32m    638\u001b[0m \u001b[38;5;124;03m    \"\"\"\u001b[39;00m\n\u001b[1;32m--> 639\u001b[0m     \u001b[38;5;28;01mreturn\u001b[39;00m \u001b[38;5;28;43mself\u001b[39;49m\u001b[38;5;241;43m.\u001b[39;49m\u001b[43mgenerate_from_text\u001b[49m\u001b[43m(\u001b[49m\u001b[43mtext\u001b[49m\u001b[43m)\u001b[49m\n",
      "File \u001b[1;32m~\\AppData\\Local\\Programs\\Python\\Python310\\lib\\site-packages\\wordcloud\\wordcloud.py:621\u001b[0m, in \u001b[0;36mWordCloud.generate_from_text\u001b[1;34m(self, text)\u001b[0m\n\u001b[0;32m    604\u001b[0m \u001b[38;5;124;03m\"\"\"Generate wordcloud from text.\u001b[39;00m\n\u001b[0;32m    605\u001b[0m \n\u001b[0;32m    606\u001b[0m \u001b[38;5;124;03mThe input \"text\" is expected to be a natural text. If you pass a sorted\u001b[39;00m\n\u001b[1;32m   (...)\u001b[0m\n\u001b[0;32m    618\u001b[0m \u001b[38;5;124;03mself\u001b[39;00m\n\u001b[0;32m    619\u001b[0m \u001b[38;5;124;03m\"\"\"\u001b[39;00m\n\u001b[0;32m    620\u001b[0m words \u001b[38;5;241m=\u001b[39m \u001b[38;5;28mself\u001b[39m\u001b[38;5;241m.\u001b[39mprocess_text(text)\n\u001b[1;32m--> 621\u001b[0m \u001b[38;5;28;43mself\u001b[39;49m\u001b[38;5;241;43m.\u001b[39;49m\u001b[43mgenerate_from_frequencies\u001b[49m\u001b[43m(\u001b[49m\u001b[43mwords\u001b[49m\u001b[43m)\u001b[49m\n\u001b[0;32m    622\u001b[0m \u001b[38;5;28;01mreturn\u001b[39;00m \u001b[38;5;28mself\u001b[39m\n",
      "File \u001b[1;32m~\\AppData\\Local\\Programs\\Python\\Python310\\lib\\site-packages\\wordcloud\\wordcloud.py:453\u001b[0m, in \u001b[0;36mWordCloud.generate_from_frequencies\u001b[1;34m(self, frequencies, max_font_size)\u001b[0m\n\u001b[0;32m    451\u001b[0m     font_size \u001b[38;5;241m=\u001b[39m \u001b[38;5;28mself\u001b[39m\u001b[38;5;241m.\u001b[39mheight\n\u001b[0;32m    452\u001b[0m \u001b[38;5;28;01melse\u001b[39;00m:\n\u001b[1;32m--> 453\u001b[0m     \u001b[38;5;28;43mself\u001b[39;49m\u001b[38;5;241;43m.\u001b[39;49m\u001b[43mgenerate_from_frequencies\u001b[49m\u001b[43m(\u001b[49m\u001b[38;5;28;43mdict\u001b[39;49m\u001b[43m(\u001b[49m\u001b[43mfrequencies\u001b[49m\u001b[43m[\u001b[49m\u001b[43m:\u001b[49m\u001b[38;5;241;43m2\u001b[39;49m\u001b[43m]\u001b[49m\u001b[43m)\u001b[49m\u001b[43m,\u001b[49m\n\u001b[0;32m    454\u001b[0m \u001b[43m                                   \u001b[49m\u001b[43mmax_font_size\u001b[49m\u001b[38;5;241;43m=\u001b[39;49m\u001b[38;5;28;43mself\u001b[39;49m\u001b[38;5;241;43m.\u001b[39;49m\u001b[43mheight\u001b[49m\u001b[43m)\u001b[49m\n\u001b[0;32m    455\u001b[0m     \u001b[38;5;66;03m# find font sizes\u001b[39;00m\n\u001b[0;32m    456\u001b[0m     sizes \u001b[38;5;241m=\u001b[39m [x[\u001b[38;5;241m1\u001b[39m] \u001b[38;5;28;01mfor\u001b[39;00m x \u001b[38;5;129;01min\u001b[39;00m \u001b[38;5;28mself\u001b[39m\u001b[38;5;241m.\u001b[39mlayout_]\n",
      "File \u001b[1;32m~\\AppData\\Local\\Programs\\Python\\Python310\\lib\\site-packages\\wordcloud\\wordcloud.py:508\u001b[0m, in \u001b[0;36mWordCloud.generate_from_frequencies\u001b[1;34m(self, frequencies, max_font_size)\u001b[0m\n\u001b[0;32m    505\u001b[0m transposed_font \u001b[38;5;241m=\u001b[39m ImageFont\u001b[38;5;241m.\u001b[39mTransposedFont(\n\u001b[0;32m    506\u001b[0m     font, orientation\u001b[38;5;241m=\u001b[39morientation)\n\u001b[0;32m    507\u001b[0m \u001b[38;5;66;03m# get size of resulting text\u001b[39;00m\n\u001b[1;32m--> 508\u001b[0m box_size \u001b[38;5;241m=\u001b[39m \u001b[43mdraw\u001b[49m\u001b[38;5;241;43m.\u001b[39;49m\u001b[43mtextbbox\u001b[49m\u001b[43m(\u001b[49m\u001b[43m(\u001b[49m\u001b[38;5;241;43m0\u001b[39;49m\u001b[43m,\u001b[49m\u001b[43m \u001b[49m\u001b[38;5;241;43m0\u001b[39;49m\u001b[43m)\u001b[49m\u001b[43m,\u001b[49m\u001b[43m \u001b[49m\u001b[43mword\u001b[49m\u001b[43m,\u001b[49m\u001b[43m \u001b[49m\u001b[43mfont\u001b[49m\u001b[38;5;241;43m=\u001b[39;49m\u001b[43mtransposed_font\u001b[49m\u001b[43m,\u001b[49m\u001b[43m \u001b[49m\u001b[43manchor\u001b[49m\u001b[38;5;241;43m=\u001b[39;49m\u001b[38;5;124;43m\"\u001b[39;49m\u001b[38;5;124;43mlt\u001b[39;49m\u001b[38;5;124;43m\"\u001b[39;49m\u001b[43m)\u001b[49m\n\u001b[0;32m    509\u001b[0m \u001b[38;5;66;03m# find possible places using integral image:\u001b[39;00m\n\u001b[0;32m    510\u001b[0m result \u001b[38;5;241m=\u001b[39m occupancy\u001b[38;5;241m.\u001b[39msample_position(box_size[\u001b[38;5;241m3\u001b[39m] \u001b[38;5;241m+\u001b[39m \u001b[38;5;28mself\u001b[39m\u001b[38;5;241m.\u001b[39mmargin,\n\u001b[0;32m    511\u001b[0m                                    box_size[\u001b[38;5;241m2\u001b[39m] \u001b[38;5;241m+\u001b[39m \u001b[38;5;28mself\u001b[39m\u001b[38;5;241m.\u001b[39mmargin,\n\u001b[0;32m    512\u001b[0m                                    random_state)\n",
      "File \u001b[1;32m~\\AppData\\Local\\Programs\\Python\\Python310\\lib\\site-packages\\PIL\\ImageDraw.py:671\u001b[0m, in \u001b[0;36mImageDraw.textbbox\u001b[1;34m(self, xy, text, font, anchor, spacing, align, direction, features, language, stroke_width, embedded_color)\u001b[0m\n\u001b[0;32m    669\u001b[0m     font \u001b[38;5;241m=\u001b[39m \u001b[38;5;28mself\u001b[39m\u001b[38;5;241m.\u001b[39mgetfont()\n\u001b[0;32m    670\u001b[0m \u001b[38;5;28;01mif\u001b[39;00m \u001b[38;5;129;01mnot\u001b[39;00m \u001b[38;5;28misinstance\u001b[39m(font, ImageFont\u001b[38;5;241m.\u001b[39mFreeTypeFont):\n\u001b[1;32m--> 671\u001b[0m     \u001b[38;5;28;01mraise\u001b[39;00m \u001b[38;5;167;01mValueError\u001b[39;00m(\u001b[38;5;124m\"\u001b[39m\u001b[38;5;124mOnly supported for TrueType fonts\u001b[39m\u001b[38;5;124m\"\u001b[39m)\n\u001b[0;32m    672\u001b[0m mode \u001b[38;5;241m=\u001b[39m \u001b[38;5;124m\"\u001b[39m\u001b[38;5;124mRGBA\u001b[39m\u001b[38;5;124m\"\u001b[39m \u001b[38;5;28;01mif\u001b[39;00m embedded_color \u001b[38;5;28;01melse\u001b[39;00m \u001b[38;5;28mself\u001b[39m\u001b[38;5;241m.\u001b[39mfontmode\n\u001b[0;32m    673\u001b[0m bbox \u001b[38;5;241m=\u001b[39m font\u001b[38;5;241m.\u001b[39mgetbbox(\n\u001b[0;32m    674\u001b[0m     text, mode, direction, features, language, stroke_width, anchor\n\u001b[0;32m    675\u001b[0m )\n",
      "\u001b[1;31mValueError\u001b[0m: Only supported for TrueType fonts"
     ]
    }
   ],
   "source": [
    "overview_cloud = WordCloud(stopwords=STOPWORDS, background_color='white', height=1000, width=3000).generate(overview_data)\n",
    "plt.figure(figsize=(12,6))\n",
    "plt.imshow(overview_cloud)\n",
    "plt.axis('off')\n",
    "plt.show()"
   ]
  },
  {
   "cell_type": "code",
   "execution_count": null,
   "id": "cGIHkonqGaMK",
   "metadata": {
    "colab": {
     "base_uri": "https://localhost:8080/",
     "height": 254
    },
    "id": "cGIHkonqGaMK",
    "outputId": "dc39ec71-9727-41b0-b985-dbdf7372c2b1"
   },
   "outputs": [],
   "source": [
    "keyword_cloud = WordCloud(stopwords=STOPWORDS, background_color='white', height=1000, width=3000).generate(keyword_data)\n",
    "plt.figure(figsize=(12,6))\n",
    "plt.imshow(keyword_cloud)\n",
    "plt.axis('off')\n",
    "plt.show()"
   ]
  },
  {
   "cell_type": "code",
   "execution_count": null,
   "id": "poLDzed8dQVj",
   "metadata": {
    "id": "poLDzed8dQVj"
   },
   "outputs": [],
   "source": [
    "import warnings\n",
    "warnings.filterwarnings(\"ignore\", category=FutureWarning)"
   ]
  },
  {
   "cell_type": "code",
   "execution_count": null,
   "id": "bjmOW73Bb7ak",
   "metadata": {
    "colab": {
     "base_uri": "https://localhost:8080/",
     "height": 729
    },
    "id": "bjmOW73Bb7ak",
    "outputId": "69566c1a-4f97-4187-9794-38e6010c5059"
   },
   "outputs": [],
   "source": [
    "plt.figure(figsize=(20,10))\n",
    "\n",
    "col = ['budget', 'popularity', 'revenue', 'runtime', 'score', 'rating']\n",
    "\n",
    "a = 1\n",
    "for i in range(len(col)):\n",
    "    plt.subplot(2, 3, a); \n",
    "    sns.distplot(movies_final[col[i]])\n",
    "    plt.xlabel(col[i])\n",
    "    a += 1\n",
    "\n",
    "plt.tight_layout()\n"
   ]
  },
  {
   "cell_type": "code",
   "execution_count": null,
   "id": "0S06Qlh6dhcl",
   "metadata": {
    "colab": {
     "base_uri": "https://localhost:8080/",
     "height": 369
    },
    "id": "0S06Qlh6dhcl",
    "outputId": "dc1c167c-4948-4d3c-efe2-9dd54847890a"
   },
   "outputs": [],
   "source": [
    "plt.figure(figsize=(20,5))\n",
    "\n",
    "col = ['release_month','release_day', 'release_year']\n",
    "\n",
    "a = 1\n",
    "for i in range(len(col)):\n",
    "    plt.subplot(1, 3, a); \n",
    "    countplt = sns.countplot(movies_final[col[i]])\n",
    "    countplt.set_xticklabels(countplt.get_xticklabels(),rotation = 60)\n",
    "    plt.xlabel(col[i])\n",
    "    \n",
    "    a += 1\n",
    "\n",
    "plt.tight_layout()\n"
   ]
  },
  {
   "cell_type": "code",
   "execution_count": null,
   "id": "skpYGHGuNvOs",
   "metadata": {
    "id": "skpYGHGuNvOs"
   },
   "outputs": [],
   "source": [
    "movies_2 = movies_final.drop(columns=[\"imdb_id\",\"id\"],axis=1)"
   ]
  },
  {
   "cell_type": "code",
   "execution_count": null,
   "id": "w_lFHzV4z0DO",
   "metadata": {
    "colab": {
     "base_uri": "https://localhost:8080/"
    },
    "id": "w_lFHzV4z0DO",
    "outputId": "dd3ebb83-ddb2-4411-e441-419de9160607"
   },
   "outputs": [],
   "source": [
    "movies_2['popularity'].describe()"
   ]
  },
  {
   "cell_type": "code",
   "execution_count": null,
   "id": "XnUNgrPwz8iK",
   "metadata": {
    "colab": {
     "base_uri": "https://localhost:8080/",
     "height": 463
    },
    "id": "XnUNgrPwz8iK",
    "outputId": "0ebd90cf-844d-4899-a34b-b4956e2f97f5"
   },
   "outputs": [],
   "source": [
    "# Винсоризация\n",
    "# Замена чрезвычайно высоких значений популярности значением, немного превышающим максимальную популярность\n",
    "movies_2['popularity_2'] = np.where(movies_2[\"popularity\"]>=movies_2[\"popularity\"].quantile(0.995), 50, movies_2[\"popularity\"])\n",
    "print(movies_2['popularity_2'].describe())\n",
    "sns.distplot(movies_2['popularity_2'])\n",
    "plt.xlabel('popularity')"
   ]
  },
  {
   "cell_type": "code",
   "execution_count": null,
   "id": "utA6utjVsZU9",
   "metadata": {
    "colab": {
     "base_uri": "https://localhost:8080/",
     "height": 463
    },
    "id": "utA6utjVsZU9",
    "outputId": "091c97f3-ff76-4c3d-e623-a9d927692f98"
   },
   "outputs": [],
   "source": [
    "# Преобразование журнала\n",
    "# Замена чрезвычайно высоких значений популярности значением, немного превышающим максимальную популярность\n",
    "movies_2['popularity_3'] = np.log1p(movies_2['popularity'])\n",
    "print(movies_2['popularity_3'].describe())\n",
    "sns.distplot(movies_2['popularity_3'])\n",
    "plt.xlabel('popularity')"
   ]
  },
  {
   "cell_type": "code",
   "execution_count": null,
   "id": "qs-VDEvtc-QT",
   "metadata": {
    "id": "qs-VDEvtc-QT"
   },
   "outputs": [],
   "source": [
    "num_features = movies_2.select_dtypes(include=['float64','int64']).columns.values\n",
    "\n",
    "# Вычислить корреляции между всеми числовыми признаками\n",
    "\n",
    "corr = movies_2[num_features].corr()"
   ]
  },
  {
   "cell_type": "code",
   "execution_count": null,
   "id": "AdUL11BfrpQu",
   "metadata": {
    "colab": {
     "base_uri": "https://localhost:8080/",
     "height": 990
    },
    "id": "AdUL11BfrpQu",
    "outputId": "163a4a70-2697-4a8c-99b7-93fc19ffd758",
    "scrolled": true
   },
   "outputs": [],
   "source": [
    "# Сортировка объектов по их (абсолютной) корреляции с целевой переменной.\n",
    "\n",
    "pd.DataFrame(corr.sort_values(by='popularity_2', key=abs, ascending=False)[['popularity_2', 'popularity_3']]).head(30)"
   ]
  },
  {
   "cell_type": "code",
   "execution_count": null,
   "id": "ugHDl5-zNLdM",
   "metadata": {
    "colab": {
     "base_uri": "https://localhost:8080/",
     "height": 1000
    },
    "id": "ugHDl5-zNLdM",
    "outputId": "f6e81b5c-3729-4d54-af09-3a9250ab1b8f"
   },
   "outputs": [],
   "source": [
    "# Отображение корреляций в виде тепловой карты\n",
    "# Это может указывать на то, что мы можем отказаться от некоторых из этих функций.\n",
    "\n",
    "fig, ax = plt.subplots(figsize=(27, 30))\n",
    "sns.heatmap(corr, vmin=-1, vmax=1, cmap = 'RdBu_r', xticklabels=True, yticklabels=True, cbar_kws={'label' : 'correlation'}, ax=ax)"
   ]
  },
  {
   "cell_type": "code",
   "execution_count": null,
   "id": "HUG2f2n0Nokw",
   "metadata": {
    "colab": {
     "base_uri": "https://localhost:8080/",
     "height": 143
    },
    "id": "HUG2f2n0Nokw",
    "outputId": "90742fd2-d588-4c73-bf56-7b9c3761e563"
   },
   "outputs": [],
   "source": [
    "corr_df = corr.where(np.triu(np.ones(corr.shape), k=1).astype(bool)).stack().reset_index()\n",
    "corr_df[corr_df[0]>0.7]\n",
    "# Бюджет и доходы имеют корреляцию в 74%\n",
    "# Мы удалим популярность и будем использовать popularity_2 в качестве цели"
   ]
  },
  {
   "cell_type": "code",
   "execution_count": 159,
   "id": "lWV95oPwUR47",
   "metadata": {
    "colab": {
     "base_uri": "https://localhost:8080/",
     "height": 310
    },
    "id": "lWV95oPwUR47",
    "outputId": "050a39d8-50a3-471b-8e07-62df4e1c4f9f"
   },
   "outputs": [
    {
     "ename": "NameError",
     "evalue": "name 'movies_2' is not defined",
     "output_type": "error",
     "traceback": [
      "\u001b[1;31m---------------------------------------------------------------------------\u001b[0m",
      "\u001b[1;31mNameError\u001b[0m                                 Traceback (most recent call last)",
      "Input \u001b[1;32mIn [159]\u001b[0m, in \u001b[0;36m<module>\u001b[1;34m\u001b[0m\n\u001b[1;32m----> 1\u001b[0m plt\u001b[38;5;241m.\u001b[39mscatter(\u001b[43mmovies_2\u001b[49m[\u001b[38;5;124m'\u001b[39m\u001b[38;5;124mbudget\u001b[39m\u001b[38;5;124m'\u001b[39m],movies_2[\u001b[38;5;124m'\u001b[39m\u001b[38;5;124mrevenue\u001b[39m\u001b[38;5;124m'\u001b[39m])\n",
      "\u001b[1;31mNameError\u001b[0m: name 'movies_2' is not defined"
     ]
    }
   ],
   "source": [
    "plt.scatter(movies_2['budget'],movies_2['revenue'])"
   ]
  },
  {
   "cell_type": "code",
   "execution_count": 160,
   "id": "jbKVw_b_ATbg",
   "metadata": {
    "colab": {
     "base_uri": "https://localhost:8080/",
     "height": 369
    },
    "id": "jbKVw_b_ATbg",
    "outputId": "db7fcc92-1581-413e-ba7b-525ce37c9bc2"
   },
   "outputs": [
    {
     "ename": "NameError",
     "evalue": "name 'movies_2' is not defined",
     "output_type": "error",
     "traceback": [
      "\u001b[1;31m---------------------------------------------------------------------------\u001b[0m",
      "\u001b[1;31mNameError\u001b[0m                                 Traceback (most recent call last)",
      "Input \u001b[1;32mIn [160]\u001b[0m, in \u001b[0;36m<module>\u001b[1;34m\u001b[0m\n\u001b[0;32m      6\u001b[0m \u001b[38;5;28;01mfor\u001b[39;00m i \u001b[38;5;129;01min\u001b[39;00m \u001b[38;5;28mrange\u001b[39m(\u001b[38;5;28mlen\u001b[39m(col)):\n\u001b[0;32m      7\u001b[0m     plt\u001b[38;5;241m.\u001b[39msubplot(\u001b[38;5;241m1\u001b[39m, \u001b[38;5;241m4\u001b[39m, a); \n\u001b[1;32m----> 8\u001b[0m     plt\u001b[38;5;241m.\u001b[39mscatter(\u001b[43mmovies_2\u001b[49m[col[i]], movies_2[\u001b[38;5;124m'\u001b[39m\u001b[38;5;124mpopularity_2\u001b[39m\u001b[38;5;124m'\u001b[39m])\n\u001b[0;32m      9\u001b[0m     plt\u001b[38;5;241m.\u001b[39mxlabel(col[i])\n\u001b[0;32m     10\u001b[0m     plt\u001b[38;5;241m.\u001b[39mylabel(\u001b[38;5;124m\"\u001b[39m\u001b[38;5;124mPopularity\u001b[39m\u001b[38;5;124m\"\u001b[39m)\n",
      "\u001b[1;31mNameError\u001b[0m: name 'movies_2' is not defined"
     ]
    },
    {
     "data": {
      "image/png": "[encoded data removed]",
      "text/plain": [
       "<Figure size 1440x360 with 1 Axes>"
      ]
     },
     "metadata": {
      "needs_background": "light"
     },
     "output_type": "display_data"
    }
   ],
   "source": [
    "plt.figure(figsize=(20,5))\n",
    "\n",
    "col = ['runtime', 'release_month', 'score', 'rating']\n",
    "\n",
    "a = 1\n",
    "for i in range(len(col)):\n",
    "    plt.subplot(1, 4, a); \n",
    "    plt.scatter(movies_2[col[i]], movies_2['popularity_2'])\n",
    "    plt.xlabel(col[i])\n",
    "    plt.ylabel(\"Popularity\")\n",
    "    a += 1\n",
    "\n",
    "plt.tight_layout()"
   ]
  },
  {
   "cell_type": "code",
   "execution_count": null,
   "id": "r_aiRmJ2ATfD",
   "metadata": {
    "colab": {
     "base_uri": "https://localhost:8080/",
     "height": 285
    },
    "id": "r_aiRmJ2ATfD",
    "outputId": "8ecaa864-600e-45b3-c582-0a7c93da8abb"
   },
   "outputs": [],
   "source": [
    "fig = plt.figure()\n",
    "ax1 = fig.add_subplot(111)\n",
    "\n",
    "ax1.scatter(x=movies_2['score'], y=movies_2['rating'])\n",
    "\n",
    "plt.xlabel('Score')\n",
    "plt.ylabel('Rating')\n",
    "plt.show()\n"
   ]
  },
  {
   "cell_type": "markdown",
   "id": "xNTdFRfFRvlG",
   "metadata": {
    "id": "xNTdFRfFRvlG"
   },
   "source": [
    "\n",
    "# Прогностический анализ"
   ]
  },
  {
   "cell_type": "code",
   "execution_count": 161,
   "id": "70IHIrBWOOEJ",
   "metadata": {
    "id": "70IHIrBWOOEJ"
   },
   "outputs": [],
   "source": [
    "from sklearn.model_selection import train_test_split"
   ]
  },
  {
   "cell_type": "code",
   "execution_count": 162,
   "id": "ogWOzufbHmPm",
   "metadata": {
    "id": "ogWOzufbHmPm"
   },
   "outputs": [
    {
     "ename": "NameError",
     "evalue": "name 'movies_2' is not defined",
     "output_type": "error",
     "traceback": [
      "\u001b[1;31m---------------------------------------------------------------------------\u001b[0m",
      "\u001b[1;31mNameError\u001b[0m                                 Traceback (most recent call last)",
      "Input \u001b[1;32mIn [162]\u001b[0m, in \u001b[0;36m<module>\u001b[1;34m\u001b[0m\n\u001b[0;32m      1\u001b[0m \u001b[38;5;66;03m# Создаем 'time_since_released' для лучшей интерпретируемости\u001b[39;00m\n\u001b[1;32m----> 2\u001b[0m movies_2[\u001b[38;5;124m\"\u001b[39m\u001b[38;5;124mtime_since_released\u001b[39m\u001b[38;5;124m\"\u001b[39m] \u001b[38;5;241m=\u001b[39m date\u001b[38;5;241m.\u001b[39mtoday()\u001b[38;5;241m.\u001b[39myear \u001b[38;5;241m-\u001b[39m \u001b[43mmovies_2\u001b[49m[\u001b[38;5;124m\"\u001b[39m\u001b[38;5;124mrelease_year\u001b[39m\u001b[38;5;124m\"\u001b[39m]\n",
      "\u001b[1;31mNameError\u001b[0m: name 'movies_2' is not defined"
     ]
    }
   ],
   "source": [
    "# Создаем 'time_since_released' для лучшей интерпретируемости\n",
    "movies_2[\"time_since_released\"] = date.today().year - movies_2[\"release_year\"]"
   ]
  },
  {
   "cell_type": "code",
   "execution_count": 163,
   "id": "UxOzPKkXJE0P",
   "metadata": {
    "colab": {
     "base_uri": "https://localhost:8080/",
     "height": 423
    },
    "id": "UxOzPKkXJE0P",
    "outputId": "f5c42118-4bdd-4499-888a-0304247605e5"
   },
   "outputs": [
    {
     "ename": "NameError",
     "evalue": "name 'movies_2' is not defined",
     "output_type": "error",
     "traceback": [
      "\u001b[1;31m---------------------------------------------------------------------------\u001b[0m",
      "\u001b[1;31mNameError\u001b[0m                                 Traceback (most recent call last)",
      "Input \u001b[1;32mIn [163]\u001b[0m, in \u001b[0;36m<module>\u001b[1;34m\u001b[0m\n\u001b[1;32m----> 1\u001b[0m \u001b[43mmovies_2\u001b[49m[[\u001b[38;5;124m\"\u001b[39m\u001b[38;5;124mtime_since_released\u001b[39m\u001b[38;5;124m\"\u001b[39m,\u001b[38;5;124m\"\u001b[39m\u001b[38;5;124mrelease_year\u001b[39m\u001b[38;5;124m\"\u001b[39m,\u001b[38;5;124m\"\u001b[39m\u001b[38;5;124mrelease_date\u001b[39m\u001b[38;5;124m\"\u001b[39m]]\n",
      "\u001b[1;31mNameError\u001b[0m: name 'movies_2' is not defined"
     ]
    }
   ],
   "source": [
    "movies_2[[\"time_since_released\",\"release_year\",\"release_date\"]]"
   ]
  },
  {
   "cell_type": "code",
   "execution_count": 164,
   "id": "MDJ1b4-gA2pH",
   "metadata": {
    "colab": {
     "base_uri": "https://localhost:8080/",
     "height": 363
    },
    "id": "MDJ1b4-gA2pH",
    "outputId": "e157a502-0605-4709-b400-0561e846e50d"
   },
   "outputs": [
    {
     "ename": "NameError",
     "evalue": "name 'movies_2' is not defined",
     "output_type": "error",
     "traceback": [
      "\u001b[1;31m---------------------------------------------------------------------------\u001b[0m",
      "\u001b[1;31mNameError\u001b[0m                                 Traceback (most recent call last)",
      "Input \u001b[1;32mIn [164]\u001b[0m, in \u001b[0;36m<module>\u001b[1;34m\u001b[0m\n\u001b[1;32m----> 1\u001b[0m movies_na \u001b[38;5;241m=\u001b[39m pd\u001b[38;5;241m.\u001b[39mDataFrame(\u001b[43mmovies_2\u001b[49m\u001b[38;5;241m.\u001b[39misna()\u001b[38;5;241m.\u001b[39msum())\n\u001b[0;32m      2\u001b[0m movies_na[movies_na[\u001b[38;5;241m0\u001b[39m]\u001b[38;5;241m>\u001b[39m\u001b[38;5;241m0\u001b[39m]\n",
      "\u001b[1;31mNameError\u001b[0m: name 'movies_2' is not defined"
     ]
    }
   ],
   "source": [
    "movies_na = pd.DataFrame(movies_2.isna().sum())\n",
    "movies_na[movies_na[0]>0]"
   ]
  },
  {
   "cell_type": "code",
   "execution_count": 165,
   "id": "pgPZhWfFRXoZ",
   "metadata": {
    "id": "pgPZhWfFRXoZ"
   },
   "outputs": [
    {
     "ename": "NameError",
     "evalue": "name 'movies_2' is not defined",
     "output_type": "error",
     "traceback": [
      "\u001b[1;31m---------------------------------------------------------------------------\u001b[0m",
      "\u001b[1;31mNameError\u001b[0m                                 Traceback (most recent call last)",
      "Input \u001b[1;32mIn [165]\u001b[0m, in \u001b[0;36m<module>\u001b[1;34m\u001b[0m\n\u001b[0;32m      1\u001b[0m \u001b[38;5;66;03m# Для прогнозирования мы не будем использовать budget, revenue, isFemale_lead, isFemale_support, isFemale_director из-за большого количества пропущенных значений\u001b[39;00m\n\u001b[0;32m      2\u001b[0m \u001b[38;5;66;03m# Мы также не будем использовать lead, support, director, ключевое слово, поскольку это строковые столбцы, созданные только для описательного анализа.\u001b[39;00m\n\u001b[0;32m      3\u001b[0m \u001b[38;5;66;03m# Также удаляем release_year и популярность\u001b[39;00m\n\u001b[0;32m      4\u001b[0m \u001b[38;5;66;03m# Удаление вышеуказанного\u001b[39;00m\n\u001b[1;32m----> 5\u001b[0m movies_3 \u001b[38;5;241m=\u001b[39m \u001b[43mmovies_2\u001b[49m\u001b[38;5;241m.\u001b[39mdrop(columns\u001b[38;5;241m=\u001b[39m[\u001b[38;5;124m\"\u001b[39m\u001b[38;5;124mpopularity\u001b[39m\u001b[38;5;124m\"\u001b[39m,\u001b[38;5;124m\"\u001b[39m\u001b[38;5;124mrevenue\u001b[39m\u001b[38;5;124m\"\u001b[39m,\u001b[38;5;124m\"\u001b[39m\u001b[38;5;124mrelease_year\u001b[39m\u001b[38;5;124m\"\u001b[39m,\u001b[38;5;124m\"\u001b[39m\u001b[38;5;124mkeyword\u001b[39m\u001b[38;5;124m\"\u001b[39m,\u001b[38;5;124m\"\u001b[39m\u001b[38;5;124misFemale_lead\u001b[39m\u001b[38;5;124m\"\u001b[39m,\u001b[38;5;124m\"\u001b[39m\u001b[38;5;124misFemale_support\u001b[39m\u001b[38;5;124m\"\u001b[39m,\u001b[38;5;124m\"\u001b[39m\u001b[38;5;124misFemale_director\u001b[39m\u001b[38;5;124m\"\u001b[39m, \u001b[38;5;124m\"\u001b[39m\u001b[38;5;124mlead\u001b[39m\u001b[38;5;124m\"\u001b[39m,\u001b[38;5;124m\"\u001b[39m\u001b[38;5;124msupport\u001b[39m\u001b[38;5;124m\"\u001b[39m,\\\n\u001b[0;32m      6\u001b[0m                                   \u001b[38;5;124m\"\u001b[39m\u001b[38;5;124mdirector\u001b[39m\u001b[38;5;124m\"\u001b[39m,\u001b[38;5;124m\"\u001b[39m\u001b[38;5;124mrelease_date\u001b[39m\u001b[38;5;124m\"\u001b[39m, \u001b[38;5;124m\"\u001b[39m\u001b[38;5;124mbudget\u001b[39m\u001b[38;5;124m\"\u001b[39m], axis\u001b[38;5;241m=\u001b[39m\u001b[38;5;241m1\u001b[39m)\n",
      "\u001b[1;31mNameError\u001b[0m: name 'movies_2' is not defined"
     ]
    }
   ],
   "source": [
    "# Для прогнозирования мы не будем использовать budget, revenue, isFemale_lead, isFemale_support, isFemale_director из-за большого количества пропущенных значений\n",
    "# Мы также не будем использовать lead, support, director, ключевое слово, поскольку это строковые столбцы, созданные только для описательного анализа.\n",
    "# Также удаляем release_year и популярность\n",
    "# Удаление вышеуказанного\n",
    "movies_3 = movies_2.drop(columns=[\"popularity\",\"revenue\",\"release_year\",\"keyword\",\"isFemale_lead\",\"isFemale_support\",\"isFemale_director\", \"lead\",\"support\",\\\n",
    "                                  \"director\",\"release_date\", \"budget\"], axis=1)"
   ]
  },
  {
   "cell_type": "code",
   "execution_count": 166,
   "id": "jeqSfbU1Cv3k",
   "metadata": {
    "colab": {
     "base_uri": "https://localhost:8080/",
     "height": 80
    },
    "id": "jeqSfbU1Cv3k",
    "outputId": "29a6fe92-4fc3-4776-f79a-844ccbe92e67"
   },
   "outputs": [
    {
     "ename": "NameError",
     "evalue": "name 'movies_3' is not defined",
     "output_type": "error",
     "traceback": [
      "\u001b[1;31m---------------------------------------------------------------------------\u001b[0m",
      "\u001b[1;31mNameError\u001b[0m                                 Traceback (most recent call last)",
      "Input \u001b[1;32mIn [166]\u001b[0m, in \u001b[0;36m<module>\u001b[1;34m\u001b[0m\n\u001b[1;32m----> 1\u001b[0m movies_na \u001b[38;5;241m=\u001b[39m pd\u001b[38;5;241m.\u001b[39mDataFrame(\u001b[43mmovies_3\u001b[49m\u001b[38;5;241m.\u001b[39misna()\u001b[38;5;241m.\u001b[39msum())\n\u001b[0;32m      2\u001b[0m movies_na[movies_na[\u001b[38;5;241m0\u001b[39m]\u001b[38;5;241m>\u001b[39m\u001b[38;5;241m0\u001b[39m]\n",
      "\u001b[1;31mNameError\u001b[0m: name 'movies_3' is not defined"
     ]
    }
   ],
   "source": [
    "movies_na = pd.DataFrame(movies_3.isna().sum())\n",
    "movies_na[movies_na[0]>0]"
   ]
  },
  {
   "cell_type": "code",
   "execution_count": 167,
   "id": "O-rweooZ-NmL",
   "metadata": {
    "id": "O-rweooZ-NmL"
   },
   "outputs": [
    {
     "ename": "NameError",
     "evalue": "name 'movies_3' is not defined",
     "output_type": "error",
     "traceback": [
      "\u001b[1;31m---------------------------------------------------------------------------\u001b[0m",
      "\u001b[1;31mNameError\u001b[0m                                 Traceback (most recent call last)",
      "Input \u001b[1;32mIn [167]\u001b[0m, in \u001b[0;36m<module>\u001b[1;34m\u001b[0m\n\u001b[0;32m      1\u001b[0m \u001b[38;5;66;03m# Заполнение пропущенных оценок их медианой\u001b[39;00m\n\u001b[1;32m----> 2\u001b[0m movies_3[\u001b[38;5;124m'\u001b[39m\u001b[38;5;124mrating\u001b[39m\u001b[38;5;124m'\u001b[39m] \u001b[38;5;241m=\u001b[39m \u001b[43mmovies_3\u001b[49m[\u001b[38;5;124m'\u001b[39m\u001b[38;5;124mrating\u001b[39m\u001b[38;5;124m'\u001b[39m]\u001b[38;5;241m.\u001b[39mreplace(np\u001b[38;5;241m.\u001b[39mnan,movies_3[\u001b[38;5;124m'\u001b[39m\u001b[38;5;124mrating\u001b[39m\u001b[38;5;124m'\u001b[39m]\u001b[38;5;241m.\u001b[39mmedian())\n",
      "\u001b[1;31mNameError\u001b[0m: name 'movies_3' is not defined"
     ]
    }
   ],
   "source": [
    "# Заполнение пропущенных оценок их медианой\n",
    "movies_3['rating'] = movies_3['rating'].replace(np.nan,movies_3['rating'].median())\n"
   ]
  },
  {
   "cell_type": "code",
   "execution_count": 168,
   "id": "Z2lPGc1L9KT4",
   "metadata": {
    "colab": {
     "base_uri": "https://localhost:8080/",
     "height": 49
    },
    "id": "Z2lPGc1L9KT4",
    "outputId": "eb87c428-64c6-43a7-d825-01a3b125b245"
   },
   "outputs": [
    {
     "ename": "NameError",
     "evalue": "name 'movies_3' is not defined",
     "output_type": "error",
     "traceback": [
      "\u001b[1;31m---------------------------------------------------------------------------\u001b[0m",
      "\u001b[1;31mNameError\u001b[0m                                 Traceback (most recent call last)",
      "Input \u001b[1;32mIn [168]\u001b[0m, in \u001b[0;36m<module>\u001b[1;34m\u001b[0m\n\u001b[1;32m----> 1\u001b[0m movies_na \u001b[38;5;241m=\u001b[39m pd\u001b[38;5;241m.\u001b[39mDataFrame(\u001b[43mmovies_3\u001b[49m\u001b[38;5;241m.\u001b[39misna()\u001b[38;5;241m.\u001b[39msum())\n\u001b[0;32m      2\u001b[0m movies_na[movies_na[\u001b[38;5;241m0\u001b[39m]\u001b[38;5;241m>\u001b[39m\u001b[38;5;241m0\u001b[39m]\n",
      "\u001b[1;31mNameError\u001b[0m: name 'movies_3' is not defined"
     ]
    }
   ],
   "source": [
    "movies_na = pd.DataFrame(movies_3.isna().sum())\n",
    "movies_na[movies_na[0]>0]"
   ]
  },
  {
   "cell_type": "markdown",
   "id": "4-stJnfNiCbn",
   "metadata": {
    "id": "4-stJnfNiCbn"
   },
   "source": [
    "# Models"
   ]
  },
  {
   "cell_type": "code",
   "execution_count": 169,
   "id": "kOyV7IkBiBeg",
   "metadata": {
    "colab": {
     "base_uri": "https://localhost:8080/",
     "height": 257
    },
    "id": "kOyV7IkBiBeg",
    "outputId": "8e0f025f-8872-443b-e8b4-8ef38970c160"
   },
   "outputs": [
    {
     "ename": "NameError",
     "evalue": "name 'movies_3' is not defined",
     "output_type": "error",
     "traceback": [
      "\u001b[1;31m---------------------------------------------------------------------------\u001b[0m",
      "\u001b[1;31mNameError\u001b[0m                                 Traceback (most recent call last)",
      "Input \u001b[1;32mIn [169]\u001b[0m, in \u001b[0;36m<module>\u001b[1;34m\u001b[0m\n\u001b[1;32m----> 1\u001b[0m \u001b[43mmovies_3\u001b[49m\u001b[38;5;241m.\u001b[39mhead(\u001b[38;5;241m2\u001b[39m)\n",
      "\u001b[1;31mNameError\u001b[0m: name 'movies_3' is not defined"
     ]
    }
   ],
   "source": [
    "movies_3.head(2)"
   ]
  },
  {
   "cell_type": "code",
   "execution_count": 170,
   "id": "1JJ5GLGZRc5Q",
   "metadata": {
    "colab": {
     "base_uri": "https://localhost:8080/"
    },
    "id": "1JJ5GLGZRc5Q",
    "outputId": "d446b07a-d10c-4dd3-dff5-45a3c1c23273"
   },
   "outputs": [
    {
     "ename": "NameError",
     "evalue": "name 'movies_3' is not defined",
     "output_type": "error",
     "traceback": [
      "\u001b[1;31m---------------------------------------------------------------------------\u001b[0m",
      "\u001b[1;31mNameError\u001b[0m                                 Traceback (most recent call last)",
      "Input \u001b[1;32mIn [170]\u001b[0m, in \u001b[0;36m<module>\u001b[1;34m\u001b[0m\n\u001b[1;32m----> 1\u001b[0m num_features \u001b[38;5;241m=\u001b[39m \u001b[43mmovies_3\u001b[49m\u001b[38;5;241m.\u001b[39mselect_dtypes(include\u001b[38;5;241m=\u001b[39m[\u001b[38;5;124m'\u001b[39m\u001b[38;5;124mfloat64\u001b[39m\u001b[38;5;124m'\u001b[39m,\u001b[38;5;124m'\u001b[39m\u001b[38;5;124mint64\u001b[39m\u001b[38;5;124m'\u001b[39m])\u001b[38;5;241m.\u001b[39mcolumns\u001b[38;5;241m.\u001b[39mvalues\n\u001b[0;32m      2\u001b[0m movies_3[num_features]\u001b[38;5;241m.\u001b[39mcolumns\n",
      "\u001b[1;31mNameError\u001b[0m: name 'movies_3' is not defined"
     ]
    }
   ],
   "source": [
    "num_features = movies_3.select_dtypes(include=['float64','int64']).columns.values\n",
    "movies_3[num_features].columns"
   ]
  },
  {
   "cell_type": "code",
   "execution_count": 171,
   "id": "zYY3bHfcysYt",
   "metadata": {
    "colab": {
     "base_uri": "https://localhost:8080/"
    },
    "id": "zYY3bHfcysYt",
    "outputId": "29b984d6-7417-4f39-cefe-6e52e971ad44"
   },
   "outputs": [
    {
     "ename": "NameError",
     "evalue": "name 'movies_3' is not defined",
     "output_type": "error",
     "traceback": [
      "\u001b[1;31m---------------------------------------------------------------------------\u001b[0m",
      "\u001b[1;31mNameError\u001b[0m                                 Traceback (most recent call last)",
      "Input \u001b[1;32mIn [171]\u001b[0m, in \u001b[0;36m<module>\u001b[1;34m\u001b[0m\n\u001b[1;32m----> 1\u001b[0m features \u001b[38;5;241m=\u001b[39m \u001b[43mmovies_3\u001b[49m[num_features]\n\u001b[0;32m      2\u001b[0m features\u001b[38;5;241m.\u001b[39mdrop(columns\u001b[38;5;241m=\u001b[39m[\u001b[38;5;124m\"\u001b[39m\u001b[38;5;124mpopularity_2\u001b[39m\u001b[38;5;124m\"\u001b[39m,\u001b[38;5;124m\"\u001b[39m\u001b[38;5;124mpopularity_3\u001b[39m\u001b[38;5;124m\"\u001b[39m], axis\u001b[38;5;241m=\u001b[39m\u001b[38;5;241m1\u001b[39m, inplace\u001b[38;5;241m=\u001b[39m\u001b[38;5;28;01mTrue\u001b[39;00m)\n\u001b[0;32m      3\u001b[0m target_wins \u001b[38;5;241m=\u001b[39m movies_3[\u001b[38;5;124m\"\u001b[39m\u001b[38;5;124mpopularity_2\u001b[39m\u001b[38;5;124m\"\u001b[39m]\n",
      "\u001b[1;31mNameError\u001b[0m: name 'movies_3' is not defined"
     ]
    }
   ],
   "source": [
    "features = movies_3[num_features]\n",
    "features.drop(columns=[\"popularity_2\",\"popularity_3\"], axis=1, inplace=True)\n",
    "target_wins = movies_3[\"popularity_2\"]\n",
    "target_log = movies_3[\"popularity_3\"]"
   ]
  },
  {
   "cell_type": "code",
   "execution_count": 172,
   "id": "_VnUs6vd54SD",
   "metadata": {
    "id": "_VnUs6vd54SD"
   },
   "outputs": [
    {
     "ename": "NameError",
     "evalue": "name 'target_wins' is not defined",
     "output_type": "error",
     "traceback": [
      "\u001b[1;31m---------------------------------------------------------------------------\u001b[0m",
      "\u001b[1;31mNameError\u001b[0m                                 Traceback (most recent call last)",
      "Input \u001b[1;32mIn [172]\u001b[0m, in \u001b[0;36m<module>\u001b[1;34m\u001b[0m\n\u001b[0;32m      1\u001b[0m bins \u001b[38;5;241m=\u001b[39m np\u001b[38;5;241m.\u001b[39mlinspace(\u001b[38;5;241m0\u001b[39m, \u001b[38;5;241m50\u001b[39m, \u001b[38;5;241m10\u001b[39m)\n\u001b[1;32m----> 2\u001b[0m y_binned_wins \u001b[38;5;241m=\u001b[39m np\u001b[38;5;241m.\u001b[39mdigitize(\u001b[43mtarget_wins\u001b[49m, bins)\n\u001b[0;32m      3\u001b[0m y_binned_log \u001b[38;5;241m=\u001b[39m np\u001b[38;5;241m.\u001b[39mdigitize(target_log, bins)\n",
      "\u001b[1;31mNameError\u001b[0m: name 'target_wins' is not defined"
     ]
    }
   ],
   "source": [
    "bins = np.linspace(0, 50, 10)\n",
    "y_binned_wins = np.digitize(target_wins, bins)\n",
    "y_binned_log = np.digitize(target_log, bins)"
   ]
  },
  {
   "cell_type": "code",
   "execution_count": 173,
   "id": "phRF9M__PjJ2",
   "metadata": {
    "id": "phRF9M__PjJ2"
   },
   "outputs": [
    {
     "ename": "NameError",
     "evalue": "name 'features' is not defined",
     "output_type": "error",
     "traceback": [
      "\u001b[1;31m---------------------------------------------------------------------------\u001b[0m",
      "\u001b[1;31mNameError\u001b[0m                                 Traceback (most recent call last)",
      "Input \u001b[1;32mIn [173]\u001b[0m, in \u001b[0;36m<module>\u001b[1;34m\u001b[0m\n\u001b[1;32m----> 1\u001b[0m X_train, X_test, y_train, y_test \u001b[38;5;241m=\u001b[39m train_test_split(\u001b[43mfeatures\u001b[49m, target_wins, test_size\u001b[38;5;241m=\u001b[39m\u001b[38;5;241m0.3\u001b[39m, random_state\u001b[38;5;241m=\u001b[39m\u001b[38;5;241m42\u001b[39m, stratify\u001b[38;5;241m=\u001b[39my_binned_wins)\n\u001b[0;32m      2\u001b[0m X_train_log, X_test_log, y_train_log, y_test_log \u001b[38;5;241m=\u001b[39m train_test_split(features, target_log, test_size\u001b[38;5;241m=\u001b[39m\u001b[38;5;241m0.3\u001b[39m, random_state\u001b[38;5;241m=\u001b[39m\u001b[38;5;241m42\u001b[39m, stratify\u001b[38;5;241m=\u001b[39my_binned_log)\n",
      "\u001b[1;31mNameError\u001b[0m: name 'features' is not defined"
     ]
    }
   ],
   "source": [
    "X_train, X_test, y_train, y_test = train_test_split(features, target_wins, test_size=0.3, random_state=42, stratify=y_binned_wins)\n",
    "X_train_log, X_test_log, y_train_log, y_test_log = train_test_split(features, target_log, test_size=0.3, random_state=42, stratify=y_binned_log)"
   ]
  },
  {
   "cell_type": "code",
   "execution_count": 174,
   "id": "qDoRM6rCr92n",
   "metadata": {
    "colab": {
     "base_uri": "https://localhost:8080/"
    },
    "id": "qDoRM6rCr92n",
    "outputId": "a1230cc6-8244-4a26-809e-fe900de3f950"
   },
   "outputs": [
    {
     "ename": "NameError",
     "evalue": "name 'features' is not defined",
     "output_type": "error",
     "traceback": [
      "\u001b[1;31m---------------------------------------------------------------------------\u001b[0m",
      "\u001b[1;31mNameError\u001b[0m                                 Traceback (most recent call last)",
      "Input \u001b[1;32mIn [174]\u001b[0m, in \u001b[0;36m<module>\u001b[1;34m\u001b[0m\n\u001b[1;32m----> 1\u001b[0m features_GB \u001b[38;5;241m=\u001b[39m \u001b[43mfeatures\u001b[49m\u001b[38;5;241m.\u001b[39mdrop(columns \u001b[38;5;241m=\u001b[39m [\u001b[38;5;124m\"\u001b[39m\u001b[38;5;124mrelease_day\u001b[39m\u001b[38;5;124m\"\u001b[39m, \u001b[38;5;124m\"\u001b[39m\u001b[38;5;124mrelease_month\u001b[39m\u001b[38;5;124m\"\u001b[39m])\n\u001b[0;32m      2\u001b[0m features_GB\u001b[38;5;241m.\u001b[39mcolumns\n",
      "\u001b[1;31mNameError\u001b[0m: name 'features' is not defined"
     ]
    }
   ],
   "source": [
    "features_GB = features.drop(columns = [\"release_day\", \"release_month\"])\n",
    "features_GB.columns"
   ]
  },
  {
   "cell_type": "code",
   "execution_count": 175,
   "id": "oZKRnOmMolIe",
   "metadata": {
    "id": "oZKRnOmMolIe"
   },
   "outputs": [
    {
     "ename": "NameError",
     "evalue": "name 'features_GB' is not defined",
     "output_type": "error",
     "traceback": [
      "\u001b[1;31m---------------------------------------------------------------------------\u001b[0m",
      "\u001b[1;31mNameError\u001b[0m                                 Traceback (most recent call last)",
      "Input \u001b[1;32mIn [175]\u001b[0m, in \u001b[0;36m<module>\u001b[1;34m\u001b[0m\n\u001b[1;32m----> 1\u001b[0m X_train_GB, X_test_GB, y_train_GB, y_test_GB \u001b[38;5;241m=\u001b[39m train_test_split(\u001b[43mfeatures_GB\u001b[49m, target_wins, test_size\u001b[38;5;241m=\u001b[39m\u001b[38;5;241m0.3\u001b[39m, random_state\u001b[38;5;241m=\u001b[39m\u001b[38;5;241m1\u001b[39m)\n\u001b[0;32m      2\u001b[0m X_train_log_GB, X_test_log_GB, y_train_log_GB, y_test_log_GB \u001b[38;5;241m=\u001b[39m train_test_split(features, target_log, test_size\u001b[38;5;241m=\u001b[39m\u001b[38;5;241m0.3\u001b[39m, random_state\u001b[38;5;241m=\u001b[39m\u001b[38;5;241m1\u001b[39m)\n",
      "\u001b[1;31mNameError\u001b[0m: name 'features_GB' is not defined"
     ]
    }
   ],
   "source": [
    "X_train_GB, X_test_GB, y_train_GB, y_test_GB = train_test_split(features_GB, target_wins, test_size=0.3, random_state=1)\n",
    "X_train_log_GB, X_test_log_GB, y_train_log_GB, y_test_log_GB = train_test_split(features, target_log, test_size=0.3, random_state=1)"
   ]
  },
  {
   "cell_type": "code",
   "execution_count": 176,
   "id": "PXSea_qKRfxB",
   "metadata": {
    "colab": {
     "base_uri": "https://localhost:8080/"
    },
    "id": "PXSea_qKRfxB",
    "outputId": "4b33a0a4-82db-4ffe-aa6b-97bf56e682eb"
   },
   "outputs": [
    {
     "ename": "NameError",
     "evalue": "name 'X_train' is not defined",
     "output_type": "error",
     "traceback": [
      "\u001b[1;31m---------------------------------------------------------------------------\u001b[0m",
      "\u001b[1;31mNameError\u001b[0m                                 Traceback (most recent call last)",
      "Input \u001b[1;32mIn [176]\u001b[0m, in \u001b[0;36m<module>\u001b[1;34m\u001b[0m\n\u001b[1;32m----> 1\u001b[0m \u001b[38;5;28mprint\u001b[39m(\u001b[43mX_train\u001b[49m\u001b[38;5;241m.\u001b[39mshape, X_test\u001b[38;5;241m.\u001b[39mshape, y_train\u001b[38;5;241m.\u001b[39mshape, y_test\u001b[38;5;241m.\u001b[39mshape)\n\u001b[0;32m      2\u001b[0m \u001b[38;5;28mprint\u001b[39m(X_train_log\u001b[38;5;241m.\u001b[39mshape, X_test_log\u001b[38;5;241m.\u001b[39mshape, y_train_log\u001b[38;5;241m.\u001b[39mshape, y_test_log\u001b[38;5;241m.\u001b[39mshape)\n",
      "\u001b[1;31mNameError\u001b[0m: name 'X_train' is not defined"
     ]
    }
   ],
   "source": [
    "print(X_train.shape, X_test.shape, y_train.shape, y_test.shape)\n",
    "print(X_train_log.shape, X_test_log.shape, y_train_log.shape, y_test_log.shape)"
   ]
  },
  {
   "cell_type": "code",
   "execution_count": 177,
   "id": "JyvX8ceeDEDA",
   "metadata": {
    "colab": {
     "base_uri": "https://localhost:8080/"
    },
    "id": "JyvX8ceeDEDA",
    "outputId": "172c07ac-d74a-42d0-bc9c-0d42859662be"
   },
   "outputs": [
    {
     "ename": "NameError",
     "evalue": "name 'y_train' is not defined",
     "output_type": "error",
     "traceback": [
      "\u001b[1;31m---------------------------------------------------------------------------\u001b[0m",
      "\u001b[1;31mNameError\u001b[0m                                 Traceback (most recent call last)",
      "Input \u001b[1;32mIn [177]\u001b[0m, in \u001b[0;36m<module>\u001b[1;34m\u001b[0m\n\u001b[1;32m----> 1\u001b[0m np\u001b[38;5;241m.\u001b[39mmean(\u001b[43my_train\u001b[49m),np\u001b[38;5;241m.\u001b[39mmean(y_test),np\u001b[38;5;241m.\u001b[39mmean(y_train_log),np\u001b[38;5;241m.\u001b[39mmean(y_test_log)\n",
      "\u001b[1;31mNameError\u001b[0m: name 'y_train' is not defined"
     ]
    }
   ],
   "source": [
    "np.mean(y_train),np.mean(y_test),np.mean(y_train_log),np.mean(y_test_log)"
   ]
  },
  {
   "cell_type": "code",
   "execution_count": 178,
   "id": "4e-kqY1KLpZf",
   "metadata": {
    "id": "4e-kqY1KLpZf"
   },
   "outputs": [
    {
     "ename": "NameError",
     "evalue": "name 'X_train' is not defined",
     "output_type": "error",
     "traceback": [
      "\u001b[1;31m---------------------------------------------------------------------------\u001b[0m",
      "\u001b[1;31mNameError\u001b[0m                                 Traceback (most recent call last)",
      "Input \u001b[1;32mIn [178]\u001b[0m, in \u001b[0;36m<module>\u001b[1;34m\u001b[0m\n\u001b[0;32m      1\u001b[0m \u001b[38;5;28;01mimport\u001b[39;00m \u001b[38;5;21;01mcopy\u001b[39;00m\n\u001b[1;32m----> 2\u001b[0m train \u001b[38;5;241m=\u001b[39m \u001b[43mX_train\u001b[49m\u001b[38;5;241m.\u001b[39mcopy()\n\u001b[0;32m      3\u001b[0m train[\u001b[38;5;124m'\u001b[39m\u001b[38;5;124mpopularity_2\u001b[39m\u001b[38;5;124m'\u001b[39m] \u001b[38;5;241m=\u001b[39m y_train\n\u001b[0;32m      5\u001b[0m test \u001b[38;5;241m=\u001b[39m X_test\u001b[38;5;241m.\u001b[39mcopy()\n",
      "\u001b[1;31mNameError\u001b[0m: name 'X_train' is not defined"
     ]
    }
   ],
   "source": [
    "import copy\n",
    "train = X_train.copy()\n",
    "train['popularity_2'] = y_train\n",
    "\n",
    "test = X_test.copy()\n",
    "test['popularity_2'] = y_test\n",
    "\n",
    "train_log = X_train_log.copy()\n",
    "train_log['popularity_3'] = y_train_log\n",
    "\n",
    "test_log = X_test_log.copy()\n",
    "test_log['popularity_3'] = y_test_log\n",
    "\n",
    "full = pd.concat([train, test])\n",
    "full_log = pd.concat([train_log, test_log])\n"
   ]
  },
  {
   "cell_type": "code",
   "execution_count": 179,
   "id": "ed51a398",
   "metadata": {},
   "outputs": [
    {
     "ename": "NameError",
     "evalue": "name 'full' is not defined",
     "output_type": "error",
     "traceback": [
      "\u001b[1;31m---------------------------------------------------------------------------\u001b[0m",
      "\u001b[1;31mNameError\u001b[0m                                 Traceback (most recent call last)",
      "Input \u001b[1;32mIn [179]\u001b[0m, in \u001b[0;36m<module>\u001b[1;34m\u001b[0m\n\u001b[1;32m----> 1\u001b[0m \u001b[38;5;28;01mif\u001b[39;00m \u001b[38;5;124m\"\u001b[39m\u001b[38;5;124mstudioSextile\u001b[39m\u001b[38;5;124m\"\u001b[39m \u001b[38;5;129;01min\u001b[39;00m \u001b[43mfull\u001b[49m\u001b[38;5;241m.\u001b[39mcolumns:\n\u001b[0;32m      2\u001b[0m     \u001b[38;5;28mprint\u001b[39m(\u001b[38;5;124m\"\u001b[39m\u001b[38;5;124mКолонка \u001b[39m\u001b[38;5;124m'\u001b[39m\u001b[38;5;124mstudioSextile\u001b[39m\u001b[38;5;124m'\u001b[39m\u001b[38;5;124m есть в датафрейме\u001b[39m\u001b[38;5;124m\"\u001b[39m)\n\u001b[0;32m      3\u001b[0m \u001b[38;5;28;01melse\u001b[39;00m:\n",
      "\u001b[1;31mNameError\u001b[0m: name 'full' is not defined"
     ]
    }
   ],
   "source": [
    "if \"studioSextile\" in full.columns:\n",
    "    print(\"Колонка 'studioSextile' есть в датафрейме\")\n",
    "else:\n",
    "    print(\"Колонка 'studioSextile' отсутствует в датафрейме\")\n"
   ]
  },
  {
   "cell_type": "code",
   "execution_count": 180,
   "id": "W6LabD0_LHfM",
   "metadata": {
    "colab": {
     "base_uri": "https://localhost:8080/",
     "height": 1000
    },
    "id": "W6LabD0_LHfM",
    "outputId": "a9ce4e4b-2396-43b9-d855-70342ff23e99",
    "scrolled": false
   },
   "outputs": [
    {
     "ename": "NameError",
     "evalue": "name 'full' is not defined",
     "output_type": "error",
     "traceback": [
      "\u001b[1;31m---------------------------------------------------------------------------\u001b[0m",
      "\u001b[1;31mNameError\u001b[0m                                 Traceback (most recent call last)",
      "Input \u001b[1;32mIn [180]\u001b[0m, in \u001b[0;36m<module>\u001b[1;34m\u001b[0m\n\u001b[0;32m      3\u001b[0m col \u001b[38;5;241m=\u001b[39m [\u001b[38;5;124m'\u001b[39m\u001b[38;5;124mseries\u001b[39m\u001b[38;5;124m'\u001b[39m, \u001b[38;5;124m'\u001b[39m\u001b[38;5;124mgenre_Action\u001b[39m\u001b[38;5;124m'\u001b[39m, \u001b[38;5;124m'\u001b[39m\u001b[38;5;124mgenre_Documentary\u001b[39m\u001b[38;5;124m'\u001b[39m, \u001b[38;5;124m'\u001b[39m\u001b[38;5;124mrelease_month\u001b[39m\u001b[38;5;124m'\u001b[39m]\n\u001b[0;32m      5\u001b[0m \u001b[38;5;28;01mfor\u001b[39;00m i \u001b[38;5;129;01min\u001b[39;00m \u001b[38;5;28mrange\u001b[39m(\u001b[38;5;28mlen\u001b[39m(col)):\n\u001b[1;32m----> 6\u001b[0m     g \u001b[38;5;241m=\u001b[39m sns\u001b[38;5;241m.\u001b[39mrelplot(x \u001b[38;5;241m=\u001b[39m \u001b[43mfull\u001b[49m[col[i]], y \u001b[38;5;241m=\u001b[39m full[\u001b[38;5;124m'\u001b[39m\u001b[38;5;124mpopularity_2\u001b[39m\u001b[38;5;124m'\u001b[39m], kind\u001b[38;5;241m=\u001b[39m\u001b[38;5;124m\"\u001b[39m\u001b[38;5;124mline\u001b[39m\u001b[38;5;124m\"\u001b[39m, data\u001b[38;5;241m=\u001b[39mfull)\n\u001b[0;32m      7\u001b[0m     a \u001b[38;5;241m+\u001b[39m\u001b[38;5;241m=\u001b[39m \u001b[38;5;241m1\u001b[39m\n\u001b[0;32m      9\u001b[0m plt\u001b[38;5;241m.\u001b[39mtight_layout()\n",
      "\u001b[1;31mNameError\u001b[0m: name 'full' is not defined"
     ]
    },
    {
     "data": {
      "text/plain": [
       "<Figure size 1440x360 with 0 Axes>"
      ]
     },
     "metadata": {},
     "output_type": "display_data"
    }
   ],
   "source": [
    "plt.figure(figsize=(20,5))\n",
    "\n",
    "col = ['series', 'genre_Action', 'genre_Documentary', 'release_month']\n",
    "\n",
    "for i in range(len(col)):\n",
    "    g = sns.relplot(x = full[col[i]], y = full['popularity_2'], kind=\"line\", data=full)\n",
    "    a += 1\n",
    "\n",
    "plt.tight_layout()"
   ]
  },
  {
   "cell_type": "code",
   "execution_count": 181,
   "id": "XDkkpXZn0eB4",
   "metadata": {
    "colab": {
     "base_uri": "https://localhost:8080/",
     "height": 1000
    },
    "id": "XDkkpXZn0eB4",
    "outputId": "9707dcdb-3e25-4de5-b2f2-dfd847dae4f2",
    "scrolled": false
   },
   "outputs": [
    {
     "ename": "NameError",
     "evalue": "name 'full_log' is not defined",
     "output_type": "error",
     "traceback": [
      "\u001b[1;31m---------------------------------------------------------------------------\u001b[0m",
      "\u001b[1;31mNameError\u001b[0m                                 Traceback (most recent call last)",
      "Input \u001b[1;32mIn [181]\u001b[0m, in \u001b[0;36m<module>\u001b[1;34m\u001b[0m\n\u001b[0;32m      3\u001b[0m col \u001b[38;5;241m=\u001b[39m [\u001b[38;5;124m'\u001b[39m\u001b[38;5;124mseries\u001b[39m\u001b[38;5;124m'\u001b[39m, \u001b[38;5;124m'\u001b[39m\u001b[38;5;124mgenre_Action\u001b[39m\u001b[38;5;124m'\u001b[39m, \u001b[38;5;124m'\u001b[39m\u001b[38;5;124mgenre_Documentary\u001b[39m\u001b[38;5;124m'\u001b[39m, \u001b[38;5;124m'\u001b[39m\u001b[38;5;124mrelease_month\u001b[39m\u001b[38;5;124m'\u001b[39m]\n\u001b[0;32m      5\u001b[0m \u001b[38;5;28;01mfor\u001b[39;00m i \u001b[38;5;129;01min\u001b[39;00m \u001b[38;5;28mrange\u001b[39m(\u001b[38;5;28mlen\u001b[39m(col)):\n\u001b[1;32m----> 6\u001b[0m     g \u001b[38;5;241m=\u001b[39m sns\u001b[38;5;241m.\u001b[39mrelplot(x \u001b[38;5;241m=\u001b[39m \u001b[43mfull_log\u001b[49m[col[i]], y \u001b[38;5;241m=\u001b[39m full_log[\u001b[38;5;124m'\u001b[39m\u001b[38;5;124mpopularity_3\u001b[39m\u001b[38;5;124m'\u001b[39m], kind\u001b[38;5;241m=\u001b[39m\u001b[38;5;124m\"\u001b[39m\u001b[38;5;124mline\u001b[39m\u001b[38;5;124m\"\u001b[39m, data\u001b[38;5;241m=\u001b[39mfull_log)\n\u001b[0;32m      8\u001b[0m plt\u001b[38;5;241m.\u001b[39mtight_layout()\n",
      "\u001b[1;31mNameError\u001b[0m: name 'full_log' is not defined"
     ]
    },
    {
     "data": {
      "text/plain": [
       "<Figure size 1440x360 with 0 Axes>"
      ]
     },
     "metadata": {},
     "output_type": "display_data"
    }
   ],
   "source": [
    "plt.figure(figsize=(20,5))\n",
    "\n",
    "col = ['series', 'genre_Action', 'genre_Documentary', 'release_month']\n",
    "\n",
    "for i in range(len(col)):\n",
    "    g = sns.relplot(x = full_log[col[i]], y = full_log['popularity_3'], kind=\"line\", data=full_log)\n",
    "\n",
    "plt.tight_layout()"
   ]
  },
  {
   "cell_type": "code",
   "execution_count": 182,
   "id": "qxw92wb5vpKp",
   "metadata": {
    "id": "qxw92wb5vpKp"
   },
   "outputs": [
    {
     "ename": "NameError",
     "evalue": "name 'X_train' is not defined",
     "output_type": "error",
     "traceback": [
      "\u001b[1;31m---------------------------------------------------------------------------\u001b[0m",
      "\u001b[1;31mNameError\u001b[0m                                 Traceback (most recent call last)",
      "Input \u001b[1;32mIn [182]\u001b[0m, in \u001b[0;36m<module>\u001b[1;34m\u001b[0m\n\u001b[1;32m----> 1\u001b[0m \u001b[43mX_train\u001b[49m\u001b[38;5;241m.\u001b[39mdrop(columns\u001b[38;5;241m=\u001b[39m[\u001b[38;5;124m'\u001b[39m\u001b[38;5;124mrelease_day\u001b[39m\u001b[38;5;124m'\u001b[39m, \u001b[38;5;124m'\u001b[39m\u001b[38;5;124mtime_since_released\u001b[39m\u001b[38;5;124m'\u001b[39m], axis\u001b[38;5;241m=\u001b[39m\u001b[38;5;241m1\u001b[39m, inplace\u001b[38;5;241m=\u001b[39m\u001b[38;5;28;01mTrue\u001b[39;00m)\n\u001b[0;32m      2\u001b[0m X_test\u001b[38;5;241m.\u001b[39mdrop(columns\u001b[38;5;241m=\u001b[39m[\u001b[38;5;124m'\u001b[39m\u001b[38;5;124mrelease_day\u001b[39m\u001b[38;5;124m'\u001b[39m, \u001b[38;5;124m'\u001b[39m\u001b[38;5;124mtime_since_released\u001b[39m\u001b[38;5;124m'\u001b[39m], axis\u001b[38;5;241m=\u001b[39m\u001b[38;5;241m1\u001b[39m, inplace\u001b[38;5;241m=\u001b[39m\u001b[38;5;28;01mTrue\u001b[39;00m)\n\u001b[0;32m      4\u001b[0m X_train_log\u001b[38;5;241m.\u001b[39mdrop(columns\u001b[38;5;241m=\u001b[39m[\u001b[38;5;124m'\u001b[39m\u001b[38;5;124mrelease_day\u001b[39m\u001b[38;5;124m'\u001b[39m, \u001b[38;5;124m'\u001b[39m\u001b[38;5;124mtime_since_released\u001b[39m\u001b[38;5;124m'\u001b[39m], axis\u001b[38;5;241m=\u001b[39m\u001b[38;5;241m1\u001b[39m, inplace\u001b[38;5;241m=\u001b[39m\u001b[38;5;28;01mTrue\u001b[39;00m)\n",
      "\u001b[1;31mNameError\u001b[0m: name 'X_train' is not defined"
     ]
    }
   ],
   "source": [
    "X_train.drop(columns=['release_day', 'time_since_released'], axis=1, inplace=True)\n",
    "X_test.drop(columns=['release_day', 'time_since_released'], axis=1, inplace=True)\n",
    "\n",
    "X_train_log.drop(columns=['release_day', 'time_since_released'], axis=1, inplace=True)\n",
    "X_test_log.drop(columns=['release_day', 'time_since_released'], axis=1, inplace=True)"
   ]
  },
  {
   "cell_type": "code",
   "execution_count": 183,
   "id": "pn01F_xMSDgD",
   "metadata": {
    "id": "pn01F_xMSDgD"
   },
   "outputs": [
    {
     "ename": "ModuleNotFoundError",
     "evalue": "No module named 'xgboost'",
     "output_type": "error",
     "traceback": [
      "\u001b[1;31m---------------------------------------------------------------------------\u001b[0m",
      "\u001b[1;31mModuleNotFoundError\u001b[0m                       Traceback (most recent call last)",
      "Input \u001b[1;32mIn [183]\u001b[0m, in \u001b[0;36m<module>\u001b[1;34m\u001b[0m\n\u001b[0;32m     12\u001b[0m \u001b[38;5;28;01mfrom\u001b[39;00m \u001b[38;5;21;01msklearn\u001b[39;00m\u001b[38;5;21;01m.\u001b[39;00m\u001b[38;5;21;01mneural_network\u001b[39;00m \u001b[38;5;28;01mimport\u001b[39;00m MLPRegressor\n\u001b[0;32m     13\u001b[0m \u001b[38;5;28;01mfrom\u001b[39;00m \u001b[38;5;21;01msklearn\u001b[39;00m\u001b[38;5;21;01m.\u001b[39;00m\u001b[38;5;21;01mensemble\u001b[39;00m \u001b[38;5;28;01mimport\u001b[39;00m VotingRegressor\n\u001b[1;32m---> 14\u001b[0m \u001b[38;5;28;01mfrom\u001b[39;00m \u001b[38;5;21;01mxgboost\u001b[39;00m \u001b[38;5;28;01mimport\u001b[39;00m XGBRegressor\n",
      "\u001b[1;31mModuleNotFoundError\u001b[0m: No module named 'xgboost'"
     ]
    }
   ],
   "source": [
    "# Сначала мы опробуем различные алгоритмы, чтобы проверить лучшие из них и настроить их\n",
    "\n",
    "from sklearn.model_selection import train_test_split, GridSearchCV, KFold, cross_val_score, RandomizedSearchCV\n",
    "from sklearn.metrics import r2_score, mean_squared_error, mean_absolute_error, explained_variance_score, mean_absolute_percentage_error\n",
    "\n",
    "from sklearn.linear_model import LinearRegression, Ridge, Lasso, ElasticNet, SGDRegressor ,RANSACRegressor\n",
    "from sklearn.svm import SVR, LinearSVR\n",
    "from sklearn.neighbors import KNeighborsRegressor\n",
    "from sklearn.gaussian_process import GaussianProcessRegressor\n",
    "from sklearn.tree import DecisionTreeRegressor\n",
    "from sklearn.ensemble import AdaBoostRegressor, BaggingRegressor, RandomForestRegressor, GradientBoostingRegressor\n",
    "from sklearn.neural_network import MLPRegressor\n",
    "from sklearn.ensemble import VotingRegressor\n",
    "from xgboost import XGBRegressor"
   ]
  },
  {
   "cell_type": "code",
   "execution_count": null,
   "id": "8mO8PXrXR-Hy",
   "metadata": {
    "id": "8mO8PXrXR-Hy"
   },
   "outputs": [],
   "source": [
    "models_1 = {'LinearRegression': LinearRegression(),\n",
    "            'Ridge': Ridge(),\n",
    "            'Lasso': Lasso(), \n",
    "            'RANSACRegressor': RANSACRegressor(),\n",
    "            'ElasticNet': ElasticNet(),\n",
    "            'SVR': SVR(),\n",
    "            'LinearSVR': LinearSVR(),  #not a good model for the current data, can test after we edit the data\n",
    "            'KNeighborsRegressor': KNeighborsRegressor(),\n",
    "            'GaussianProcessRegressor':GaussianProcessRegressor(),\n",
    "            'BaggingRegressor': BaggingRegressor(),\n",
    "            'MLPRegressor': MLPRegressor()}\n",
    "\n",
    "models_2 = {'RandomForestRegressor': RandomForestRegressor(),\n",
    "            'GradientBoostingRegressor': GradientBoostingRegressor(),\n",
    "            'XGBRegressor': XGBRegressor(),            \n",
    "            'DecisionTreeRegressor': DecisionTreeRegressor(),\n",
    "            'AdaBoostRegressor': AdaBoostRegressor()\n",
    "            \n",
    "         }  \n",
    "\n",
    "   "
   ]
  },
  {
   "cell_type": "code",
   "execution_count": null,
   "id": "GnkQyNNOLJHW",
   "metadata": {
    "id": "GnkQyNNOLJHW"
   },
   "outputs": [],
   "source": [
    "pd.set_option('display.max_colwidth', None)\n",
    "def model_report(model, X_train, X_test, y_train, y_test, name):\n",
    "    strat_k_fold = 5\n",
    "    model.fit(X_train, y_train)\n",
    "    r2_score= np.mean(cross_val_score(model, X_train, y_train, cv=strat_k_fold, scoring='r2', n_jobs=-1))\n",
    "    r2_score_sd= np.std(cross_val_score(model, X_train, y_train, cv=strat_k_fold, scoring='r2', n_jobs=-1))\n",
    "    adj_r2 = 1 - (1-r2_score)*(len(y_train)-1)/(len(y_train)-X_train.shape[1]-1)\n",
    "    explained_variance_score = np.mean(cross_val_score(model, X_train, y_train, cv=strat_k_fold, \n",
    "                                                       scoring='explained_variance', n_jobs=-1))\n",
    "    neg_mean_squared_error = np.mean(cross_val_score(model, X_train, y_train, cv=strat_k_fold, \n",
    "                                                       scoring='neg_mean_squared_error', n_jobs=-1))\n",
    "    neg_root_mean_squared_error = np.mean(cross_val_score(model, X_train, y_train, cv=strat_k_fold, \n",
    "                                                       scoring='neg_root_mean_squared_error', n_jobs=-1))\n",
    "    neg_root_mean_squared_error_std = np.std(cross_val_score(model, X_train, y_train, cv=strat_k_fold, \n",
    "                                                       scoring='neg_root_mean_squared_error', n_jobs=-1))    \n",
    "    neg_mean_absolute_error = np.mean(cross_val_score(model, X_train, y_train, cv=strat_k_fold, \n",
    "                                                       scoring='neg_mean_absolute_error', n_jobs=-1))\n",
    "    max_error = np.mean(cross_val_score(model, X_train, y_train, cv=strat_k_fold, \n",
    "                                                       scoring='max_error', n_jobs=-1))\n",
    "    test_r2_score= model.score(X_test, y_test)\n",
    "    test_adj_r2 = 1 - (1-test_r2_score)*(len(y_test)-1)/(len(y_test)-X_test.shape[1]-1)\n",
    "    test_mean_squared_error = mean_squared_error(y_test, model.predict(X_test))\n",
    "    test_root_mean_squared_error = np.sqrt(test_mean_squared_error)\n",
    "    test_mean_absolute_error = mean_absolute_error(y_test, model.predict(X_test))\n",
    "\n",
    "    feature_imp = pd.DataFrame(sorted(zip(model.feature_importances_, X_train.columns),reverse = True), columns=['Value','Feature'])\n",
    "    feature_imp = feature_imp[feature_imp.Value != 0]\n",
    "    top_features = list(feature_imp.nlargest(5, 'Value')['Feature'])\n",
    "    \n",
    "   # y_pred = model.predict(X_test)\n",
    "\n",
    "    df_model = pd.DataFrame({'model': [name],\n",
    "                             'r2': [r2_score], 'r2_std': [r2_score_sd], 'test_r2': [test_r2_score], \n",
    "                             'adj_r2': [adj_r2], 'test_adj_r2': [test_adj_r2], 'top_features': [top_features],\n",
    "                             'explained_variance': [explained_variance_score],\n",
    "                             'neg_mean_squared_error' : [neg_mean_squared_error],'neg_mse_std': [neg_root_mean_squared_error_std], 'test_mean_squared_error': [test_mean_squared_error], \n",
    "                             'max_error' : [max_error],\n",
    "                             'neg_root_mean_squared_error': [neg_root_mean_squared_error],'test_root_mean_squared_error': [test_root_mean_squared_error], \n",
    "                             'neg_mean_absolute_error': [neg_mean_absolute_error], 'test_mean_absolute_error': [test_mean_absolute_error]})   \n",
    "    return df_model\n",
    "\n",
    "def model_report_2(model, X_train, X_test, y_train, y_test, name):\n",
    "    strat_k_fold = 5\n",
    "    model.fit(X_train, y_train)\n",
    "    r2_score= np.mean(cross_val_score(model, X_train, y_train, cv=strat_k_fold, scoring='r2', n_jobs=-1))\n",
    "    r2_score_sd= np.std(cross_val_score(model, X_train, y_train, cv=strat_k_fold, scoring='r2', n_jobs=-1))\n",
    "    adj_r2 = 1 - (1-r2_score)*(len(y_train)-1)/(len(y_train)-X_train.shape[1]-1)\n",
    "    explained_variance_score = np.mean(cross_val_score(model, X_train, y_train, cv=strat_k_fold, \n",
    "                                                       scoring='explained_variance', n_jobs=-1))\n",
    "    neg_mean_squared_error = np.mean(cross_val_score(model, X_train, y_train, cv=strat_k_fold, \n",
    "                                                       scoring='neg_mean_squared_error', n_jobs=-1))\n",
    "    neg_root_mean_squared_error = np.mean(cross_val_score(model, X_train, y_train, cv=strat_k_fold, \n",
    "                                                       scoring='neg_root_mean_squared_error', n_jobs=-1))\n",
    "    neg_root_mean_squared_error_std = np.std(cross_val_score(model, X_train, y_train, cv=strat_k_fold, \n",
    "                                                       scoring='neg_root_mean_squared_error', n_jobs=-1))    \n",
    "    neg_mean_absolute_error = np.mean(cross_val_score(model, X_train, y_train, cv=strat_k_fold, \n",
    "                                                       scoring='neg_mean_absolute_error', n_jobs=-1))\n",
    "    max_error = np.mean(cross_val_score(model, X_train, y_train, cv=strat_k_fold, \n",
    "                                                       scoring='max_error', n_jobs=-1))\n",
    "    test_r2_score= model.score(X_test, y_test)\n",
    "    test_adj_r2 = 1 - (1-test_r2_score)*(len(y_test)-1)/(len(y_test)-X_test.shape[1]-1)\n",
    "    test_mean_squared_error = mean_squared_error(y_test, model.predict(X_test))\n",
    "    test_root_mean_squared_error = np.sqrt(test_mean_squared_error)\n",
    "    test_mean_absolute_error = mean_absolute_error(y_test, model.predict(X_test))\n",
    "\n",
    "    top_features = []\n",
    "    \n",
    "   # y_pred = model.predict(X_test)\n",
    "\n",
    "    df_model = pd.DataFrame({'model': [name],\n",
    "                             'r2': [r2_score], 'r2_std': [r2_score_sd], 'test_r2': [test_r2_score], \n",
    "                             'adj_r2': [adj_r2], 'test_adj_r2': [test_adj_r2], 'top_features': [top_features],\n",
    "                             'explained_variance': [explained_variance_score],\n",
    "                             'neg_mean_squared_error' : [neg_mean_squared_error],'neg_mse_std': [neg_root_mean_squared_error_std], 'test_mean_squared_error': [test_mean_squared_error], \n",
    "                             'max_error' : [max_error],\n",
    "                             'neg_root_mean_squared_error': [neg_root_mean_squared_error],'test_root_mean_squared_error': [test_root_mean_squared_error], \n",
    "                             'neg_mean_absolute_error': [neg_mean_absolute_error], 'test_mean_absolute_error': [test_mean_absolute_error]})   \n",
    "    return df_model    \n"
   ]
  },
  {
   "cell_type": "code",
   "execution_count": null,
   "id": "Kcyh6dUWToGD",
   "metadata": {
    "colab": {
     "base_uri": "https://localhost:8080/"
    },
    "id": "Kcyh6dUWToGD",
    "outputId": "e5ea4459-606b-4a7d-a02d-86d097c32557"
   },
   "outputs": [],
   "source": [
    "models_df_result = pd.concat([model_report(model, X_train, X_test, y_train, y_test, name) for (name, model) in models_2.items()])\n",
    "# Без потери общности, предполагая, что верхние модели будут одинаковыми для обоих типов целевых переменных"
   ]
  },
  {
   "cell_type": "code",
   "execution_count": null,
   "id": "RyXDBfGWINJu",
   "metadata": {
    "colab": {
     "base_uri": "https://localhost:8080/"
    },
    "id": "RyXDBfGWINJu",
    "outputId": "2fbace63-eb26-4af0-f3a4-745d6ee93325"
   },
   "outputs": [],
   "source": [
    "models_df_result_2 = pd.concat([model_report_2(model, X_train, X_test, y_train, y_test, name) for (name, model) in models_1.items()])\n",
    "models_df_result_combined = pd.concat([models_df_result, models_df_result_2])"
   ]
  },
  {
   "cell_type": "code",
   "execution_count": null,
   "id": "jYMkPlhSTvgQ",
   "metadata": {
    "colab": {
     "base_uri": "https://localhost:8080/",
     "height": 841
    },
    "id": "jYMkPlhSTvgQ",
    "outputId": "0576c782-d544-4480-b690-4277cbab4d28"
   },
   "outputs": [],
   "source": [
    "models_df_result_combined.sort_values(by = ['adj_r2', 'r2_std'], ascending = [False, True])"
   ]
  },
  {
   "cell_type": "code",
   "execution_count": null,
   "id": "97wDqzSRUIUn",
   "metadata": {
    "id": "97wDqzSRUIUn"
   },
   "outputs": [],
   "source": [
    "# Основываясь на приведенных выше результатах, мы продолжим использовать XGBRegressor, GradientBoostingRegressor, RandomForestRegressor и BaggingRegressor и выберем лучший."
   ]
  },
  {
   "cell_type": "markdown",
   "id": "y0cLU2ujxu0z",
   "metadata": {
    "id": "y0cLU2ujxu0z"
   },
   "source": [
    "## XGBRegressor"
   ]
  },
  {
   "cell_type": "code",
   "execution_count": 184,
   "id": "SWn4Pb_dFfvi",
   "metadata": {
    "colab": {
     "base_uri": "https://localhost:8080/"
    },
    "id": "SWn4Pb_dFfvi",
    "outputId": "87ffa95d-dd2d-438e-a9df-e962d95de533"
   },
   "outputs": [
    {
     "ename": "IndentationError",
     "evalue": "unexpected indent (645359539.py, line 3)",
     "output_type": "error",
     "traceback": [
      "\u001b[1;36m  Input \u001b[1;32mIn [184]\u001b[1;36m\u001b[0m\n\u001b[1;33m    'objective':['reg:gamma'],\u001b[0m\n\u001b[1;37m    ^\u001b[0m\n\u001b[1;31mIndentationError\u001b[0m\u001b[1;31m:\u001b[0m unexpected indent\n"
     ]
    }
   ],
   "source": [
    "# GridSearchCV для получения наилучших гиперпараметров для winsorized target - с использованием гамма-регрессии, поскольку смещение вправо\n",
    "xgb1 = XGBRegressor(random_state=42)\n",
    "              'objective':['reg:gamma'],\n",
    "              'learning_rate': [0.03, .07, 0.1], \n",
    "              'max_depth': [5, 9],\n",
    "              'min_child_weight': [7, 15],\n",
    "              'silent': [1],\n",
    "              'subsample': [0.7, 1],\n",
    "              'colsample_bytree': [0.7, 1],\n",
    "              'n_estimators': [700, 1000], \n",
    "              'eval_metric': ['gamma-deviance'],\n",
    "              'gamma': [10]}\n",
    "\n",
    "xgb_grid = GridSearchCV(xgb1,\n",
    "                        parameters,\n",
    "                        cv = 3, \n",
    "                        n_jobs = 5,\n",
    "                        verbose=True, scoring='r2')\n",
    "\n",
    "xgb_grid.fit(X_train, y_train)\n",
    "\n",
    "print(xgb_grid.best_score_)\n",
    "print(xgb_grid.best_params_)"
   ]
  },
  {
   "cell_type": "code",
   "execution_count": 185,
   "id": "o0thzoFfonAp",
   "metadata": {
    "colab": {
     "base_uri": "https://localhost:8080/"
    },
    "id": "o0thzoFfonAp",
    "outputId": "a53744d2-315c-4272-f5a2-260365074974"
   },
   "outputs": [
    {
     "ename": "NameError",
     "evalue": "name 'XGBRegressor' is not defined",
     "output_type": "error",
     "traceback": [
      "\u001b[1;31m---------------------------------------------------------------------------\u001b[0m",
      "\u001b[1;31mNameError\u001b[0m                                 Traceback (most recent call last)",
      "Input \u001b[1;32mIn [185]\u001b[0m, in \u001b[0;36m<module>\u001b[1;34m\u001b[0m\n\u001b[1;32m----> 1\u001b[0m xgbr_wins \u001b[38;5;241m=\u001b[39m \u001b[43mXGBRegressor\u001b[49m(verbosity\u001b[38;5;241m=\u001b[39m\u001b[38;5;241m0\u001b[39m, random_state\u001b[38;5;241m=\u001b[39m\u001b[38;5;241m42\u001b[39m, colsample_bytree\u001b[38;5;241m=\u001b[39m\u001b[38;5;241m1\u001b[39m, learning_rate\u001b[38;5;241m=\u001b[39m\u001b[38;5;241m0.1\u001b[39m, max_depth\u001b[38;5;241m=\u001b[39m\u001b[38;5;241m9\u001b[39m, min_child_weight\u001b[38;5;241m=\u001b[39m\u001b[38;5;241m7\u001b[39m, n_estimators\u001b[38;5;241m=\u001b[39m\u001b[38;5;241m1000\u001b[39m, nthread\u001b[38;5;241m=\u001b[39m\u001b[38;5;241m4\u001b[39m, \\\n\u001b[0;32m      2\u001b[0m                          objective\u001b[38;5;241m=\u001b[39m\u001b[38;5;124m'\u001b[39m\u001b[38;5;124mreg:gamma\u001b[39m\u001b[38;5;124m'\u001b[39m, silent\u001b[38;5;241m=\u001b[39m\u001b[38;5;241m1\u001b[39m, subsample\u001b[38;5;241m=\u001b[39m\u001b[38;5;241m0.7\u001b[39m, gamma\u001b[38;5;241m=\u001b[39m\u001b[38;5;241m10\u001b[39m, eval_metric\u001b[38;5;241m=\u001b[39m\u001b[38;5;124m'\u001b[39m\u001b[38;5;124mgamma-deviance\u001b[39m\u001b[38;5;124m'\u001b[39m) \n\u001b[0;32m      3\u001b[0m xgbr_wins\u001b[38;5;241m.\u001b[39mfit(X_train, y_train)\n",
      "\u001b[1;31mNameError\u001b[0m: name 'XGBRegressor' is not defined"
     ]
    }
   ],
   "source": [
    "xgbr_wins = XGBRegressor(verbosity=0, random_state=42, colsample_bytree=1, learning_rate=0.1, max_depth=9, min_child_weight=7, n_estimators=1000, nthread=4, \\\n",
    "                         objective='reg:gamma', silent=1, subsample=0.7, gamma=10, eval_metric='gamma-deviance') \n",
    "xgbr_wins.fit(X_train, y_train)\n",
    "# taking learning_rate = 0.1 gives better results than 0.07"
   ]
  },
  {
   "cell_type": "code",
   "execution_count": 186,
   "id": "UU6r8EyRobk6",
   "metadata": {
    "colab": {
     "base_uri": "https://localhost:8080/"
    },
    "id": "UU6r8EyRobk6",
    "outputId": "973a0550-bd4a-4717-9abc-0a5150afb504"
   },
   "outputs": [
    {
     "ename": "NameError",
     "evalue": "name 'xgbr_wins' is not defined",
     "output_type": "error",
     "traceback": [
      "\u001b[1;31m---------------------------------------------------------------------------\u001b[0m",
      "\u001b[1;31mNameError\u001b[0m                                 Traceback (most recent call last)",
      "Input \u001b[1;32mIn [186]\u001b[0m, in \u001b[0;36m<module>\u001b[1;34m\u001b[0m\n\u001b[0;32m      1\u001b[0m \u001b[38;5;66;03m# Performance on Train\u001b[39;00m\n\u001b[1;32m----> 3\u001b[0m r2 \u001b[38;5;241m=\u001b[39m \u001b[43mxgbr_wins\u001b[49m\u001b[38;5;241m.\u001b[39mscore(X_train, y_train)  \n\u001b[0;32m      4\u001b[0m mse \u001b[38;5;241m=\u001b[39m mean_squared_error(y_train, xgbr_wins\u001b[38;5;241m.\u001b[39mpredict(X_train))\n\u001b[0;32m      5\u001b[0m mae \u001b[38;5;241m=\u001b[39m mean_absolute_error(y_train, xgbr_wins\u001b[38;5;241m.\u001b[39mpredict(X_train))\n",
      "\u001b[1;31mNameError\u001b[0m: name 'xgbr_wins' is not defined"
     ]
    }
   ],
   "source": [
    "# Performance on Train\n",
    "\n",
    "r2 = xgbr_wins.score(X_train, y_train)  \n",
    "mse = mean_squared_error(y_train, xgbr_wins.predict(X_train))\n",
    "mae = mean_absolute_error(y_train, xgbr_wins.predict(X_train))\n",
    "mape = mean_absolute_percentage_error(y_train, xgbr_wins.predict(X_train))\n",
    "adj_r2 = 1 - (1-r2)*(len(y_train)-1)/(len(y_train)-X_train.shape[1]-1)\n",
    "\n",
    "print(\"Train RMSE: %.2f\" % (mse**(1/2.0)))\n",
    "print(\"Train Adjusted R2: \", adj_r2)"
   ]
  },
  {
   "cell_type": "code",
   "execution_count": 187,
   "id": "uGj3qLaRpDSP",
   "metadata": {
    "colab": {
     "base_uri": "https://localhost:8080/"
    },
    "id": "uGj3qLaRpDSP",
    "outputId": "caf3f67b-b0d0-4918-c35b-1736e052f244"
   },
   "outputs": [
    {
     "ename": "NameError",
     "evalue": "name 'xgbr_wins' is not defined",
     "output_type": "error",
     "traceback": [
      "\u001b[1;31m---------------------------------------------------------------------------\u001b[0m",
      "\u001b[1;31mNameError\u001b[0m                                 Traceback (most recent call last)",
      "Input \u001b[1;32mIn [187]\u001b[0m, in \u001b[0;36m<module>\u001b[1;34m\u001b[0m\n\u001b[0;32m      1\u001b[0m \u001b[38;5;66;03m# Performance on Test\u001b[39;00m\n\u001b[1;32m----> 3\u001b[0m y_pred \u001b[38;5;241m=\u001b[39m \u001b[43mxgbr_wins\u001b[49m\u001b[38;5;241m.\u001b[39mpredict(X_test)\n\u001b[0;32m      5\u001b[0m r2 \u001b[38;5;241m=\u001b[39m xgbr_wins\u001b[38;5;241m.\u001b[39mscore(X_test, y_test)  \n\u001b[0;32m      6\u001b[0m mse \u001b[38;5;241m=\u001b[39m mean_squared_error(y_test, y_pred)\n",
      "\u001b[1;31mNameError\u001b[0m: name 'xgbr_wins' is not defined"
     ]
    }
   ],
   "source": [
    "# Performance on Test\n",
    "\n",
    "y_pred = xgbr_wins.predict(X_test)\n",
    "\n",
    "r2 = xgbr_wins.score(X_test, y_test)  \n",
    "mse = mean_squared_error(y_test, y_pred)\n",
    "mae = mean_absolute_error(y_test, y_pred)\n",
    "mape = mean_absolute_percentage_error(y_test, y_pred)\n",
    "adj_r2 = 1 - (1-r2)*(len(y_test)-1)/(len(y_test)-X_test.shape[1]-1)\n",
    "\n",
    "print(\"Test RMSE: %.2f\" % (mse**(1/2.0)))\n",
    "print(\"Test Adjusted R2: \", adj_r2)"
   ]
  },
  {
   "cell_type": "code",
   "execution_count": 188,
   "id": "mIjuTd7dJONG",
   "metadata": {
    "colab": {
     "base_uri": "https://localhost:8080/"
    },
    "id": "mIjuTd7dJONG",
    "outputId": "4c0a0b9a-e892-4e35-d91d-b59ff35dc0b9"
   },
   "outputs": [
    {
     "ename": "NameError",
     "evalue": "name 'XGBRegressor' is not defined",
     "output_type": "error",
     "traceback": [
      "\u001b[1;31m---------------------------------------------------------------------------\u001b[0m",
      "\u001b[1;31mNameError\u001b[0m                                 Traceback (most recent call last)",
      "Input \u001b[1;32mIn [188]\u001b[0m, in \u001b[0;36m<module>\u001b[1;34m\u001b[0m\n\u001b[0;32m      1\u001b[0m \u001b[38;5;66;03m# GridSearchCV для получения наилучших гиперпараметров для цели, преобразованной в журнал\u001b[39;00m\n\u001b[1;32m----> 2\u001b[0m xgb2 \u001b[38;5;241m=\u001b[39m \u001b[43mXGBRegressor\u001b[49m(random_state\u001b[38;5;241m=\u001b[39m\u001b[38;5;241m42\u001b[39m)\n\u001b[0;32m      3\u001b[0m parameters \u001b[38;5;241m=\u001b[39m {\u001b[38;5;124m'\u001b[39m\u001b[38;5;124mnthread\u001b[39m\u001b[38;5;124m'\u001b[39m:[\u001b[38;5;241m4\u001b[39m], \u001b[38;5;66;03m#при использовании hyperthread xgboost может работать медленнее\u001b[39;00m\n\u001b[0;32m      4\u001b[0m               \u001b[38;5;124m'\u001b[39m\u001b[38;5;124mobjective\u001b[39m\u001b[38;5;124m'\u001b[39m:[\u001b[38;5;124m'\u001b[39m\u001b[38;5;124mreg:squarederror\u001b[39m\u001b[38;5;124m'\u001b[39m],\n\u001b[0;32m      5\u001b[0m               \u001b[38;5;124m'\u001b[39m\u001b[38;5;124mlearning_rate\u001b[39m\u001b[38;5;124m'\u001b[39m: [\u001b[38;5;241m0.03\u001b[39m, \u001b[38;5;241m.07\u001b[39m, \u001b[38;5;241m0.1\u001b[39m], \u001b[38;5;66;03m#so called `eta` value\u001b[39;00m\n\u001b[1;32m   (...)\u001b[0m\n\u001b[0;32m     11\u001b[0m               \u001b[38;5;124m'\u001b[39m\u001b[38;5;124mn_estimators\u001b[39m\u001b[38;5;124m'\u001b[39m: [\u001b[38;5;241m200\u001b[39m, \u001b[38;5;241m300\u001b[39m],\n\u001b[0;32m     12\u001b[0m               \u001b[38;5;124m'\u001b[39m\u001b[38;5;124meval_metric\u001b[39m\u001b[38;5;124m'\u001b[39m: [\u001b[38;5;124m'\u001b[39m\u001b[38;5;124mrmse\u001b[39m\u001b[38;5;124m'\u001b[39m]}\n\u001b[0;32m     14\u001b[0m xgb_grid_log \u001b[38;5;241m=\u001b[39m GridSearchCV(xgb2,\n\u001b[0;32m     15\u001b[0m                         parameters,\n\u001b[0;32m     16\u001b[0m                         cv \u001b[38;5;241m=\u001b[39m \u001b[38;5;241m3\u001b[39m, \n\u001b[0;32m     17\u001b[0m                         n_jobs \u001b[38;5;241m=\u001b[39m \u001b[38;5;241m5\u001b[39m,\n\u001b[0;32m     18\u001b[0m                         verbose\u001b[38;5;241m=\u001b[39m\u001b[38;5;28;01mTrue\u001b[39;00m, scoring\u001b[38;5;241m=\u001b[39m\u001b[38;5;124m'\u001b[39m\u001b[38;5;124mr2\u001b[39m\u001b[38;5;124m'\u001b[39m)\n",
      "\u001b[1;31mNameError\u001b[0m: name 'XGBRegressor' is not defined"
     ]
    }
   ],
   "source": [
    "# GridSearchCV для получения наилучших гиперпараметров для цели, преобразованной в журнал\n",
    "xgb2 = XGBRegressor(random_state=42)\n",
    "parameters = {'nthread':[4], #при использовании hyperthread xgboost может работать медленнее\n",
    "              'objective':['reg:squarederror'],\n",
    "              'learning_rate': [0.03, .07, 0.1], #so called `eta` value\n",
    "              'max_depth': [5, 9],\n",
    "              'min_child_weight': [15, 30],\n",
    "              'silent': [1],\n",
    "              'subsample': [0.7, 1],\n",
    "              'colsample_bytree': [0.7, 1],\n",
    "              'n_estimators': [200, 300],\n",
    "              'eval_metric': ['rmse']}\n",
    "\n",
    "xgb_grid_log = GridSearchCV(xgb2,\n",
    "                        parameters,\n",
    "                        cv = 3, \n",
    "                        n_jobs = 5,\n",
    "                        verbose=True, scoring='r2')\n",
    "\n",
    "xgb_grid_log.fit(X_train_log, y_train_log)\n",
    "\n",
    "print(xgb_grid_log.best_score_)\n",
    "print(xgb_grid_log.best_params_)"
   ]
  },
  {
   "cell_type": "code",
   "execution_count": 189,
   "id": "_UddBm0P5rcc",
   "metadata": {
    "colab": {
     "base_uri": "https://localhost:8080/"
    },
    "id": "_UddBm0P5rcc",
    "outputId": "b48a4e0a-c66f-45c7-ae88-9176faefd16a"
   },
   "outputs": [
    {
     "ename": "NameError",
     "evalue": "name 'XGBRegressor' is not defined",
     "output_type": "error",
     "traceback": [
      "\u001b[1;31m---------------------------------------------------------------------------\u001b[0m",
      "\u001b[1;31mNameError\u001b[0m                                 Traceback (most recent call last)",
      "Input \u001b[1;32mIn [189]\u001b[0m, in \u001b[0;36m<module>\u001b[1;34m\u001b[0m\n\u001b[1;32m----> 1\u001b[0m xgbr_log \u001b[38;5;241m=\u001b[39m \u001b[43mXGBRegressor\u001b[49m(verbosity\u001b[38;5;241m=\u001b[39m\u001b[38;5;241m0\u001b[39m, random_state\u001b[38;5;241m=\u001b[39m\u001b[38;5;241m42\u001b[39m, colsample_bytree\u001b[38;5;241m=\u001b[39m\u001b[38;5;241m0.7\u001b[39m, learning_rate\u001b[38;5;241m=\u001b[39m\u001b[38;5;241m0.03\u001b[39m, max_depth\u001b[38;5;241m=\u001b[39m\u001b[38;5;241m5\u001b[39m, min_child_weight\u001b[38;5;241m=\u001b[39m\u001b[38;5;241m30\u001b[39m, n_estimators\u001b[38;5;241m=\u001b[39m\u001b[38;5;241m200\u001b[39m, nthread\u001b[38;5;241m=\u001b[39m\u001b[38;5;241m4\u001b[39m, \\\n\u001b[0;32m      2\u001b[0m                     objective\u001b[38;5;241m=\u001b[39m\u001b[38;5;124m'\u001b[39m\u001b[38;5;124mreg:squarederror\u001b[39m\u001b[38;5;124m'\u001b[39m, silent\u001b[38;5;241m=\u001b[39m\u001b[38;5;241m1\u001b[39m, subsample\u001b[38;5;241m=\u001b[39m\u001b[38;5;241m0.7\u001b[39m, reg_lambda\u001b[38;5;241m=\u001b[39m\u001b[38;5;241m1\u001b[39m, reg_alpha\u001b[38;5;241m=\u001b[39m\u001b[38;5;241m0\u001b[39m, eval_metric\u001b[38;5;241m=\u001b[39m\u001b[38;5;124m'\u001b[39m\u001b[38;5;124mrmse\u001b[39m\u001b[38;5;124m'\u001b[39m) \n\u001b[0;32m      3\u001b[0m xgbr_log\u001b[38;5;241m.\u001b[39mfit(X_train_log, y_train_log)\n",
      "\u001b[1;31mNameError\u001b[0m: name 'XGBRegressor' is not defined"
     ]
    }
   ],
   "source": [
    "xgbr_log = XGBRegressor(verbosity=0, random_state=42, colsample_bytree=0.7, learning_rate=0.03, max_depth=5, min_child_weight=30, n_estimators=200, nthread=4, \\\n",
    "                    objective='reg:squarederror', silent=1, subsample=0.7, reg_lambda=1, reg_alpha=0, eval_metric='rmse') \n",
    "xgbr_log.fit(X_train_log, y_train_log)"
   ]
  },
  {
   "cell_type": "code",
   "execution_count": 190,
   "id": "Rt4cTjzV5uOq",
   "metadata": {
    "colab": {
     "base_uri": "https://localhost:8080/"
    },
    "id": "Rt4cTjzV5uOq",
    "outputId": "11fc325a-fca1-4721-9ba0-3b6948b70391"
   },
   "outputs": [
    {
     "ename": "NameError",
     "evalue": "name 'xgbr_log' is not defined",
     "output_type": "error",
     "traceback": [
      "\u001b[1;31m---------------------------------------------------------------------------\u001b[0m",
      "\u001b[1;31mNameError\u001b[0m                                 Traceback (most recent call last)",
      "Input \u001b[1;32mIn [190]\u001b[0m, in \u001b[0;36m<module>\u001b[1;34m\u001b[0m\n\u001b[0;32m      1\u001b[0m \u001b[38;5;66;03m# Производительность on Train\u001b[39;00m\n\u001b[1;32m----> 2\u001b[0m pred \u001b[38;5;241m=\u001b[39m \u001b[43mxgbr_log\u001b[49m\u001b[38;5;241m.\u001b[39mpredict(X_train_log)\n\u001b[0;32m      3\u001b[0m r2 \u001b[38;5;241m=\u001b[39m xgbr_log\u001b[38;5;241m.\u001b[39mscore(X_train_log, y_train_log)  \n\u001b[0;32m      4\u001b[0m mse_wo_exp \u001b[38;5;241m=\u001b[39m mean_squared_error(y_train_log, pred)\n",
      "\u001b[1;31mNameError\u001b[0m: name 'xgbr_log' is not defined"
     ]
    }
   ],
   "source": [
    "# Производительность on Train\n",
    "pred = xgbr_log.predict(X_train_log)\n",
    "r2 = xgbr_log.score(X_train_log, y_train_log)  \n",
    "mse_wo_exp = mean_squared_error(y_train_log, pred)\n",
    "mse = mean_squared_error(np.expm1(y_train_log), np.expm1(pred))\n",
    "mae = mean_absolute_error(np.expm1(y_train_log), np.expm1(pred))\n",
    "mape = mean_absolute_percentage_error(np.expm1(y_train_log), np.expm1(pred))\n",
    "adj_r2 = 1 - (1-r2)*(len(y_train_log)-1)/(len(y_train_log)-X_train_log.shape[1]-1)\n",
    "\n",
    "print(\"Train RMSE: %.2f\" % (mse**(1/2.0)))\n",
    "print(\"Train RMSE w/o exp: %.2f\" % (mse_wo_exp**(1/2.0)))\n",
    "print(\"Train Adjusted R2: \", adj_r2)"
   ]
  },
  {
   "cell_type": "code",
   "execution_count": 191,
   "id": "fyxzgBke3tC3",
   "metadata": {
    "colab": {
     "base_uri": "https://localhost:8080/"
    },
    "id": "fyxzgBke3tC3",
    "outputId": "09310b8f-7b4d-4ef2-b201-2a4ef78eaf10"
   },
   "outputs": [
    {
     "ename": "NameError",
     "evalue": "name 'xgbr_log' is not defined",
     "output_type": "error",
     "traceback": [
      "\u001b[1;31m---------------------------------------------------------------------------\u001b[0m",
      "\u001b[1;31mNameError\u001b[0m                                 Traceback (most recent call last)",
      "Input \u001b[1;32mIn [191]\u001b[0m, in \u001b[0;36m<module>\u001b[1;34m\u001b[0m\n\u001b[0;32m      1\u001b[0m \u001b[38;5;66;03m# Производительность при тестировании\u001b[39;00m\n\u001b[1;32m----> 3\u001b[0m y_pred_log \u001b[38;5;241m=\u001b[39m \u001b[43mxgbr_log\u001b[49m\u001b[38;5;241m.\u001b[39mpredict(X_test_log)\n\u001b[0;32m      5\u001b[0m r2 \u001b[38;5;241m=\u001b[39m xgbr_log\u001b[38;5;241m.\u001b[39mscore(X_test_log, y_test_log)  \n\u001b[0;32m      6\u001b[0m mse_wo_exp \u001b[38;5;241m=\u001b[39m mean_squared_error(y_test_log, xgbr_log\u001b[38;5;241m.\u001b[39mpredict(X_test_log))\n",
      "\u001b[1;31mNameError\u001b[0m: name 'xgbr_log' is not defined"
     ]
    }
   ],
   "source": [
    "# Производительность при тестировании\n",
    "\n",
    "y_pred_log = xgbr_log.predict(X_test_log)\n",
    "\n",
    "r2 = xgbr_log.score(X_test_log, y_test_log)  \n",
    "mse_wo_exp = mean_squared_error(y_test_log, xgbr_log.predict(X_test_log))\n",
    "mse = mean_squared_error(np.expm1(y_test_log), np.expm1(y_pred_log))\n",
    "mae = mean_absolute_error(np.expm1(y_test_log), np.expm1(y_pred_log))\n",
    "mape = mean_absolute_percentage_error(np.expm1(y_test_log), np.expm1(y_pred_log))\n",
    "adj_r2 = 1 - (1-r2)*(len(y_test_log)-1)/(len(y_test_log)-X_test_log.shape[1]-1)\n",
    "\n",
    "print(\"Test RMSE: %.2f\" % (mse**(1/2.0)))\n",
    "print(\"Train RMSE w/o exp: %.2f\" % (mse_wo_exp**(1/2.0)))\n",
    "print(\"Test Adjusted R2: \", adj_r2)"
   ]
  },
  {
   "cell_type": "code",
   "execution_count": 192,
   "id": "ulP5mPFk8dCR",
   "metadata": {
    "colab": {
     "base_uri": "https://localhost:8080/",
     "height": 369
    },
    "id": "ulP5mPFk8dCR",
    "outputId": "1ed7bedc-1fd7-4565-ad10-828a7d5a1911"
   },
   "outputs": [
    {
     "ename": "NameError",
     "evalue": "name 'xgbr_wins' is not defined",
     "output_type": "error",
     "traceback": [
      "\u001b[1;31m---------------------------------------------------------------------------\u001b[0m",
      "\u001b[1;31mNameError\u001b[0m                                 Traceback (most recent call last)",
      "Input \u001b[1;32mIn [192]\u001b[0m, in \u001b[0;36m<module>\u001b[1;34m\u001b[0m\n\u001b[1;32m----> 1\u001b[0m feature_imp \u001b[38;5;241m=\u001b[39m pd\u001b[38;5;241m.\u001b[39mDataFrame(\u001b[38;5;28msorted\u001b[39m(\u001b[38;5;28mzip\u001b[39m(\u001b[43mxgbr_wins\u001b[49m\u001b[38;5;241m.\u001b[39mfeature_importances_, X_train\u001b[38;5;241m.\u001b[39mcolumns),reverse \u001b[38;5;241m=\u001b[39m \u001b[38;5;28;01mTrue\u001b[39;00m), columns\u001b[38;5;241m=\u001b[39m[\u001b[38;5;124m'\u001b[39m\u001b[38;5;124mValue\u001b[39m\u001b[38;5;124m'\u001b[39m,\u001b[38;5;124m'\u001b[39m\u001b[38;5;124mFeature\u001b[39m\u001b[38;5;124m'\u001b[39m])\n\u001b[0;32m      2\u001b[0m feature_imp \u001b[38;5;241m=\u001b[39m feature_imp[feature_imp\u001b[38;5;241m.\u001b[39mValue \u001b[38;5;241m!=\u001b[39m \u001b[38;5;241m0\u001b[39m]\n\u001b[0;32m      3\u001b[0m plt\u001b[38;5;241m.\u001b[39mfigure(figsize\u001b[38;5;241m=\u001b[39m(\u001b[38;5;241m10\u001b[39m, \u001b[38;5;241m5\u001b[39m))\n",
      "\u001b[1;31mNameError\u001b[0m: name 'xgbr_wins' is not defined"
     ]
    }
   ],
   "source": [
    "feature_imp = pd.DataFrame(sorted(zip(xgbr_wins.feature_importances_, X_train.columns),reverse = True), columns=['Value','Feature'])\n",
    "feature_imp = feature_imp[feature_imp.Value != 0]\n",
    "plt.figure(figsize=(10, 5))\n",
    "sns.barplot(x=\"Value\", y=\"Feature\", data=feature_imp.sort_values(by=\"Value\", ascending=False))\n",
    "plt.title('XGBoost (Winsorized) Feature Importance')\n",
    "plt.tight_layout()\n",
    "plt.show()"
   ]
  },
  {
   "cell_type": "code",
   "execution_count": 193,
   "id": "OKTIcr7e93Xh",
   "metadata": {
    "colab": {
     "base_uri": "https://localhost:8080/",
     "height": 369
    },
    "id": "OKTIcr7e93Xh",
    "outputId": "e2d1b733-9fc7-4f32-edfd-942ad712d133"
   },
   "outputs": [
    {
     "ename": "NameError",
     "evalue": "name 'xgbr_log' is not defined",
     "output_type": "error",
     "traceback": [
      "\u001b[1;31m---------------------------------------------------------------------------\u001b[0m",
      "\u001b[1;31mNameError\u001b[0m                                 Traceback (most recent call last)",
      "Input \u001b[1;32mIn [193]\u001b[0m, in \u001b[0;36m<module>\u001b[1;34m\u001b[0m\n\u001b[1;32m----> 1\u001b[0m feature_imp \u001b[38;5;241m=\u001b[39m pd\u001b[38;5;241m.\u001b[39mDataFrame(\u001b[38;5;28msorted\u001b[39m(\u001b[38;5;28mzip\u001b[39m(\u001b[43mxgbr_log\u001b[49m\u001b[38;5;241m.\u001b[39mfeature_importances_, X_train_log\u001b[38;5;241m.\u001b[39mcolumns),reverse \u001b[38;5;241m=\u001b[39m \u001b[38;5;28;01mTrue\u001b[39;00m), columns\u001b[38;5;241m=\u001b[39m[\u001b[38;5;124m'\u001b[39m\u001b[38;5;124mValue\u001b[39m\u001b[38;5;124m'\u001b[39m,\u001b[38;5;124m'\u001b[39m\u001b[38;5;124mFeature\u001b[39m\u001b[38;5;124m'\u001b[39m])\n\u001b[0;32m      2\u001b[0m feature_imp \u001b[38;5;241m=\u001b[39m feature_imp[feature_imp\u001b[38;5;241m.\u001b[39mValue \u001b[38;5;241m!=\u001b[39m \u001b[38;5;241m0\u001b[39m]\n\u001b[0;32m      3\u001b[0m plt\u001b[38;5;241m.\u001b[39mfigure(figsize\u001b[38;5;241m=\u001b[39m(\u001b[38;5;241m10\u001b[39m, \u001b[38;5;241m5\u001b[39m))\n",
      "\u001b[1;31mNameError\u001b[0m: name 'xgbr_log' is not defined"
     ]
    }
   ],
   "source": [
    "feature_imp = pd.DataFrame(sorted(zip(xgbr_log.feature_importances_, X_train_log.columns),reverse = True), columns=['Value','Feature'])\n",
    "feature_imp = feature_imp[feature_imp.Value != 0]\n",
    "plt.figure(figsize=(10, 5))\n",
    "sns.barplot(x=\"Value\", y=\"Feature\", data=feature_imp.sort_values(by=\"Value\", ascending=False))\n",
    "plt.title('XGBoost (Log Transformed) Feature Importance')\n",
    "plt.tight_layout()\n",
    "plt.show()"
   ]
  },
  {
   "cell_type": "markdown",
   "id": "e6dfd2a3",
   "metadata": {},
   "source": [
    "Первый блок содержит GridSearchCV, используемый для получения наилучших гиперпараметров для модели XGBoost, использующей гамма-регрессию для обработки winsorized target, так как данные имеют смещение вправо. Второй блок содержит еще один GridSearchCV, используемый для получения наилучших гиперпараметров для модели XGBoost для целевой переменной, преобразованной в журнал.\n",
    "Оба блока начинаются с определения модели XGBRegressor с помощью параметров по умолчанию и задания значений гиперпараметров, которые необходимо исследовать в GridSearchCV. Затем происходит запуск GridSearchCV с использованием определенных модели и параметров. Лучшая комбинация гиперпараметров сохраняется в xgb_grid.best_params_ или xgb_grid_log.best_params_ в зависимости от блока.\n",
    "Затем модель XGBoost инициализируется с использованием лучших параметров, которые были найдены с помощью GridSearchCV. Далее производится обучение модели на обучающих данных и оценка ее производительности на тренировочных и тестовых данных. Производительность модели оценивается с использованием нескольких метрик, таких как RMSE (среднеквадратическая ошибка), MAE (средняя абсолютная ошибка) и R2 (коэффициент детерминации). В первом блоке производительность модели оценивается на winsorized target, в то время как во втором блоке оценка производится на целевой переменной, преобразованной в журнал.\n",
    "После оценки производительности модели, во втором блоке производится обратное преобразование журнала, чтобы получить фактические значения целевой переменной. Обратите внимание, что обратное преобразование выполняется для сравнения с фактическими значениями, а не для обучения модели.\n",
    "В целом, блоки выполняют автоматический поиск наилучших гиперпараметров для модели XGBoost и оценивают ее производительность на обучающих и тестовых данных."
   ]
  },
  {
   "cell_type": "markdown",
   "id": "YPabGZG1sWSo",
   "metadata": {
    "id": "YPabGZG1sWSo"
   },
   "source": [
    "## Случайный лес"
   ]
  },
  {
   "cell_type": "code",
   "execution_count": 194,
   "id": "3EXL4VMF2AjQ",
   "metadata": {
    "id": "3EXL4VMF2AjQ"
   },
   "outputs": [],
   "source": [
    "from sklearn.model_selection import train_test_split, GridSearchCV, KFold, cross_val_score, RandomizedSearchCV\n",
    "from sklearn.preprocessing import StandardScaler, MinMaxScaler\n",
    "from sklearn.ensemble import RandomForestRegressor\n",
    "from sklearn.feature_selection import SelectFromModel, RFE"
   ]
  },
  {
   "cell_type": "code",
   "execution_count": 195,
   "id": "yjkh77hGtclu",
   "metadata": {
    "id": "yjkh77hGtclu"
   },
   "outputs": [
    {
     "ename": "NameError",
     "evalue": "name 'X_train' is not defined",
     "output_type": "error",
     "traceback": [
      "\u001b[1;31m---------------------------------------------------------------------------\u001b[0m",
      "\u001b[1;31mNameError\u001b[0m                                 Traceback (most recent call last)",
      "Input \u001b[1;32mIn [195]\u001b[0m, in \u001b[0;36m<module>\u001b[1;34m\u001b[0m\n\u001b[0;32m      1\u001b[0m scalerS \u001b[38;5;241m=\u001b[39m StandardScaler()\n\u001b[0;32m      2\u001b[0m scalerM \u001b[38;5;241m=\u001b[39m MinMaxScaler()\n\u001b[1;32m----> 4\u001b[0m X_train_std \u001b[38;5;241m=\u001b[39m scalerS\u001b[38;5;241m.\u001b[39mfit_transform(\u001b[43mX_train\u001b[49m)\n\u001b[0;32m      5\u001b[0m X_test_std \u001b[38;5;241m=\u001b[39m scalerS\u001b[38;5;241m.\u001b[39mfit_transform(X_test)\n\u001b[0;32m      7\u001b[0m X_train_norm \u001b[38;5;241m=\u001b[39m scalerM\u001b[38;5;241m.\u001b[39mfit_transform(X_train)\n",
      "\u001b[1;31mNameError\u001b[0m: name 'X_train' is not defined"
     ]
    }
   ],
   "source": [
    "scalerS = StandardScaler()\n",
    "scalerM = MinMaxScaler()\n",
    "\n",
    "X_train_std = scalerS.fit_transform(X_train)\n",
    "X_test_std = scalerS.fit_transform(X_test)\n",
    "\n",
    "X_train_norm = scalerM.fit_transform(X_train)\n",
    "X_test_norm = scalerM.fit_transform(X_test)"
   ]
  },
  {
   "cell_type": "code",
   "execution_count": 196,
   "id": "qzQxfPB3teio",
   "metadata": {
    "id": "qzQxfPB3teio"
   },
   "outputs": [],
   "source": [
    "def rfrmodelsummary(name, X_train, X_test, y_train, y_test, model):\n",
    "    \n",
    "    model.fit(X_train, y_train)\n",
    "    \n",
    "    # training\n",
    "    y_pred_train = model.predict(X_train)\n",
    "    \n",
    "    # training metrics\n",
    "    mse_train = mean_squared_error(y_train, y_pred_train, squared=True)\n",
    "    rmse_train = np.sqrt(mse_train)\n",
    "    rsq_train = model.score(X_train, y_train)\n",
    "    adjrsq_train = 1 - (((len(y_train)-1)/(len(y_train)-X_train.shape[1]-1))*(1-rsq_train))\n",
    "    \n",
    "    # test\n",
    "    y_pred_test = model.predict(X_test)\n",
    "    \n",
    "    # test metrics\n",
    "    mse_test = mean_squared_error(y_test, y_pred_test, squared=True)\n",
    "    rmse_test = np.sqrt(mse_test)\n",
    "    rsq_test = model.score(X_test, y_test)\n",
    "    adjrsq_test = 1 - (((len(y_test)-1)/(len(y_test)-X_test.shape[1]-1))*(1-rsq_test))\n",
    "    \n",
    "    df_model = pd.DataFrame({'model': [name],\n",
    "                             'R2_train': [rsq_train], 'R2_test': [rsq_test],\n",
    "                             'AdjR2_train': [adjrsq_train], 'AdjR2_test': [adjrsq_test], \n",
    "                             'MSE_train': [mse_train], 'MSE_test' : [mse_test],\n",
    "                             'RMSE_train': [rmse_train], 'RMSE_test' : [rmse_test]})   \n",
    "    \n",
    "    return df_model"
   ]
  },
  {
   "cell_type": "code",
   "execution_count": 197,
   "id": "pH-Tf6J_tg5B",
   "metadata": {
    "id": "pH-Tf6J_tg5B"
   },
   "outputs": [],
   "source": [
    "def plotrfr(name, X_train, X_test, y_train, y_test, model):\n",
    "    \n",
    "    model.fit(X_train, y_train)\n",
    "    y_pred_train = model.predict(X_train)\n",
    "    y_pred_test = model.predict(X_test)\n",
    "    \n",
    "    plotdata = [y_pred_train, y_pred_test]\n",
    "    \n",
    "    return plotdata"
   ]
  },
  {
   "cell_type": "code",
   "execution_count": 198,
   "id": "W1E4YmS-tip-",
   "metadata": {
    "id": "W1E4YmS-tip-"
   },
   "outputs": [],
   "source": [
    "rfr = RandomForestRegressor(random_state=42, n_jobs=-1)"
   ]
  },
  {
   "cell_type": "code",
   "execution_count": 199,
   "id": "94ivHi5OtkGZ",
   "metadata": {
    "colab": {
     "base_uri": "https://localhost:8080/",
     "height": 143
    },
    "id": "94ivHi5OtkGZ",
    "outputId": "fd18ebbb-8d8d-494b-b2a3-12d204289c72"
   },
   "outputs": [
    {
     "ename": "NameError",
     "evalue": "name 'X_train' is not defined",
     "output_type": "error",
     "traceback": [
      "\u001b[1;31m---------------------------------------------------------------------------\u001b[0m",
      "\u001b[1;31mNameError\u001b[0m                                 Traceback (most recent call last)",
      "Input \u001b[1;32mIn [199]\u001b[0m, in \u001b[0;36m<module>\u001b[1;34m\u001b[0m\n\u001b[1;32m----> 1\u001b[0m rfr_models_result \u001b[38;5;241m=\u001b[39m pd\u001b[38;5;241m.\u001b[39mconcat([rfrmodelsummary(\u001b[38;5;124m'\u001b[39m\u001b[38;5;124mBaseline\u001b[39m\u001b[38;5;124m'\u001b[39m, \u001b[43mX_train\u001b[49m, X_test, y_train, y_test, rfr), \n\u001b[0;32m      2\u001b[0m                                rfrmodelsummary(\u001b[38;5;124m'\u001b[39m\u001b[38;5;124mStandardized\u001b[39m\u001b[38;5;124m'\u001b[39m, X_train_std, X_test_std, y_train, y_test, rfr), \n\u001b[0;32m      3\u001b[0m                                rfrmodelsummary(\u001b[38;5;124m'\u001b[39m\u001b[38;5;124mNormalized\u001b[39m\u001b[38;5;124m'\u001b[39m, X_train_norm, X_test_norm, y_train, y_test, rfr)])\n\u001b[0;32m      5\u001b[0m rfr_models_result\n",
      "\u001b[1;31mNameError\u001b[0m: name 'X_train' is not defined"
     ]
    }
   ],
   "source": [
    "rfr_models_result = pd.concat([rfrmodelsummary('Baseline', X_train, X_test, y_train, y_test, rfr), \n",
    "                               rfrmodelsummary('Standardized', X_train_std, X_test_std, y_train, y_test, rfr), \n",
    "                               rfrmodelsummary('Normalized', X_train_norm, X_test_norm, y_train, y_test, rfr)])\n",
    "\n",
    "rfr_models_result"
   ]
  },
  {
   "cell_type": "markdown",
   "id": "bbjj1d4Utm6W",
   "metadata": {
    "id": "bbjj1d4Utm6W"
   },
   "source": [
    "ПРИДЕРЖИВАЕМСЯ НЕСТАНДАРТИЗИРОВАННЫХ/НЕНОРМАЛИЗОВАННЫХ ДАННЫХ"
   ]
  },
  {
   "cell_type": "code",
   "execution_count": null,
   "id": "luRYeEKvtspy",
   "metadata": {
    "id": "luRYeEKvtspy"
   },
   "outputs": [],
   "source": [
    "plotdata = plotrfr('Baseline', X_train, X_test, y_train, y_test, rfr)"
   ]
  },
  {
   "cell_type": "code",
   "execution_count": null,
   "id": "6SicPyoKtuUK",
   "metadata": {
    "colab": {
     "base_uri": "https://localhost:8080/",
     "height": 301
    },
    "id": "6SicPyoKtuUK",
    "outputId": "cf1a0cbf-c850-479b-9739-d25820e9e591"
   },
   "outputs": [],
   "source": [
    "fig = plt.figure()\n",
    "ax1 = fig.add_subplot(111)\n",
    "\n",
    "ax1.scatter(x=y_train, y=plotdata[0], s=10, c='b')\n",
    "\n",
    "plt.title('Training Data')\n",
    "plt.xlabel('Actual')\n",
    "plt.ylabel('Predicted')\n",
    "plt.show()"
   ]
  },
  {
   "cell_type": "code",
   "execution_count": null,
   "id": "ERgzDN6Dtv4y",
   "metadata": {
    "colab": {
     "base_uri": "https://localhost:8080/",
     "height": 301
    },
    "id": "ERgzDN6Dtv4y",
    "outputId": "ca3ca08e-41c7-46db-f812-c09ffe38b9f1"
   },
   "outputs": [],
   "source": [
    "fig = plt.figure()\n",
    "ax1 = fig.add_subplot(111)\n",
    "\n",
    "ax1.scatter(x=y_test, y=plotdata[1], s=10, c='b')\n",
    "    \n",
    "plt.title('Test Data')\n",
    "plt.xlabel('Actual')\n",
    "plt.ylabel('Predicted')\n",
    "plt.show()"
   ]
  },
  {
   "cell_type": "code",
   "execution_count": null,
   "id": "6ZiEO5zMquh1",
   "metadata": {
    "colab": {
     "base_uri": "https://localhost:8080/",
     "height": 369
    },
    "id": "6ZiEO5zMquh1",
    "outputId": "879b3dac-5f67-4253-8d53-c2e66ec88f06"
   },
   "outputs": [],
   "source": [
    "feature_imp = pd.DataFrame(sorted(zip(rfr.feature_importances_, X_train.columns),reverse = True), columns=['Value','Feature'])\n",
    "feature_imp = feature_imp[feature_imp.Value != 0]\n",
    "plt.figure(figsize=(10, 5))\n",
    "sns.barplot(x=\"Value\", y=\"Feature\", data=feature_imp.sort_values(by=\"Value\", ascending=False))\n",
    "plt.title('RFR Feature Importance')\n",
    "plt.tight_layout()\n",
    "plt.show()"
   ]
  },
  {
   "cell_type": "markdown",
   "id": "cSAaPNrEtzkI",
   "metadata": {
    "id": "cSAaPNrEtzkI"
   },
   "source": [
    "НИЗКАЯ ПРОИЗВОДИТЕЛЬНОСТЬ ТЕСТИРОВАНИЯ (ПЕРЕОБУЧЕНИЕ). ПОПРОБУЙТЕ ВЫБРАТЬ ФУНКЦИЮ"
   ]
  },
  {
   "cell_type": "code",
   "execution_count": null,
   "id": "tvlYcwy-t31p",
   "metadata": {
    "colab": {
     "base_uri": "https://localhost:8080/"
    },
    "id": "tvlYcwy-t31p",
    "outputId": "cfc67755-ff47-485e-8e24-4e2567293a5c"
   },
   "outputs": [],
   "source": [
    "RFEselector = RFE(estimator=rfr, n_features_to_select=7, step=1)\n",
    "RFEselector.fit(X_train, y_train)\n",
    "X_train.columns[RFEselector.get_support()]"
   ]
  },
  {
   "cell_type": "code",
   "execution_count": null,
   "id": "5z2IWxcpt5So",
   "metadata": {
    "colab": {
     "base_uri": "https://localhost:8080/"
    },
    "id": "5z2IWxcpt5So",
    "outputId": "54161944-63a1-4cc2-f207-26ff36fae936"
   },
   "outputs": [],
   "source": [
    "RFEselector.ranking_"
   ]
  },
  {
   "cell_type": "code",
   "execution_count": null,
   "id": "xLq5B8ZRt6ii",
   "metadata": {
    "colab": {
     "base_uri": "https://localhost:8080/"
    },
    "id": "xLq5B8ZRt6ii",
    "outputId": "2f4a6a30-8f20-4e04-cf30-7643d0d562ce"
   },
   "outputs": [],
   "source": [
    "X_train.columns"
   ]
  },
  {
   "cell_type": "code",
   "execution_count": null,
   "id": "qFRe-MUot9MV",
   "metadata": {
    "id": "qFRe-MUot9MV"
   },
   "outputs": [],
   "source": [
    "X_train_rfe = RFEselector.transform(X_train)\n",
    "X_test_rfe = RFEselector.transform(X_test)"
   ]
  },
  {
   "cell_type": "code",
   "execution_count": null,
   "id": "N32YO3CRt97O",
   "metadata": {
    "colab": {
     "base_uri": "https://localhost:8080/",
     "height": 143
    },
    "id": "N32YO3CRt97O",
    "outputId": "7f151cd2-ecdd-4471-8b23-2e263a5d5ae6"
   },
   "outputs": [],
   "source": [
    "rfe_models_result = pd.concat([rfrmodelsummary('Baseline', X_train, X_test, y_train, y_test, RFEselector), \n",
    "                               rfrmodelsummary('Standardized', X_train_std, X_test_std, y_train, y_test, RFEselector), \n",
    "                               rfrmodelsummary('Normalized', X_train_norm, X_test_norm, y_train, y_test, RFEselector)])\n",
    "\n",
    "rfe_models_result"
   ]
  },
  {
   "cell_type": "code",
   "execution_count": null,
   "id": "2Xpq2eKYt_vN",
   "metadata": {
    "colab": {
     "base_uri": "https://localhost:8080/"
    },
    "id": "2Xpq2eKYt_vN",
    "outputId": "795f8a00-98d8-4dbb-b776-3668e0ccdf6f"
   },
   "outputs": [],
   "source": [
    "SFMselector = SelectFromModel(estimator=rfr)\n",
    "SFMselector.fit(X_train, y_train)\n",
    "X_train.columns[SFMselector.get_support()]"
   ]
  },
  {
   "cell_type": "code",
   "execution_count": null,
   "id": "f2P-_V2IuBfp",
   "metadata": {
    "id": "f2P-_V2IuBfp"
   },
   "outputs": [],
   "source": [
    "X_train_sfm = SFMselector.transform(X_train)\n",
    "X_test_sfm = SFMselector.transform(X_test)"
   ]
  },
  {
   "cell_type": "code",
   "execution_count": null,
   "id": "icl-5l2MuDCM",
   "metadata": {
    "colab": {
     "base_uri": "https://localhost:8080/",
     "height": 80
    },
    "id": "icl-5l2MuDCM",
    "outputId": "5082011e-5d40-4738-a701-a02be1a7211e"
   },
   "outputs": [],
   "source": [
    "sfm_models_result = rfrmodelsummary('Baseline', X_train_sfm, X_test_sfm, y_train, y_test, rfr)\n",
    "sfm_models_result"
   ]
  },
  {
   "cell_type": "markdown",
   "id": "6aec0f0d",
   "metadata": {},
   "source": [
    "Сначала импортируются необходимые библиотеки для разделения данных на обучающую и тестовую выборки, масштабирования данных, создания и обучения модели случайного леса, а также для выбора наиболее важных признаков (Приложение 1).\n",
    "Далее, данные разделяются на обучающую и тестовую выборки, затем применяются функции масштабирования StandardScaler и MinMaxScaler для стандартизации и нормализации данных.\n",
    "Затем функции rfrmodelsummary и plotrfr используются для создания отчета по метрикам производительности модели (таким как R2, MSE, RMSE) и построения графика фактических и предсказанных значений для обучающей и тестовой выборок.\n",
    "Далее, используется метод Recursive Feature Elimination (RFE) для выбора наиболее важных признаков для модели.\n",
    "В конце кода используется функция для визуализации важности признаков в модели.\n"
   ]
  },
  {
   "cell_type": "markdown",
   "id": "ptvxaziiuFoh",
   "metadata": {
    "id": "ptvxaziiuFoh"
   },
   "source": [
    "гиперпараметр"
   ]
  },
  {
   "cell_type": "code",
   "execution_count": null,
   "id": "dv2K7yxWuE8o",
   "metadata": {
    "colab": {
     "base_uri": "https://localhost:8080/"
    },
    "id": "dv2K7yxWuE8o",
    "outputId": "2d94ec42-3a0a-4511-d7b5-8d7ae0fd7550"
   },
   "outputs": [],
   "source": [
    "rfr.get_params()"
   ]
  },
  {
   "cell_type": "code",
   "execution_count": null,
   "id": "diKkq6IquJFi",
   "metadata": {
    "colab": {
     "base_uri": "https://localhost:8080/"
    },
    "id": "diKkq6IquJFi",
    "outputId": "99af8465-1aec-4640-c077-e632985f8bab",
    "scrolled": true
   },
   "outputs": [],
   "source": [
    "# Информация, которая поможет с настройкой\n",
    "\n",
    "print(rfr.estimators_[5].tree_.max_depth) # check how many nodes in the longest path\n",
    "rfr.estimators_[5].tree_.n_node_samples # check how many samples in the last nodes"
   ]
  },
  {
   "cell_type": "code",
   "execution_count": null,
   "id": "52LcSFiVuK2D",
   "metadata": {
    "colab": {
     "base_uri": "https://localhost:8080/",
     "height": 381
    },
    "id": "52LcSFiVuK2D",
    "outputId": "ea44a664-1bb5-4be7-f9c5-905ffe3f983a"
   },
   "outputs": [],
   "source": [
    "# Извлечение данных из одного дерева\n",
    "\n",
    "rfr_dict = {\n",
    "    'id_node': list(range(rfr.estimators_[5].tree_.node_count)),\n",
    "    'impurity': rfr.estimators_[5].tree_.impurity,\n",
    "    'samples': rfr.estimators_[5].tree_.n_node_samples,\n",
    "    'id_left_child': rfr.estimators_[5].tree_.children_left,\n",
    "    'id_right_child': rfr.estimators_[5].tree_.children_right\n",
    "}\n",
    "\n",
    "impurity_df = pd.DataFrame(rfr_dict)\n",
    "print(impurity_df.shape)\n",
    "impurity_df.head(10)"
   ]
  },
  {
   "cell_type": "code",
   "execution_count": null,
   "id": "4WxTV1Q9uMkk",
   "metadata": {
    "id": "4WxTV1Q9uMkk"
   },
   "outputs": [],
   "source": [
    "# Вычислить минимальное изменение безопасности\n",
    "\n",
    "impurity_df['impurity_decrease'] = np.nan\n",
    "samples_total = rfr.estimators_[5].tree_.node_count\n",
    "\n",
    "for idx in impurity_df.index[1:]:  \n",
    "    if impurity_df.iloc[idx]['id_left_child'] == -1:\n",
    "        continue \n",
    "    else:\n",
    "        impurity_P, samples_P = impurity_df.iloc[idx][['impurity', 'samples']]\n",
    "        id_L, id_R = impurity_df.iloc[idx][['id_left_child', 'id_right_child']].astype(int)\n",
    "        impurity_L, samples_L = impurity_df.iloc[id_L][['impurity', 'samples']]\n",
    "        impurity_R, samples_R = impurity_df.iloc[id_R][['impurity', 'samples']]\n",
    "        \n",
    "        impurity_decrease = samples_P / samples_total * (\n",
    "            impurity_P - samples_R / samples_P * impurity_R - \n",
    "            samples_L / samples_P * impurity_L\n",
    "            )\n",
    "        impurity_df.at[idx, 'impurity_decrease'] = impurity_decrease"
   ]
  },
  {
   "cell_type": "code",
   "execution_count": null,
   "id": "BKwWwwi1uRue",
   "metadata": {
    "colab": {
     "base_uri": "https://localhost:8080/",
     "height": 286
    },
    "id": "BKwWwwi1uRue",
    "outputId": "17f5c487-6c2a-4af5-c40c-de73fe851c96"
   },
   "outputs": [],
   "source": [
    "impurity_df['impurity_decrease'].plot(kind='hist', bins=50)"
   ]
  },
  {
   "cell_type": "code",
   "execution_count": null,
   "id": "_jIVdczpuToh",
   "metadata": {
    "colab": {
     "base_uri": "https://localhost:8080/"
    },
    "id": "_jIVdczpuToh",
    "outputId": "933418fb-cee0-46c6-8cf5-bd2fcc1838f1"
   },
   "outputs": [],
   "source": [
    "impurity_df['impurity_decrease'].describe() # 75% значений для уменьшения примесей лежат ниже 0,002; используйте это в качестве верхней границы для параметра"
   ]
  },
  {
   "cell_type": "code",
   "execution_count": null,
   "id": "LE_sgcqruVc3",
   "metadata": {
    "colab": {
     "base_uri": "https://localhost:8080/",
     "height": 355
    },
    "id": "LE_sgcqruVc3",
    "outputId": "c3937fc9-af22-49a8-95cb-1aa944f17c8b"
   },
   "outputs": [],
   "source": [
    "path = rfr.estimators_[5].cost_complexity_pruning_path(X_train, y_train)\n",
    "ccp_alphas, impurities = path.ccp_alphas, path.impurities\n",
    "\n",
    "fig, ax = plt.subplots(figsize=(13,5))\n",
    "ax.plot(ccp_alphas[:-1], impurities[:-1], marker='o', drawstyle=\"steps-post\")  \n",
    "ax.set_xlabel(\"effective alpha\")\n",
    "ax.set_ylabel(\"total impurity of leaves\")\n",
    "ax.set_title(\"Total Impurity vs effective alpha for training set\")\n",
    "plt.show()"
   ]
  },
  {
   "cell_type": "code",
   "execution_count": null,
   "id": "TV9k74SuuY03",
   "metadata": {
    "colab": {
     "base_uri": "https://localhost:8080/"
    },
    "id": "TV9k74SuuY03",
    "outputId": "1ed763cf-e75a-4e41-84cb-495606c4f066"
   },
   "outputs": [],
   "source": [
    "# Настройка параметров с помощью случайного поиска\n",
    "\n",
    "# param_distributions = {\n",
    "#     'ccp_alpha': 0.0,\n",
    "#     'max_depth': None,\n",
    "#     'max_leaf_nodes': None,\n",
    "#     'min_impurity_decrease': 0.0,\n",
    "#     'min_impurity_split': None,\n",
    "#     'min_samples_leaf': 1,\n",
    "#     'min_samples_split': 2,\n",
    "#     'min_weight_fraction_leaf': 0.0,\n",
    "#     'max_features': 'auto'\n",
    "# }\n",
    "\n",
    "ccp_alpha = list(np.round(np.linspace(0,0.8,4), decimals=3))\n",
    "max_depth = list(range(25,40,5))\n",
    "max_leaf_nodes = [None] + list(range(2,20))\n",
    "min_impurity_decrease = list(np.linspace(0, 0.001, 4))\n",
    "min_samples_leaf = [1,2,5,10,50] #list(range(1, 51, 10))\n",
    "min_samples_split = [2,5,10,15,20,50,100] #list(range(10,100,10))\n",
    "max_features = ['auto', 'sqrt']\n",
    "n_estimators = [500]\n",
    "        \n",
    "param_distributions = {\n",
    "    'ccp_alpha': ccp_alpha,\n",
    "    'max_depth': max_depth,\n",
    "    'max_leaf_nodes': max_leaf_nodes,\n",
    "    'min_impurity_decrease': min_impurity_decrease,\n",
    "    'min_samples_leaf': min_samples_leaf,\n",
    "    'min_samples_split': min_samples_split,\n",
    "    'max_features': max_features,\n",
    "    'n_estimators': n_estimators\n",
    "}\n",
    "\n",
    "tuning_options = len(ccp_alpha) * len(max_depth) * len(max_leaf_nodes) * len(min_impurity_decrease) * len(min_samples_leaf) * len(min_samples_split) * len(max_features) * len(n_estimators)\n",
    "print(tuning_options)"
   ]
  },
  {
   "cell_type": "code",
   "execution_count": null,
   "id": "fgImCzeKub3X",
   "metadata": {
    "id": "fgImCzeKub3X"
   },
   "outputs": [],
   "source": [
    "randomSearch = RandomizedSearchCV(rfr, param_distributions, cv=5, n_jobs=-1, random_state=42, n_iter=100)"
   ]
  },
  {
   "cell_type": "code",
   "execution_count": null,
   "id": "6Uaotg6tudji",
   "metadata": {
    "colab": {
     "base_uri": "https://localhost:8080/"
    },
    "id": "6Uaotg6tudji",
    "outputId": "032f560d-c7c0-493b-9aa1-a1b5eff062a9"
   },
   "outputs": [],
   "source": [
    "randomSearch.fit(X_train, y_train)\n",
    "print('Best score:', randomSearch.best_score_)\n",
    "print('Best parameters:', randomSearch.best_params_)"
   ]
  },
  {
   "cell_type": "code",
   "execution_count": null,
   "id": "ULhbSKjAufFV",
   "metadata": {
    "colab": {
     "base_uri": "https://localhost:8080/",
     "height": 80
    },
    "id": "ULhbSKjAufFV",
    "outputId": "255b7b30-d1d7-450b-b2b3-517a63137df5"
   },
   "outputs": [],
   "source": [
    "rfrRCV_models_result = rfrmodelsummary('Baseline', X_train, X_test, y_train, y_test, randomSearch.best_estimator_)\n",
    "rfrRCV_models_result"
   ]
  },
  {
   "cell_type": "code",
   "execution_count": null,
   "id": "DtG_CJ0RxhYf",
   "metadata": {
    "colab": {
     "base_uri": "https://localhost:8080/"
    },
    "id": "DtG_CJ0RxhYf",
    "outputId": "feef5c6a-8f90-4613-f1a0-c3d0861fbb0a"
   },
   "outputs": [],
   "source": [
    "randomSearch.fit(X_train_rfe, y_train)\n",
    "print('Best score:', randomSearch.best_score_)\n",
    "print('Best parameters:', randomSearch.best_params_)"
   ]
  },
  {
   "cell_type": "code",
   "execution_count": null,
   "id": "luYGiGO7xk-F",
   "metadata": {
    "colab": {
     "base_uri": "https://localhost:8080/",
     "height": 80
    },
    "id": "luYGiGO7xk-F",
    "outputId": "54d20df5-ec92-446e-e574-8082c43b5e70"
   },
   "outputs": [],
   "source": [
    "rfrRCV_models_result = rfrmodelsummary('Baseline', X_train_rfe, X_test_rfe, y_train, y_test, randomSearch.best_estimator_)\n",
    "rfrRCV_models_result"
   ]
  },
  {
   "cell_type": "code",
   "execution_count": null,
   "id": "Cw5wERFVxn7i",
   "metadata": {
    "colab": {
     "base_uri": "https://localhost:8080/"
    },
    "id": "Cw5wERFVxn7i",
    "outputId": "c26c2473-60b2-4f4a-95de-dcdd968870a1"
   },
   "outputs": [],
   "source": [
    "randomSearch.fit(X_train_sfm, y_train)\n",
    "print('Best score:', randomSearch.best_score_)\n",
    "print('Best parameters:', randomSearch.best_params_)"
   ]
  },
  {
   "cell_type": "code",
   "execution_count": null,
   "id": "GmYKHPFCxtNT",
   "metadata": {
    "colab": {
     "base_uri": "https://localhost:8080/",
     "height": 80
    },
    "id": "GmYKHPFCxtNT",
    "outputId": "d84bb949-3976-4fc7-adb9-4367ee4b96d4",
    "scrolled": true
   },
   "outputs": [],
   "source": [
    "rfrRCV_models_result = rfrmodelsummary('Baseline', X_train_sfm, X_test_sfm, y_train, y_test, randomSearch.best_estimator_)\n",
    "rfrRCV_models_result"
   ]
  },
  {
   "cell_type": "markdown",
   "id": "866ab24f",
   "metadata": {},
   "source": [
    "Код определяет модель RFR с использованием библиотеки sklearn и выполняет различные операции, такие как проверка количества узлов в дереве, извлечение данных из дерева, вычисление нечистоты и обрезание дерева. Затем код определяет словарь гиперпараметров, которые будут настраиваться с помощью случайного поиска, создает объект RandomizedSearchCV для выполнения поиска и подгоняет модель RFR к обучающим данным. Наконец, код печатает лучший результат и лучшие параметры, найденные в результате поиска, а также вычисляет и печатает различные метрики для настроенной модели."
   ]
  },
  {
   "cell_type": "code",
   "execution_count": null,
   "id": "Wpmg5s4puhmw",
   "metadata": {
    "colab": {
     "base_uri": "https://localhost:8080/"
    },
    "id": "Wpmg5s4puhmw",
    "outputId": "d7849c98-5bf7-49b7-ddb5-fb7ccfdb515b"
   },
   "outputs": [],
   "source": [
    "# Точная настройка параметров с поиском по сетке\n",
    "\n",
    "max_depth = [23,24,25,26,27]\n",
    "min_impurity_decrease = [0.0005]\n",
    "min_samples_split = [14,15,16]\n",
    "max_features = ['sqrt']\n",
    "min_samples_leaf = [3,4,5,6,7]\n",
    "n_estimators = [500]\n",
    "\n",
    "param_grid = {\n",
    "    'max_depth': max_depth,\n",
    "    'min_impurity_decrease': min_impurity_decrease,\n",
    "    'min_samples_split': min_samples_split,\n",
    "    'max_features': max_features,\n",
    "    'min_samples_leaf': min_samples_leaf,\n",
    "    'n_estimators': n_estimators\n",
    "}\n",
    "\n",
    "tuning_options = len(max_depth) * len(min_impurity_decrease) * len(min_samples_split) * len(max_features) * len(min_samples_leaf) * len(n_estimators)\n",
    "print(tuning_options)"
   ]
  },
  {
   "cell_type": "code",
   "execution_count": null,
   "id": "NVG1XqiRuj_c",
   "metadata": {
    "id": "NVG1XqiRuj_c"
   },
   "outputs": [],
   "source": [
    "gridSearch = GridSearchCV(rfr, param_grid, cv=5, n_jobs=-1) "
   ]
  },
  {
   "cell_type": "code",
   "execution_count": null,
   "id": "7HtyHMe0umpR",
   "metadata": {
    "colab": {
     "base_uri": "https://localhost:8080/"
    },
    "id": "7HtyHMe0umpR",
    "outputId": "ad76b25f-702f-4abd-b07d-a1f0541f8458"
   },
   "outputs": [],
   "source": [
    "gridSearch.fit(X_train, y_train)\n",
    "print('Best score:', gridSearch.best_score_)\n",
    "print('Best parameters:', gridSearch.best_params_)"
   ]
  },
  {
   "cell_type": "code",
   "execution_count": null,
   "id": "6av2Oj6PunTA",
   "metadata": {
    "colab": {
     "base_uri": "https://localhost:8080/",
     "height": 80
    },
    "id": "6av2Oj6PunTA",
    "outputId": "a65e8b54-414f-4098-d088-f9c1f74c4272"
   },
   "outputs": [],
   "source": [
    "rfrGCV_models_result = rfrmodelsummary('Baseline', X_train, X_test, y_train, y_test, gridSearch.best_estimator_) \n",
    "rfrGCV_models_result"
   ]
  },
  {
   "cell_type": "code",
   "execution_count": null,
   "id": "-lZ66LKgx3Qj",
   "metadata": {
    "colab": {
     "base_uri": "https://localhost:8080/"
    },
    "id": "-lZ66LKgx3Qj",
    "outputId": "3e735835-719d-4cdd-ec8a-ac7dc6f67a47",
    "scrolled": true
   },
   "outputs": [],
   "source": [
    "gridSearch.fit(X_train_rfe, y_train)\n",
    "print('Best score:', gridSearch.best_score_)\n",
    "print('Best parameters:', gridSearch.best_params_)"
   ]
  },
  {
   "cell_type": "code",
   "execution_count": null,
   "id": "kOvH342Bx3bE",
   "metadata": {
    "colab": {
     "base_uri": "https://localhost:8080/",
     "height": 80
    },
    "id": "kOvH342Bx3bE",
    "outputId": "204943fa-8ce8-4e69-c71b-6e8b7c29a1bb"
   },
   "outputs": [],
   "source": [
    "rfrGCV_models_result = rfrmodelsummary('Baseline', X_train_rfe, X_test_rfe, y_train, y_test, gridSearch.best_estimator_) \n",
    "rfrGCV_models_result\n",
    "# final winsorized"
   ]
  },
  {
   "cell_type": "code",
   "execution_count": null,
   "id": "vicqe9H6loW0",
   "metadata": {
    "colab": {
     "base_uri": "https://localhost:8080/"
    },
    "id": "vicqe9H6loW0",
    "outputId": "a31588d4-140f-4969-c87f-77cc07cc06ae"
   },
   "outputs": [],
   "source": [
    "rf_final_wins = RandomForestRegressor(max_depth=23, max_features='sqrt', min_impurity_decrease=0.0005, min_samples_leaf=3, min_samples_split=14, n_estimators=500, \\\n",
    "                                      random_state=42, n_jobs=-1)\n",
    "rf_final_wins.fit(X_train_rfe, y_train)\n",
    "\n",
    "y_pred_rf = rf_final_wins.predict(X_test_rfe)\n",
    "\n",
    "r2_training = rf_final_wins.score(X_train_rfe, y_train)\n",
    "adj_r2_training = 1 - (1-r2_training)*(len(y_train)-1)/(len(y_train)-X_train_rfe.shape[1]-1)\n",
    "\n",
    "r2_test = rf_final_wins.score(X_test_rfe, y_test)\n",
    "adj_r2_test = 1 - (1-r2_test)*(len(y_test)-1)/(len(y_test)-X_test_rfe.shape[1]-1)\n",
    "\n",
    "print('training set: adjusted R2 score: %.4f' % adj_r2_training)\n",
    "print('test set: adjusted R2 score: %.4f' % adj_r2_test)\n",
    "print(\"training set: RMSE: %.4f\" % np.sqrt(mean_squared_error(y_train, rf_final_wins.predict(X_train_rfe))))\n",
    "print(\"test set: RMSE: %.4f\" % np.sqrt(mean_squared_error(y_test, y_pred_rf)))"
   ]
  },
  {
   "cell_type": "code",
   "execution_count": null,
   "id": "_Amt6RG8nR1y",
   "metadata": {
    "colab": {
     "base_uri": "https://localhost:8080/",
     "height": 369
    },
    "id": "_Amt6RG8nR1y",
    "outputId": "a02257ad-75c4-4ebf-b817-3ea5468f3972"
   },
   "outputs": [],
   "source": [
    "feature_imp = pd.DataFrame(sorted(zip(rf_final_wins.feature_importances_, X_train.columns),reverse = True), columns=['Value','Feature'])\n",
    "feature_imp = feature_imp[feature_imp.Value != 0]\n",
    "plt.figure(figsize=(10, 5))\n",
    "sns.barplot(x=\"Value\", y=\"Feature\", data=feature_imp.sort_values(by=\"Value\", ascending=False))\n",
    "plt.title('RFR Feature Importance')\n",
    "plt.tight_layout()\n",
    "plt.show()"
   ]
  },
  {
   "cell_type": "code",
   "execution_count": null,
   "id": "KQbF0KdTx3l3",
   "metadata": {
    "colab": {
     "base_uri": "https://localhost:8080/"
    },
    "id": "KQbF0KdTx3l3",
    "outputId": "6eba75fe-9219-4ae8-c4f0-82cef9d291ab"
   },
   "outputs": [],
   "source": [
    "gridSearch.fit(X_train_sfm, y_train)\n",
    "print('Best score:', gridSearch.best_score_)\n",
    "print('Best parameters:', gridSearch.best_params_)"
   ]
  },
  {
   "cell_type": "code",
   "execution_count": null,
   "id": "3s5V5zbIx3yQ",
   "metadata": {
    "colab": {
     "base_uri": "https://localhost:8080/",
     "height": 80
    },
    "id": "3s5V5zbIx3yQ",
    "outputId": "ff90ad5d-cf5c-4b2f-c49d-d8b572d11d0d"
   },
   "outputs": [],
   "source": [
    "rfrGCV_models_result = rfrmodelsummary('Baseline', X_train_sfm, X_test_sfm, y_train, y_test, gridSearch.best_estimator_) \n",
    "rfrGCV_models_result"
   ]
  },
  {
   "cell_type": "code",
   "execution_count": null,
   "id": "5AaVduynrhlV",
   "metadata": {
    "id": "5AaVduynrhlV"
   },
   "outputs": [],
   "source": [
    "rfr = RandomForestRegressor(random_state=42, n_jobs=-1)"
   ]
  },
  {
   "cell_type": "code",
   "execution_count": null,
   "id": "QUI2W5RwrjCW",
   "metadata": {
    "id": "QUI2W5RwrjCW"
   },
   "outputs": [],
   "source": [
    "def logrfrmodelsummary(name, X_train, X_test, y_train, y_test, model):\n",
    "    \n",
    "    model.fit(X_train, y_train)\n",
    "    \n",
    "    # training\n",
    "    y_pred_train = model.predict(X_train)\n",
    "    \n",
    "    # training metrics\n",
    "    mse_train = mean_squared_error(np.expm1(y_train), np.expm1(y_pred_train))\n",
    "    mse_train_wo_exp = mean_squared_error(y_train, y_pred_train)\n",
    "    rmse_train = np.sqrt(mse_train)\n",
    "    rsq_train = model.score(X_train, y_train)\n",
    "    adjrsq_train = 1 - (((len(y_train)-1)/(len(y_train)-X_train.shape[1]-1))*(1-rsq_train))\n",
    "    \n",
    "    # test\n",
    "    y_pred_test = model.predict(X_test)\n",
    "    \n",
    "    # test metrics\n",
    "    mse_test = mean_squared_error(np.expm1(y_test), np.expm1(y_pred_test))\n",
    "    mse_test_wo_exp = mean_squared_error(y_test, y_pred_test)\n",
    "    rmse_test = np.sqrt(mse_test)\n",
    "    rsq_test = model.score(X_test, y_test)\n",
    "    adjrsq_test = 1 - (((len(y_test)-1)/(len(y_test)-X_test.shape[1]-1))*(1-rsq_test))\n",
    "    \n",
    "    df_model = pd.DataFrame({'model': [name],\n",
    "                             'R2_train': [rsq_train], 'R2_test': [rsq_test],\n",
    "                             'AdjR2_train': [adjrsq_train], 'AdjR2_test': [adjrsq_test], \n",
    "                             'MSE_train': [mse_train], 'MSE_test' : [mse_test],\n",
    "                             'MSE_train_wo_exp': [mse_train_wo_exp], 'MSE_test_wo_exp' : [mse_test_wo_exp],\n",
    "                             'RMSE_train': [rmse_train], 'RMSE_test' : [rmse_test]})   \n",
    "    \n",
    "    return df_model"
   ]
  },
  {
   "cell_type": "code",
   "execution_count": null,
   "id": "T0RoJT0UrjGB",
   "metadata": {
    "colab": {
     "base_uri": "https://localhost:8080/",
     "height": 80
    },
    "id": "T0RoJT0UrjGB",
    "outputId": "922bc048-b76d-451d-c791-fced2eb0746a"
   },
   "outputs": [],
   "source": [
    "log_rfr_models_result = logrfrmodelsummary('Baseline', X_train_log, X_test_log, y_train_log, y_test_log, rfr)\n",
    "log_rfr_models_result"
   ]
  },
  {
   "cell_type": "code",
   "execution_count": null,
   "id": "21dlq4vyrjME",
   "metadata": {
    "colab": {
     "base_uri": "https://localhost:8080/",
     "height": 369
    },
    "id": "21dlq4vyrjME",
    "outputId": "d2d8806d-1614-461d-f2c9-aaff5fe8ee82"
   },
   "outputs": [],
   "source": [
    "feature_imp = pd.DataFrame(sorted(zip(rfr.feature_importances_, X_train_log.columns),reverse = True), columns=['Value','Feature'])\n",
    "feature_imp = feature_imp[feature_imp.Value != 0]\n",
    "plt.figure(figsize=(10, 5))\n",
    "sns.barplot(x=\"Value\", y=\"Feature\", data=feature_imp.sort_values(by=\"Value\", ascending=False))\n",
    "plt.title('RFR Feature Importance')\n",
    "plt.tight_layout()\n",
    "plt.show()"
   ]
  },
  {
   "cell_type": "code",
   "execution_count": null,
   "id": "zBLORwcwrjPM",
   "metadata": {
    "colab": {
     "base_uri": "https://localhost:8080/"
    },
    "id": "zBLORwcwrjPM",
    "outputId": "6fb3b690-7e64-422e-bb45-606718b0a0cb"
   },
   "outputs": [],
   "source": [
    "RFEselector = RFE(estimator=rfr, n_features_to_select=7, step=1)\n",
    "RFEselector.fit(X_train_log, y_train_log)\n",
    "X_train_log.columns[RFEselector.get_support()]"
   ]
  },
  {
   "cell_type": "code",
   "execution_count": null,
   "id": "6xvPFu3HrjUM",
   "metadata": {
    "colab": {
     "base_uri": "https://localhost:8080/"
    },
    "id": "6xvPFu3HrjUM",
    "outputId": "596c84df-64dc-40bd-be30-06cefca10220"
   },
   "outputs": [],
   "source": [
    "RFEselector.ranking_"
   ]
  },
  {
   "cell_type": "code",
   "execution_count": null,
   "id": "OJecakcUrjZW",
   "metadata": {
    "colab": {
     "base_uri": "https://localhost:8080/"
    },
    "id": "OJecakcUrjZW",
    "outputId": "ee7555c2-6020-4302-c872-220941add766"
   },
   "outputs": [],
   "source": [
    "X_train_log.columns"
   ]
  },
  {
   "cell_type": "code",
   "execution_count": null,
   "id": "b6leIFjerjc2",
   "metadata": {
    "id": "b6leIFjerjc2"
   },
   "outputs": [],
   "source": [
    "X_train_rfe = RFEselector.transform(X_train_log)\n",
    "X_test_rfe = RFEselector.transform(X_test_log)"
   ]
  },
  {
   "cell_type": "code",
   "execution_count": null,
   "id": "1LGRDxEirjf3",
   "metadata": {
    "colab": {
     "base_uri": "https://localhost:8080/",
     "height": 80
    },
    "id": "1LGRDxEirjf3",
    "outputId": "87d13a17-f97c-442d-d74a-2db21a9a9d90"
   },
   "outputs": [],
   "source": [
    "rfe_models_result = logrfrmodelsummary('Baseline', X_train_rfe, X_test_rfe, y_train_log, y_test_log, RFEselector)\n",
    "rfe_models_result"
   ]
  },
  {
   "cell_type": "code",
   "execution_count": null,
   "id": "f1_04NohrvTB",
   "metadata": {
    "colab": {
     "base_uri": "https://localhost:8080/"
    },
    "id": "f1_04NohrvTB",
    "outputId": "bf039663-3c63-43d7-b75a-03420e6becb1"
   },
   "outputs": [],
   "source": [
    "SFMselector = SelectFromModel(estimator=rfr)\n",
    "SFMselector.fit(X_train_log, y_train_log)\n",
    "X_train_log.columns[SFMselector.get_support()]"
   ]
  },
  {
   "cell_type": "code",
   "execution_count": null,
   "id": "P70A5flUrvZj",
   "metadata": {
    "id": "P70A5flUrvZj"
   },
   "outputs": [],
   "source": [
    "X_train_sfm = SFMselector.transform(X_train_log)\n",
    "X_test_sfm = SFMselector.transform(X_test_log)"
   ]
  },
  {
   "cell_type": "code",
   "execution_count": null,
   "id": "9qkg5ujBrvcc",
   "metadata": {
    "colab": {
     "base_uri": "https://localhost:8080/",
     "height": 80
    },
    "id": "9qkg5ujBrvcc",
    "outputId": "d2d5701c-e217-41fd-88ae-c3a9ba4bff99"
   },
   "outputs": [],
   "source": [
    "sfm_models_result = logrfrmodelsummary('Baseline', X_train_sfm, X_test_sfm, y_train_log, y_test_log, rfr)\n",
    "sfm_models_result"
   ]
  },
  {
   "cell_type": "code",
   "execution_count": null,
   "id": "2N43iuqxrviw",
   "metadata": {
    "colab": {
     "base_uri": "https://localhost:8080/"
    },
    "id": "2N43iuqxrviw",
    "outputId": "661d2185-682b-4afc-ba39-f095514f7388"
   },
   "outputs": [],
   "source": [
    "# Информация, которая поможет с настройкой\n",
    "\n",
    "print(rfr.estimators_[5].tree_.max_depth) # check how many nodes in the longest path\n",
    "rfr.estimators_[5].tree_.n_node_samples # check how many samples in the last nodes"
   ]
  },
  {
   "cell_type": "code",
   "execution_count": null,
   "id": "qp22_Ct7rvmg",
   "metadata": {
    "colab": {
     "base_uri": "https://localhost:8080/",
     "height": 381
    },
    "id": "qp22_Ct7rvmg",
    "outputId": "7fd49dff-fef2-46b7-91c7-76c42a5549f8"
   },
   "outputs": [],
   "source": [
    "# Extract data on single tree \n",
    "\n",
    "rfr_dict = {\n",
    "    'id_node': list(range(rfr.estimators_[5].tree_.node_count)),\n",
    "    'impurity': rfr.estimators_[5].tree_.impurity,\n",
    "    'samples': rfr.estimators_[5].tree_.n_node_samples,\n",
    "    'id_left_child': rfr.estimators_[5].tree_.children_left,\n",
    "    'id_right_child': rfr.estimators_[5].tree_.children_right\n",
    "}\n",
    "\n",
    "impurity_df = pd.DataFrame(rfr_dict)\n",
    "print(impurity_df.shape)\n",
    "impurity_df.head(10)"
   ]
  },
  {
   "cell_type": "code",
   "execution_count": null,
   "id": "_Pr5Xrlxrvq8",
   "metadata": {
    "id": "_Pr5Xrlxrvq8"
   },
   "outputs": [],
   "source": [
    "# Вычислить min_impurity_decrease минимального значения\n",
    "\n",
    "impurity_df['impurity_decrease'] = np.nan\n",
    "samples_total = rfr.estimators_[5].tree_.node_count\n",
    "\n",
    "for idx in impurity_df.index[1:]:  # skip the first node, there aren't any splits prior to it\n",
    "    if impurity_df.iloc[idx]['id_left_child'] == -1:\n",
    "        continue  # we can't calculate impurity decrease for leaf nodes, as they no longer split\n",
    "    else:\n",
    "        impurity_P, samples_P = impurity_df.iloc[idx][['impurity', 'samples']]\n",
    "        id_L, id_R = impurity_df.iloc[idx][['id_left_child', 'id_right_child']].astype(int)\n",
    "        impurity_L, samples_L = impurity_df.iloc[id_L][['impurity', 'samples']]\n",
    "        impurity_R, samples_R = impurity_df.iloc[id_R][['impurity', 'samples']]\n",
    "        \n",
    "        impurity_decrease = samples_P / samples_total * (\n",
    "            impurity_P - samples_R / samples_P * impurity_R - \n",
    "            samples_L / samples_P * impurity_L\n",
    "            )\n",
    "        impurity_df.at[idx, 'impurity_decrease'] = impurity_decrease"
   ]
  },
  {
   "cell_type": "code",
   "execution_count": null,
   "id": "7aHajp4mrvzW",
   "metadata": {
    "colab": {
     "base_uri": "https://localhost:8080/",
     "height": 286
    },
    "id": "7aHajp4mrvzW",
    "outputId": "fa19d65a-363e-4662-af3e-20005dfbb99c"
   },
   "outputs": [],
   "source": [
    "impurity_df['impurity_decrease'].plot(kind='hist', bins=50)"
   ]
  },
  {
   "cell_type": "code",
   "execution_count": null,
   "id": "VX2n_2VPr1jq",
   "metadata": {
    "colab": {
     "base_uri": "https://localhost:8080/"
    },
    "id": "VX2n_2VPr1jq",
    "outputId": "47105a77-a558-415e-d428-d09811cc9c77"
   },
   "outputs": [],
   "source": [
    "impurity_df['impurity_decrease'].describe() # 75% of values for impurity decrease lie below 0.000; use this as upper-bound for param"
   ]
  },
  {
   "cell_type": "code",
   "execution_count": null,
   "id": "HZYOplA2r1mo",
   "metadata": {
    "colab": {
     "base_uri": "https://localhost:8080/",
     "height": 355
    },
    "id": "HZYOplA2r1mo",
    "outputId": "d0ed36ad-6666-49d7-9a75-5ecd6d6120e9",
    "scrolled": false
   },
   "outputs": [],
   "source": [
    "\n",
    "path = rfr.estimators_[5].cost_complexity_pruning_path(X_train_log, y_train_log)\n",
    "ccp_alphas, impurities = path.ccp_alphas, path.impurities\n",
    "\n",
    "fig, ax = plt.subplots(figsize=(13,5))\n",
    "# корневой узел дерева (индексированный с помощью [:-1]) исключается из анализа, так как без него не было бы дерева\n",
    "ax.plot(ccp_alphas[:-1], impurities[:-1], marker='o', drawstyle=\"steps-post\")  \n",
    "ax.set_xlabel(\"effective alpha\")\n",
    "ax.set_ylabel(\"total impurity of leaves\")\n",
    "ax.set_title(\"Total Impurity vs effective alpha for training set\")\n",
    "plt.show()"
   ]
  },
  {
   "cell_type": "markdown",
   "id": "2a3bda88",
   "metadata": {},
   "source": [
    "GridSearchCV использует для настройки гиперпараметров модели RandomForestRegressor. Скрипт определяет набор гиперпараметров для модели и затем создает сетку параметров, которая включает все возможные комбинации значений гиперпараметров. Скрипт выводит количество вариантов настройки, которые будут исследоваться, а затем подгоняет объект GridSearchCV к тренировочным данным. После подгонки скрипт выводит лучший результат и лучшие параметры, найденные GridSearchCV. Затем скрипт подгоняет модель RandomForestRegressor к данным с использованием лучших гиперпараметров, найденных GridSearchCV, и выводит метрики оценки модели, включая скорректированный R-квадрат, среднеквадратическую ошибку (RMSE) и важность признаков. Скрипт повторяет этот процесс с тремя различными наборами признаков: исходным набором признаков, уменьшенным набором признаков, полученным с помощью рекурсивного отбора признаков, и уменьшенным набором признаков, полученным с помощью объекта SelectFromModel для отбора признаков."
   ]
  },
  {
   "cell_type": "code",
   "execution_count": null,
   "id": "SQ5yXlzgr1p9",
   "metadata": {
    "colab": {
     "base_uri": "https://localhost:8080/"
    },
    "id": "SQ5yXlzgr1p9",
    "outputId": "bf41a1fe-cb6d-4a23-c615-2416332a5b35"
   },
   "outputs": [],
   "source": [
    "# Настройка параметров с помощью случайного поиска\n",
    "\n",
    "# param_distributions = {\n",
    "#     'ccp_alpha': 0.0,\n",
    "#     'max_depth': None,\n",
    "#     'max_leaf_nodes': None,\n",
    "#     'min_impurity_decrease': 0.0,\n",
    "#     'min_impurity_split': None,\n",
    "#     'min_samples_leaf': 1,\n",
    "#     'min_samples_split': 2,\n",
    "#     'min_weight_fraction_leaf': 0.0,\n",
    "#     'max_features': 'auto'\n",
    "# }\n",
    "\n",
    "ccp_alpha = list(np.round(np.linspace(0,0.8,4), decimals=3))\n",
    "max_depth = list(range(25,40,5))\n",
    "max_leaf_nodes = [None] + list(range(2,20))\n",
    "min_impurity_decrease = [0]\n",
    "min_samples_leaf = [1,2,5,10,50] #list(range(1, 51, 10))\n",
    "min_samples_split = [2,5,10,15,20,50,100] #list(range(10,100,10))\n",
    "max_features = ['auto', 'sqrt']\n",
    "n_estimators = [500]\n",
    "        \n",
    "param_distributions = {\n",
    "    'ccp_alpha': ccp_alpha,\n",
    "    'max_depth': max_depth,\n",
    "    'max_leaf_nodes': max_leaf_nodes,\n",
    "    'min_impurity_decrease': min_impurity_decrease,\n",
    "    'min_samples_leaf': min_samples_leaf,\n",
    "    'min_samples_split': min_samples_split,\n",
    "    'max_features': max_features,\n",
    "    'n_estimators': n_estimators\n",
    "}\n",
    "\n",
    "tuning_options = len(ccp_alpha) * len(max_depth) * len(max_leaf_nodes) * len(min_impurity_decrease) * len(min_samples_leaf) * len(min_samples_split) * len(max_features) * len(n_estimators)\n",
    "print(tuning_options)"
   ]
  },
  {
   "cell_type": "code",
   "execution_count": null,
   "id": "QsDL1zYar1s-",
   "metadata": {
    "id": "QsDL1zYar1s-"
   },
   "outputs": [],
   "source": [
    "randomSearch = RandomizedSearchCV(rfr, param_distributions, cv=5, n_jobs=-1, random_state=42, n_iter=100)"
   ]
  },
  {
   "cell_type": "code",
   "execution_count": null,
   "id": "yD0XRRKlr1uQ",
   "metadata": {
    "colab": {
     "base_uri": "https://localhost:8080/"
    },
    "id": "yD0XRRKlr1uQ",
    "outputId": "7009be61-2225-45c2-e729-4ca5d1c146bb"
   },
   "outputs": [],
   "source": [
    "randomSearch.fit(X_train_log, y_train_log)\n",
    "print('Best score:', randomSearch.best_score_)\n",
    "print('Best parameters:', randomSearch.best_params_)"
   ]
  },
  {
   "cell_type": "code",
   "execution_count": null,
   "id": "HoeMi6y9r1xI",
   "metadata": {
    "colab": {
     "base_uri": "https://localhost:8080/",
     "height": 80
    },
    "id": "HoeMi6y9r1xI",
    "outputId": "48f11a30-d0be-4680-df5a-d432a9d8110c"
   },
   "outputs": [],
   "source": [
    "rfrRCV_models_result = logrfrmodelsummary('Baseline', X_train_log, X_test_log, y_train_log, y_test_log, randomSearch.best_estimator_)\n",
    "rfrRCV_models_result"
   ]
  },
  {
   "cell_type": "code",
   "execution_count": null,
   "id": "1BcZ8voBr1zP",
   "metadata": {
    "colab": {
     "base_uri": "https://localhost:8080/"
    },
    "id": "1BcZ8voBr1zP",
    "outputId": "06640d66-cc91-443b-cf25-5d4e7fd2f068"
   },
   "outputs": [],
   "source": [
    "randomSearch.fit(X_train_rfe, y_train_log)\n",
    "print('Best score:', randomSearch.best_score_)\n",
    "print('Best parameters:', randomSearch.best_params_)"
   ]
  },
  {
   "cell_type": "code",
   "execution_count": null,
   "id": "SKqIVypNsE_m",
   "metadata": {
    "colab": {
     "base_uri": "https://localhost:8080/",
     "height": 80
    },
    "id": "SKqIVypNsE_m",
    "outputId": "1ebe6a54-3477-471a-8f2c-180b149a7e27"
   },
   "outputs": [],
   "source": [
    "rfrRCV_models_result = logrfrmodelsummary('Baseline', X_train_rfe, X_test_rfe, y_train_log, y_test_log, randomSearch.best_estimator_)\n",
    "rfrRCV_models_result"
   ]
  },
  {
   "cell_type": "code",
   "execution_count": null,
   "id": "lMiRexV_sFCj",
   "metadata": {
    "colab": {
     "base_uri": "https://localhost:8080/"
    },
    "id": "lMiRexV_sFCj",
    "outputId": "334cc556-8d4b-4669-fc4b-adf9b392d085"
   },
   "outputs": [],
   "source": [
    "randomSearch.fit(X_train_sfm, y_train_log)\n",
    "print('Best score:', randomSearch.best_score_)\n",
    "print('Best parameters:', randomSearch.best_params_)"
   ]
  },
  {
   "cell_type": "code",
   "execution_count": null,
   "id": "LcvKs6swsFFd",
   "metadata": {
    "colab": {
     "base_uri": "https://localhost:8080/",
     "height": 80
    },
    "id": "LcvKs6swsFFd",
    "outputId": "50e3c71e-317b-4744-c5a8-c84ff19644e4"
   },
   "outputs": [],
   "source": [
    "rfrRCV_models_result = logrfrmodelsummary('Baseline', X_train_sfm, X_test_sfm, y_train_log, y_test_log, randomSearch.best_estimator_)\n",
    "rfrRCV_models_result"
   ]
  },
  {
   "cell_type": "code",
   "execution_count": null,
   "id": "1YQCd3h6sKpS",
   "metadata": {
    "colab": {
     "base_uri": "https://localhost:8080/"
    },
    "id": "1YQCd3h6sKpS",
    "outputId": "a53990c2-ab5d-49bd-ac23-4e5ae51a1151"
   },
   "outputs": [],
   "source": [
    "# Точная настройка параметров с поиском по сетке\n",
    "\n",
    "max_depth = [28,29,30,31,32]\n",
    "min_impurity_decrease = [0]\n",
    "min_samples_split = [8,9,10,11,12]\n",
    "max_features = ['auto']\n",
    "min_samples_leaf = [2,3,4]\n",
    "n_estimators = [500]\n",
    "\n",
    "param_grid = {\n",
    "    'max_depth': max_depth,\n",
    "    'min_impurity_decrease': min_impurity_decrease,\n",
    "    'min_samples_split': min_samples_split,\n",
    "    'max_features': max_features,\n",
    "    'min_samples_leaf': min_samples_leaf,\n",
    "    'n_estimators': n_estimators\n",
    "}\n",
    "\n",
    "tuning_options = len(max_depth) * len(min_impurity_decrease) * len(min_samples_split) * len(max_features) * len(min_samples_leaf) * len(n_estimators)\n",
    "print(tuning_options)"
   ]
  },
  {
   "cell_type": "code",
   "execution_count": null,
   "id": "8BmWshwFsKu_",
   "metadata": {
    "id": "8BmWshwFsKu_"
   },
   "outputs": [],
   "source": [
    "gridSearch = GridSearchCV(rfr, param_grid, cv=5, n_jobs=-1) "
   ]
  },
  {
   "cell_type": "code",
   "execution_count": null,
   "id": "aLJ5zndXsRGJ",
   "metadata": {
    "colab": {
     "base_uri": "https://localhost:8080/"
    },
    "id": "aLJ5zndXsRGJ",
    "outputId": "ad3279a5-0d14-40bf-bd5e-11469cc71259"
   },
   "outputs": [],
   "source": [
    "gridSearch.fit(X_train_log, y_train_log)\n",
    "print('Best score:', gridSearch.best_score_)\n",
    "print('Best parameters:', gridSearch.best_params_)"
   ]
  },
  {
   "cell_type": "code",
   "execution_count": null,
   "id": "fCZAzvZosRLE",
   "metadata": {
    "colab": {
     "base_uri": "https://localhost:8080/",
     "height": 80
    },
    "id": "fCZAzvZosRLE",
    "outputId": "33c36cc0-36ae-4957-8177-39d60ac4ea8d"
   },
   "outputs": [],
   "source": [
    "rfrGCV_models_result = logrfrmodelsummary('Baseline', X_train_log, X_test_log, y_train_log, y_test_log, gridSearch.best_estimator_) \n",
    "rfrGCV_models_result\n",
    "# final log"
   ]
  },
  {
   "cell_type": "code",
   "execution_count": null,
   "id": "Ru8Azl59ntdQ",
   "metadata": {
    "colab": {
     "base_uri": "https://localhost:8080/"
    },
    "id": "Ru8Azl59ntdQ",
    "outputId": "f3e17a65-e55b-4196-dd73-23c1fa26feb9"
   },
   "outputs": [],
   "source": [
    "rf_final_log = RandomForestRegressor(max_depth=28, max_features='auto', min_impurity_decrease=0, min_samples_leaf=4, min_samples_split=12, n_estimators=500, \\\n",
    "                                      random_state=42, n_jobs=-1)\n",
    "rf_final_log.fit(X_train_log, y_train_log)\n",
    "\n",
    "y_pred_rf_log = rf_final_log.predict(X_test_log)\n",
    "\n",
    "r2_training = rf_final_log.score(X_train_log, y_train_log)\n",
    "adj_r2_training = 1 - (1-r2_training)*(len(y_train_log)-1)/(len(y_train_log)-X_train_log.shape[1]-1)\n",
    "\n",
    "r2_test = rf_final_log.score(X_test_log, y_test_log)\n",
    "adj_r2_test = 1 - (1-r2_test)*(len(y_test_log)-1)/(len(y_test_log)-X_test_log.shape[1]-1)\n",
    "\n",
    "print('training set: adjusted R2 score: %.4f' % adj_r2_training)\n",
    "print('test set: adjusted R2 score: %.4f' % adj_r2_test)\n",
    "print(\"training set: RMSE: %.4f\" % np.sqrt(mean_squared_error(y_train_log, rf_final_log.predict(X_train_log))))\n",
    "print(\"test set: RMSE: %.4f\" % np.sqrt(mean_squared_error(y_test_log, y_pred_rf_log)))"
   ]
  },
  {
   "cell_type": "code",
   "execution_count": null,
   "id": "TaGi0vLboKFv",
   "metadata": {
    "colab": {
     "base_uri": "https://localhost:8080/",
     "height": 369
    },
    "id": "TaGi0vLboKFv",
    "outputId": "854439db-0844-4ed7-b2e3-3760142c45f3"
   },
   "outputs": [],
   "source": [
    "feature_imp = pd.DataFrame(sorted(zip(rf_final_log.feature_importances_, X_train_log.columns),reverse = True), columns=['Value','Feature'])\n",
    "feature_imp = feature_imp[feature_imp.Value != 0]\n",
    "plt.figure(figsize=(10, 5))\n",
    "sns.barplot(x=\"Value\", y=\"Feature\", data=feature_imp.sort_values(by=\"Value\", ascending=False))\n",
    "plt.title('RFR Feature Importance')\n",
    "plt.tight_layout()\n",
    "plt.show()"
   ]
  },
  {
   "cell_type": "code",
   "execution_count": null,
   "id": "avC0rFcWsRRl",
   "metadata": {
    "colab": {
     "base_uri": "https://localhost:8080/"
    },
    "id": "avC0rFcWsRRl",
    "outputId": "065f9433-9e39-4b48-a309-755396e16ce7"
   },
   "outputs": [],
   "source": [
    "gridSearch.fit(X_train_rfe, y_train_log)\n",
    "print('Best score:', gridSearch.best_score_)\n",
    "print('Best parameters:', gridSearch.best_params_)"
   ]
  },
  {
   "cell_type": "code",
   "execution_count": null,
   "id": "qnv7mp_5sWIA",
   "metadata": {
    "colab": {
     "base_uri": "https://localhost:8080/",
     "height": 80
    },
    "id": "qnv7mp_5sWIA",
    "outputId": "717f3618-c062-463b-e77a-9576869319be"
   },
   "outputs": [],
   "source": [
    "rfrGCV_models_result = logrfrmodelsummary('Baseline', X_train_rfe, X_test_rfe, y_train_log, y_test_log, gridSearch.best_estimator_) \n",
    "rfrGCV_models_result"
   ]
  },
  {
   "cell_type": "code",
   "execution_count": null,
   "id": "pLzGOl_DsWNk",
   "metadata": {
    "colab": {
     "base_uri": "https://localhost:8080/"
    },
    "id": "pLzGOl_DsWNk",
    "outputId": "8b8f1db9-4a4a-4906-c621-481f61167410"
   },
   "outputs": [],
   "source": [
    "gridSearch.fit(X_train_sfm, y_train_log)\n",
    "print('Best score:', gridSearch.best_score_)\n",
    "print('Best parameters:', gridSearch.best_params_)"
   ]
  },
  {
   "cell_type": "code",
   "execution_count": null,
   "id": "CBU6ujAzsWQu",
   "metadata": {
    "colab": {
     "base_uri": "https://localhost:8080/",
     "height": 80
    },
    "id": "CBU6ujAzsWQu",
    "outputId": "9537f75c-7155-43bc-cca7-ea07d55fa371"
   },
   "outputs": [],
   "source": [
    "rfrGCV_models_result = logrfrmodelsummary('Baseline', X_train_sfm, X_test_sfm, y_train_log, y_test_log, gridSearch.best_estimator_) \n",
    "rfrGCV_models_result"
   ]
  },
  {
   "cell_type": "markdown",
   "id": "FmE3sZ_9uzh3",
   "metadata": {
    "id": "FmE3sZ_9uzh3"
   },
   "source": [
    "Примечание: Приведенный выше код регрессии случайного леса также тестировался при следующих условиях -\n",
    "\n",
    "1. Удалены оценка и рейтингование перед вычислением корреляций, поскольку они были неуместны или избыточны по отношению к другим переменным\n",
    "\n",
    "2. Уменьшенный общий набор данных (всего ~5 тыс.) с удалением всех пропущенных значений и включением isFemale_lead, isFemale_support, isFemale_director"
   ]
  },
  {
   "cell_type": "markdown",
   "id": "3PORWIzB1v1b",
   "metadata": {
    "id": "3PORWIzB1v1b"
   },
   "source": [
    "## GradientBoostingRegressor"
   ]
  },
  {
   "cell_type": "code",
   "execution_count": null,
   "id": "-V-O4em91vJg",
   "metadata": {
    "id": "-V-O4em91vJg"
   },
   "outputs": [],
   "source": [
    "from sklearn.feature_selection import RFE\n",
    "from sklearn.ensemble import GradientBoostingRegressor\n",
    "\n",
    "### Select features - RFE\n",
    "GB = GradientBoostingRegressor()\n",
    "rfe = RFE(estimator=GB,  n_features_to_select=25)\n",
    "fit = rfe.fit(X, y)\n",
    "#print(\"Num Features: %s\" % (fit.n_features_))\n",
    "#print(\"Selected Features: %s\" % (fit.support_))\n",
    "#print(\"Feature Ranking: %s\" % (fit.ranking_))\n",
    "#print(X.columns)\n",
    "\n",
    "selected_feature_RFE = []\n",
    "for x,y in zip(fit.ranking_,X.columns):\n",
    "    if x == 1:\n",
    "        selected_feature_RFE.append(y)\n",
    "selected_feature_RFE"
   ]
  },
  {
   "cell_type": "code",
   "execution_count": null,
   "id": "TP-BMAj32b0P",
   "metadata": {
    "id": "TP-BMAj32b0P"
   },
   "outputs": [],
   "source": [
    "### Select features - VIF\n",
    "from statsmodels.stats.outliers_influence import variance_inflation_factor\n",
    "  \n",
    "# VIF dataframe\n",
    "vif_data = pd.DataFrame()\n",
    "vif_data[\"feature\"] = X.columns\n",
    "  \n",
    "# calculating VIF for each feature\n",
    "vif_data[\"VIF\"] = [variance_inflation_factor(X.values, i)\n",
    "                          for i in range(len(X.columns))]\n",
    "\n",
    "vif_data = vif_data.sort_values(by = 'VIF',ascending=True)\n",
    "vif_data\n",
    "selected_feature_VIF = vif_data.feature[:25]"
   ]
  },
  {
   "cell_type": "code",
   "execution_count": null,
   "id": "nsA2NfF_1vTU",
   "metadata": {
    "colab": {
     "base_uri": "https://localhost:8080/"
    },
    "id": "nsA2NfF_1vTU",
    "outputId": "25d24f4f-8b45-4f42-b703-74b53092fb60"
   },
   "outputs": [],
   "source": [
    "#Градиентный ускоряющий регрессор\n",
    "\n",
    "from sklearn.ensemble import GradientBoostingRegressor\n",
    "from sklearn.metrics import r2_score, mean_squared_error\n",
    "\n",
    "GBR = GradientBoostingRegressor()\n",
    "GBR.fit(X_train_GB, y_train_GB)\n",
    "y_pred_GB = GBR.predict(X_test_GB)\n",
    "\n",
    "r2_training = GBR.score(X_train_GB, y_train_GB)\n",
    "adj_r2_training = 1 - (1-r2_training)*(len(y_train_GB)-1)/(len(y_train_GB)-X_train_GB.shape[1]-1)\n",
    "\n",
    "r2_test = GBR.score(X_test_GB, y_test_GB)\n",
    "adj_r2_test = 1 - (1-r2_test)*(len(y_test_GB)-1)/(len(y_test_GB)-X_test_GB.shape[1]-1)\n",
    "\n",
    "print('training set: adjusted R2 score: %.4f' % adj_r2_training)\n",
    "print('test set: adjusted R2 score: %.4f' % adj_r2_test)\n",
    "print(\"training set: RMSE: %.4f\" % np.sqrt(mean_squared_error(y_train_GB, GBR.predict(X_train_GB))))\n",
    "print(\"test set: RMSE: %.4f\" % np.sqrt(mean_squared_error(y_test_GB, y_pred_GB)))"
   ]
  },
  {
   "cell_type": "code",
   "execution_count": null,
   "id": "TlZo2fXrrRLD",
   "metadata": {
    "colab": {
     "base_uri": "https://localhost:8080/"
    },
    "id": "TlZo2fXrrRLD",
    "outputId": "c1479ce6-40cb-4efa-84db-472bae476630"
   },
   "outputs": [],
   "source": [
    "X_train_GB.columns"
   ]
  },
  {
   "cell_type": "code",
   "execution_count": null,
   "id": "J5Kh-8-y3OwP",
   "metadata": {
    "id": "J5Kh-8-y3OwP"
   },
   "outputs": [],
   "source": [
    "param_test1 = {'n_estimators': [590,610,630,670,720,750],'learning_rate': [0.01,0.02]}"
   ]
  },
  {
   "cell_type": "code",
   "execution_count": null,
   "id": "qBnh-aHb3Rvp",
   "metadata": {
    "colab": {
     "base_uri": "https://localhost:8080/"
    },
    "id": "qBnh-aHb3Rvp",
    "outputId": "17704448-1714-4400-fcd1-e5ac62c1ae03"
   },
   "outputs": [],
   "source": [
    "#from sklearn.model_selection import GridSearchCV\n",
    "GBR = GradientBoostingRegressor(max_depth=6, subsample=0.5,random_state = 1) #starting values\n",
    "grid_GBR = GridSearchCV(estimator=GBR, param_grid = param_test1, cv = 3, n_jobs=-1)\n",
    "grid_GBR.fit(X_train_GB, y_train_GB)\n",
    "print(\"\\n The best estimator across ALL searched params:\\n\",grid_GBR.best_estimator_)\n",
    "print(\"\\n The best score across ALL searched params:\\n\",grid_GBR.best_score_)"
   ]
  },
  {
   "cell_type": "code",
   "execution_count": null,
   "id": "FSR534ag3TCN",
   "metadata": {
    "id": "FSR534ag3TCN"
   },
   "outputs": [],
   "source": [
    "param_test2 = {'min_samples_split':range(5,20), 'min_samples_leaf':range(2,20,5)}"
   ]
  },
  {
   "cell_type": "code",
   "execution_count": null,
   "id": "w1rzV8OR3WN4",
   "metadata": {
    "colab": {
     "base_uri": "https://localhost:8080/"
    },
    "id": "w1rzV8OR3WN4",
    "outputId": "ff2858e2-2d5e-4b21-e60a-fe82333a840e"
   },
   "outputs": [],
   "source": [
    "GBR2 = GradientBoostingRegressor(max_depth=6, subsample=0.5,learning_rate=0.01,n_estimators=610)\n",
    "grid_GBR2 = GridSearchCV(estimator=GBR2, param_grid = param_test2, cv = 3, n_jobs=-1)\n",
    "grid_GBR2.fit(X_train_GB, y_train_GB)\n",
    "print(\"\\n The best estimator across ALL searched params:\\n\",grid_GBR2.best_estimator_)\n",
    "print(\"\\n The best score across ALL searched params:\\n\",grid_GBR2.best_score_)"
   ]
  },
  {
   "cell_type": "code",
   "execution_count": null,
   "id": "yXrT4CuY3W_K",
   "metadata": {
    "id": "yXrT4CuY3W_K"
   },
   "outputs": [],
   "source": [
    "param_test3 = {'max_depth':[6,8,12,20,25],'subsample': [0.9, 0.5, 0.4, 0.3]}"
   ]
  },
  {
   "cell_type": "code",
   "execution_count": null,
   "id": "ECWWZ0JY3eR6",
   "metadata": {
    "colab": {
     "base_uri": "https://localhost:8080/"
    },
    "id": "ECWWZ0JY3eR6",
    "outputId": "b99deed5-d2b2-46bc-95f3-9552c8db3b37"
   },
   "outputs": [],
   "source": [
    "GBR3 = GradientBoostingRegressor(learning_rate=0.01,n_estimators=610,min_samples_split=10,\\\n",
    "                                min_samples_leaf = 17)\n",
    "grid_GBR3 = GridSearchCV(estimator=GBR3, param_grid = param_test3, cv = 3, n_jobs=-1)\n",
    "grid_GBR3.fit(X_train_GB, y_train_GB)\n",
    "print(\"\\n The best estimator across ALL searched params:\\n\",grid_GBR3.best_estimator_)\n",
    "print(\"\\n The best score across ALL searched params:\\n\",grid_GBR3.best_score_)"
   ]
  },
  {
   "cell_type": "code",
   "execution_count": null,
   "id": "l_JAUzHV3kDN",
   "metadata": {
    "colab": {
     "base_uri": "https://localhost:8080/"
    },
    "id": "l_JAUzHV3kDN",
    "outputId": "0910ee4b-fb3b-47e6-a479-339e335e476d"
   },
   "outputs": [],
   "source": [
    "# Final Test\n",
    "import math\n",
    "from sklearn.metrics import r2_score, mean_squared_error\n",
    "\n",
    "GBR_4 = GradientBoostingRegressor(learning_rate=0.01, max_depth=6, min_samples_leaf=17,\n",
    "                          min_samples_split=10, n_estimators=610,\n",
    "                          subsample=0.5,loss = 'squared_error')\n",
    "GBR_4.fit(X_train_GB, y_train_GB)\n",
    "y_pred = GBR_4.predict(X_test_GB)\n",
    "\n",
    "r2_training = GBR_4.score(X_train_GB, y_train_GB)\n",
    "adj_r2_training = 1 - (1-r2_training)*(len(y_train_GB)-1)/(len(y_train_GB)-X_train_GB.shape[1]-1)\n",
    "\n",
    "r2_test = GBR_4.score(X_test_GB, y_test_GB)\n",
    "adj_r2_test = 1 - (1-r2_test)*(len(y_test_GB)-1)/(len(y_test_GB)-X_test_GB.shape[1]-1)\n",
    "\n",
    "print('training set: adjusted R2 score: %.4f' % adj_r2_training)\n",
    "print('test set: adjusted R2 score: %.4f' % adj_r2_test)\n",
    "print(\"training set: RMSE: %.4f\" % np.sqrt(mean_squared_error(y_train_GB, GBR_4.predict(X_train_GB))))\n",
    "print(\"test set: RMSE: %.4f\" % np.sqrt(mean_squared_error(y_test_GB, y_pred)))"
   ]
  },
  {
   "cell_type": "code",
   "execution_count": null,
   "id": "ViQEsaTp8bw-",
   "metadata": {
    "colab": {
     "base_uri": "https://localhost:8080/",
     "height": 441
    },
    "id": "ViQEsaTp8bw-",
    "outputId": "81d25cb1-8857-4f4a-c4b1-37a394889290"
   },
   "outputs": [],
   "source": [
    "feature_imp = pd.DataFrame(sorted(zip(GBR_4.feature_importances_, X_train_GB.columns),reverse = True), columns=['Value','Feature'])\n",
    "feature_imp = feature_imp[feature_imp.Value != 0]\n",
    "plt.figure(figsize=(10, 6))\n",
    "sns.barplot(x=\"Value\", y=\"Feature\", data=feature_imp.sort_values(by=\"Value\", ascending=False))\n",
    "plt.title('GradientBoosting Feature Importance')\n",
    "plt.tight_layout()\n",
    "plt.show()"
   ]
  },
  {
   "cell_type": "code",
   "execution_count": null,
   "id": "5l8bxmX19HfO",
   "metadata": {
    "colab": {
     "base_uri": "https://localhost:8080/"
    },
    "id": "5l8bxmX19HfO",
    "outputId": "cbb05e70-2295-4b59-ad8a-1943edc85b0c"
   },
   "outputs": [],
   "source": [
    "param_test1 = {'n_estimators': [550,650,700,750,800],'learning_rate': [0.01,0.02]}\n",
    "\n",
    "GBR = GradientBoostingRegressor(max_depth=6, subsample=0.5,random_state = 1)\n",
    "grid_GBR = GridSearchCV(estimator=GBR, param_grid = param_test1, cv = 2, n_jobs=-1)\n",
    "grid_GBR.fit(X_train_log, y_train_log)\n",
    "print(\"\\n The best estimator across ALL searched params:\\n\",grid_GBR.best_estimator_)\n",
    "print(\"\\n The best score across ALL searched params:\\n\",grid_GBR.best_score_)"
   ]
  },
  {
   "cell_type": "code",
   "execution_count": null,
   "id": "7A_E26qm-L6G",
   "metadata": {
    "colab": {
     "base_uri": "https://localhost:8080/"
    },
    "id": "7A_E26qm-L6G",
    "outputId": "910b3ea4-8edc-4d74-f136-72ebdaf26847"
   },
   "outputs": [],
   "source": [
    "param_test2 = {'min_samples_split':range(10,20), 'min_samples_leaf':range(2,20,5)}\n",
    "GBR2 = GradientBoostingRegressor(max_depth=6, subsample=0.5,learning_rate=0.01,n_estimators=650)\n",
    "grid_GBR2 = GridSearchCV(estimator=GBR2, param_grid = param_test2, cv = 2, n_jobs=-1)\n",
    "grid_GBR2.fit(X_train_log, y_train_log)\n",
    "print(\"\\n The best estimator across ALL searched params:\\n\",grid_GBR2.best_estimator_)\n",
    "print(\"\\n The best score across ALL searched params:\\n\",grid_GBR2.best_score_)"
   ]
  },
  {
   "cell_type": "code",
   "execution_count": null,
   "id": "BbrFP1LD_PLz",
   "metadata": {
    "colab": {
     "base_uri": "https://localhost:8080/"
    },
    "id": "BbrFP1LD_PLz",
    "outputId": "a8c1beff-43e5-4fa9-ca6f-e02fc35cc649"
   },
   "outputs": [],
   "source": [
    "param_test3 = {'max_depth':[3,4,5,6,8,12],'subsample': [0.9, 0.5, 0.4, 0.3]}\n",
    "GBR3 = GradientBoostingRegressor(learning_rate=0.01,n_estimators=650,min_samples_split=7,\\\n",
    "                                min_samples_leaf = 14)\n",
    "grid_GBR3 = GridSearchCV(estimator=GBR3, param_grid = param_test3, cv = 2, n_jobs=-1)\n",
    "grid_GBR3.fit(X_train_log, y_train_log)\n",
    "print(\"\\n The best estimator across ALL searched params:\\n\",grid_GBR3.best_estimator_)\n",
    "print(\"\\n The best score across ALL searched params:\\n\",grid_GBR3.best_score_)"
   ]
  },
  {
   "cell_type": "code",
   "execution_count": null,
   "id": "5jxYtay97AYA",
   "metadata": {
    "colab": {
     "base_uri": "https://localhost:8080/"
    },
    "id": "5jxYtay97AYA",
    "outputId": "687edbb8-e031-46c1-8389-8674741a4de5"
   },
   "outputs": [],
   "source": [
    "GBR_log = GradientBoostingRegressor(learning_rate=0.01, max_depth=6, min_samples_leaf=14,\n",
    "                          min_samples_split=7, n_estimators=650, subsample=0.5,loss = 'squared_error')\n",
    "GBR_log.fit(X_train_log, y_train_log)\n",
    "y_pred_log = GBR_log.predict(X_test_log)\n",
    "\n",
    "r2_training = GBR_log.score(X_train_log, y_train_log)\n",
    "adj_r2_training = 1 - (1-r2_training)*(len(y_train_log)-1)/(len(y_train_log)-X_train_log.shape[1]-1)\n",
    "\n",
    "r2_test = GBR_log.score(X_test_log, y_test_log)\n",
    "adj_r2_test = 1 - (1-r2_test)*(len(y_test_log)-1)/(len(y_test_log)-X_test_log.shape[1]-1)\n",
    "\n",
    "print('training set: adjusted R2 score: %.4f' % adj_r2_training)\n",
    "print('test set: adjusted R2 score: %.4f' % adj_r2_test)\n",
    "print(\"training set RMSE(back transformed): %.4f\" % np.sqrt(mean_squared_error(np.expm1(y_train_log), np.expm1(GBR_log.predict(X_train_log)))))\n",
    "print(\"test set RMSE(back transformed): %.4f\" % np.sqrt(mean_squared_error(np.expm1(y_test_log), np.expm1(y_pred_log))))"
   ]
  },
  {
   "cell_type": "code",
   "execution_count": null,
   "id": "yuGTGfzfBGQc",
   "metadata": {
    "colab": {
     "base_uri": "https://localhost:8080/"
    },
    "id": "yuGTGfzfBGQc",
    "outputId": "e56da775-7d21-4ac7-cb38-2d6c06458ee8"
   },
   "outputs": [],
   "source": [
    "print(\"training set RMSE: %.4f\" % np.sqrt(mean_squared_error(y_train_log, GBR_log.predict(X_train_log))))\n",
    "print(\"test set RMSE: %.4f\" % np.sqrt(mean_squared_error(y_test_log, y_pred_log)))"
   ]
  },
  {
   "cell_type": "code",
   "execution_count": null,
   "id": "VCn2N-fd7Aib",
   "metadata": {
    "colab": {
     "base_uri": "https://localhost:8080/",
     "height": 441
    },
    "id": "VCn2N-fd7Aib",
    "outputId": "a77e4279-3ce3-48c6-8411-b47465c3e69b"
   },
   "outputs": [],
   "source": [
    "feature_imp = pd.DataFrame(sorted(zip(GBR_log.feature_importances_, X_train_log.columns),reverse = True), columns=['Value','Feature'])\n",
    "feature_imp = feature_imp[feature_imp.Value != 0]\n",
    "plt.figure(figsize=(10, 6))\n",
    "sns.barplot(x=\"Value\", y=\"Feature\", data=feature_imp.sort_values(by=\"Value\", ascending=False))\n",
    "plt.title('GradientBoosting Feature Importance')\n",
    "plt.tight_layout()\n",
    "plt.show()"
   ]
  },
  {
   "cell_type": "markdown",
   "id": "0bfba7bb",
   "metadata": {
    "id": "9BlClkEd7AoJ"
   },
   "source": [
    "Сначала импортируются необходимые библиотеки для разделения данных на обучающую и тестовую выборки, масштабирования данных, создания и обучения модели случайного леса, а также для выбора наиболее важных признаков (Приложение 1).\n",
    "Далее, данные разделяются на обучающую и тестовую выборки, затем применяются функции масштабирования StandardScaler и MinMaxScaler для стандартизации и нормализации данных.\n",
    "Затем функции rfrmodelsummary и plotrfr используются для создания отчета по метрикам производительности модели (таким как R2, MSE, RMSE) и построения графика фактических и предсказанных значений для обучающей и тестовой выборок.\n",
    "Далее, используется метод Recursive Feature Elimination (RFE) для выбора наиболее важных признаков для модели.\n",
    "В конце кода используется функция для визуализации важности признаков в модели.\n"
   ]
  },
  {
   "cell_type": "code",
   "execution_count": null,
   "id": "wKRbEWgS0WjG",
   "metadata": {
    "colab": {
     "base_uri": "https://localhost:8080/"
    },
    "id": "wKRbEWgS0WjG",
    "outputId": "63c2e1f4-dbed-4d25-acf5-c7e1a9262d7d",
    "scrolled": true
   },
   "outputs": [],
   "source": [
    "y_pred_gbm_train = GBR_4.predict(X_train)\n",
    "y_pred_xgbr_train = np.expm1(xgbr_log.predict(X_train))\n",
    "\n",
    "y_pred_avg_train = (y_pred_gbm_train + y_pred_xgbr_train)/2\n",
    "np.sqrt(mean_squared_error(y_train, y_pred_avg_train))"
   ]
  },
  {
   "cell_type": "code",
   "execution_count": null,
   "id": "01Mi5_6j2NQl",
   "metadata": {
    "colab": {
     "base_uri": "https://localhost:8080/"
    },
    "id": "01Mi5_6j2NQl",
    "outputId": "fe69ff0c-8eb8-4113-ee9d-4c17248d1c4f"
   },
   "outputs": [],
   "source": [
    "y_pred_gbm = y_pred\n",
    "y_pred_xgbr = np.expm1(y_pred_log)\n",
    "\n",
    "y_pred_avg = (y_pred_gbm + y_pred_xgbr)/2\n",
    "np.sqrt(mean_squared_error(y_test, y_pred_avg))"
   ]
  },
  {
   "cell_type": "markdown",
   "id": "603250a5",
   "metadata": {},
   "source": [
    "Здесь использует две модели, Gradient Boosting Regressor (GBR) и Extreme Gradient Boosting Regressor (XGBR), для предсказания целевой переменной как для обучающей, так и для тестовой выборок. Предсказанные значения от обеих моделей усредняются, а затем вычисляется среднеквадратичное отклонение (RMSE) между реальными и предсказанными значениями для обучающей и тестовой выборок. RMSE является распространенной метрикой для оценки производительности моделей регрессии, и меньшие значения указывают на лучшую производительность модели."
   ]
  },
  {
   "cell_type": "code",
   "execution_count": 200,
   "id": "f5f8ea65",
   "metadata": {},
   "outputs": [
    {
     "ename": "ModuleNotFoundError",
     "evalue": "No module named 'xgboost'",
     "output_type": "error",
     "traceback": [
      "\u001b[1;31m---------------------------------------------------------------------------\u001b[0m",
      "\u001b[1;31mModuleNotFoundError\u001b[0m                       Traceback (most recent call last)",
      "Input \u001b[1;32mIn [200]\u001b[0m, in \u001b[0;36m<module>\u001b[1;34m\u001b[0m\n\u001b[0;32m      1\u001b[0m \u001b[38;5;28;01mfrom\u001b[39;00m \u001b[38;5;21;01msklearn\u001b[39;00m\u001b[38;5;21;01m.\u001b[39;00m\u001b[38;5;21;01mensemble\u001b[39;00m \u001b[38;5;28;01mimport\u001b[39;00m RandomForestRegressor, GradientBoostingRegressor\n\u001b[1;32m----> 2\u001b[0m \u001b[38;5;28;01mfrom\u001b[39;00m \u001b[38;5;21;01mxgboost\u001b[39;00m \u001b[38;5;28;01mimport\u001b[39;00m XGBRegressor\n\u001b[0;32m      3\u001b[0m \u001b[38;5;28;01mfrom\u001b[39;00m \u001b[38;5;21;01mtime\u001b[39;00m \u001b[38;5;28;01mimport\u001b[39;00m time\n\u001b[0;32m      5\u001b[0m \u001b[38;5;66;03m# Train the models\u001b[39;00m\n",
      "\u001b[1;31mModuleNotFoundError\u001b[0m: No module named 'xgboost'"
     ]
    }
   ],
   "source": [
    "from sklearn.ensemble import RandomForestRegressor, GradientBoostingRegressor\n",
    "from xgboost import XGBRegressor\n",
    "from time import time\n",
    "\n",
    "# Train the models\n",
    "models = [XGBRegressor(random_state=0), GradientBoostingRegressor(random_state=0), RandomForestRegressor(random_state=0)]\n",
    "model_names = ['XGBoost', 'Gradient Boosting', 'Random Forest']\n",
    "\n",
    "training_times = []\n",
    "for i, model in enumerate(models):\n",
    "    start_time = time()\n",
    "    model.fit(X_train, y_train)\n",
    "    end_time = time()\n",
    "    training_times.append(end_time - start_time)\n",
    "    y_pred = model.predict(X_test)\n",
    "    print(f'{model_names[i]} RMSE: {mean_squared_error(y_test, y_pred, squared=False)}')\n",
    "    print(f'{model_names[i]} MAE: {mean_absolute_error(y_test, y_pred)}')\n",
    "    print(f'{model_names[i]} R2 Score: {r2_score(y_test, y_pred)}\\n')\n",
    "\n",
    "print('Training times:', training_times)\n"
   ]
  },
  {
   "cell_type": "code",
   "execution_count": null,
   "id": "19d19401",
   "metadata": {},
   "outputs": [],
   "source": []
  }
 ],
 "metadata": {
  "colab": {
   "collapsed_sections": [],
   "name": "Data_Mining_Project_Merged.ipynb",
   "provenance": []
  },
  "kernelspec": {
   "display_name": "Python 3 (ipykernel)",
   "language": "python",
   "name": "python3"
  },
  "language_info": {
   "codemirror_mode": {
    "name": "ipython",
    "version": 3
   },
   "file_extension": ".py",
   "mimetype": "text/x-python",
   "name": "python",
   "nbconvert_exporter": "python",
   "pygments_lexer": "ipython3",
   "version": "3.10.4"
  }
 },
 "nbformat": 4,
 "nbformat_minor": 5
}
